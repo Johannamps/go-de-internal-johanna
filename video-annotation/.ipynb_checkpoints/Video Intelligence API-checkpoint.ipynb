{
 "cells": [
  {
   "cell_type": "code",
   "execution_count": null,
   "metadata": {
    "collapsed": false
   },
   "outputs": [],
   "source": [
    "import argparse\n",
    "\n",
    "from google.cloud import videointelligence\n",
    "\n",
    "def analyze_labels(path):\n",
    "    \"\"\" Detects labels given a GCS path. \"\"\"\n",
    "    video_client = videointelligence.VideoIntelligenceServiceClient()\n",
    "    features = [videointelligence.enums.Feature.LABEL_DETECTION]\n",
    "    operation = video_client.annotate_video(path, features=features)\n",
    "    print('\\nProcessing video for label annotations:')\n",
    "\n",
    "    result = operation.result(timeout=90)\n",
    "    print('\\nFinished processing.')\n",
    "\n",
    "    segment_labels = result.annotation_results[0].segment_label_annotations\n",
    "    for i, segment_label in enumerate(segment_labels):\n",
    "        print('Video label description: {}'.format(\n",
    "            segment_label.entity.description))\n",
    "        for category_entity in segment_label.category_entities:\n",
    "            print('\\tLabel category description: {}'.format(\n",
    "                category_entity.description))\n",
    "\n",
    "        for i, segment in enumerate(segment_label.segments):\n",
    "            start_time = (segment.segment.start_time_offset.seconds +\n",
    "                          segment.segment.start_time_offset.nanos / 1e9)\n",
    "            end_time = (segment.segment.end_time_offset.seconds +\n",
    "                        segment.segment.end_time_offset.nanos / 1e9)\n",
    "            positions = '{}s to {}s'.format(start_time, end_time)\n",
    "            confidence = segment.confidence\n",
    "            print('\\tSegment {}: {}'.format(i, positions))\n",
    "            print('\\tConfidence: {}'.format(confidence))\n",
    "        print('\\n')\n",
    "\n",
    "if __name__ == '__main__':\n",
    "    parser = argparse.ArgumentParser(\n",
    "        description=__doc__,\n",
    "        formatter_class=argparse.RawDescriptionHelpFormatter)\n",
    "    parser.add_argument('path', help='GCS file path for label detection.')\n",
    "    args = parser.parse_args()\n",
    "\n",
    "    analyze_labels(args.path)"
   ]
  },
  {
   "cell_type": "code",
   "execution_count": null,
   "metadata": {
    "collapsed": false
   },
   "outputs": [],
   "source": [
    "analyze_labels('gs://football-soccerwatch/fussballtestvideo.mp4')"
   ]
  },
  {
   "cell_type": "code",
   "execution_count": null,
   "metadata": {
    "collapsed": true
   },
   "outputs": [],
   "source": [
    "import argparse\n",
    "\n",
    "from google.cloud import videointelligence\n",
    "\n",
    "def analyze_shots(path):\n",
    "    \"\"\" Detects camera shot changes. \"\"\"\n",
    "    video_client = videointelligence.VideoIntelligenceServiceClient()\n",
    "    features = [videointelligence.enums.Feature.SHOT_CHANGE_DETECTION]\n",
    "    operation = video_client.annotate_video(path, features=features)\n",
    "    print('\\nProcessing video for shot change annotations:')\n",
    "\n",
    "    result = operation.result(timeout=90)\n",
    "    print('\\nFinished processing.')\n",
    "\n",
    "    for i, shot in enumerate(result.annotation_results[0].shot_annotations):\n",
    "        start_time = (shot.start_time_offset.seconds +\n",
    "                      shot.start_time_offset.nanos / 1e9)\n",
    "        end_time = (shot.end_time_offset.seconds +\n",
    "                    shot.end_time_offset.nanos / 1e9)\n",
    "        print('\\tShot {}: {} to {}'.format(i, start_time, end_time))\n",
    "\n",
    "if __name__ == '__main__':\n",
    "    parser = argparse.ArgumentParser(\n",
    "        description=__doc__,\n",
    "        formatter_class=argparse.RawDescriptionHelpFormatter)\n",
    "    parser.add_argument('path', help='GCS path for shot change detection.')\n",
    "    args = parser.parse_args()\n",
    "\n",
    "    analyze_shots(args.path)"
   ]
  },
  {
   "cell_type": "code",
   "execution_count": null,
   "metadata": {
    "collapsed": true
   },
   "outputs": [],
   "source": [
    "analyze_shots('gs://football-soccerwatch/fussballtestvideo.mp4')"
   ]
  },
  {
   "cell_type": "code",
   "execution_count": null,
   "metadata": {
    "collapsed": true
   },
   "outputs": [],
   "source": []
  }
 ],
 "metadata": {
  "kernelspec": {
   "display_name": "Python 2",
   "language": "python",
   "name": "python2"
  },
  "language_info": {
   "codemirror_mode": {
    "name": "ipython",
    "version": 2
   },
   "file_extension": ".py",
   "mimetype": "text/x-python",
   "name": "python",
   "nbconvert_exporter": "python",
   "pygments_lexer": "ipython2",
   "version": "2.7.14"
  }
 },
 "nbformat": 4,
 "nbformat_minor": 2
}
