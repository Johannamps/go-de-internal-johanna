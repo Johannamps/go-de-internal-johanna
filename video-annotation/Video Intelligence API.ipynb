{
 "cells": [
  {
   "cell_type": "markdown",
   "metadata": {},
   "source": [
    "## Anleitung zur Labelerkennung\n",
    "\n",
    "https://cloud.google.com/video-intelligence/docs/label-tutorial"
   ]
  },
  {
   "cell_type": "code",
   "execution_count": 5,
   "metadata": {
    "collapsed": false,
    "deletable": true,
    "editable": true
   },
   "outputs": [
    {
     "name": "stderr",
     "output_type": "stream",
     "text": [
      "usage: __main__.py [-h] gs://football-soccerwatch/fussballtestvideo.mp4\n",
      "__main__.py: error: unrecognized arguments: -f\n"
     ]
    },
    {
     "ename": "SystemExit",
     "evalue": "2",
     "output_type": "error",
     "traceback": [
      "An exception has occurred, use %tb to see the full traceback.\n",
      "\u001b[0;31mSystemExit\u001b[0m\u001b[0;31m:\u001b[0m 2\n"
     ]
    }
   ],
   "source": [
    "import argparse\n",
    "\n",
    "from google.cloud import videointelligence\n",
    "\n",
    "def analyze_labels(path):\n",
    "    \"\"\" Detects labels given a GCS path. \"\"\"\n",
    "    video_client = videointelligence.VideoIntelligenceServiceClient()\n",
    "    features = [videointelligence.enums.Feature.LABEL_DETECTION]\n",
    "    operation = video_client.annotate_video(path, features=features)\n",
    "    print('\\nProcessing video for label annotations:')\n",
    "\n",
    "    result = operation.result(timeout=90)\n",
    "    print('\\nFinished processing.')\n",
    "\n",
    "    segment_labels = result.annotation_results[0].segment_label_annotations\n",
    "    for i, segment_label in enumerate(segment_labels):\n",
    "        print('Video label description: {}'.format(\n",
    "            segment_label.entity.description))\n",
    "        for category_entity in segment_label.category_entities:\n",
    "            print('\\tLabel category description: {}'.format(\n",
    "                category_entity.description))\n",
    "\n",
    "        for i, segment in enumerate(segment_label.segments):\n",
    "            start_time = (segment.segment.start_time_offset.seconds +\n",
    "                          segment.segment.start_time_offset.nanos / 1e9)\n",
    "            end_time = (segment.segment.end_time_offset.seconds +\n",
    "                        segment.segment.end_time_offset.nanos / 1e9)\n",
    "            positions = '{}s to {}s'.format(start_time, end_time)\n",
    "            confidence = segment.confidence\n",
    "            print('\\tSegment {}: {}'.format(i, positions))\n",
    "            print('\\tConfidence: {}'.format(confidence))\n",
    "        print('\\n')\n",
    "\n",
    "if __name__ == '__main__':\n",
    "    parser = argparse.ArgumentParser(\n",
    "        description=__doc__,\n",
    "        formatter_class=argparse.RawDescriptionHelpFormatter)\n",
    "    parser.add_argument('gs://football-soccerwatch/fussballtestvideo.mp4', help='GCS file path for label detection.')\n",
    "    args = parser.parse_args()\n",
    "\n",
    "    analyze_labels(args.path)"
   ]
  },
  {
   "cell_type": "code",
   "execution_count": 6,
   "metadata": {
    "collapsed": false,
    "deletable": true,
    "editable": true
   },
   "outputs": [
    {
     "name": "stdout",
     "output_type": "stream",
     "text": [
      "\n",
      "Processing video for label annotations:\n",
      "\n",
      "Finished processing.\n",
      "Video label description: games\n",
      "\tSegment 0: 0.0s to 308.16s\n",
      "\tConfidence: 0.925295293331\n",
      "\n",
      "\n",
      "Video label description: team sport\n",
      "\tLabel category description: sports\n",
      "\tSegment 0: 0.0s to 308.16s\n",
      "\tConfidence: 0.952436745167\n",
      "\n",
      "\n",
      "Video label description: football\n",
      "\tLabel category description: ball\n",
      "\tSegment 0: 0.0s to 308.16s\n",
      "\tConfidence: 0.849524438381\n",
      "\n",
      "\n",
      "Video label description: soccer specific stadium\n",
      "\tLabel category description: stadium\n",
      "\tSegment 0: 0.0s to 308.16s\n",
      "\tConfidence: 0.836831688881\n",
      "\n",
      "\n",
      "Video label description: arena\n",
      "\tLabel category description: location\n",
      "\tLabel category description: structure\n",
      "\tSegment 0: 0.0s to 308.16s\n",
      "\tConfidence: 0.747589468956\n",
      "\n",
      "\n",
      "Video label description: ball\n",
      "\tSegment 0: 0.0s to 308.16s\n",
      "\tConfidence: 0.88107663393\n",
      "\n",
      "\n",
      "Video label description: sports\n",
      "\tSegment 0: 0.0s to 308.16s\n",
      "\tConfidence: 0.960178434849\n",
      "\n",
      "\n",
      "Video label description: kick\n",
      "\tLabel category description: person\n",
      "\tSegment 0: 0.0s to 308.16s\n",
      "\tConfidence: 0.694827377796\n",
      "\n",
      "\n",
      "Video label description: player\n",
      "\tSegment 0: 0.0s to 308.16s\n",
      "\tConfidence: 0.645849943161\n",
      "\n",
      "\n",
      "Video label description: ball\n",
      "\tLabel category description: ball\n",
      "\tSegment 0: 0.0s to 308.16s\n",
      "\tConfidence: 0.633006632328\n",
      "\n",
      "\n",
      "Video label description: ball game\n",
      "\tLabel category description: sports\n",
      "\tSegment 0: 0.0s to 308.16s\n",
      "\tConfidence: 0.948925554752\n",
      "\n",
      "\n",
      "Video label description: football player\n",
      "\tLabel category description: person\n",
      "\tSegment 0: 0.0s to 308.16s\n",
      "\tConfidence: 0.714933812618\n",
      "\n",
      "\n",
      "Video label description: team\n",
      "\tLabel category description: organization\n",
      "\tSegment 0: 0.0s to 308.16s\n",
      "\tConfidence: 0.612894058228\n",
      "\n",
      "\n",
      "Video label description: goal\n",
      "\tSegment 0: 0.0s to 308.16s\n",
      "\tConfidence: 0.580367684364\n",
      "\n",
      "\n",
      "Video label description: soccer\n",
      "\tLabel category description: sports\n",
      "\tSegment 0: 0.0s to 308.16s\n",
      "\tConfidence: 0.904111087322\n",
      "\n",
      "\n",
      "Video label description: stadium\n",
      "\tLabel category description: location\n",
      "\tLabel category description: structure\n",
      "\tSegment 0: 0.0s to 308.16s\n",
      "\tConfidence: 0.92748850584\n",
      "\n",
      "\n",
      "Video label description: sport venue\n",
      "\tLabel category description: location\n",
      "\tLabel category description: structure\n",
      "\tSegment 0: 0.0s to 308.16s\n",
      "\tConfidence: 0.90612244606\n",
      "\n",
      "\n",
      "Video label description: sports equipment\n",
      "\tSegment 0: 0.0s to 308.16s\n",
      "\tConfidence: 0.459489792585\n",
      "\n",
      "\n",
      "Video label description: soccer player\n",
      "\tLabel category description: person\n",
      "\tSegment 0: 0.0s to 308.16s\n",
      "\tConfidence: 0.73469388485\n",
      "\n",
      "\n"
     ]
    }
   ],
   "source": [
    "analyze_labels('gs://football-soccerwatch/fussballtestvideo.mp4')"
   ]
  },
  {
   "cell_type": "markdown",
   "metadata": {},
   "source": [
    "## Anleitung zur Erkennung von Szenenwechseln\n",
    "\n",
    "https://cloud.google.com/video-intelligence/docs/shot_detection"
   ]
  },
  {
   "cell_type": "code",
   "execution_count": 7,
   "metadata": {
    "collapsed": false,
    "deletable": true,
    "editable": true
   },
   "outputs": [
    {
     "name": "stderr",
     "output_type": "stream",
     "text": [
      "usage: __main__.py [-h] gs://football-soccerwatch/fussballtestvideo.mp4\n",
      "__main__.py: error: unrecognized arguments: -f\n"
     ]
    },
    {
     "ename": "SystemExit",
     "evalue": "2",
     "output_type": "error",
     "traceback": [
      "An exception has occurred, use %tb to see the full traceback.\n",
      "\u001b[0;31mSystemExit\u001b[0m\u001b[0;31m:\u001b[0m 2\n"
     ]
    }
   ],
   "source": [
    "import argparse\n",
    "\n",
    "from google.cloud import videointelligence\n",
    "\n",
    "def analyze_shots(path):\n",
    "    \"\"\" Detects camera shot changes. \"\"\"\n",
    "    video_client = videointelligence.VideoIntelligenceServiceClient()\n",
    "    features = [videointelligence.enums.Feature.SHOT_CHANGE_DETECTION]\n",
    "    operation = video_client.annotate_video(path, features=features)\n",
    "    print('\\nProcessing video for shot change annotations:')\n",
    "\n",
    "    result = operation.result(timeout=180)\n",
    "    print('\\nFinished processing.')\n",
    "\n",
    "    for i, shot in enumerate(result.annotation_results[0].shot_annotations):\n",
    "        start_time = (shot.start_time_offset.seconds +\n",
    "                      shot.start_time_offset.nanos / 1e9)\n",
    "        end_time = (shot.end_time_offset.seconds +\n",
    "                    shot.end_time_offset.nanos / 1e9)\n",
    "        print('\\tShot {}: {} to {}'.format(i, start_time, end_time))\n",
    "\n",
    "if __name__ == '__main__':\n",
    "    parser = argparse.ArgumentParser(\n",
    "        description=__doc__,\n",
    "        formatter_class=argparse.RawDescriptionHelpFormatter)\n",
    "    parser.add_argument('gs://football-soccerwatch/fussballtestvideo.mp4', help='GCS path for shot change detection.')\n",
    "    args = parser.parse_args()\n",
    "\n",
    "    analyze_shots(args.path)"
   ]
  },
  {
   "cell_type": "code",
   "execution_count": 8,
   "metadata": {
    "collapsed": false,
    "deletable": true,
    "editable": true
   },
   "outputs": [
    {
     "name": "stdout",
     "output_type": "stream",
     "text": [
      "\n",
      "Processing video for shot change annotations:\n",
      "\n",
      "Finished processing.\n",
      "\tShot 0: 0.0 to 4.96\n",
      "\tShot 1: 5.0 to 9.64\n",
      "\tShot 2: 9.68 to 13.56\n",
      "\tShot 3: 13.6 to 20.16\n",
      "\tShot 4: 20.2 to 23.76\n",
      "\tShot 5: 23.8 to 26.4\n",
      "\tShot 6: 26.44 to 29.76\n",
      "\tShot 7: 29.8 to 33.08\n",
      "\tShot 8: 33.12 to 44.32\n",
      "\tShot 9: 44.36 to 47.48\n",
      "\tShot 10: 47.52 to 55.12\n",
      "\tShot 11: 55.16 to 57.84\n",
      "\tShot 12: 57.88 to 66.84\n",
      "\tShot 13: 66.88 to 68.92\n",
      "\tShot 14: 68.96 to 71.04\n",
      "\tShot 15: 71.08 to 80.6\n",
      "\tShot 16: 80.64 to 82.88\n",
      "\tShot 17: 82.92 to 84.64\n",
      "\tShot 18: 84.68 to 88.56\n",
      "\tShot 19: 88.6 to 91.68\n",
      "\tShot 20: 91.72 to 97.52\n",
      "\tShot 21: 97.56 to 101.04\n",
      "\tShot 22: 101.08 to 115.0\n",
      "\tShot 23: 115.04 to 117.12\n",
      "\tShot 24: 117.16 to 128.16\n",
      "\tShot 25: 128.2 to 133.12\n",
      "\tShot 26: 133.16 to 136.32\n",
      "\tShot 27: 136.36 to 146.16\n",
      "\tShot 28: 146.2 to 162.48\n",
      "\tShot 29: 162.52 to 165.4\n",
      "\tShot 30: 165.44 to 167.8\n",
      "\tShot 31: 167.84 to 184.68\n",
      "\tShot 32: 184.72 to 187.44\n",
      "\tShot 33: 187.48 to 192.12\n",
      "\tShot 34: 192.16 to 196.84\n",
      "\tShot 35: 196.88 to 198.92\n",
      "\tShot 36: 198.96 to 200.2\n",
      "\tShot 37: 200.24 to 205.68\n",
      "\tShot 38: 205.72 to 210.52\n",
      "\tShot 39: 210.56 to 224.48\n",
      "\tShot 40: 224.52 to 227.8\n",
      "\tShot 41: 227.84 to 239.32\n",
      "\tShot 42: 239.36 to 241.88\n",
      "\tShot 43: 241.92 to 247.16\n",
      "\tShot 44: 247.2 to 251.72\n",
      "\tShot 45: 251.76 to 259.56\n",
      "\tShot 46: 259.6 to 264.68\n",
      "\tShot 47: 264.72 to 268.76\n",
      "\tShot 48: 268.8 to 294.12\n",
      "\tShot 49: 294.16 to 298.2\n",
      "\tShot 50: 298.24 to 303.16\n",
      "\tShot 51: 303.2 to 308.16\n"
     ]
    }
   ],
   "source": [
    "analyze_shots('gs://football-soccerwatch/fussballtestvideo.mp4')"
   ]
  },
  {
   "cell_type": "code",
   "execution_count": null,
   "metadata": {
    "collapsed": true,
    "deletable": true,
    "editable": true
   },
   "outputs": [],
   "source": []
  }
 ],
 "metadata": {
  "kernelspec": {
   "display_name": "Python 2",
   "language": "python",
   "name": "python2"
  },
  "language_info": {
   "codemirror_mode": {
    "name": "ipython",
    "version": 2
   },
   "file_extension": ".py",
   "mimetype": "text/x-python",
   "name": "python",
   "nbconvert_exporter": "python",
   "pygments_lexer": "ipython2",
   "version": "2.7.14"
  }
 },
 "nbformat": 4,
 "nbformat_minor": 2
}
