{
 "cells": [
  {
   "cell_type": "markdown",
   "metadata": {
    "deletable": true,
    "editable": true
   },
   "source": [
    "## Loading the data from BigQuery and saving it to CloudStorage\n",
    "\n"
   ]
  },
  {
   "cell_type": "code",
   "execution_count": null,
   "metadata": {
    "collapsed": true,
    "deletable": true,
    "editable": true
   },
   "outputs": [],
   "source": [
    "import google.datalab.bigquery as bq\n",
    "import pandas as pd"
   ]
  },
  {
   "cell_type": "code",
   "execution_count": null,
   "metadata": {
    "collapsed": false,
    "deletable": true,
    "editable": true
   },
   "outputs": [],
   "source": [
    "query = 'SELECT int64_field_0, date_field_1, double_field_9, double_field_10, double_field_11, double_field_12, double_field_13 FROM `go-de-internal.democases_go_reply_internal.metro_churn_lstm` WHERE int64_field_0 in (1769501, 1769568, 1769800, 3375481, 2108159, 3375612, 3408413, 3408542, 2108191, 3336993, 3343216, 3343262, 1737658, 689094, 689101, 1737723, 1737737, 1737776, 1770548, 1770580, 1803439, 1737910, 1737951, 3343610, 1738019, 3343693, 1752401, 1803634, 1738109, 1750643, 1738144, 1770919, 1869227, 1836494, 1836511, 1803749, 1836581, 1738283, 1738310, 1738317, 1934930, 1738328, 1934964, 1869431, 1934972, 1934975, 1836673, 1836682, 1869451, 1803929, 1869469, 1869489, 1836723, 1771191, 1771212, 1738523, 1836831, 1738549, 1836854, 1836862, 1869657, 1738639, 1771422, 1869745, 1836981, 1738686, 1935317, 1837035, 1935342, 1869873, 1808052, 1771584, 1771658, 1804427, 1738931, 1738949, 1935567, 1738964, 1935591, 1837295, 1804536, 1935659, 1771825, 1870181, 1935773, 1935824, 1935871, 1935884, 1935895, 1739316, 1739364, 1739366, 1739390, 1739404, 1739426, 1739466, 1739510, 1739589, 1772359, 1936219)'\n",
    "#query = 'SELECT * FROM `go-de-internal.democases_go_reply_internal.metro_churn_lstm`'\n",
    "churn = bq.Query(query)\n",
    "df = churn.execute(output_options=bq.QueryOutput.dataframe()).result()\n",
    "df.head()"
   ]
  },
  {
   "cell_type": "code",
   "execution_count": null,
   "metadata": {
    "collapsed": false,
    "deletable": true,
    "editable": true
   },
   "outputs": [],
   "source": [
    "df.columns = ['customer', 'date', 'promo_sales', 'nf_promo_sales', 'food_promo_sales', 'nf_sales', 'food_sales'] \n",
    "#churn.columns = ['customer_key', 'date_of_day', 'transaction_key', 'store_id', 'corporate_abc_cd', 'promo_visit_flag', 'nf_visit_flag', 'food_visit_flag', 'ret_visit_flag', 'promo_sales', 'nf_promo_sales', 'food_promo_sales', 'nf_sales', 'food_sales', 'ret_sales', 'cupr_disc_val_nsp', 'sell_val_nsp', 'sell_qty_colli', 'pieces', 'food_colli', 'nf_colli', 'food_pieces', 'nf_pieces', 'margin', 'food_margin', 'nf_margin', 'distinct_pdt_basket', 'distinct_main_cat_basket', 'div_kitchen_cook_n_table_spend', 'div_seasonal_spend', 'div_bus_n_home_care_spend', 'div_office_n_media_spend', 'div_apparel_spend', 'div_other_nonfood_spend', 'div_dry_spend', 'div_fresh_spend', 'div_ultra_fresh_spend', 'div_other_food_spend', 'div_non_coms', 'dep_prelim_grp_food_spend', 'dep_prelim_grp_nonfood_spend', 'dep_bakery_spend', 'dep_dairy_spend', 'dep_delicatessen_spend', 'dep_deep_frozen_spend', 'dep_meat_spend', 'dep_fresh_fish_spend', 'dep_processed_meat_spend', 'dep_fruits_n_veg_spend', 'dep_flower_n_plants_spend', 'dep_canned_goods_spend', 'dep_edible_grocery_spend', 'dep_confect_n_snacks_spend', 'dep_tobacco_spend', 'dep_spirits_spend', 'dep_wine_spend', 'dep_beer_spend', 'dep_hampers_spend', 'dep_disposable_n_tblware_spend', 'dep_home_care_spend', 'dep_beauty_n_pers_care_spend', 'dep_hot_beverages_spend', 'dep_non_alcohol_drinks_spend', 'dep_home_kitchen_elec_spend', 'dep_home_kitchenware_spend', 'dep_home_tableware_spend', 'dep_pro_cookware_spend', 'dep_pro_tableware_spend', 'dep_gastro_cater_equip_spend', 'dep_bbq_n_charcoal_spend', 'dep_gardening_spend', 'dep_outdoor_furniture_spend', 'dep_indoor_furniture_spend', 'dep_seasonal_dec_spend', 'dep_party_spend', 'dep_outdoor_leisure_spend', 'dep_toys_n_games_spend', 'dep_pers_care_n_health_spend', 'dep_heating_n_ac_spend', 'dep_clean_n_laundry_care_elec_spend', 'dep_clean_n_laundry_care_spend', 'dep_decor_n_signage_spend', 'dep_security_n_safety_spend', 'dep_ship_pack_n_wrap_spend', 'dep_storage_n_handling_spend', 'dep_build_fix_n_maintain_spend', 'dep_office_furniture_spend', 'dep_office_supplies_spend', 'dep_cash_management_spend', 'dep_home_entertain_spend', 'dep_compute_print_comms_spend', 'dep_workwear_spend', 'dep_baby_spend', 'dep_sport_spend', 'dep_home_textiles_spend', 'dep_shoe_lugagge_n_acc_spend', 'dep_menswear_spend', 'dep_womenswear_spend', 'dep_kidswear_spend', 'dep_petrol_spend', 'dep_services_non_food_spend', 'dep_non_coms']\n",
    "#churn = churn.drop('corporate_abc_cd', axis=1)\n",
    "df.head()"
   ]
  },
  {
   "cell_type": "code",
   "execution_count": null,
   "metadata": {
    "collapsed": true,
    "deletable": true,
    "editable": true
   },
   "outputs": [],
   "source": [
    "df_list_customer = df['customer'].tolist()\n",
    "df_list_date = df['date'].tolist()"
   ]
  },
  {
   "cell_type": "code",
   "execution_count": null,
   "metadata": {
    "collapsed": true,
    "deletable": true,
    "editable": true
   },
   "outputs": [],
   "source": []
  },
  {
   "cell_type": "code",
   "execution_count": null,
   "metadata": {
    "collapsed": false,
    "deletable": true,
    "editable": true
   },
   "outputs": [],
   "source": [
    "print(type(df.customer_key))\n",
    "\n",
    "multiindex = pd.MultiIndex.from_product(['customer_key','date_of_day'],names=['customer_key','date_of_day'])"
   ]
  },
  {
   "cell_type": "code",
   "execution_count": null,
   "metadata": {
    "collapsed": true,
    "deletable": true,
    "editable": true
   },
   "outputs": [],
   "source": []
  },
  {
   "cell_type": "code",
   "execution_count": null,
   "metadata": {
    "collapsed": true,
    "deletable": true,
    "editable": true
   },
   "outputs": [],
   "source": [
    "import pandas as pd\n",
    "import numpy as np\n",
    "from io import StringIO\n",
    "\n",
    "alldays = pd.DatetimeIndex(start='1.1.17',end='31.12.17',freq='D')\n",
    "\n",
    "customers = [123, 234, 345, 456, 567, 678, 789, 890]\n",
    "\n",
    "multiindex = pd.MultiIndex.from_product([customers,alldays],names=['customer','date'])\n",
    "\n",
    "csvdata = StringIO('''customer,date,a,b,c\n",
    "123,01.01.17,1,0\n",
    "234,02.01.17,0,0\n",
    "345,01.01.17,0,0\n",
    "456,04.01.17,1,1\n",
    "567,03.01.17,1,0\n",
    "678,08.01.17,1,1\n",
    "789,13.01.17,0,1\n",
    "890,05.01.17,1,0\n",
    "123,02.01.17,1,0\n",
    "234,03.01.17,0,0\n",
    "345,02.01.17,0,0\n",
    "456,05.01.17,1,1\n",
    "567,04.01.17,1,0\n",
    "678,10.01.17,1,1\n",
    "789,18.01.17,0,1\n",
    "890,15.01.17,1,0\n",
    "123,10.01.17,1,0\n",
    "234,20.01.17,0,0\n",
    "345,15.01.17,0,0\n",
    "456,24.01.17,1,1\n",
    "567,30.01.17,1,0\n",
    "678,18.01.17,1,1\n",
    "789,23.01.17,0,1\n",
    "890,25.01.17,1,0\n",
    "123,1.2.17,1,0\n",
    "234,2.2.17,0,0\n",
    "345,1.2.17,0,0\n",
    "456,4.2.17,1,1\n",
    "567,3.2.17,1,0\n",
    "678,8.2.17,1,1\n",
    "789,13.2.17,0,1\n",
    "890,5.2.17,1,0\n",
    "123,2.2.17,1,0\n",
    "234,3.2.17,0,0\n",
    "345,2.2.17,0,0\n",
    "456,5.2.17,1,1\n",
    "567,4.2.17,1,0\n",
    "678,10.2.17,1,1\n",
    "789,18.2.17,0,1\n",
    "890,15.2.17,1,0\n",
    "123,10.2.17,1,0\n",
    "234,20.2.17,0,0\n",
    "345,15.2.17,0,0\n",
    "456,24.2.17,1,1\n",
    "567,27.2.17,1,0\n",
    "678,18.2.17,1,1\n",
    "789,23.2.17,0,1\n",
    "890,25.2.17,1,0\n",
    "123,1.3.17,1,0\n",
    "234,2.3.17,0,0\n",
    "345,1.3.17,0,0\n",
    "456,4.3.17,1,1\n",
    "567,3.3.17,1,0\n",
    "678,8.3.17,1,1\n",
    "789,13.3.17,0,1\n",
    "890,5.3.17,1,0\n",
    "123,2.3.17,1,0\n",
    "234,3.3.17,0,0\n",
    "345,2.3.17,0,0\n",
    "456,5.3.17,1,1\n",
    "567,4.3.17,1,0\n",
    "678,10.3.17,1,1\n",
    "789,18.3.17,0,1\n",
    "890,15.3.17,1,0\n",
    "123,10.3.17,1,0\n",
    "234,20.3.17,0,0\n",
    "345,15.3.17,0,0\n",
    "456,24.3.17,1,1\n",
    "567,30.3.17,1,0\n",
    "678,18.3.17,1,1\n",
    "789,23.3.17,0,1\n",
    "890,25.3.17,1,0\n",
    "''')\n",
    "\n",
    "# indexer object that facilitates working with multi indices\n",
    "# see also https://pandas.pydata.org/pandas-docs/stable/advanced.html#using-slicers\n",
    "idx = pd.IndexSlice\n",
    "\n",
    "df = pd.read_csv(csvdata,sep=',')\n",
    "\n",
    "df.date = df.date.apply(lambda x: pd.datetime.strptime(x,'%d.%m.%y'))\n",
    "\n",
    "df = df.set_index(['customer', 'date']).reindex(multiindex).fillna(0)\n",
    "\n",
    "# use coloumns a through c for determining whether customer was active that day or not\n",
    "activity = df[['a','b','c']].apply(any, axis=1)\n",
    "\n",
    "# not any is used to determine wether customer churned or not. Not any activity means churned.\n",
    "def notany(x):\n",
    "    return not any(x)\n",
    "\n",
    "# use the activity series to determine for each day whether the customer churned in the following n days\n",
    "def churnNday(activity, n):\n",
    "    return activity.rolling(n).apply(notany).groupby(level='customer').shift(-n).astype(bool)\n",
    "\n",
    "churn7d = churnNday(activity, 7)\n",
    "churn7d.head()\n",
    "\n",
    "df['churn'] = churnNday(activity, 1)\n",
    "\n",
    "df['chrun7day'] = churnNday(activity, 7)\n",
    "\n",
    "# show first 10 days of every customer to validate the churn variables\n",
    "df.loc[idx[:,:'2017-1-10'],:]"
   ]
  },
  {
   "cell_type": "code",
   "execution_count": null,
   "metadata": {
    "collapsed": true,
    "deletable": true,
    "editable": true
   },
   "outputs": [],
   "source": []
  },
  {
   "cell_type": "code",
   "execution_count": null,
   "metadata": {
    "collapsed": true,
    "deletable": true,
    "editable": true
   },
   "outputs": [],
   "source": []
  },
  {
   "cell_type": "code",
   "execution_count": null,
   "metadata": {
    "collapsed": true,
    "deletable": true,
    "editable": true
   },
   "outputs": [],
   "source": []
  },
  {
   "cell_type": "code",
   "execution_count": null,
   "metadata": {
    "collapsed": true,
    "deletable": true,
    "editable": true
   },
   "outputs": [],
   "source": []
  },
  {
   "cell_type": "code",
   "execution_count": null,
   "metadata": {
    "collapsed": false,
    "deletable": true,
    "editable": true
   },
   "outputs": [],
   "source": [
    "df = df.set_index('date_of_day')\n",
    "df.head()"
   ]
  },
  {
   "cell_type": "code",
   "execution_count": null,
   "metadata": {
    "collapsed": false,
    "deletable": true,
    "editable": true
   },
   "outputs": [],
   "source": [
    "df = df.groupby('customer_key')\n",
    "df.head()"
   ]
  },
  {
   "cell_type": "code",
   "execution_count": null,
   "metadata": {
    "collapsed": false,
    "deletable": true,
    "editable": true
   },
   "outputs": [],
   "source": [
    "df_all_cm = pd.DataFrame()\n",
    "dfx = None\n",
    "index = pd.date_range(start='2017-01-01', end='2017-12-31', freq='D')\n",
    "df2 = pd.DataFrame(range(len(index)), index=index, columns=['Number'])"
   ]
  },
  {
   "cell_type": "code",
   "execution_count": null,
   "metadata": {
    "collapsed": false,
    "deletable": true,
    "editable": true
   },
   "outputs": [],
   "source": [
    "for customer, df_customer in df.groupby('customer_key'):\n",
    "    dfx = df_customer\n",
    "    print(dfx)\n",
    "    dy = dfx.add(df2, axis='columns', level=None, fill_value=[0])\n",
    "    dy = dy.fillna(0)\n",
    "    dy['customer_key'].replace({0:int(customer)}, inplace=True)\n",
    "    df_all_cm = df_all_cm.append(dy, ignore_index=True)\n",
    "    break"
   ]
  },
  {
   "cell_type": "code",
   "execution_count": null,
   "metadata": {
    "collapsed": false,
    "deletable": true,
    "editable": true
   },
   "outputs": [],
   "source": [
    "df_all_cm.head(1000)\n",
    "\n",
    "df_all_cm.to_csv('churn_100_customers_365_days.csv')\n",
    "\n",
    "df = pd.read_csv('churn_100_customers_365_days.csv')\n",
    "df = df.drop([\"Unnamed: 0\"], axis=1)\n",
    "df.head()\n",
    "df.tail()"
   ]
  },
  {
   "cell_type": "code",
   "execution_count": null,
   "metadata": {
    "collapsed": true,
    "deletable": true,
    "editable": true
   },
   "outputs": [],
   "source": []
  },
  {
   "cell_type": "markdown",
   "metadata": {
    "deletable": true,
    "editable": true
   },
   "source": [
    "## Download LSTM Data:\n",
    "Taking events dataset for LSTM prepared by team `redsonics` "
   ]
  },
  {
   "cell_type": "code",
   "execution_count": null,
   "metadata": {
    "collapsed": true,
    "deletable": true,
    "editable": true
   },
   "outputs": [],
   "source": [
    "from google.cloud import storage\n",
    "\n",
    "PROJECT='mkt-cloudml-jumpstart'\n",
    "DATA_BUCKET='redsonics'\n",
    "FILES = ['training.csv', 'labels.csv']\n",
    "\n",
    "client = storage.Client(project=PROJECT)\n",
    "bucket = client.get_bucket(DATA_BUCKET)\n",
    "\n",
    "for filename in FILES:\n",
    "    with open(filename, 'wb') as f:\n",
    "        bucket.blob(filename).download_to_file(f)"
   ]
  },
  {
   "cell_type": "markdown",
   "metadata": {
    "deletable": true,
    "editable": true
   },
   "source": []
  },
  {
   "cell_type": "code",
   "execution_count": null,
   "metadata": {
    "collapsed": true,
    "deletable": true,
    "editable": true
   },
   "outputs": [],
   "source": [
    "import pandas as pd\n",
    "import numpy as np\n",
    "from sklearn.model_selection import train_test_split\n",
    "\n",
    "training = pd.read_csv('training.csv')\n",
    "training = training.iloc[:,1:] #  remove useless first column\n",
    "labels = pd.read_csv('labels.csv')\n",
    "labels = labels.iloc[:,1:] #  remove useless first column\n",
    "n_users = 10000\n",
    "n_seq = training.shape[0]/n_users\n",
    "n_features = training.shape[1]\n",
    "X = np.array(training).reshape(n_users, n_seq, n_features)\n",
    "y = np.array(labels)\n",
    "X_train, X_eval, y_train, y_eval = train_test_split(X, y)"
   ]
  }
 ],
 "metadata": {
  "kernelspec": {
   "display_name": "Python 2",
   "language": "python",
   "name": "python2"
  },
  "language_info": {
   "codemirror_mode": {
    "name": "ipython",
    "version": 2
   },
   "file_extension": ".py",
   "mimetype": "text/x-python",
   "name": "python",
   "nbconvert_exporter": "python",
   "pygments_lexer": "ipython2",
   "version": "2.7.14"
  }
 },
 "nbformat": 4,
 "nbformat_minor": 2
}
