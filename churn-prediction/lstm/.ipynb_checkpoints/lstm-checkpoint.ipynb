{
 "cells": [
  {
   "cell_type": "code",
   "execution_count": null,
   "metadata": {
    "collapsed": false,
    "deletable": true,
    "editable": true
   },
   "outputs": [],
   "source": [
    "!pip install keras"
   ]
  },
  {
   "cell_type": "code",
   "execution_count": null,
   "metadata": {
    "collapsed": false,
    "deletable": true,
    "editable": true
   },
   "outputs": [],
   "source": [
    "import os\n",
    "import h5py\n",
    "import shutil\n",
    "import google\n",
    "import logging\n",
    "import seaborn as sns\n",
    "import numpy as np\n",
    "import cPickle as pickle\n",
    "import tensorflow as tf\n",
    "#import pandas_gbq.gbq\n",
    "#from pandas_gbq.gbq import GenericGBQException\n",
    "import datalab.bigquery as bq\n",
    "import sklearn\n",
    "import pandas as pd\n",
    "#from pandas import DataFrame\n",
    "#from pandas import concat\n",
    "#from pandas import read_csv\n",
    "import matplotlib\n",
    "#from matplotlib import pyplot\n",
    "import keras\n",
    "#from keras.models import Sequential\n",
    "#from keras.layers import Dense\n",
    "#from keras.layers import LSTM\n",
    "import datetime\n",
    "#from datetime import datetime"
   ]
  },
  {
   "cell_type": "code",
   "execution_count": null,
   "metadata": {
    "collapsed": false,
    "deletable": true,
    "editable": true
   },
   "outputs": [],
   "source": [
    "query = 'SELECT int64_field_0, date_field_1, double_field_9, double_field_10, double_field_11, double_field_12, double_field_13 FROM `go-de-internal.democases_go_reply_internal.metro_churn_lstm` WHERE int64_field_0 in (1769501, 1769568, 1769800, 3375481, 2108159, 3375612, 3408413, 3408542, 2108191, 3336993, 3343216, 3343262, 1737658, 689094, 689101, 1737723, 1737737, 1737776, 1770548, 1770580, 1803439, 1737910, 1737951, 3343610, 1738019, 3343693, 1752401, 1803634, 1738109, 1750643, 1738144, 1770919, 1869227, 1836494, 1836511, 1803749, 1836581, 1738283, 1738310, 1738317, 1934930, 1738328, 1934964, 1869431, 1934972, 1934975, 1836673, 1836682, 1869451, 1803929, 1869469, 1869489, 1836723, 1771191, 1771212, 1738523, 1836831, 1738549, 1836854, 1836862, 1869657, 1738639, 1771422, 1869745, 1836981, 1738686, 1935317, 1837035, 1935342, 1869873, 1808052, 1771584, 1771658, 1804427, 1738931, 1738949, 1935567, 1738964, 1935591, 1837295, 1804536, 1935659, 1771825, 1870181, 1935773, 1935824, 1935871, 1935884, 1935895, 1739316, 1739364, 1739366, 1739390, 1739404, 1739426, 1739466, 1739510, 1739589, 1772359, 1936219)'\n",
    "#query = 'SELECT * FROM `go-de-internal.democases_go_reply_internal.metro_churn_lstm`'\n",
    "churn = bq.Query(query)\n",
    "df = churn.execute(output_options=bq.QueryOutput.dataframe()).result()\n",
    "df.describe()"
   ]
  },
  {
   "cell_type": "code",
   "execution_count": null,
   "metadata": {
    "collapsed": false,
    "deletable": true,
    "editable": true
   },
   "outputs": [],
   "source": [
    "df.head()"
   ]
  },
  {
   "cell_type": "code",
   "execution_count": null,
   "metadata": {
    "collapsed": false,
    "deletable": true,
    "editable": true
   },
   "outputs": [],
   "source": [
    "df.columns = ['customer_key', 'date_of_day', 'promo_sales', 'nf_promo_sales', 'food_promo_sales', 'nf_sales', 'food_sales'] \n",
    "#churn.columns = ['customer_key', 'date_of_day', 'transaction_key', 'store_id', 'corporate_abc_cd', 'promo_visit_flag', 'nf_visit_flag', 'food_visit_flag', 'ret_visit_flag', 'promo_sales', 'nf_promo_sales', 'food_promo_sales', 'nf_sales', 'food_sales', 'ret_sales', 'cupr_disc_val_nsp', 'sell_val_nsp', 'sell_qty_colli', 'pieces', 'food_colli', 'nf_colli', 'food_pieces', 'nf_pieces', 'margin', 'food_margin', 'nf_margin', 'distinct_pdt_basket', 'distinct_main_cat_basket', 'div_kitchen_cook_n_table_spend', 'div_seasonal_spend', 'div_bus_n_home_care_spend', 'div_office_n_media_spend', 'div_apparel_spend', 'div_other_nonfood_spend', 'div_dry_spend', 'div_fresh_spend', 'div_ultra_fresh_spend', 'div_other_food_spend', 'div_non_coms', 'dep_prelim_grp_food_spend', 'dep_prelim_grp_nonfood_spend', 'dep_bakery_spend', 'dep_dairy_spend', 'dep_delicatessen_spend', 'dep_deep_frozen_spend', 'dep_meat_spend', 'dep_fresh_fish_spend', 'dep_processed_meat_spend', 'dep_fruits_n_veg_spend', 'dep_flower_n_plants_spend', 'dep_canned_goods_spend', 'dep_edible_grocery_spend', 'dep_confect_n_snacks_spend', 'dep_tobacco_spend', 'dep_spirits_spend', 'dep_wine_spend', 'dep_beer_spend', 'dep_hampers_spend', 'dep_disposable_n_tblware_spend', 'dep_home_care_spend', 'dep_beauty_n_pers_care_spend', 'dep_hot_beverages_spend', 'dep_non_alcohol_drinks_spend', 'dep_home_kitchen_elec_spend', 'dep_home_kitchenware_spend', 'dep_home_tableware_spend', 'dep_pro_cookware_spend', 'dep_pro_tableware_spend', 'dep_gastro_cater_equip_spend', 'dep_bbq_n_charcoal_spend', 'dep_gardening_spend', 'dep_outdoor_furniture_spend', 'dep_indoor_furniture_spend', 'dep_seasonal_dec_spend', 'dep_party_spend', 'dep_outdoor_leisure_spend', 'dep_toys_n_games_spend', 'dep_pers_care_n_health_spend', 'dep_heating_n_ac_spend', 'dep_clean_n_laundry_care_elec_spend', 'dep_clean_n_laundry_care_spend', 'dep_decor_n_signage_spend', 'dep_security_n_safety_spend', 'dep_ship_pack_n_wrap_spend', 'dep_storage_n_handling_spend', 'dep_build_fix_n_maintain_spend', 'dep_office_furniture_spend', 'dep_office_supplies_spend', 'dep_cash_management_spend', 'dep_home_entertain_spend', 'dep_compute_print_comms_spend', 'dep_workwear_spend', 'dep_baby_spend', 'dep_sport_spend', 'dep_home_textiles_spend', 'dep_shoe_lugagge_n_acc_spend', 'dep_menswear_spend', 'dep_womenswear_spend', 'dep_kidswear_spend', 'dep_petrol_spend', 'dep_services_non_food_spend', 'dep_non_coms']\n",
    "#churn = churn.drop('corporate_abc_cd', axis=1)\n",
    "df.head()"
   ]
  },
  {
   "cell_type": "code",
   "execution_count": null,
   "metadata": {
    "collapsed": true,
    "deletable": true,
    "editable": true
   },
   "outputs": [],
   "source": [
    "df.to_csv('churn_100_customers.csv')"
   ]
  },
  {
   "cell_type": "code",
   "execution_count": null,
   "metadata": {
    "collapsed": false,
    "deletable": true,
    "editable": true
   },
   "outputs": [],
   "source": [
    "df = pd.read_csv('churn_100_customers.csv')\n",
    "df = df.drop([\"Unnamed: 0\"], axis=1)\n",
    "df.head()"
   ]
  },
  {
   "cell_type": "code",
   "execution_count": null,
   "metadata": {
    "collapsed": false,
    "deletable": true,
    "editable": true
   },
   "outputs": [],
   "source": [
    "df = df.set_index('date_of_day')\n",
    "df.head()"
   ]
  },
  {
   "cell_type": "code",
   "execution_count": null,
   "metadata": {
    "collapsed": false,
    "deletable": true,
    "editable": true
   },
   "outputs": [],
   "source": [
    "df_all_cm = pd.DataFrame()\n",
    "dfx = None\n",
    "index = pd.date_range(start='2017-01-01', end='2017-12-31', freq='D')\n",
    "df2 = pd.DataFrame(range(len(index)), index=index, columns=['Number'])\n",
    "\n",
    "df['churn'] = 0\n",
    "\n",
    "for customer, df_customer in df.groupby('customer_key'):\n",
    "    dfx = df_customer\n",
    "    print(dfx)\n",
    "    dy = dfx.add(df2, axis='columns', level=None, fill_value=[0])\n",
    "    dy = dy.fillna(0)\n",
    "    dy['customer_key'].replace({0:int(customer)}, inplace=True)\n",
    "    df_all_cm = df_all_cm.append(dy, ignore_index=True)\n",
    "    break\n",
    "\n",
    "df_all_cm.head(1000)"
   ]
  },
  {
   "cell_type": "code",
   "execution_count": null,
   "metadata": {
    "collapsed": true,
    "deletable": true,
    "editable": true
   },
   "outputs": [],
   "source": [
    "df_all_cm.to_csv('churn_100_customers_365_days.csv')"
   ]
  },
  {
   "cell_type": "code",
   "execution_count": null,
   "metadata": {
    "collapsed": false,
    "deletable": true,
    "editable": true
   },
   "outputs": [],
   "source": [
    "df = pd.read_csv('churn_100_customers_365_days.csv')\n",
    "df = df.drop([\"Unnamed: 0\"], axis=1)\n",
    "df.head()\n",
    "df.tail()"
   ]
  },
  {
   "cell_type": "code",
   "execution_count": null,
   "metadata": {
    "collapsed": true,
    "deletable": true,
    "editable": true
   },
   "outputs": [],
   "source": []
  },
  {
   "cell_type": "code",
   "execution_count": null,
   "metadata": {
    "collapsed": true,
    "deletable": true,
    "editable": true
   },
   "outputs": [],
   "source": [
    "values = df.values\n",
    "groups = [0, 1, 2, 3, 5, 6, 7, 8, 9]\n",
    "i = 1\n",
    "# plot each column\n",
    "matplotlib.pyplot.figure()\n",
    "for group in groups:\n",
    "\tmatplotlib.pyplot.subplot(len(groups), 1, i)\n",
    "\tmatplotlib.pyplot.plot(values[:, group])\n",
    "\tmatplotlib.pyplot.title(df.columns[group], y=0.5, loc='right')\n",
    "\ti += 1\n",
    "matplotlib.pyplot.show()"
   ]
  },
  {
   "cell_type": "code",
   "execution_count": null,
   "metadata": {
    "collapsed": true,
    "deletable": true,
    "editable": true
   },
   "outputs": [],
   "source": []
  },
  {
   "cell_type": "code",
   "execution_count": null,
   "metadata": {
    "collapsed": true,
    "deletable": true,
    "editable": true
   },
   "outputs": [],
   "source": []
  },
  {
   "cell_type": "code",
   "execution_count": null,
   "metadata": {
    "collapsed": true,
    "deletable": true,
    "editable": true
   },
   "outputs": [],
   "source": []
  },
  {
   "cell_type": "code",
   "execution_count": null,
   "metadata": {
    "collapsed": true,
    "deletable": true,
    "editable": true
   },
   "outputs": [],
   "source": []
  },
  {
   "cell_type": "code",
   "execution_count": null,
   "metadata": {
    "collapsed": true,
    "deletable": true,
    "editable": true
   },
   "outputs": [],
   "source": [
    "PROJECT = 'go-de-internal'\n",
    "BUCKET = 'go-de-internal-johanna'\n",
    "REGION = 'europe-west1'\n",
    "REPO = \"/content/datalab/demo-cases/churn-prediction/lstm\""
   ]
  },
  {
   "cell_type": "code",
   "execution_count": null,
   "metadata": {
    "collapsed": true,
    "deletable": true,
    "editable": true
   },
   "outputs": [],
   "source": [
    "# for bash\n",
    "os.environ['PROJECT'] = PROJECT\n",
    "os.environ['BUCKET'] = BUCKET\n",
    "os.environ['REGION'] = REGION\n",
    "os.environ['REPO'] = REPO"
   ]
  },
  {
   "cell_type": "code",
   "execution_count": null,
   "metadata": {
    "collapsed": true,
    "deletable": true,
    "editable": true
   },
   "outputs": [],
   "source": [
    "%bash\n",
    "gcloud config set project $PROJECT\n",
    "gcloud config set compute/region $REGION"
   ]
  },
  {
   "cell_type": "code",
   "execution_count": null,
   "metadata": {
    "collapsed": true,
    "deletable": true,
    "editable": true
   },
   "outputs": [],
   "source": [
    "%bash\n",
    "PROJECT_ID=$PROJECT\n",
    "AUTH_TOKEN=$(gcloud auth print-access-token)\n",
    "SVC_ACCOUNT=$(curl -X GET -H \"Content-Type: application/json\" \\\n",
    "    -H \"Authorization: Bearer $AUTH_TOKEN\" \\\n",
    "    https://ml.googleapis.com/v1/projects/${PROJECT_ID}:getConfig \\\n",
    "    | python -c \"import json; import sys; response = json.load(sys.stdin); \\\n",
    "    print response['serviceAccount']\")\n",
    "\n",
    "echo \"Authorizing the Cloud ML Service account $SVC_ACCOUNT to access files in $BUCKET\"\n",
    "gsutil -m defacl ch -u $SVC_ACCOUNT:R gs://$BUCKET\n",
    "gsutil -m acl ch -u $SVC_ACCOUNT:R -r gs://$BUCKET  # error message (if bucket is empty) can be ignored\n",
    "gsutil -m acl ch -u $SVC_ACCOUNT:W gs://$BUCKET"
   ]
  },
  {
   "cell_type": "code",
   "execution_count": null,
   "metadata": {
    "collapsed": true,
    "deletable": true,
    "editable": true
   },
   "outputs": [],
   "source": [
    "%bash\n",
    "echo $BUCKET\n",
    "gsutil -m rm -rf gs://${BUCKET}/churn-prediction/neural_net/\n",
    "gsutil -m cp ${REPO}/*.csv gs://${BUCKET}/churn-prediction/neural_net/\n",
    "OUTDIR=gs://${BUCKET}/churn-prediction/neural_net/churn_trained/\n",
    "rm -rf vehicles.tar.gz churn_trained\n",
    "gcloud ml-engine local train \\\n",
    "  --module-name=trainer.task \\\n",
    "  --package-path=${REPO}/einzelhandel/trainer \\\n",
    "  --job-dir $OUTDIR \\\n",
    "  -- \\\n",
    "  --train_files=${REPO}/churn-einzelhandel-train.csv \\\n",
    "  --eval_files=${REPO}/churn-einzelhandel-valid.csv  \\\n",
    "  --num_epochs=5 \\\n",
    "  --output_dir=$OUTDIR "
   ]
  },
  {
   "cell_type": "code",
   "execution_count": null,
   "metadata": {
    "collapsed": true,
    "deletable": true,
    "editable": true
   },
   "outputs": [],
   "source": [
    "%bash\n",
    "echo $BUCKET\n",
    "gsutil -m rm -rf gs://${BUCKET}/churn-prediction/neural_net/\n",
    "gsutil -m cp ${REPO}/*.csv gs://${BUCKET}/churn-prediction/neural_net/\n",
    "OUTDIR=gs://${BUCKET}/churn-prediction/neural_net/churn_trained/\n",
    "JOBNAME=churn_model_$(date -u +%y%m%d_%H%M%S)\n",
    "echo $OUTDIR $REGION $JOBNAME\n",
    "gsutil -m rm -rf $OUTDIR\n",
    "gcloud ml-engine jobs submit training $JOBNAME \\\n",
    "  --region=$REGION \\\n",
    "  --module-name=trainer.task \\\n",
    "  --package-path=${REPO}/einzelhandel/trainer \\\n",
    "  --job-dir=$OUTDIR \\\n",
    "  --staging-bucket=gs://$BUCKET/ \\\n",
    "  --scale-tier=BASIC \\\n",
    "  --runtime-version=1.2 \\\n",
    "  -- \\\n",
    "  --train_files=\"gs://${BUCKET}/churn_cloud/churn-einzelhandel-train.csv\" \\\n",
    "  --eval_files=\"gs://${BUCKET}/churn_cloud/churn-einzelhandel-valid.csv\"  \\\n",
    "  --num_epochs=100 \\\n",
    "  --output_dir=$OUTDIR \\\n",
    "  --train_steps=100 \\\n",
    "  --eval_steps=100 \\\n",
    "  --train_batch_size=40 \\\n",
    "  --eval_batch_size=40 \\\n",
    "  --learning_rate=0.003 \\\n",
    "  --first_layer_size=256 \\\n",
    "  --num_layers=5 \\\n",
    "  --scale_factor=0.25 \\\n",
    "  --eval_num_epochs=1 \\\n",
    "  --checkpoint_epochs=5"
   ]
  },
  {
   "cell_type": "code",
   "execution_count": null,
   "metadata": {
    "collapsed": true,
    "deletable": true,
    "editable": true
   },
   "outputs": [],
   "source": []
  },
  {
   "cell_type": "code",
   "execution_count": null,
   "metadata": {
    "collapsed": true,
    "deletable": true,
    "editable": true
   },
   "outputs": [],
   "source": []
  },
  {
   "cell_type": "code",
   "execution_count": null,
   "metadata": {
    "collapsed": true,
    "deletable": true,
    "editable": true
   },
   "outputs": [],
   "source": []
  },
  {
   "cell_type": "code",
   "execution_count": null,
   "metadata": {
    "collapsed": true,
    "deletable": true,
    "editable": true
   },
   "outputs": [],
   "source": [
    "#LSTM DH: (100 User, 365 Days as timeline input (multidim), 5 dims per User)\n",
    "#!!!!!!!!!!!!!!!!!!!!!!!"
   ]
  },
  {
   "cell_type": "code",
   "execution_count": null,
   "metadata": {
    "collapsed": true,
    "deletable": true,
    "editable": true
   },
   "outputs": [],
   "source": []
  },
  {
   "cell_type": "code",
   "execution_count": null,
   "metadata": {
    "collapsed": true,
    "deletable": true,
    "editable": true
   },
   "outputs": [],
   "source": []
  },
  {
   "cell_type": "code",
   "execution_count": null,
   "metadata": {
    "collapsed": true,
    "deletable": true,
    "editable": true
   },
   "outputs": [],
   "source": []
  },
  {
   "cell_type": "markdown",
   "metadata": {
    "deletable": true,
    "editable": true
   },
   "source": [
    "## Download LSTM Data:\n",
    "Taking events dataset for LSTM prepared by team `redsonics` "
   ]
  },
  {
   "cell_type": "code",
   "execution_count": null,
   "metadata": {
    "collapsed": true,
    "deletable": true,
    "editable": true
   },
   "outputs": [],
   "source": [
    "PROJECT='mkt-cloudml-jumpstart'\n",
    "DATA_BUCKET='redsonics'\n",
    "FILES = ['training.csv', 'labels.csv']\n",
    "\n",
    "client = google.cloud.storage.Client(project=PROJECT)\n",
    "bucket = client.get_bucket(DATA_BUCKET)\n",
    "\n",
    "for filename in FILES:\n",
    "    with open(filename, 'wb') as f:\n",
    "        bucket.blob(filename).download_to_file(f)"
   ]
  },
  {
   "cell_type": "markdown",
   "metadata": {
    "deletable": true,
    "editable": true
   },
   "source": [
    "###Load Data"
   ]
  },
  {
   "cell_type": "code",
   "execution_count": null,
   "metadata": {
    "collapsed": true,
    "deletable": true,
    "editable": true
   },
   "outputs": [],
   "source": [
    "training = pd.read_csv('training.csv')\n",
    "training = training.iloc[:,1:] #  remove useless first column\n",
    "labels = pd.read_csv('labels.csv')\n",
    "labels = labels.iloc[:,1:] #  remove useless first column\n",
    "n_users = 10000\n",
    "n_seq = training.shape[0]/n_users\n",
    "n_features = training.shape[1]\n",
    "X = np.array(training).reshape(n_users, n_seq, n_features)\n",
    "y = np.array(labels)\n",
    "X_train, X_eval, y_train, y_eval = sklearn.model_selection.train_test_split(X, y)"
   ]
  },
  {
   "cell_type": "markdown",
   "metadata": {
    "deletable": true,
    "editable": true
   },
   "source": [
    "Save the training to the `cloudml_examples/jumpstart-lstm` area for later, when we put this all in the cloud :-) "
   ]
  },
  {
   "cell_type": "code",
   "execution_count": null,
   "metadata": {
    "collapsed": false,
    "deletable": true,
    "editable": true
   },
   "outputs": [],
   "source": [
    "FILES = ['X_train.pkl', 'X_eval.pkl', 'y_train.pkl', 'y_eval.pkl']\n",
    "ARRAYS = [X_train, X_eval, y_train, y_eval]\n",
    "for idx, filename in enumerate(FILES):\n",
    "    with open(\"../cloudml_examples/jumpstart-lstm/\"+filename, 'wb') as f:\n",
    "        pickle.dump(ARRAYS[idx], f)"
   ]
  },
  {
   "cell_type": "markdown",
   "metadata": {
    "deletable": true,
    "editable": true
   },
   "source": [
    "## Compile Model:\n",
    "Note the Stacked LSTMs..."
   ]
  },
  {
   "cell_type": "code",
   "execution_count": null,
   "metadata": {
    "collapsed": true,
    "deletable": true,
    "editable": true
   },
   "outputs": [],
   "source": [
    "def model_fn(\n",
    "    n_seq, n_features, \n",
    "    lstm1_nodes=10, lstm2_nodes=10, mlp1_nodes=10\n",
    "):\n",
    "    model = keras.models.Sequential()\n",
    "    model.add(keras.layers.LSTM(lstm1_nodes, input_shape=(n_seq, n_features), return_sequences=True))\n",
    "    model.add(keras.layers.LSTM(lstm2_nodes))\n",
    "    model.add(keras.layers.Dense(mlp1_nodes, activation='relu', name='last_layer'))\n",
    "    model.add(keras.layers.Dense(1, activation='sigmoid'))\n",
    "    \n",
    "    model.compile(\n",
    "        loss='binary_crossentropy',\n",
    "        optimizer='rmsprop',\n",
    "        metrics=['accuracy']\n",
    "    )\n",
    "    \n",
    "    return model"
   ]
  },
  {
   "cell_type": "markdown",
   "metadata": {
    "deletable": true,
    "editable": true
   },
   "source": [
    "## Train Model Locally"
   ]
  },
  {
   "cell_type": "code",
   "execution_count": null,
   "metadata": {
    "collapsed": true,
    "deletable": true,
    "editable": true
   },
   "outputs": [],
   "source": [
    "BATCH_SIZE = 64\n",
    "\n",
    "model = model_fn(X.shape[1], X.shape[2])\n",
    "model.fit(\n",
    "    X_train, y_train,\n",
    "    batch_size=BATCH_SIZE, epochs=3,\n",
    "    validation_data=(X_eval, y_eval)\n",
    ")"
   ]
  },
  {
   "cell_type": "markdown",
   "metadata": {
    "deletable": true,
    "editable": true
   },
   "source": [
    "## Score Model"
   ]
  },
  {
   "cell_type": "code",
   "execution_count": null,
   "metadata": {
    "collapsed": true,
    "deletable": true,
    "editable": true
   },
   "outputs": [],
   "source": [
    "score = model.evaluate(X_eval, y_eval, batch_size=16)\n",
    "print(\"eval accuracy: %0.3f\" % score[1])"
   ]
  },
  {
   "cell_type": "markdown",
   "metadata": {
    "deletable": true,
    "editable": true
   },
   "source": [
    "## Make a Prediction Locally"
   ]
  },
  {
   "cell_type": "code",
   "execution_count": null,
   "metadata": {
    "collapsed": true,
    "deletable": true,
    "editable": true
   },
   "outputs": [],
   "source": [
    "y_hat = model.predict(X_eval, verbose=1)"
   ]
  },
  {
   "cell_type": "markdown",
   "metadata": {
    "deletable": true,
    "editable": true
   },
   "source": [
    "## Interpretaion:"
   ]
  },
  {
   "cell_type": "code",
   "execution_count": null,
   "metadata": {
    "collapsed": true,
    "deletable": true,
    "editable": true
   },
   "outputs": [],
   "source": [
    "%matplotlib inline\n",
    "matplotlib.pylab.plt.hist(np.ravel(y_hat))"
   ]
  },
  {
   "cell_type": "markdown",
   "metadata": {
    "deletable": true,
    "editable": true
   },
   "source": [
    "### Is there structure in the second last layer?\n",
    "If yes, we can pick out the event sequences characteristic of churn!"
   ]
  },
  {
   "cell_type": "code",
   "execution_count": null,
   "metadata": {
    "collapsed": true,
    "deletable": true,
    "editable": true
   },
   "outputs": [],
   "source": [
    "intermediate_layer_model = keras.models.Model(inputs=model.input, outputs=model.get_layer(\"last_layer\").output)\n",
    "intermediate_output = intermediate_layer_model.predict(X_eval, batch_size=BATCH_SIZE)\n",
    "\n",
    "tsne = sklearn.manifold.TSNE(perplexity=14, n_iter=1000)\n",
    "tsne_output = tsne.fit_transform(intermediate_output)"
   ]
  },
  {
   "cell_type": "code",
   "execution_count": null,
   "metadata": {
    "collapsed": true,
    "deletable": true,
    "editable": true
   },
   "outputs": [],
   "source": [
    "plt.figure(figsize=(15,9))\n",
    "plt.scatter(tsne_output[:,0], tsne_output[:,1], c=y_eval[:,0], marker='o')"
   ]
  },
  {
   "cell_type": "markdown",
   "metadata": {
    "deletable": true,
    "editable": true
   },
   "source": [
    "## Deploy model trained above in the cloud:\n",
    "### Save model as pb file:"
   ]
  },
  {
   "cell_type": "code",
   "execution_count": null,
   "metadata": {
    "collapsed": true,
    "deletable": true,
    "editable": true
   },
   "outputs": [],
   "source": [
    "customerbehaviour.reply.util.to_savedmodel(model, \"./export_dir\")"
   ]
  },
  {
   "cell_type": "markdown",
   "metadata": {
    "deletable": true,
    "editable": true
   },
   "source": [
    "### Deploy your locally trained model to CloudML!!!!!:\n",
    "This can take a few minutes..."
   ]
  },
  {
   "cell_type": "code",
   "execution_count": null,
   "metadata": {
    "collapsed": true,
    "deletable": true,
    "editable": true
   },
   "outputs": [],
   "source": [
    "%%bash\n",
    "MODEL_NAME=LSTM1\n",
    "MODEL_BINARIES=./export_dir\n",
    "STAGING_BUCKET=reply-jumpstart\n",
    "\n",
    "gcloud ml-engine models create $MODEL_NAME --regions us-central1\n",
    "gcloud ml-engine versions create v1 --model $MODEL_NAME \\\n",
    "    --origin $MODEL_BINARIES \\\n",
    "    --runtime-version 1.2 \\\n",
    "    --staging-bucket gs://$STAGING_BUCKET"
   ]
  }
 ],
 "metadata": {
  "kernelspec": {
   "display_name": "Python 2",
   "language": "python",
   "name": "python2"
  },
  "language_info": {
   "codemirror_mode": {
    "name": "ipython",
    "version": 2
   },
   "file_extension": ".py",
   "mimetype": "text/x-python",
   "name": "python",
   "nbconvert_exporter": "python",
   "pygments_lexer": "ipython2",
   "version": "2.7.14"
  }
 },
 "nbformat": 4,
 "nbformat_minor": 2
}
