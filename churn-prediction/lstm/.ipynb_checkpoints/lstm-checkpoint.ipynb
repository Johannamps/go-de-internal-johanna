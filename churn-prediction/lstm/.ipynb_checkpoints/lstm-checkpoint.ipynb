{
 "cells": [
  {
   "cell_type": "code",
   "execution_count": null,
   "metadata": {
    "collapsed": false,
    "deletable": true,
    "editable": true
   },
   "outputs": [],
   "source": [
    "!pip install keras"
   ]
  },
  {
   "cell_type": "code",
   "execution_count": null,
   "metadata": {
    "collapsed": false,
    "deletable": true,
    "editable": true
   },
   "outputs": [],
   "source": [
    "from pandas import DataFrames\n",
    "from pandas import concat\n",
    "from keras.models import Sequential\n",
    "from keras.layers import Dense\n",
    "from keras.layers import LSTM\n",
    "import datalab.bigquery as bq\n",
    "import seaborn as sns\n",
    "import pandas as pd\n",
    "import numpy as np\n",
    "import shutil\n",
    "import os\n",
    "import h5py\n",
    "import keras\n",
    "from pandas_gbq.gbq import GenericGBQException\n",
    "import logging\n",
    "import tensorflow as tf"
   ]
  },
  {
   "cell_type": "code",
   "execution_count": null,
   "metadata": {
    "collapsed": false
   },
   "outputs": [],
   "source": [
    "%%bq query --name letslookatthedata\n",
    "SELECT * FROM [go-de-internal:democases_go_reply_internal.metro_churn_lstm]"
   ]
  },
  {
   "cell_type": "code",
   "execution_count": null,
   "metadata": {
    "collapsed": false
   },
   "outputs": [],
   "source": [
    "import google.datalab.bigquery as bq\n",
    "import pandas as pd\n",
    "churn = bq.Query('SELECT * FROM `go-de-internal.democases_go_reply_internal.metro_churn_lstm`')\n",
    "df = churn.execute(output_options=bq.QueryOutput.dataframe()).result()\n",
    "df.describe()"
   ]
  },
  {
   "cell_type": "code",
   "execution_count": null,
   "metadata": {
    "collapsed": false
   },
   "outputs": [],
   "source": [
    "churn = bq.Query(letslookatthedata).to_dataframe()\n",
    "churn.describe()"
   ]
  },
  {
   "cell_type": "code",
   "execution_count": null,
   "metadata": {
    "collapsed": false,
    "deletable": true,
    "editable": true
   },
   "outputs": [],
   "source": [
    "def query_gbq(query, project_id, **bq_query_config_args):\n",
    "   try:\n",
    "       data = pd.read_gbq(\n",
    "           query, project_id,\n",
    "           configuration=get_bq_query_config(project_id, **bq_query_config_args)\n",
    "       ) #\n",
    "   except GenericGBQException:\n",
    "       logging.warning(\n",
    "           \"Generic GBQ exception detected, probably because the intermediate data table already exists,\"\n",
    "           \"attempting to overwrite...\")\n",
    "       query_config = get_bq_query_config(project_id, **bq_query_config_args)\n",
    "       query_config['query'][\"writeDisposition\"] = \"WRITE_TRUNCATE\" # tells BQ to overwrite\n",
    "       data = pd.read_gbq(query, project_id, dialect='standard', configuration=query_config)\n",
    "       \n",
    "   return data\n",
    "\n",
    "def get_bq_query_config(\n",
    "   projectId, allowLargeResults=True, datasetId='democases_go_reply_internal', tableId='metro_churn_lstm'\n",
    "):\n",
    "   return {\"query\": {\n",
    "       \"allowLargeResults\": allowLargeResults,\n",
    "       'destinationTable': {\n",
    "           'projectId': projectId,\n",
    "           'datasetId': datasetId,\n",
    "           'tableId': tableId\n",
    "       }\n",
    "   }}\n",
    "\n",
    "churn = query_gbq(\n",
    "   \"SELECT double_field_11, double_field_12, double_field_13 FROM democases_go_reply_internal.metro_churn_lstm LIMIT 5000\",\n",
    "   \"go-de-internal\")"
   ]
  },
  {
   "cell_type": "code",
   "execution_count": null,
   "metadata": {
    "collapsed": false
   },
   "outputs": [],
   "source": [
    "# figuring this out\n",
    "\n",
    "def query_gbq(query, project_id, **bq_query_config_args):\n",
    "   try:\n",
    "       data = pd.read_gbq(\n",
    "           query, project_id,\n",
    "           configuration=get_bq_query_config(project_id, **bq_query_config_args)\n",
    "       ) #\n",
    "   except GenericGBQException:\n",
    "       logging.warning(\n",
    "           \"Generic GBQ exception detected, probably because the intermediate data table already exists,\"\n",
    "           \"attempting to overwrite...\")\n",
    "       query_config = {\"query\": {\"allowLargeResults\": True, 'destinationTable': {'projectId': 'go-de-internal', 'datasetId': 'democases_go_reply_internal','tableId': 'metro_churn_lstm'}}}\n",
    "       query_config['query'][\"writeDisposition\"] = \"WRITE_TRUNCATE\" # tells BQ to overwrite\n",
    "       data = pd.read_gbq(query, project_id, dialect='standard', configuration=query_config)\n",
    "       \n",
    "   return data\n",
    "\n",
    "churn = query_gbq(\n",
    "   \"SELECT * FROM democases_go_reply_internal.metro_churn_lstm LIMIT 10000\",\n",
    "   \"go-de-internal\")"
   ]
  },
  {
   "cell_type": "code",
   "execution_count": null,
   "metadata": {
    "collapsed": false
   },
   "outputs": [],
   "source": [
    "# figuring this out 2.0\n",
    "\n",
    "query_config = {\"query\": {\"allowLargeResults\": True, 'destinationTable': {'projectId': 'go-de-internal', 'datasetId': 'democases_go_reply_internal','tableId': 'metro_churn_lstm'}}}\n",
    "query_config['\"SELECT * FROM go-de-internal.democases_go_reply_internal.metro_churn_lstm LIMIT 10000\"'][\"writeDisposition\"] = \"WRITE_TRUNCATE\" # tells BQ to overwrite\n",
    "data = pd.read_gbq(\"SELECT * FROM go-de-internal.democases_go_reply_internal.metro_churn_lstm LIMIT 10000\", 'go-de-internal', dialect='standard', configuration=query_config)"
   ]
  },
  {
   "cell_type": "code",
   "execution_count": null,
   "metadata": {
    "collapsed": false,
    "deletable": true,
    "editable": true
   },
   "outputs": [],
   "source": [
    "churn.columns = ['customer_key', 'date_of_day', 'transaction_key', 'store_id', 'corporate_abc_cd', 'promo_visit_flag', 'nf_visit_flag', 'food_visit_flag', 'ret_visit_flag', 'promo_sales', 'nf_promo_sales', 'food_promo_sales', 'nf_sales', 'food_sales', 'ret_sales', 'cupr_disc_val_nsp', 'sell_val_nsp', 'sell_qty_colli', 'pieces', 'food_colli', 'nf_colli', 'food_pieces', 'nf_pieces', 'margin', 'food_margin', 'nf_margin', 'distinct_pdt_basket', 'distinct_main_cat_basket', 'div_kitchen_cook_n_table_spend', 'div_seasonal_spend', 'div_bus_n_home_care_spend', 'div_office_n_media_spend', 'div_apparel_spend', 'div_other_nonfood_spend', 'div_dry_spend', 'div_fresh_spend', 'div_ultra_fresh_spend', 'div_other_food_spend', 'div_non_coms', 'dep_prelim_grp_food_spend', 'dep_prelim_grp_nonfood_spend', 'dep_bakery_spend', 'dep_dairy_spend', 'dep_delicatessen_spend', 'dep_deep_frozen_spend', 'dep_meat_spend', 'dep_fresh_fish_spend', 'dep_processed_meat_spend', 'dep_fruits_n_veg_spend', 'dep_flower_n_plants_spend', 'dep_canned_goods_spend', 'dep_edible_grocery_spend', 'dep_confect_n_snacks_spend', 'dep_tobacco_spend', 'dep_spirits_spend', 'dep_wine_spend', 'dep_beer_spend', 'dep_hampers_spend', 'dep_disposable_n_tblware_spend', 'dep_home_care_spend', 'dep_beauty_n_pers_care_spend', 'dep_hot_beverages_spend', 'dep_non_alcohol_drinks_spend', 'dep_home_kitchen_elec_spend', 'dep_home_kitchenware_spend', 'dep_home_tableware_spend', 'dep_pro_cookware_spend', 'dep_pro_tableware_spend', 'dep_gastro_cater_equip_spend', 'dep_bbq_n_charcoal_spend', 'dep_gardening_spend', 'dep_outdoor_furniture_spend', 'dep_indoor_furniture_spend', 'dep_seasonal_dec_spend', 'dep_party_spend', 'dep_outdoor_leisure_spend', 'dep_toys_n_games_spend', 'dep_pers_care_n_health_spend', 'dep_heating_n_ac_spend', 'dep_clean_n_laundry_care_elec_spend', 'dep_clean_n_laundry_care_spend', 'dep_decor_n_signage_spend', 'dep_security_n_safety_spend', 'dep_ship_pack_n_wrap_spend', 'dep_storage_n_handling_spend', 'dep_build_fix_n_maintain_spend', 'dep_office_furniture_spend', 'dep_office_supplies_spend', 'dep_cash_management_spend', 'dep_home_entertain_spend', 'dep_compute_print_comms_spend', 'dep_workwear_spend', 'dep_baby_spend', 'dep_sport_spend', 'dep_home_textiles_spend', 'dep_shoe_lugagge_n_acc_spend', 'dep_menswear_spend', 'dep_womenswear_spend', 'dep_kidswear_spend', 'dep_petrol_spend', 'dep_services_non_food_spend', 'dep_non_coms']\n",
    "#churn = churn.drop('corporate_abc_cd', axis=1)\n",
    "churn = churn.drop('customer_key', 'date_of_day', 'promo_sales', 'nf_promo_sales', 'food_promo_sales', 'nf_sales', 'food_sales', 'ret_sales', 'cupr_disc_val_nsp', 'sell_val_nsp', 'sell_qty_colli', 'pieces', 'food_colli', 'nf_colli', 'food_pieces', 'nf_pieces', 'margin', 'food_margin', 'nf_margin', 'distinct_pdt_basket', 'distinct_main_cat_basket', 'div_kitchen_cook_n_table_spend', 'div_seasonal_spend', 'div_bus_n_home_care_spend', 'div_office_n_media_spend', 'div_apparel_spend', 'div_other_nonfood_spend', 'div_dry_spend', 'div_fresh_spend', 'div_ultra_fresh_spend', 'div_other_food_spend', 'div_non_coms', 'dep_prelim_grp_food_spend', 'dep_prelim_grp_nonfood_spend', 'dep_bakery_spend', 'dep_dairy_spend', 'dep_delicatessen_spend', 'dep_deep_frozen_spend', 'dep_meat_spend', 'dep_fresh_fish_spend', 'dep_processed_meat_spend', 'dep_fruits_n_veg_spend', 'dep_flower_n_plants_spend', 'dep_canned_goods_spend', 'dep_edible_grocery_spend', 'dep_confect_n_snacks_spend', 'dep_tobacco_spend', 'dep_spirits_spend', 'dep_wine_spend', 'dep_beer_spend', 'dep_hampers_spend', 'dep_disposable_n_tblware_spend', 'dep_home_care_spend', 'dep_beauty_n_pers_care_spend', 'dep_hot_beverages_spend', 'dep_non_alcohol_drinks_spend', 'dep_home_kitchen_elec_spend', 'dep_home_kitchenware_spend', 'dep_home_tableware_spend', 'dep_pro_cookware_spend', 'dep_pro_tableware_spend', 'dep_gastro_cater_equip_spend', 'dep_bbq_n_charcoal_spend', 'dep_gardening_spend', 'dep_outdoor_furniture_spend', 'dep_indoor_furniture_spend', 'dep_seasonal_dec_spend', 'dep_party_spend', 'dep_outdoor_leisure_spend', 'dep_toys_n_games_spend', 'dep_pers_care_n_health_spend', 'dep_heating_n_ac_spend', 'dep_clean_n_laundry_care_elec_spend', 'dep_clean_n_laundry_care_spend', 'dep_decor_n_signage_spend', 'dep_security_n_safety_spend', 'dep_ship_pack_n_wrap_spend', 'dep_storage_n_handling_spend', 'dep_build_fix_n_maintain_spend', 'dep_office_furniture_spend', 'dep_office_supplies_spend', 'dep_cash_management_spend', 'dep_home_entertain_spend', 'dep_compute_print_comms_spend', 'dep_workwear_spend', 'dep_baby_spend', 'dep_sport_spend', 'dep_home_textiles_spend', 'dep_shoe_lugagge_n_acc_spend', 'dep_menswear_spend', 'dep_womenswear_spend', 'dep_kidswear_spend', 'dep_petrol_spend', 'dep_services_non_food_spend', 'dep_non_coms', axis=1)"
   ]
  },
  {
   "cell_type": "code",
   "execution_count": null,
   "metadata": {
    "collapsed": false
   },
   "outputs": [],
   "source": [
    "churn.head()"
   ]
  },
  {
   "cell_type": "code",
   "execution_count": null,
   "metadata": {
    "collapsed": true,
    "deletable": true,
    "editable": true
   },
   "outputs": [],
   "source": [
    "churn.to_csv('churn.csv')"
   ]
  },
  {
   "cell_type": "code",
   "execution_count": null,
   "metadata": {
    "collapsed": false,
    "deletable": true,
    "editable": true
   },
   "outputs": [],
   "source": [
    "from pandas import read_csv\n",
    "from datetime import datetime\n",
    "# load data\n",
    "df = read_csv('churn.csv')\n",
    "df = df.drop([\"Unnamed: 0\"], axis=1)\n",
    "df.head()"
   ]
  },
  {
   "cell_type": "code",
   "execution_count": null,
   "metadata": {
    "collapsed": false,
    "deletable": true,
    "editable": true
   },
   "outputs": [],
   "source": [
    "df = df.set_index('date_of_day')\n",
    "df.head()"
   ]
  },
  {
   "cell_type": "code",
   "execution_count": null,
   "metadata": {
    "collapsed": false,
    "deletable": true,
    "editable": true
   },
   "outputs": [],
   "source": [
    "df_all_cm = pd.DataFrame()\n",
    "dfx = None\n",
    "index = pd.date_range(start='2017-01-01', end='2017-12-31', freq='D')\n",
    "df2 = pd.DataFrame(range(len(index)), index=index, columns=['Number'])\n",
    "\n",
    "for region, df_region in df.groupby('customer_key'):\n",
    "    dfx = df_region\n",
    "    dy = dfx.add(df2, axis='columns', level=None, fill_value=[0])\n",
    "    dy = dy.fillna(0)\n",
    "    df_all_cm = df_all_cm.append(dy, ignore_index=True)\n",
    "\n",
    "df_all_cm.head(100)"
   ]
  },
  {
   "cell_type": "code",
   "execution_count": null,
   "metadata": {
    "collapsed": true,
    "deletable": true,
    "editable": true
   },
   "outputs": [],
   "source": [
    "df_all_cm.to_csv('all_cm.csv')"
   ]
  },
  {
   "cell_type": "code",
   "execution_count": null,
   "metadata": {
    "collapsed": true,
    "deletable": true,
    "editable": true
   },
   "outputs": [],
   "source": [
    "from pandas import read_csv\n",
    "from matplotlib import pyplot\n",
    "# load dataset\n",
    "dataset = read_csv('all_cm.csv', header=0, index_col=0)\n",
    "print(len(dataset))\n",
    "values = dataset.values\n",
    "# specify columns to plot\n",
    "groups = [0, 1, 2, 3, 5, 6, 7, 8, 9]\n",
    "i = 1\n",
    "# plot each column\n",
    "pyplot.figure()\n",
    "for group in groups:\n",
    "\tpyplot.subplot(len(groups), 1, i)\n",
    "\tpyplot.plot(values[:, group])\n",
    "\tpyplot.title(dataset.columns[group], y=0.5, loc='right')\n",
    "\ti += 1\n",
    "pyplot.show()"
   ]
  }
 ],
 "metadata": {
  "kernelspec": {
   "display_name": "Python 2",
   "language": "python",
   "name": "python2"
  },
  "language_info": {
   "codemirror_mode": {
    "name": "ipython",
    "version": 2
   },
   "file_extension": ".py",
   "mimetype": "text/x-python",
   "name": "python",
   "nbconvert_exporter": "python",
   "pygments_lexer": "ipython2",
   "version": "2.7.14"
  }
 },
 "nbformat": 4,
 "nbformat_minor": 2
}
