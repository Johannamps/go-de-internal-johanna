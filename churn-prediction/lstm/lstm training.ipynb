{
 "cells": [
  {
   "cell_type": "code",
   "execution_count": 1,
   "metadata": {
    "collapsed": false,
    "deletable": true,
    "editable": true
   },
   "outputs": [
    {
     "name": "stderr",
     "output_type": "stream",
     "text": [
      "/usr/local/envs/py2env/lib/python2.7/site-packages/h5py/__init__.py:36: FutureWarning: Conversion of the second argument of issubdtype from `float` to `np.floating` is deprecated. In future, it will be treated as `np.float64 == np.dtype(float).type`.\n",
      "  from ._conv import register_converters as _register_converters\n"
     ]
    },
    {
     "name": "stdout",
     "output_type": "stream",
     "text": [
      "1.7.0\n"
     ]
    }
   ],
   "source": [
    "import datalab.bigquery as bq\n",
    "import seaborn as sns\n",
    "import pandas as pd\n",
    "import numpy as np\n",
    "import shutil\n",
    "import tensorflow as tf\n",
    "print tf.__version__\n",
    "import os"
   ]
  },
  {
   "cell_type": "code",
   "execution_count": 2,
   "metadata": {
    "collapsed": false,
    "deletable": true,
    "editable": true
   },
   "outputs": [
    {
     "data": {
      "text/plain": [
       "['check.csv',\n",
       " 'lstm.ipynb',\n",
       " 'lstm 2.0.ipynb',\n",
       " 'intermediate.csv',\n",
       " 'churn_100_customers.csv',\n",
       " 'churn_100_customers_365_days.csv',\n",
       " '.ipynb_checkpoints',\n",
       " 'data_sets',\n",
       " 'churn-create-timedependent-data.ipynb',\n",
       " 'churn-time-dependent-artificial-data.csv',\n",
       " 'trainer',\n",
       " 'lstm training.ipynb',\n",
       " 'churn.ipynb']"
      ]
     },
     "execution_count": 2,
     "metadata": {},
     "output_type": "execute_result"
    }
   ],
   "source": [
    "PROJECT = 'go-de-internal'\n",
    "BUCKET = 'go-de-internal-johanna'\n",
    "REGION = 'europe-west1'\n",
    "REPO = \"/content/datalab/demo-cases/churn-prediction/lstm\"\n",
    "os.listdir(REPO)"
   ]
  },
  {
   "cell_type": "code",
   "execution_count": 3,
   "metadata": {
    "collapsed": true,
    "deletable": true,
    "editable": true
   },
   "outputs": [],
   "source": [
    "# for bash\n",
    "os.environ['PROJECT'] = PROJECT\n",
    "os.environ['BUCKET'] = BUCKET\n",
    "os.environ['REGION'] = REGION\n",
    "os.environ['REPO'] = REPO"
   ]
  },
  {
   "cell_type": "code",
   "execution_count": 4,
   "metadata": {
    "collapsed": false,
    "deletable": true,
    "editable": true
   },
   "outputs": [
    {
     "name": "stderr",
     "output_type": "stream",
     "text": [
      "Updated property [core/project].\n",
      "Updated property [compute/region].\n"
     ]
    }
   ],
   "source": [
    "%bash\n",
    "gcloud config set project $PROJECT\n",
    "gcloud config set compute/region $REGION"
   ]
  },
  {
   "cell_type": "code",
   "execution_count": 5,
   "metadata": {
    "collapsed": false,
    "deletable": true,
    "editable": true
   },
   "outputs": [
    {
     "name": "stdout",
     "output_type": "stream",
     "text": [
      "Authorizing the Cloud ML Service account service-462605511119@cloud-ml.google.com.iam.gserviceaccount.com to access files in go-de-internal-johanna\n"
     ]
    },
    {
     "name": "stderr",
     "output_type": "stream",
     "text": [
      "  % Total    % Received % Xferd  Average Speed   Time    Time     Time  Current\n",
      "                                 Dload  Upload   Total   Spent    Left  Speed\n",
      "\r",
      "  0     0    0     0    0     0      0      0 --:--:-- --:--:-- --:--:--     0\r",
      "100   133    0   133    0     0    136      0 --:--:-- --:--:-- --:--:--   136\r",
      "100   133    0   133    0     0    136      0 --:--:-- --:--:-- --:--:--   136\n",
      "No changes to gs://go-de-internal-johanna/\n",
      "No changes to gs://go-de-internal-johanna/churn-prediction/\n",
      "No changes to gs://go-de-internal-johanna/churn-prediction/lstm/\n",
      "No changes to gs://go-de-internal-johanna/churn-prediction/lstm/a_b\n",
      "No changes to gs://go-de-internal-johanna/churn-prediction/lstm/a_b/\n",
      "No changes to gs://go-de-internal-johanna/churn-prediction/lstm/a_b/a_b.csv\n",
      "No changes to gs://go-de-internal-johanna/churn-prediction/neural_net/churn-einzelhandel-train.csv\n",
      "No changes to gs://go-de-internal-johanna/churn-prediction/neural_net/churn_trained/churn_model.hdf5\n",
      "No changes to gs://go-de-internal-johanna/churn-prediction/neural_net/churn_trained/export/saved_model.pb\n",
      "No changes to gs://go-de-internal-johanna/churn-prediction/mv_ab_model_ads_build_sep.csv\n",
      "No changes to gs://go-de-internal-johanna/churn-prediction/neural_net/churn_trained/export/variables/variables.index\n",
      "No changes to gs://go-de-internal-johanna/churn-prediction/neural_net/churn_trained/logs/\n",
      "No changes to gs://go-de-internal-johanna/churn-prediction/neural_net/churn-einzelhandel-valid.csv\n",
      "No changes to gs://go-de-internal-johanna/churn-prediction/neural_net/churn-telecommunication.csv\n",
      "No changes to gs://go-de-internal-johanna/churn-prediction/neural_net/churn_trained/export/variables/variables.data-00000-of-00001\n",
      "No changes to gs://go-de-internal-johanna/churn-prediction/neural_net/churn_trained/export/\n",
      "No changes to gs://go-de-internal-johanna/churn-prediction/neural_net/churn_trained/\n",
      "No changes to gs://go-de-internal-johanna/churn-prediction/neural_net/churn-einzelhandel-test.csv\n",
      "No changes to gs://go-de-internal-johanna/churn-prediction/neural_net/churn_trained/export/variables/\n",
      "No changes to gs://go-de-internal-johanna/churn-prediction/neural_net/churn_trained/logs/events.out.tfevents.1520528756.696604c6b0d9\n",
      "No changes to gs://go-de-internal-johanna/flight-time-estimate/\n",
      "No changes to gs://go-de-internal-johanna/pattern-recognition/\n",
      "No changes to gs://go-de-internal-johanna/vehicles_health_demo_180305_180649/413a63e0e47758abd44b25679856780a0346cc2efadb779f70292c1e8ffd12fa/econsumption-0.1.tar.gz\n",
      "No changes to gs://go-de-internal-johanna/vehicles_health_demo_hyper_param_180305_180703/0712cc9a349f1b7d8b740620452df3c60b430d2647b84bb756e54b883d8f788f/econsumption-0.1.tar.gz\n",
      "No changes to gs://go-de-internal-johanna/vehilce-health-status/\n",
      "No changes to gs://go-de-internal-johanna/vehilce-health-status//neural-net/vehicles-test.csv\n",
      "No changes to gs://go-de-internal-johanna/vehilce-health-status/hyper-param/vehicles-test.csv\n",
      "No changes to gs://go-de-internal-johanna/vehilce-health-status//neural-net/vehicles-train.csv\n",
      "No changes to gs://go-de-internal-johanna/vehilce-health-status//neural-net/vehicles-valid.csv\n",
      "No changes to gs://go-de-internal-johanna/vehilce-health-status/lindeshow-case-data-all.csv\n",
      "No changes to gs://go-de-internal-johanna/vehilce-health-status/hyper-param/vehicles-train.csv\n",
      "No changes to gs://go-de-internal-johanna/vehilce-health-status/hyper-param/vehicles-valid.csv\n",
      "No changes to gs://go-de-internal-johanna/vehilce-health-status/neural-net/vehicles-valid.csv\n",
      "No changes to gs://go-de-internal-johanna/vehilce-health-status/neural-net/vehicles-train.csv\n",
      "No changes to gs://go-de-internal-johanna/vehilce-health-status/neural-net/vehicles-test.csv\n",
      "Updated ACL on gs://go-de-internal-johanna/vehilce-health-status/neural-net/vehicles_trained/checkpoint\n",
      "Updated ACL on gs://go-de-internal-johanna/vehilce-health-status/neural-net/vehicles_trained/\n",
      "Updated ACL on gs://go-de-internal-johanna/vehilce-health-status/neural-net/vehicles_trained/eval/\n",
      "Updated ACL on gs://go-de-internal-johanna/vehilce-health-status/neural-net/vehicles_trained/eval/events.out.tfevents.1520273650.cmle-training-master-e97f25bfc7-0-b8t26\n",
      "Updated ACL on gs://go-de-internal-johanna/vehilce-health-status/neural-net/vehicles_trained/events.out.tfevents.1520273224.cmle-training-master-e97f25bfc7-0-b8t26\n",
      "Updated ACL on gs://go-de-internal-johanna/vehilce-health-status/neural-net/vehicles_trained/export/Servo/\n",
      "Updated ACL on gs://go-de-internal-johanna/vehilce-health-status/neural-net/vehicles_trained/eval/events.out.tfevents.1520273232.cmle-training-master-e97f25bfc7-0-b8t26\n",
      "Updated ACL on gs://go-de-internal-johanna/vehilce-health-status/neural-net/vehicles_trained/model.ckpt-2100.index\n",
      "Updated ACL on gs://go-de-internal-johanna/vehilce-health-status/neural-net/vehicles_trained/model.ckpt-1.data-00000-of-00001\n",
      "Updated ACL on gs://go-de-internal-johanna/vehilce-health-status/neural-net/vehicles_trained/graph.pbtxt\n",
      "Updated ACL on gs://go-de-internal-johanna/vehilce-health-status/neural-net/vehicles_trained/model.ckpt-2100.data-00000-of-00001\n",
      "Updated ACL on gs://go-de-internal-johanna/vehilce-health-status/neural-net/vehicles_trained/export/\n",
      "Updated ACL on gs://go-de-internal-johanna/vehilce-health-status/neural-net/vehicles_trained/export/Servo/1520273651560/\n",
      "Updated ACL on gs://go-de-internal-johanna/vehilce-health-status/neural-net/vehicles_trained/export/Servo/1520273651560/variables/\n",
      "Updated ACL on gs://go-de-internal-johanna/vehilce-health-status/neural-net/vehicles_trained/model.ckpt-1.meta\n",
      "Updated ACL on gs://go-de-internal-johanna/vehilce-health-status/neural-net/vehicles_trained/model.ckpt-2100.meta\n",
      "Updated ACL on gs://go-de-internal-johanna/vehilce-health-status/neural-net/vehicles_trained/export/Servo/1520273651560/variables/variables.data-00000-of-00001\n",
      "Updated ACL on gs://go-de-internal-johanna/vehilce-health-status/neural-net/vehicles_trained/export/Servo/1520273651560/saved_model.pb\n",
      "Updated ACL on gs://go-de-internal-johanna/vehilce-health-status/neural-net/vehicles_trained/export/Servo/1520273651560/variables/variables.index\n",
      "Updated ACL on gs://go-de-internal-johanna/vehilce-health-status/neural-net/vehicles_trained/model.ckpt-1.index\n",
      "No changes to gs://go-de-internal-johanna/\n"
     ]
    }
   ],
   "source": [
    "%bash\n",
    "PROJECT_ID=$PROJECT\n",
    "AUTH_TOKEN=$(gcloud auth print-access-token)\n",
    "SVC_ACCOUNT=$(curl -X GET -H \"Content-Type: application/json\" \\\n",
    "    -H \"Authorization: Bearer $AUTH_TOKEN\" \\\n",
    "    https://ml.googleapis.com/v1/projects/${PROJECT_ID}:getConfig \\\n",
    "    | python -c \"import json; import sys; response = json.load(sys.stdin); \\\n",
    "    print response['serviceAccount']\")\n",
    "\n",
    "echo \"Authorizing the Cloud ML Service account $SVC_ACCOUNT to access files in $BUCKET\"\n",
    "gsutil -m defacl ch -u $SVC_ACCOUNT:R gs://$BUCKET\n",
    "gsutil -m acl ch -u $SVC_ACCOUNT:R -r gs://$BUCKET  # error message (if bucket is empty) can be ignored\n",
    "gsutil -m acl ch -u $SVC_ACCOUNT:W gs://$BUCKET"
   ]
  },
  {
   "cell_type": "code",
   "execution_count": null,
   "metadata": {
    "collapsed": false,
    "deletable": true,
    "editable": true
   },
   "outputs": [],
   "source": [
    "!cat trainer/model.py"
   ]
  },
  {
   "cell_type": "code",
   "execution_count": 11,
   "metadata": {
    "collapsed": false,
    "deletable": true,
    "editable": true
   },
   "outputs": [
    {
     "name": "stdout",
     "output_type": "stream",
     "text": [
      "0\r\n",
      ",0,1,2,3,4\n"
     ]
    }
   ],
   "source": [
    "%bash\n",
    "head -1 $REPO/labels.csv\n",
    "head -1 $REPO/training.csv"
   ]
  },
  {
   "cell_type": "code",
   "execution_count": null,
   "metadata": {
    "collapsed": false
   },
   "outputs": [],
   "source": [
    "from google.cloud import storage\n",
    "\n",
    "DATA_BUCKET='go-de-internal-johanna'\n",
    "FILES = ['training.csv', 'labels.csv']\n",
    "\n",
    "client = storage.Client(project=PROJECT)\n",
    "bucket = client.get_bucket(DATA_BUCKET)\n",
    "\n",
    "for filename in FILES:\n",
    "    with open(filename, 'wb') as f:\n",
    "        bucket.blob(filename).download_to_file(f)"
   ]
  },
  {
   "cell_type": "code",
   "execution_count": 60,
   "metadata": {
    "collapsed": false
   },
   "outputs": [],
   "source": [
    "import pandas as pd\n",
    "import numpy as np\n",
    "from sklearn.model_selection import train_test_split\n",
    "\n",
    "training = pd.read_csv('training.csv')\n",
    "labels = pd.read_csv('labels.csv')\n",
    "training = training.iloc[:,1:] #  remove useless first column\n",
    "n_users = 10\n",
    "n_seq = training.shape[0]/n_users\n",
    "n_features = training.shape[1]\n",
    "y = np.array(labels)\n",
    "X = np.array(training).reshape(n_users, n_seq, n_features)\n",
    "X_train, X_eval, y_train, y_eval = train_test_split(X, y)"
   ]
  },
  {
   "cell_type": "code",
   "execution_count": 55,
   "metadata": {
    "collapsed": false
   },
   "outputs": [],
   "source": [
    "import cPickle as pickle\n",
    "\n",
    "FILES = ['X_train.pkl', 'X_eval.pkl', 'y_train.pkl', 'y_eval.pkl']\n",
    "ARRAYS = [X_train, X_eval, y_train, y_eval]\n",
    "for idx, filename in enumerate(FILES):\n",
    "    with open(\"pickels/\"+filename, 'wb') as f:\n",
    "        pickle.dump(ARRAYS[idx], f)"
   ]
  },
  {
   "cell_type": "markdown",
   "metadata": {},
   "source": [
    "## Compile Model:\n",
    "Note the Stacked LSTMs..."
   ]
  },
  {
   "cell_type": "code",
   "execution_count": 56,
   "metadata": {
    "collapsed": false
   },
   "outputs": [
    {
     "name": "stdout",
     "output_type": "stream",
     "text": [
      "Requirement already satisfied: keras in /usr/local/envs/py2env/lib/python2.7/site-packages\n",
      "Requirement already satisfied: numpy>=1.9.1 in /usr/local/envs/py2env/lib/python2.7/site-packages (from keras)\n",
      "Requirement already satisfied: scipy>=0.14 in /usr/local/envs/py2env/lib/python2.7/site-packages (from keras)\n",
      "Requirement already satisfied: six>=1.9.0 in /usr/local/envs/py2env/lib/python2.7/site-packages (from keras)\n",
      "Requirement already satisfied: pyyaml in /usr/local/envs/py2env/lib/python2.7/site-packages (from keras)\n",
      "\u001b[33mYou are using pip version 9.0.1, however version 9.0.3 is available.\n",
      "You should consider upgrading via the 'pip install --upgrade pip' command.\u001b[0m\n"
     ]
    }
   ],
   "source": [
    "!pip install keras"
   ]
  },
  {
   "cell_type": "code",
   "execution_count": 57,
   "metadata": {
    "collapsed": false
   },
   "outputs": [],
   "source": [
    "from keras.models import Sequential\n",
    "from keras.layers import Dense, Dropout\n",
    "from keras.layers import Embedding\n",
    "from keras.layers import LSTM\n",
    "\n",
    "def model_fn(\n",
    "    n_seq, n_features, \n",
    "    lstm1_nodes=10, lstm2_nodes=10, mlp1_nodes=10\n",
    "):\n",
    "    model = Sequential()\n",
    "    model.add(LSTM(lstm1_nodes, input_shape=(n_seq, n_features), return_sequences=True))\n",
    "    model.add(LSTM(lstm2_nodes))\n",
    "    model.add(Dense(mlp1_nodes, activation='relu', name='last_layer'))\n",
    "    model.add(Dense(1, activation='sigmoid'))\n",
    "    \n",
    "    model.compile(\n",
    "        loss='binary_crossentropy',\n",
    "        optimizer='rmsprop',\n",
    "        metrics=['accuracy']\n",
    "    )\n",
    "    \n",
    "    return model"
   ]
  },
  {
   "cell_type": "markdown",
   "metadata": {},
   "source": [
    "## Train Model Locally:"
   ]
  },
  {
   "cell_type": "code",
   "execution_count": 67,
   "metadata": {
    "collapsed": false
   },
   "outputs": [
    {
     "name": "stdout",
     "output_type": "stream",
     "text": [
      "Train on 7 samples, validate on 3 samples\n",
      "Epoch 1/3\n",
      "7/7 [==============================] - 5s 662ms/step - loss: 0.6918 - acc: 0.7143 - val_loss: 0.6934 - val_acc: 0.3333\n",
      "Epoch 2/3\n",
      "7/7 [==============================] - 1s 147ms/step - loss: 0.6866 - acc: 0.4286 - val_loss: 0.6936 - val_acc: 0.3333\n",
      "Epoch 3/3\n",
      "7/7 [==============================] - 1s 142ms/step - loss: 0.6836 - acc: 0.5714 - val_loss: 0.6941 - val_acc: 0.3333\n"
     ]
    },
    {
     "data": {
      "text/plain": [
       "<keras.callbacks.History at 0x7fc68484ef50>"
      ]
     },
     "execution_count": 67,
     "metadata": {},
     "output_type": "execute_result"
    }
   ],
   "source": [
    "BATCH_SIZE = 64\n",
    "\n",
    "\n",
    "model = model_fn(X.shape[1], X.shape[2])\n",
    "model.fit(\n",
    "    X_train, y_train,\n",
    "    batch_size=BATCH_SIZE, epochs=3,\n",
    "    validation_data=(X_eval, y_eval)\n",
    ")"
   ]
  },
  {
   "cell_type": "markdown",
   "metadata": {},
   "source": [
    "## Score Model:"
   ]
  },
  {
   "cell_type": "code",
   "execution_count": 68,
   "metadata": {
    "collapsed": false
   },
   "outputs": [
    {
     "name": "stdout",
     "output_type": "stream",
     "text": [
      "3/3 [==============================] - 0s 42ms/step\n",
      "eval accuracy: 0.333\n"
     ]
    }
   ],
   "source": [
    "score = model.evaluate(X_eval, y_eval, batch_size=16)\n",
    "print(\"eval accuracy: %0.3f\" % score[1])"
   ]
  },
  {
   "cell_type": "markdown",
   "metadata": {},
   "source": [
    "## Make a Prediction Locally:"
   ]
  },
  {
   "cell_type": "code",
   "execution_count": 69,
   "metadata": {
    "collapsed": false
   },
   "outputs": [
    {
     "name": "stdout",
     "output_type": "stream",
     "text": [
      "\r",
      "3/3 [==============================] - 1s 234ms/step\n"
     ]
    }
   ],
   "source": [
    "y_hat = model.predict(X_eval, verbose=1)"
   ]
  },
  {
   "cell_type": "markdown",
   "metadata": {},
   "source": [
    "## Interpretation:\n",
    "How varied are the eval predictions?"
   ]
  },
  {
   "cell_type": "code",
   "execution_count": 71,
   "metadata": {
    "collapsed": false
   },
   "outputs": [
    {
     "data": {
      "text/plain": [
       "(array([2., 0., 0., 0., 0., 0., 0., 0., 0., 1.]),\n",
       " array([0.49857926, 0.49858042, 0.49858158, 0.49858273, 0.49858389,\n",
       "        0.49858505, 0.4985862 , 0.49858736, 0.49858851, 0.49858967,\n",
       "        0.49859083]),\n",
       " <a list of 10 Patch objects>)"
      ]
     },
     "execution_count": 71,
     "metadata": {},
     "output_type": "execute_result"
    },
    {
     "name": "stderr",
     "output_type": "stream",
     "text": [
      "/usr/local/envs/py2env/lib/python2.7/site-packages/matplotlib/font_manager.py:1320: UserWarning: findfont: Font family [u'sans-serif'] not found. Falling back to DejaVu Sans\n",
      "  (prop.get_family(), self.defaultFamily[fontext]))\n"
     ]
    },
    {
     "data": {
      "image/png": "[encoded data removed]",
      "text/plain": [
       "<matplotlib.figure.Figure at 0x7fc685b097d0>"
      ]
     },
     "metadata": {},
     "output_type": "display_data"
    }
   ],
   "source": [
    "#%matplotlib inline\n",
    "import matplotlib.pylab as plt\n",
    "plt.hist(np.ravel(y_hat))"
   ]
  },
  {
   "cell_type": "markdown",
   "metadata": {},
   "source": [
    "Data balance is an issue here."
   ]
  },
  {
   "cell_type": "markdown",
   "metadata": {},
   "source": [
    "### Is there structure in the second last layer?\n",
    "If yes, we can pick out the event sequences characteristic of churn!"
   ]
  },
  {
   "cell_type": "code",
   "execution_count": 72,
   "metadata": {
    "collapsed": true
   },
   "outputs": [],
   "source": [
    "from sklearn.manifold import TSNE\n",
    "from keras.models import Model\n",
    "\n",
    "intermediate_layer_model = Model(inputs=model.input, outputs=model.get_layer(\"last_layer\").output)\n",
    "intermediate_output = intermediate_layer_model.predict(X_eval, batch_size=BATCH_SIZE)\n",
    "\n",
    "tsne = TSNE(perplexity=14, n_iter=1000)\n",
    "tsne_output = tsne.fit_transform(intermediate_output)"
   ]
  },
  {
   "cell_type": "code",
   "execution_count": 73,
   "metadata": {
    "collapsed": false
   },
   "outputs": [
    {
     "data": {
      "text/plain": [
       "<matplotlib.collections.PathCollection at 0x7fc67b1ad710>"
      ]
     },
     "execution_count": 73,
     "metadata": {},
     "output_type": "execute_result"
    },
    {
     "data": {
      "image/png": "[encoded data removed]",
      "text/plain": [
       "<matplotlib.figure.Figure at 0x7fc67b1d66d0>"
      ]
     },
     "metadata": {},
     "output_type": "display_data"
    }
   ],
   "source": [
    "plt.figure(figsize=(15,9))\n",
    "plt.scatter(tsne_output[:,0], tsne_output[:,1], c=y_eval[:,0], marker='o')"
   ]
  },
  {
   "cell_type": "markdown",
   "metadata": {},
   "source": [
    "## Deploy model trained above in the cloud:\n",
    "### Save model as pb file:"
   ]
  },
  {
   "cell_type": "code",
   "execution_count": 74,
   "metadata": {
    "collapsed": false
   },
   "outputs": [
    {
     "ename": "ImportError",
     "evalue": "No module named customerbehaviour.reply.util",
     "output_type": "error",
     "traceback": [
      "\u001b[0;31m\u001b[0m",
      "\u001b[0;31mImportError\u001b[0mTraceback (most recent call last)",
      "\u001b[0;32m<ipython-input-74-fcefa2a9354f>\u001b[0m in \u001b[0;36m<module>\u001b[0;34m()\u001b[0m\n\u001b[0;32m----> 1\u001b[0;31m \u001b[0;32mfrom\u001b[0m \u001b[0mcustomerbehaviour\u001b[0m\u001b[0;34m.\u001b[0m\u001b[0mreply\u001b[0m\u001b[0;34m.\u001b[0m\u001b[0mutil\u001b[0m \u001b[0;32mimport\u001b[0m \u001b[0mto_savedmodel\u001b[0m\u001b[0;34m\u001b[0m\u001b[0m\n\u001b[0m\u001b[1;32m      2\u001b[0m \u001b[0mto_savedmodel\u001b[0m\u001b[0;34m(\u001b[0m\u001b[0mmodel\u001b[0m\u001b[0;34m,\u001b[0m \u001b[0;34m\"./export_dir\"\u001b[0m\u001b[0;34m)\u001b[0m\u001b[0;34m\u001b[0m\u001b[0m\n",
      "\u001b[0;31mImportError\u001b[0m: No module named customerbehaviour.reply.util"
     ]
    }
   ],
   "source": [
    "from customerbehaviour.reply.util import to_savedmodel\n",
    "to_savedmodel(model, \"./export_dir\")"
   ]
  },
  {
   "cell_type": "markdown",
   "metadata": {},
   "source": [
    "### Deploy your locally trained model to CloudML!!!!!:\n",
    "This can take a few minutes..."
   ]
  },
  {
   "cell_type": "code",
   "execution_count": 75,
   "metadata": {
    "collapsed": false
   },
   "outputs": [
    {
     "name": "stderr",
     "output_type": "stream",
     "text": [
      "Created ml engine model [projects/go-de-internal/models/LSTM1].\n",
      "ERROR: (gcloud.ml-engine.versions.create) [./export_dir] is not a valid directory.\n"
     ]
    }
   ],
   "source": [
    "%%bash\n",
    "MODEL_NAME=LSTM1\n",
    "MODEL_BINARIES=./export_dir\n",
    "STAGING_BUCKET=reply-jumpstart\n",
    "\n",
    "gcloud ml-engine models create $MODEL_NAME --regions us-central1\n",
    "gcloud ml-engine versions create v1 --model $MODEL_NAME \\\n",
    "    --origin $MODEL_BINARIES \\\n",
    "    --runtime-version 1.2 \\\n",
    "    --staging-bucket gs://$STAGING_BUCKET"
   ]
  },
  {
   "cell_type": "code",
   "execution_count": null,
   "metadata": {
    "collapsed": true
   },
   "outputs": [],
   "source": []
  },
  {
   "cell_type": "code",
   "execution_count": null,
   "metadata": {
    "collapsed": true
   },
   "outputs": [],
   "source": []
  },
  {
   "cell_type": "code",
   "execution_count": null,
   "metadata": {
    "collapsed": true
   },
   "outputs": [],
   "source": []
  },
  {
   "cell_type": "markdown",
   "metadata": {},
   "source": [
    "## Train the Model in CloudML:\n",
    "### Two analogous examples:\n",
    "#### Census training example:"
   ]
  },
  {
   "cell_type": "markdown",
   "metadata": {},
   "source": [
    "In this instance, there are two examples of working machine learning jobs. They can both be run locally and in the cloud.\n",
    "\n",
    "To access the census example run commands:\n",
    "```\n",
    "sudo su aloosley\n",
    "cd ~/mkt-cloudml-jumpstart/clean_teaching_space/cloudml_examples/census\n",
    "```\n",
    "\n",
    "The commands you need to run these examples are in CLOUD_ML_BASH_CMDS.txt (In the cloud deploymend hyperparameter tuning is activated - to loose hyperparameter tuning, simply loose the codeline running it.)\n",
    "\n",
    "Let's just first set all the environment variables we'll need later:\n",
    "\n",
    "local params: \n",
    "```\n",
    "EVAL_FILE=adult.test.csv\n",
    "TRAIN_FILE=adult.data.csv\n",
    "JOB_DIR=./results\n",
    "TRAIN_STEPS=2\n",
    "NUM_EPOCHS=2\n",
    "```\n",
    "\n",
    "cloud params:\n",
    "```\n",
    "GCS_TRAIN_FILE=gs://cloudml-public/census/data/adult.data.csv\n",
    "GCS_EVAL_FILE=gs://cloudml-public/census/data/adult.test.csv\n",
    "JOB_NAME=example_run_for_demo_census\n",
    "JOB_DIR_GS=gs://example_bucket_for_demo_census/results\n",
    "HPTUNING_CONFIG=hptuning_config.yaml\n",
    "TRAIN_STEPS=200\n",
    "```\n",
    "\n",
    "Note: The JOB_DIR_GS has to exist.\n",
    "\n",
    "If you haven't already, activate the python2 environment we've created for using cloudML:\n",
    "```\n",
    "source activate py2\n",
    "```\n",
    "\n",
    "Completely test the model locally before deplying a job to the cloud. Use a small number of epochs if you want.\n",
    "Local Command:\n",
    "```\n",
    "python -m trainer.task --train-files $TRAIN_FILE \\\n",
    "                       --eval-files $EVAL_FILE \\\n",
    "                       --job-dir $JOB_DIR \\\n",
    "                       --train-steps $TRAIN_STEPS \\\n",
    "                       --num-epochs $NUM_EPOCHS\n",
    "```\n",
    "\n",
    "When it works fully from start to finish, you're ready to train in the cloud:\n",
    "```\n",
    "gcloud ml-engine jobs submit training $JOB_NAME \\\n",
    "                                    --stream-logs \\\n",
    "                                    --runtime-version 1.2 \\\n",
    "                                    --job-dir $JOB_DIR_GS \\\n",
    "                                    --package-path trainer \\\n",
    "                                    --module-name trainer.task \\\n",
    "                                    --region us-central1 \\\n",
    "                                    -- \\\n",
    "                                    --train-files $GCS_TRAIN_FILE \\\n",
    "                                    --eval-files $GCS_EVAL_FILE \\\n",
    "                                    --train-steps $TRAIN_STEPS\n",
    "```\n",
    "\n",
    "Note: you can detach from the job (ctrl + c), it will stay active. To reconnect\n",
    "```\n",
    "gcloud ml-engine jobs describe <JOB_NAME>\n",
    "```\n",
    "\n",
    "#### On Hyperparamentertuning:\n",
    "When you add your own model for the hyperparameter tuning to run you need to make adjustments in the trainerpackage and hptuning_config.yaml.\n",
    "```\n",
    "cd trainer\n",
    "nano model.py\n",
    "```\n",
    "\n",
    "All hyperparameters one might want to tune must be passed as keyword arguments in the model function (`model_fn`).  In this example, we will tune `hidden_nodes_in_layer_1` and `dropout_1`.\n",
    "\n",
    "```\n",
    "nano task.py\n",
    "```\n",
    "\n",
    "Each hyperparameter one wants to tune should be added to the arg-parser.  For example:\n",
    "```\n",
    "parser.add_argument(\n",
    "        '--hidden_nodes_in_layer_1', #name of layer\n",
    "        type=int,\n",
    "        default=100, #has to be set !important\n",
    "        help='Number of hidden units in MLP layer 1')\n",
    "parser.add_argument(\n",
    "        '--dropout_1',\n",
    "        type=float,\n",
    "        default=0.5,\n",
    "        help='Amount of dropout in the first layer')\n",
    "```\n",
    "\n",
    "Finally hptuning_config.yaml needs to know what the hyperparameters and their ranges are. \n",
    "```\n",
    "cd ..\n",
    "nano hptuning_config.yaml \n",
    "```\n",
    "\n",
    "There are a few general things that can be adjusted:\n",
    "```\n",
    "trainingInput:\n",
    "  hyperparameters:\n",
    "    goal: MAXIMIZE #if you want to MINIMIZE..\n",
    "    hyperparameterMetricTag: accuracy #can be changed\n",
    "    maxTrials: 40 #number of test you \"allow\"\n",
    "    maxParallelTrials: 2 number of parallel trials\n",
    "```\n",
    "\n",
    "Further for each hyperparameter to be defined, set type, minValue, maxValue, scaleType.\n",
    "\n",
    "```\n",
    "  params:\n",
    "      - parameterName: hidden_nodes_in_layer_1\n",
    "        type: INTEGER\n",
    "        minValue: 10\n",
    "        maxValue: 100\n",
    "        scaleType: UNIT_REVERSE_LOG_SCALE\n",
    "```\n",
    "\n",
    "Finally simply add the config flag `--config $HPTUNING_CONFIG` to your `gcloud ml-engine jobs submit training` call!\n",
    "\n",
    "The finally call looks like:\n",
    "```\n",
    "gcloud ml-engine jobs submit training $JOB_NAME \\\n",
    "                                    --stream-logs \\\n",
    "                                    --runtime-version 1.2 \\\n",
    "                                    --config $HPTUNING_CONFIG \\\n",
    "                                    --job-dir $JOB_DIR_GS \\\n",
    "                                    --package-path trainer \\\n",
    "                                    --module-name trainer.task \\\n",
    "                                    --region us-central1 \\\n",
    "                                    -- \\\n",
    "                                    --train-files $GCS_TRAIN_FILE \\\n",
    "                                    --eval-files $GCS_EVAL_FILE \\\n",
    "                                    --train-steps $TRAIN_STEPS\n",
    "```"
   ]
  },
  {
   "cell_type": "code",
   "execution_count": null,
   "metadata": {
    "collapsed": true
   },
   "outputs": [],
   "source": []
  }
 ],
 "metadata": {
  "kernelspec": {
   "display_name": "Python 2",
   "language": "python",
   "name": "python2"
  },
  "language_info": {
   "codemirror_mode": {
    "name": "ipython",
    "version": 2
   },
   "file_extension": ".py",
   "mimetype": "text/x-python",
   "name": "python",
   "nbconvert_exporter": "python",
   "pygments_lexer": "ipython2",
   "version": "2.7.14"
  }
 },
 "nbformat": 4,
 "nbformat_minor": 2
}
