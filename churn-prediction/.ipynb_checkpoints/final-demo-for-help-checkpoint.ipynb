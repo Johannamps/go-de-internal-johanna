{
 "cells": [
  {
   "cell_type": "markdown",
   "metadata": {},
   "source": [
    "# Google-Jumpstart Review:\n",
    "1. Collect data\n",
    "1. Compile keras model to work on sequence data\n",
    "1. Train model locally\n",
    "1. Train model in the cloud\n",
    "1. Hyperparameter tuning\n",
    "1. Deploy\n",
    "1. Predict\n",
    "1. Interpret model\n",
    "\n",
    "Bits and pieces of the training are scattered throughout the git repository (with really useful hints in the different WIKI pages).  This notebook attempts to bring it all together but lacks a lot of detailed notes provided during lectures.\n"
   ]
  },
  {
   "cell_type": "code",
   "execution_count": null,
   "metadata": {
    "collapsed": true
   },
   "outputs": [],
   "source": [
    "LSTM DH: (100 User, 365 Days as timeline input (multidim), 5 dims per User)\n",
    "!!!!!!!!!!!!!!!!!!!!!!!"
   ]
  },
  {
   "cell_type": "markdown",
   "metadata": {},
   "source": [
    "## Download LSTM Data:\n",
    "Taking events dataset for LSTM prepared by team `redsonics` "
   ]
  },
  {
   "cell_type": "code",
   "execution_count": 1,
   "metadata": {
    "ExecuteTime": {
     "end_time": "2018-01-19T09:28:11.891660Z",
     "start_time": "2018-01-19T09:28:08.421055Z"
    },
    "collapsed": true
   },
   "outputs": [],
   "source": [
    "from google.cloud import storage\n",
    "\n",
    "PROJECT='mkt-cloudml-jumpstart'\n",
    "DATA_BUCKET='redsonics'\n",
    "FILES = ['training.csv', 'labels.csv']\n",
    "\n",
    "client = storage.Client(project=PROJECT)\n",
    "bucket = client.get_bucket(DATA_BUCKET)\n",
    "\n",
    "for filename in FILES:\n",
    "    with open(filename, 'wb') as f:\n",
    "        bucket.blob(filename).download_to_file(f)"
   ]
  },
  {
   "cell_type": "markdown",
   "metadata": {},
   "source": [
    "## Load Data:"
   ]
  },
  {
   "cell_type": "code",
   "execution_count": 2,
   "metadata": {
    "ExecuteTime": {
     "end_time": "2018-01-19T09:28:54.286290Z",
     "start_time": "2018-01-19T09:28:42.756128Z"
    },
    "collapsed": true
   },
   "outputs": [],
   "source": [
    "import pandas as pd\n",
    "import numpy as np\n",
    "from sklearn.model_selection import train_test_split\n",
    "\n",
    "training = pd.read_csv('training.csv')\n",
    "training = training.iloc[:,1:] #  remove useless first column\n",
    "labels = pd.read_csv('labels.csv')\n",
    "labels = labels.iloc[:,1:] #  remove useless first column\n",
    "n_users = 10000\n",
    "n_seq = training.shape[0]/n_users\n",
    "n_features = training.shape[1]\n",
    "X = np.array(training).reshape(n_users, n_seq, n_features)\n",
    "y = np.array(labels)\n",
    "X_train, X_eval, y_train, y_eval = train_test_split(X, y)"
   ]
  },
  {
   "cell_type": "markdown",
   "metadata": {},
   "source": [
    "Save the training to the `cloudml_examples/jumpstart-lstm` area for later, when we put this all in the cloud :-) "
   ]
  },
  {
   "cell_type": "code",
   "execution_count": 9,
   "metadata": {
    "ExecuteTime": {
     "end_time": "2018-01-19T09:36:39.909054Z",
     "start_time": "2018-01-19T09:36:28.502326Z"
    },
    "collapsed": true
   },
   "outputs": [],
   "source": [
    "import cPickle as pickle\n",
    "\n",
    "FILES = ['X_train.pkl', 'X_eval.pkl', 'y_train.pkl', 'y_eval.pkl']\n",
    "ARRAYS = [X_train, X_eval, y_train, y_eval]\n",
    "for idx, filename in enumerate(FILES):\n",
    "    with open(\"../cloudml_examples/jumpstart-lstm/\"+filename, 'wb') as f:\n",
    "        pickle.dump(ARRAYS[idx], f)"
   ]
  },
  {
   "cell_type": "markdown",
   "metadata": {},
   "source": [
    "## Compile Model:\n",
    "Note the Stacked LSTMs..."
   ]
  },
  {
   "cell_type": "code",
   "execution_count": 10,
   "metadata": {
    "ExecuteTime": {
     "end_time": "2018-01-19T09:38:09.303210Z",
     "start_time": "2018-01-19T09:38:04.675408Z"
    },
    "scrolled": false
   },
   "outputs": [
    {
     "name": "stderr",
     "output_type": "stream",
     "text": [
      "/home/aloosley/anaconda3/envs/py2/lib/python2.7/site-packages/h5py/__init__.py:34: FutureWarning: Conversion of the second argument of issubdtype from `float` to `np.floating` is deprecated. In future, it will be treated as `np.float64 == np.dtype(float).type`.\n",
      "  from ._conv import register_converters as _register_converters\n",
      "Using TensorFlow backend.\n"
     ]
    }
   ],
   "source": [
    "from keras.models import Sequential\n",
    "from keras.layers import Dense, Dropout\n",
    "from keras.layers import Embedding\n",
    "from keras.layers import LSTM\n",
    "\n",
    "def model_fn(\n",
    "    n_seq, n_features, \n",
    "    lstm1_nodes=10, lstm2_nodes=10, mlp1_nodes=10\n",
    "):\n",
    "    model = Sequential()\n",
    "    model.add(LSTM(lstm1_nodes, input_shape=(n_seq, n_features), return_sequences=True))\n",
    "    model.add(LSTM(lstm2_nodes))\n",
    "    model.add(Dense(mlp1_nodes, activation='relu', name='last_layer'))\n",
    "    model.add(Dense(1, activation='sigmoid'))\n",
    "    \n",
    "    model.compile(\n",
    "        loss='binary_crossentropy',\n",
    "        optimizer='rmsprop',\n",
    "        metrics=['accuracy']\n",
    "    )\n",
    "    \n",
    "    return model"
   ]
  },
  {
   "cell_type": "markdown",
   "metadata": {},
   "source": [
    "## Train Model Locally:"
   ]
  },
  {
   "cell_type": "code",
   "execution_count": 11,
   "metadata": {
    "ExecuteTime": {
     "end_time": "2018-01-19T09:40:41.243722Z",
     "start_time": "2018-01-19T09:38:40.062338Z"
    }
   },
   "outputs": [
    {
     "name": "stdout",
     "output_type": "stream",
     "text": [
      "Train on 7500 samples, validate on 2500 samples\n",
      "Epoch 1/3\n",
      "7500/7500 [==============================] - 40s 5ms/step - loss: 0.2552 - acc: 0.9380 - val_loss: 0.1408 - val_acc: 0.9584\n",
      "Epoch 2/3\n",
      "7500/7500 [==============================] - 39s 5ms/step - loss: 0.1291 - acc: 0.9623 - val_loss: 0.1353 - val_acc: 0.9604\n",
      "Epoch 3/3\n",
      "7500/7500 [==============================] - 39s 5ms/step - loss: 0.1223 - acc: 0.9643 - val_loss: 0.1250 - val_acc: 0.9608\n"
     ]
    },
    {
     "data": {
      "text/plain": [
       "<keras.callbacks.History at 0x7f9922892550>"
      ]
     },
     "execution_count": 11,
     "metadata": {},
     "output_type": "execute_result"
    }
   ],
   "source": [
    "BATCH_SIZE = 64\n",
    "\n",
    "model = model_fn(X.shape[1], X.shape[2])\n",
    "model.fit(\n",
    "    X_train, y_train,\n",
    "    batch_size=BATCH_SIZE, epochs=3,\n",
    "    validation_data=(X_eval, y_eval)\n",
    ")"
   ]
  },
  {
   "cell_type": "markdown",
   "metadata": {},
   "source": [
    "## Score Model:"
   ]
  },
  {
   "cell_type": "code",
   "execution_count": 20,
   "metadata": {
    "ExecuteTime": {
     "end_time": "2018-01-19T09:46:32.013015Z",
     "start_time": "2018-01-19T09:46:25.527857Z"
    }
   },
   "outputs": [
    {
     "name": "stdout",
     "output_type": "stream",
     "text": [
      "2500/2500 [==============================] - 6s 3ms/step\n",
      "eval accuracy: 0.961\n"
     ]
    }
   ],
   "source": [
    "score = model.evaluate(X_eval, y_eval, batch_size=16)\n",
    "print(\"eval accuracy: %0.3f\" % score[1])"
   ]
  },
  {
   "cell_type": "markdown",
   "metadata": {},
   "source": [
    "## Make a Prediction Locally:"
   ]
  },
  {
   "cell_type": "code",
   "execution_count": 21,
   "metadata": {
    "ExecuteTime": {
     "end_time": "2018-01-19T09:46:57.541674Z",
     "start_time": "2018-01-19T09:46:54.259562Z"
    }
   },
   "outputs": [
    {
     "name": "stdout",
     "output_type": "stream",
     "text": [
      "2500/2500 [==============================] - 3s 1ms/step\n"
     ]
    }
   ],
   "source": [
    "y_hat = model.predict(X_eval, verbose=1)"
   ]
  },
  {
   "cell_type": "markdown",
   "metadata": {},
   "source": [
    "## Interpretation:\n",
    "How varied are the eval predictions?"
   ]
  },
  {
   "cell_type": "code",
   "execution_count": 22,
   "metadata": {
    "ExecuteTime": {
     "end_time": "2018-01-19T09:47:01.806362Z",
     "start_time": "2018-01-19T09:47:01.619526Z"
    }
   },
   "outputs": [
    {
     "data": {
      "text/plain": [
       "(array([2194.,   51.,   21.,   21.,   25.,   10.,   12.,   15.,   19.,\n",
       "         132.]),\n",
       " array([0.00792707, 0.06826631, 0.12860554, 0.18894478, 0.24928401,\n",
       "        0.30962325, 0.36996248, 0.43030172, 0.49064095, 0.55098019,\n",
       "        0.61131942]),\n",
       " <a list of 10 Patch objects>)"
      ]
     },
     "execution_count": 22,
     "metadata": {},
     "output_type": "execute_result"
    },
    {
     "data": {
      "image/png": "[encoded data removed]",
      "text/plain": [
       "<matplotlib.figure.Figure at 0x7f98f886f5d0>"
      ]
     },
     "metadata": {},
     "output_type": "display_data"
    }
   ],
   "source": [
    "%matplotlib inline\n",
    "import matplotlib.pylab as plt\n",
    "plt.hist(np.ravel(y_hat))"
   ]
  },
  {
   "cell_type": "markdown",
   "metadata": {},
   "source": [
    "Data balance is an issue here."
   ]
  },
  {
   "cell_type": "markdown",
   "metadata": {},
   "source": [
    "### Is there structure in the second last layer?\n",
    "If yes, we can pick out the event sequences characteristic of churn!"
   ]
  },
  {
   "cell_type": "code",
   "execution_count": 18,
   "metadata": {
    "ExecuteTime": {
     "end_time": "2018-01-19T09:45:27.649689Z",
     "start_time": "2018-01-19T09:45:02.857735Z"
    },
    "collapsed": true
   },
   "outputs": [],
   "source": [
    "from sklearn.manifold import TSNE\n",
    "from keras.models import Model\n",
    "\n",
    "intermediate_layer_model = Model(inputs=model.input, outputs=model.get_layer(\"last_layer\").output)\n",
    "intermediate_output = intermediate_layer_model.predict(X_eval, batch_size=BATCH_SIZE)\n",
    "\n",
    "tsne = TSNE(perplexity=14, n_iter=1000)\n",
    "tsne_output = tsne.fit_transform(intermediate_output)"
   ]
  },
  {
   "cell_type": "code",
   "execution_count": 19,
   "metadata": {
    "ExecuteTime": {
     "end_time": "2018-01-19T09:45:27.992995Z",
     "start_time": "2018-01-19T09:45:27.653622Z"
    }
   },
   "outputs": [
    {
     "data": {
      "text/plain": [
       "<matplotlib.collections.PathCollection at 0x7f98e8635390>"
      ]
     },
     "execution_count": 19,
     "metadata": {},
     "output_type": "execute_result"
    },
    {
     "data": {
      "image/png": "[encoded data removed]",
      "text/plain": [
       "<matplotlib.figure.Figure at 0x7f98e86a6450>"
      ]
     },
     "metadata": {},
     "output_type": "display_data"
    }
   ],
   "source": [
    "plt.figure(figsize=(15,9))\n",
    "plt.scatter(tsne_output[:,0], tsne_output[:,1], c=y_eval[:,0], marker='o')"
   ]
  },
  {
   "cell_type": "markdown",
   "metadata": {},
   "source": [
    "## Deploy model trained above in the cloud:\n",
    "### Save model as pb file:"
   ]
  },
  {
   "cell_type": "code",
   "execution_count": 24,
   "metadata": {
    "ExecuteTime": {
     "end_time": "2018-01-19T10:02:03.760213Z",
     "start_time": "2018-01-19T10:02:03.397609Z"
    }
   },
   "outputs": [
    {
     "name": "stdout",
     "output_type": "stream",
     "text": [
      "INFO:tensorflow:No assets to save.\n",
      "INFO:tensorflow:No assets to write.\n",
      "INFO:tensorflow:SavedModel written to: ./export_dir/saved_model.pb\n"
     ]
    }
   ],
   "source": [
    "from customerbehaviour.reply.util import to_savedmodel\n",
    "to_savedmodel(model, \"./export_dir\")"
   ]
  },
  {
   "cell_type": "markdown",
   "metadata": {},
   "source": [
    "### Deploy your locally trained model to CloudML!!!!!:\n",
    "This can take a few minutes..."
   ]
  },
  {
   "cell_type": "code",
   "execution_count": 154,
   "metadata": {},
   "outputs": [
    {
     "name": "stderr",
     "output_type": "stream",
     "text": [
      "ERROR: (gcloud.ml-engine.models.create) Resource in project [mkt-cloudml-jumpstart] is the subject of a conflict: Field: model.name Error: A model with the same name already exists.\n",
      "- '@type': type.googleapis.com/google.rpc.BadRequest\n",
      "  fieldViolations:\n",
      "  - description: A model with the same name already exists.\n",
      "    field: model.name\n",
      "Creating version (this might take a few minutes)......\n",
      "......................................................................................................................................................done.\n"
     ]
    }
   ],
   "source": [
    "%%bash\n",
    "MODEL_NAME=LSTM1\n",
    "MODEL_BINARIES=./export_dir\n",
    "STAGING_BUCKET=reply-jumpstart\n",
    "\n",
    "gcloud ml-engine models create $MODEL_NAME --regions us-central1\n",
    "gcloud ml-engine versions create v1 --model $MODEL_NAME \\\n",
    "    --origin $MODEL_BINARIES \\\n",
    "    --runtime-version 1.2 \\\n",
    "    --staging-bucket gs://$STAGING_BUCKET"
   ]
  },
  {
   "cell_type": "markdown",
   "metadata": {},
   "source": [
    "I guess the above might not show stdout in jupyter... you can run this in bash too."
   ]
  },
  {
   "cell_type": "markdown",
   "metadata": {},
   "source": [
    "## Train the Model in CloudML:\n",
    "### Two analogous examples:\n",
    "#### Census training example:"
   ]
  },
  {
   "cell_type": "markdown",
   "metadata": {},
   "source": [
    "In this instance, there are two examples of working machine learning jobs. They can both be run locally and in the cloud.\n",
    "\n",
    "To access the census example run commands:\n",
    "```\n",
    "sudo su aloosley\n",
    "cd ~/mkt-cloudml-jumpstart/clean_teaching_space/cloudml_examples/census\n",
    "```\n",
    "\n",
    "The commands you need to run these examples are in CLOUD_ML_BASH_CMDS.txt (In the cloud deploymend hyperparameter tuning is activated - to loose hyperparameter tuning, simply loose the codeline running it.)\n",
    "\n",
    "Let's just first set all the environment variables we'll need later:\n",
    "\n",
    "local params: \n",
    "```\n",
    "EVAL_FILE=adult.test.csv\n",
    "TRAIN_FILE=adult.data.csv\n",
    "JOB_DIR=./results\n",
    "TRAIN_STEPS=2\n",
    "NUM_EPOCHS=2\n",
    "```\n",
    "\n",
    "cloud params:\n",
    "```\n",
    "GCS_TRAIN_FILE=gs://cloudml-public/census/data/adult.data.csv\n",
    "GCS_EVAL_FILE=gs://cloudml-public/census/data/adult.test.csv\n",
    "JOB_NAME=example_run_for_demo_census\n",
    "JOB_DIR_GS=gs://example_bucket_for_demo_census/results\n",
    "HPTUNING_CONFIG=hptuning_config.yaml\n",
    "TRAIN_STEPS=200\n",
    "```\n",
    "\n",
    "Note: The JOB_DIR_GS has to exist.\n",
    "\n",
    "If you haven't already, activate the python2 environment we've created for using cloudML:\n",
    "```\n",
    "source activate py2\n",
    "```\n",
    "\n",
    "Completely test the model locally before deplying a job to the cloud. Use a small number of epochs if you want.\n",
    "Local Command:\n",
    "```\n",
    "python -m trainer.task --train-files $TRAIN_FILE \\\n",
    "                       --eval-files $EVAL_FILE \\\n",
    "                       --job-dir $JOB_DIR \\\n",
    "                       --train-steps $TRAIN_STEPS \\\n",
    "                       --num-epochs $NUM_EPOCHS\n",
    "```\n",
    "\n",
    "When it works fully from start to finish, you're ready to train in the cloud:\n",
    "```\n",
    "gcloud ml-engine jobs submit training $JOB_NAME \\\n",
    "                                    --stream-logs \\\n",
    "                                    --runtime-version 1.2 \\\n",
    "                                    --job-dir $JOB_DIR_GS \\\n",
    "                                    --package-path trainer \\\n",
    "                                    --module-name trainer.task \\\n",
    "                                    --region us-central1 \\\n",
    "                                    -- \\\n",
    "                                    --train-files $GCS_TRAIN_FILE \\\n",
    "                                    --eval-files $GCS_EVAL_FILE \\\n",
    "                                    --train-steps $TRAIN_STEPS\n",
    "```\n",
    "\n",
    "Note: you can detach from the job (ctrl + c), it will stay active. To reconnect\n",
    "```\n",
    "gcloud ml-engine jobs describe <JOB_NAME>\n",
    "```\n",
    "\n",
    "#### On Hyperparamentertuning:\n",
    "When you add your own model for the hyperparameter tuning to run you need to make adjustments in the trainerpackage and hptuning_config.yaml.\n",
    "```\n",
    "cd trainer\n",
    "nano model.py\n",
    "```\n",
    "\n",
    "All hyperparameters one might want to tune must be passed as keyword arguments in the model function (`model_fn`).  In this example, we will tune `hidden_nodes_in_layer_1` and `dropout_1`.\n",
    "\n",
    "```\n",
    "nano task.py\n",
    "```\n",
    "\n",
    "Each hyperparameter one wants to tune should be added to the arg-parser.  For example:\n",
    "```\n",
    "parser.add_argument(\n",
    "        '--hidden_nodes_in_layer_1', #name of layer\n",
    "        type=int,\n",
    "        default=100, #has to be set !important\n",
    "        help='Number of hidden units in MLP layer 1')\n",
    "parser.add_argument(\n",
    "        '--dropout_1',\n",
    "        type=float,\n",
    "        default=0.5,\n",
    "        help='Amount of dropout in the first layer')\n",
    "```\n",
    "\n",
    "Finally hptuning_config.yaml needs to know what the hyperparameters and their ranges are. \n",
    "```\n",
    "cd ..\n",
    "nano hptuning_config.yaml \n",
    "```\n",
    "\n",
    "There are a few general things that can be adjusted:\n",
    "```\n",
    "trainingInput:\n",
    "  hyperparameters:\n",
    "    goal: MAXIMIZE #if you want to MINIMIZE..\n",
    "    hyperparameterMetricTag: accuracy #can be changed\n",
    "    maxTrials: 40 #number of test you \"allow\"\n",
    "    maxParallelTrials: 2 number of parallel trials\n",
    "```\n",
    "\n",
    "Further for each hyperparameter to be defined, set type, minValue, maxValue, scaleType.\n",
    "\n",
    "```\n",
    "  params:\n",
    "      - parameterName: hidden_nodes_in_layer_1\n",
    "        type: INTEGER\n",
    "        minValue: 10\n",
    "        maxValue: 100\n",
    "        scaleType: UNIT_REVERSE_LOG_SCALE\n",
    "```\n",
    "\n",
    "Finally simply add the config flag `--config $HPTUNING_CONFIG` to your `gcloud ml-engine jobs submit training` call!\n",
    "\n",
    "The finally call looks like:\n",
    "```\n",
    "gcloud ml-engine jobs submit training $JOB_NAME \\\n",
    "                                    --stream-logs \\\n",
    "                                    --runtime-version 1.2 \\\n",
    "                                    --config $HPTUNING_CONFIG \\\n",
    "                                    --job-dir $JOB_DIR_GS \\\n",
    "                                    --package-path trainer \\\n",
    "                                    --module-name trainer.task \\\n",
    "                                    --region us-central1 \\\n",
    "                                    -- \\\n",
    "                                    --train-files $GCS_TRAIN_FILE \\\n",
    "                                    --eval-files $GCS_EVAL_FILE \\\n",
    "                                    --train-steps $TRAIN_STEPS\n",
    "```"
   ]
  },
  {
   "cell_type": "markdown",
   "metadata": {},
   "source": [
    "#### LSTM Jumpstart Example:\n",
    "\n",
    "Basically this example has the same setup. Same folder structure, file names and concept. BUT this example is working on customized data from Delivery Hero running a LSTM. \n",
    "\n",
    "What does that mean. The model function (model_fn) has changed in content (name and return variable stay the same though). Further obviously the names and types of the hyperparameters have changed and been adjusted.\n",
    "\n",
    "If you want to run this example some of the variable change; here are new examples:\n",
    "\n",
    "Local Params:\n",
    "```\n",
    "X_TRAIN=training.csv\n",
    "y_TRAIN=labels.csv\n",
    "X_EVAL=training.csv\n",
    "y_EVAL=labels.csv\n",
    "JOB_DIR=./results\n",
    "TRAIN_STEPS=100\n",
    "NUM_EPOCHS=1\n",
    "```\n",
    "Local Command:\n",
    "```\n",
    "python -m trainer.task --train-files $X_TRAIN $y_TRAIN \\\n",
    "                       --eval-files $X_EVAL $y_EVAL \\\n",
    "                       --job-dir $JOB_DIR \\\n",
    "                       --train-steps $TRAIN_STEPS \\\n",
    "                       --num-epochs $NUM_EPOCHS\n",
    "```\n",
    "\n",
    "Cloud Params:\n",
    "```\n",
    "GCS_X_TRAIN=gs://edsonics/training.csv\n",
    "GCS_y_TRAIN=gs://redsonics/labels.csv\n",
    "GCS_X_EVAL=gs://redsonics/training.csv\n",
    "GCS_y_EVAL=gs://redsonics/labels.csv\n",
    "JOB_NAME=example_run_for_demo_lstm\n",
    "JOB_DIR_GS=gs://example_bucket_for_demo_lstm/results\n",
    "HPTUNING_CONFIG=hptuning_config.yaml\n",
    "TRAIN_STEPS=200\n",
    "```\n",
    "\n",
    "Cloud Commands:\n",
    "```\n",
    "gcloud ml-engine jobs submit training $JOB_NAME \\\n",
    "                                    --stream-logs \\\n",
    "                                    --runtime-version 1.2 \\\n",
    "                                    --job-dir $JOB_DIR_GS \\\n",
    "                                    --package-path trainer \\\n",
    "                                    --module-name trainer.task \\\n",
    "                                    --region us-central1 \\\n",
    "                                    -- \\\n",
    "                                    --train-files $GCS_X_TRAIN $GCS_y_TRAIN \\\n",
    "                                    --eval-files $GCS_X_EVAL $GCS_y_EVAL \\\n",
    "                                    --train-steps $TRAIN_STEPS\n",
    "```\n",
    "\n",
    "Note: so far models are using the same data for training and evaluation. We left that for you to seperate as a challange. \n",
    "\n",
    "Everything else can be applyed as described in the census example. "
   ]
  }
 ],
 "metadata": {
  "kernelspec": {
   "display_name": "Python 3",
   "language": "python",
   "name": "python3"
  },
  "language_info": {
   "codemirror_mode": {
    "name": "ipython",
    "version": 3
   },
   "file_extension": ".py",
   "mimetype": "text/x-python",
   "name": "python",
   "nbconvert_exporter": "python",
   "pygments_lexer": "ipython3",
   "version": "3.6.3"
  },
  "toc": {
   "nav_menu": {},
   "number_sections": true,
   "sideBar": true,
   "skip_h1_title": false,
   "toc_cell": false,
   "toc_position": {},
   "toc_section_display": "block",
   "toc_window_display": false
  }
 },
 "nbformat": 4,
 "nbformat_minor": 2
}
