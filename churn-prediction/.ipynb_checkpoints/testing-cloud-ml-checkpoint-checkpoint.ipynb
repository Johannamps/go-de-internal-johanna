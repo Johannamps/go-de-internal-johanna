{
 "cells": [
  {
   "cell_type": "code",
   "execution_count": null,
   "metadata": {
    "collapsed": true
   },
   "outputs": [],
   "source": [
    "import datalab.bigquery as bq\n",
    "import seaborn as sns\n",
    "import numpy as np\n",
    "import shutil\n",
    "import tensorflow as tf\n",
    "import os\n",
    "import pandas as pd\n",
    "from pandas_gbq.gbq import GenericGBQException\n",
    "import logging\n",
    "print(tf.__version__)"
   ]
  },
  {
   "cell_type": "code",
   "execution_count": null,
   "metadata": {
    "collapsed": true
   },
   "outputs": [],
   "source": [
    "%sql --module afewrecordsfordisplay\n",
    "SELECT * FROM [mkt-cloudml-jumpstart:datasets.events_4_attributes_dataprepaggregated] Limit 1000"
   ]
  },
  {
   "cell_type": "code",
   "execution_count": null,
   "metadata": {
    "collapsed": true
   },
   "outputs": [],
   "source": [
    "churn = bq.Query(afewrecordsfordisplay).to_dataframe()"
   ]
  },
  {
   "cell_type": "code",
   "execution_count": null,
   "metadata": {
    "collapsed": true
   },
   "outputs": [],
   "source": [
    "def query_gbq(query, project_id, **bq_query_config_args):\n",
    "    try:\n",
    "        data = pd.read_gbq(\n",
    "            query, project_id,\n",
    "            configuration=get_bq_query_config(project_id, **bq_query_config_args)\n",
    "        ) # \n",
    "    except GenericGBQException:\n",
    "        logging.warning(\n",
    "            \"Generic GBQ exception detected, probably because the intermediate data table already exists,\"\n",
    "            \"attempting to overwrite...\")\n",
    "        query_config = get_bq_query_config(project_id, **bq_query_config_args)\n",
    "        query_config['query'][\"writeDisposition\"] = \"WRITE_TRUNCATE\" # tells BQ to overwrite\n",
    "        data = pd.read_gbq(query, project_id, configuration=query_config)\n",
    "        \n",
    "    return data\n",
    "\n",
    "def get_bq_query_config(\n",
    "    projectId, allowLargeResults=True, datasetId='query_intermediate_data', tableId='intermediate'\n",
    "):\n",
    "    return {\"query\": {\n",
    "        \"allowLargeResults\": allowLargeResults,\n",
    "        'destinationTable': {\n",
    "            'projectId': projectId,\n",
    "            'datasetId': datasetId,\n",
    "            'tableId': tableId\n",
    "        }\n",
    "    }}\n",
    "\n",
    "churn = query_gbq(\n",
    "    \"SELECT * FROM datasets.events_4_attributes_dataprepaggregated LIMIT 100000000\", \n",
    "    \"mkt-cloudml-jumpstart\")"
   ]
  },
  {
   "cell_type": "code",
   "execution_count": null,
   "metadata": {
    "collapsed": true
   },
   "outputs": [],
   "source": [
    "churn.head()"
   ]
  },
  {
   "cell_type": "code",
   "execution_count": null,
   "metadata": {
    "collapsed": true
   },
   "outputs": [],
   "source": [
    "ax = sns.regplot(x=\"ts_absoluteday\", y=\"sum_column_0\", ci=None, truncate=True, data=churn)"
   ]
  },
  {
   "cell_type": "code",
   "execution_count": null,
   "metadata": {
    "collapsed": true
   },
   "outputs": [],
   "source": [
    "churn.describe()"
   ]
  },
  {
   "cell_type": "code",
   "execution_count": null,
   "metadata": {
    "collapsed": true
   },
   "outputs": [],
   "source": [
    "%bash\n",
    "gsutil mb gs://cloud_ml_test_dh #change to your own"
   ]
  },
  {
   "cell_type": "code",
   "execution_count": null,
   "metadata": {
    "collapsed": true
   },
   "outputs": [],
   "source": [
    "PROJECT = 'mkt-cloudml-jumpstart' #change to your own\n",
    "BUCKET = 'cloud_ml_test_dh' #change to your own\n",
    "REGION = 'europe-west1' "
   ]
  },
  {
   "cell_type": "code",
   "execution_count": null,
   "metadata": {
    "collapsed": true
   },
   "outputs": [],
   "source": [
    "REPO = \"/content/datalab/testing_ml_engine\" #change to your own\n",
    "os.listdir(REPO)"
   ]
  },
  {
   "cell_type": "code",
   "execution_count": null,
   "metadata": {
    "collapsed": true
   },
   "outputs": [],
   "source": [
    "# for bash\n",
    "os.environ['PROJECT'] = PROJECT\n",
    "os.environ['BUCKET'] = BUCKET\n",
    "os.environ['REGION'] = REGION\n",
    "os.environ['REPO'] = REPO"
   ]
  },
  {
   "cell_type": "code",
   "execution_count": null,
   "metadata": {
    "collapsed": true
   },
   "outputs": [],
   "source": [
    "%bash\n",
    "gcloud config set project $PROJECT\n",
    "gcloud config set compute/region $REGION"
   ]
  },
  {
   "cell_type": "code",
   "execution_count": null,
   "metadata": {
    "collapsed": true
   },
   "outputs": [],
   "source": [
    "%bash\n",
    "PROJECT_ID=$PROJECT\n",
    "AUTH_TOKEN=$(gcloud auth print-access-token)\n",
    "SVC_ACCOUNT=$(curl -X GET -H \"Content-Type: application/json\" \\\n",
    "    -H \"Authorization: Bearer $AUTH_TOKEN\" \\\n",
    "    https://ml.googleapis.com/v1/projects/${PROJECT_ID}:getConfig \\\n",
    "    | python -c \"import json; import sys; response = json.load(sys.stdin); \\\n",
    "    print response['serviceAccount']\")\n",
    "\n",
    "echo \"Authorizing the Cloud ML Service account $SVC_ACCOUNT to access files in $BUCKET\"\n",
    "gsutil -m defacl ch -u $SVC_ACCOUNT:R gs://$BUCKET\n",
    "gsutil -m acl ch -u $SVC_ACCOUNT:R -r gs://$BUCKET  # error message (if bucket is empty) can be ignored\n",
    "gsutil -m acl ch -u $SVC_ACCOUNT:W gs://$BUCKET"
   ]
  },
  {
   "cell_type": "code",
   "execution_count": null,
   "metadata": {
    "collapsed": true
   },
   "outputs": [],
   "source": [
    "churn.to_csv('churn.csv', sep=',')"
   ]
  },
  {
   "cell_type": "code",
   "execution_count": null,
   "metadata": {
    "collapsed": true
   },
   "outputs": [],
   "source": [
    "%bash\n",
    "#rm -rf $REPO\n",
    "head -1 $REPO/churn.csv"
   ]
  },
  {
   "cell_type": "code",
   "execution_count": null,
   "metadata": {
    "collapsed": true
   },
   "outputs": [],
   "source": [
    "%bash\n",
    "echo $BUCKET\n",
    "gsutil -m cp ${REPO}/churn.csv gs://${BUCKET}/"
   ]
  },
  {
   "cell_type": "code",
   "execution_count": null,
   "metadata": {
    "collapsed": true
   },
   "outputs": [],
   "source": []
  }
 ],
 "metadata": {
  "kernelspec": {
   "display_name": "Python 3",
   "language": "python",
   "name": "python3"
  },
  "language_info": {
   "codemirror_mode": {
    "name": "ipython",
    "version": 3
   },
   "file_extension": ".py",
   "mimetype": "text/x-python",
   "name": "python",
   "nbconvert_exporter": "python",
   "pygments_lexer": "ipython3",
   "version": "3.6.3"
  }
 },
 "nbformat": 4,
 "nbformat_minor": 2
}
