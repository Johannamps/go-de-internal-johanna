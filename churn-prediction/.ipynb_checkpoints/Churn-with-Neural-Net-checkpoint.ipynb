{
 "cells": [
  {
   "cell_type": "markdown",
   "metadata": {},
   "source": [
    "<h1> Churn Analysis </h1>"
   ]
  },
  {
   "cell_type": "code",
   "execution_count": 1,
   "metadata": {},
   "outputs": [
    {
     "name": "stdout",
     "output_type": "stream",
     "text": [
      "Collecting keras\n",
      "  Using cached Keras-2.1.4-py2.py3-none-any.whl\n",
      "Requirement already satisfied: numpy>=1.9.1 in /usr/local/envs/py2env/lib/python2.7/site-packages (from keras)\n",
      "Requirement already satisfied: scipy>=0.14 in /usr/local/envs/py2env/lib/python2.7/site-packages (from keras)\n",
      "Requirement already satisfied: six>=1.9.0 in /usr/local/envs/py2env/lib/python2.7/site-packages (from keras)\n",
      "Requirement already satisfied: pyyaml in /usr/local/envs/py2env/lib/python2.7/site-packages (from keras)\n",
      "Installing collected packages: keras\n",
      "Successfully installed keras-2.1.4\n"
     ]
    }
   ],
   "source": [
    "!pip install keras"
   ]
  },
  {
   "cell_type": "code",
   "execution_count": 2,
   "metadata": {},
   "outputs": [
    {
     "name": "stderr",
     "output_type": "stream",
     "text": [
      "/usr/local/envs/py2env/lib/python2.7/site-packages/h5py/__init__.py:36: FutureWarning: Conversion of the second argument of issubdtype from `float` to `np.floating` is deprecated. In future, it will be treated as `np.float64 == np.dtype(float).type`.\n",
      "  from ._conv import register_converters as _register_converters\n",
      "Using TensorFlow backend.\n"
     ]
    },
    {
     "name": "stdout",
     "output_type": "stream",
     "text": [
      "1.5.0\n"
     ]
    }
   ],
   "source": [
    "import datalab.bigquery as bq\n",
    "import seaborn as sns\n",
    "import pandas as pd\n",
    "import numpy as np\n",
    "import shutil\n",
    "import os\n",
    "import keras\n",
    "import tensorflow as tf\n",
    "print tf.__version__"
   ]
  },
  {
   "cell_type": "code",
   "execution_count": 3,
   "metadata": {
    "collapsed": true
   },
   "outputs": [],
   "source": [
    "%sql --module letslookatthedata\n",
    "SELECT voice, intplan, nummailmes, tdmin, tdcal, tdchar, temin, tecal, tecahr, tnmin, tncal, tnchar, timin, tical, ticharncsc, totalcal, label_neu FROM [go-de-internal:democases_go_reply_internal.churn_customer_preprocessed]"
   ]
  },
  {
   "cell_type": "code",
   "execution_count": 4,
   "metadata": {},
   "outputs": [
    {
     "data": {
      "text/html": [
       "<div>\n",
       "<style scoped>\n",
       "    .dataframe tbody tr th:only-of-type {\n",
       "        vertical-align: middle;\n",
       "    }\n",
       "\n",
       "    .dataframe tbody tr th {\n",
       "        vertical-align: top;\n",
       "    }\n",
       "\n",
       "    .dataframe thead th {\n",
       "        text-align: right;\n",
       "    }\n",
       "</style>\n",
       "<table border=\"1\" class=\"dataframe\">\n",
       "  <thead>\n",
       "    <tr style=\"text-align: right;\">\n",
       "      <th></th>\n",
       "      <th>nummailmes</th>\n",
       "      <th>tdmin</th>\n",
       "      <th>tdcal</th>\n",
       "      <th>tdchar</th>\n",
       "      <th>temin</th>\n",
       "      <th>tecal</th>\n",
       "      <th>tecahr</th>\n",
       "      <th>tnmin</th>\n",
       "      <th>tncal</th>\n",
       "      <th>tnchar</th>\n",
       "      <th>timin</th>\n",
       "      <th>tical</th>\n",
       "      <th>ticharncsc</th>\n",
       "      <th>totalcal</th>\n",
       "      <th>label_neu</th>\n",
       "    </tr>\n",
       "  </thead>\n",
       "  <tbody>\n",
       "    <tr>\n",
       "      <th>count</th>\n",
       "      <td>5000.000000</td>\n",
       "      <td>5000.000000</td>\n",
       "      <td>5000.000000</td>\n",
       "      <td>5000.000000</td>\n",
       "      <td>5000.000000</td>\n",
       "      <td>5000.000000</td>\n",
       "      <td>5000.000000</td>\n",
       "      <td>5000.000000</td>\n",
       "      <td>5000.000000</td>\n",
       "      <td>5000.000000</td>\n",
       "      <td>5000.000000</td>\n",
       "      <td>5000.000000</td>\n",
       "      <td>5000.000000</td>\n",
       "      <td>5000.000000</td>\n",
       "      <td>5000.000000</td>\n",
       "    </tr>\n",
       "    <tr>\n",
       "      <th>mean</th>\n",
       "      <td>7.755200</td>\n",
       "      <td>180.288900</td>\n",
       "      <td>100.029400</td>\n",
       "      <td>30.649668</td>\n",
       "      <td>200.636560</td>\n",
       "      <td>100.191000</td>\n",
       "      <td>17.054322</td>\n",
       "      <td>200.391620</td>\n",
       "      <td>99.919200</td>\n",
       "      <td>9.017732</td>\n",
       "      <td>10.261780</td>\n",
       "      <td>4.435200</td>\n",
       "      <td>2.771196</td>\n",
       "      <td>1.570400</td>\n",
       "      <td>0.141600</td>\n",
       "    </tr>\n",
       "    <tr>\n",
       "      <th>std</th>\n",
       "      <td>13.546393</td>\n",
       "      <td>53.894699</td>\n",
       "      <td>19.831197</td>\n",
       "      <td>9.162069</td>\n",
       "      <td>50.551309</td>\n",
       "      <td>19.826496</td>\n",
       "      <td>4.296843</td>\n",
       "      <td>50.527789</td>\n",
       "      <td>19.958686</td>\n",
       "      <td>2.273763</td>\n",
       "      <td>2.761396</td>\n",
       "      <td>2.456788</td>\n",
       "      <td>0.745514</td>\n",
       "      <td>1.306363</td>\n",
       "      <td>0.348674</td>\n",
       "    </tr>\n",
       "    <tr>\n",
       "      <th>min</th>\n",
       "      <td>0.000000</td>\n",
       "      <td>0.000000</td>\n",
       "      <td>0.000000</td>\n",
       "      <td>0.000000</td>\n",
       "      <td>0.000000</td>\n",
       "      <td>0.000000</td>\n",
       "      <td>0.000000</td>\n",
       "      <td>0.000000</td>\n",
       "      <td>0.000000</td>\n",
       "      <td>0.000000</td>\n",
       "      <td>0.000000</td>\n",
       "      <td>0.000000</td>\n",
       "      <td>0.000000</td>\n",
       "      <td>0.000000</td>\n",
       "      <td>0.000000</td>\n",
       "    </tr>\n",
       "    <tr>\n",
       "      <th>25%</th>\n",
       "      <td>0.000000</td>\n",
       "      <td>143.700000</td>\n",
       "      <td>87.000000</td>\n",
       "      <td>24.430000</td>\n",
       "      <td>166.375000</td>\n",
       "      <td>87.000000</td>\n",
       "      <td>14.140000</td>\n",
       "      <td>166.900000</td>\n",
       "      <td>87.000000</td>\n",
       "      <td>7.510000</td>\n",
       "      <td>8.500000</td>\n",
       "      <td>3.000000</td>\n",
       "      <td>2.300000</td>\n",
       "      <td>1.000000</td>\n",
       "      <td>0.000000</td>\n",
       "    </tr>\n",
       "    <tr>\n",
       "      <th>50%</th>\n",
       "      <td>0.000000</td>\n",
       "      <td>180.100000</td>\n",
       "      <td>100.000000</td>\n",
       "      <td>30.620000</td>\n",
       "      <td>201.000000</td>\n",
       "      <td>100.000000</td>\n",
       "      <td>17.090000</td>\n",
       "      <td>200.400000</td>\n",
       "      <td>100.000000</td>\n",
       "      <td>9.020000</td>\n",
       "      <td>10.300000</td>\n",
       "      <td>4.000000</td>\n",
       "      <td>2.780000</td>\n",
       "      <td>1.000000</td>\n",
       "      <td>0.000000</td>\n",
       "    </tr>\n",
       "    <tr>\n",
       "      <th>75%</th>\n",
       "      <td>17.000000</td>\n",
       "      <td>216.200000</td>\n",
       "      <td>113.000000</td>\n",
       "      <td>36.750000</td>\n",
       "      <td>234.100000</td>\n",
       "      <td>114.000000</td>\n",
       "      <td>19.900000</td>\n",
       "      <td>234.700000</td>\n",
       "      <td>113.000000</td>\n",
       "      <td>10.560000</td>\n",
       "      <td>12.000000</td>\n",
       "      <td>6.000000</td>\n",
       "      <td>3.240000</td>\n",
       "      <td>2.000000</td>\n",
       "      <td>0.000000</td>\n",
       "    </tr>\n",
       "    <tr>\n",
       "      <th>max</th>\n",
       "      <td>52.000000</td>\n",
       "      <td>351.500000</td>\n",
       "      <td>165.000000</td>\n",
       "      <td>59.760000</td>\n",
       "      <td>363.700000</td>\n",
       "      <td>170.000000</td>\n",
       "      <td>30.910000</td>\n",
       "      <td>395.000000</td>\n",
       "      <td>175.000000</td>\n",
       "      <td>17.770000</td>\n",
       "      <td>20.000000</td>\n",
       "      <td>20.000000</td>\n",
       "      <td>5.400000</td>\n",
       "      <td>9.000000</td>\n",
       "      <td>1.000000</td>\n",
       "    </tr>\n",
       "  </tbody>\n",
       "</table>\n",
       "</div>"
      ],
      "text/plain": [
       "        nummailmes        tdmin        tdcal       tdchar        temin  \\\n",
       "count  5000.000000  5000.000000  5000.000000  5000.000000  5000.000000   \n",
       "mean      7.755200   180.288900   100.029400    30.649668   200.636560   \n",
       "std      13.546393    53.894699    19.831197     9.162069    50.551309   \n",
       "min       0.000000     0.000000     0.000000     0.000000     0.000000   \n",
       "25%       0.000000   143.700000    87.000000    24.430000   166.375000   \n",
       "50%       0.000000   180.100000   100.000000    30.620000   201.000000   \n",
       "75%      17.000000   216.200000   113.000000    36.750000   234.100000   \n",
       "max      52.000000   351.500000   165.000000    59.760000   363.700000   \n",
       "\n",
       "             tecal       tecahr        tnmin        tncal       tnchar  \\\n",
       "count  5000.000000  5000.000000  5000.000000  5000.000000  5000.000000   \n",
       "mean    100.191000    17.054322   200.391620    99.919200     9.017732   \n",
       "std      19.826496     4.296843    50.527789    19.958686     2.273763   \n",
       "min       0.000000     0.000000     0.000000     0.000000     0.000000   \n",
       "25%      87.000000    14.140000   166.900000    87.000000     7.510000   \n",
       "50%     100.000000    17.090000   200.400000   100.000000     9.020000   \n",
       "75%     114.000000    19.900000   234.700000   113.000000    10.560000   \n",
       "max     170.000000    30.910000   395.000000   175.000000    17.770000   \n",
       "\n",
       "             timin        tical   ticharncsc     totalcal    label_neu  \n",
       "count  5000.000000  5000.000000  5000.000000  5000.000000  5000.000000  \n",
       "mean     10.261780     4.435200     2.771196     1.570400     0.141600  \n",
       "std       2.761396     2.456788     0.745514     1.306363     0.348674  \n",
       "min       0.000000     0.000000     0.000000     0.000000     0.000000  \n",
       "25%       8.500000     3.000000     2.300000     1.000000     0.000000  \n",
       "50%      10.300000     4.000000     2.780000     1.000000     0.000000  \n",
       "75%      12.000000     6.000000     3.240000     2.000000     0.000000  \n",
       "max      20.000000    20.000000     5.400000     9.000000     1.000000  "
      ]
     },
     "execution_count": 4,
     "metadata": {},
     "output_type": "execute_result"
    }
   ],
   "source": [
    "churn = bq.Query(letslookatthedata).to_dataframe()\n",
    "churn.describe()"
   ]
  },
  {
   "cell_type": "code",
   "execution_count": 5,
   "metadata": {},
   "outputs": [],
   "source": [
    "shuffled = churn.sample(frac=1)\n",
    "trainsize = int(len(shuffled['label_neu']) * 0.70)\n",
    "validsize = int(len(shuffled['label_neu']) * 0.15)\n",
    "\n",
    "df_train = shuffled.iloc[:trainsize, :]\n",
    "df_valid = shuffled.iloc[trainsize:(trainsize+validsize), :]\n",
    "df_test = shuffled.iloc[(trainsize+validsize):, :]"
   ]
  },
  {
   "cell_type": "code",
   "execution_count": 6,
   "metadata": {},
   "outputs": [
    {
     "name": "stdout",
     "output_type": "stream",
     "text": [
      "['label_neu', u'voice', u'intplan', u'nummailmes', u'tdmin', u'tdcal', u'tdchar', u'temin', u'tecal', u'tecahr', u'tnmin', u'tncal', u'tnchar', u'timin', u'tical', u'ticharncsc', u'totalcal']\n",
      "(3500, 17)\n",
      "['label_neu', u'voice', u'intplan', u'nummailmes', u'tdmin', u'tdcal', u'tdchar', u'temin', u'tecal', u'tecahr', u'tnmin', u'tncal', u'tnchar', u'timin', u'tical', u'ticharncsc', u'totalcal']\n",
      "(750, 17)\n",
      "['label_neu', u'voice', u'intplan', u'nummailmes', u'tdmin', u'tdcal', u'tdchar', u'temin', u'tecal', u'tecahr', u'tnmin', u'tncal', u'tnchar', u'timin', u'tical', u'ticharncsc', u'totalcal']\n",
      "(750, 17)\n"
     ]
    }
   ],
   "source": [
    "def to_csv(df, filename):\n",
    "  outdf = df.copy(deep=False)\n",
    "  \n",
    "  # reorder columns so that target is first column\n",
    "  cols = outdf.columns.tolist()\n",
    "  cols.remove('label_neu')\n",
    "  cols.insert(0, 'label_neu')\n",
    "  print (cols)  # new order of columns\n",
    "  outdf = outdf[cols]\n",
    "  outdf.to_csv(filename, header=False, index_label=False, index=False)\n",
    "  \n",
    "  print outdf.shape\n",
    "\n",
    "to_csv(df_train, 'churn-train.csv')\n",
    "to_csv(df_valid, 'churn-valid.csv')\n",
    "to_csv(df_test, 'churn-test.csv')"
   ]
  },
  {
   "cell_type": "code",
   "execution_count": 7,
   "metadata": {
    "collapsed": true
   },
   "outputs": [],
   "source": [
    "#baselinemodel..."
   ]
  },
  {
   "cell_type": "code",
   "execution_count": 8,
   "metadata": {},
   "outputs": [
    {
     "data": {
      "text/plain": [
       "['yiannis_cloud_ml_in_datalab.ipynb',\n",
       " 'Final Demo.ipynb',\n",
       " 'Churn-with-Neural-Net.ipynb',\n",
       " 'Untitled Notebook.ipynb',\n",
       " 'testing-cloud-ml.ipynb',\n",
       " 'testing-cloud-ml-checkpoint.ipynb',\n",
       " '.ipynb_checkpoints',\n",
       " 'Churn-Prediction-with-LSTN.ipynb',\n",
       " 'mnist_keras_ml_engine+%282%29.ipynb',\n",
       " 'hyperparmTrainingOnNumberDetection.ipynb',\n",
       " 'churn-train.csv',\n",
       " 'churn-valid.csv',\n",
       " 'running+Cloud+ML.ipynb',\n",
       " 'churn-test.csv',\n",
       " 'churn_with_neural_net',\n",
       " 'hyperparameterTuning.ipynb',\n",
       " 'create_churn_timedependent_dataset (1).ipynb']"
      ]
     },
     "execution_count": 8,
     "metadata": {},
     "output_type": "execute_result"
    }
   ],
   "source": [
    "PROJECT = 'go-de-internal'\n",
    "BUCKET = 'storage-democases-go-reply-internal'\n",
    "REGION = 'us-central1'\n",
    "REPO = \"/content/datalab/democases-go-reply-internal/churn-prediction\"\n",
    "os.listdir(REPO)"
   ]
  },
  {
   "cell_type": "code",
   "execution_count": 9,
   "metadata": {
    "collapsed": true
   },
   "outputs": [],
   "source": [
    "# for bash\n",
    "os.environ['PROJECT'] = PROJECT\n",
    "os.environ['BUCKET'] = BUCKET\n",
    "os.environ['REGION'] = REGION\n",
    "os.environ['REPO'] = REPO"
   ]
  },
  {
   "cell_type": "code",
   "execution_count": 10,
   "metadata": {},
   "outputs": [
    {
     "name": "stderr",
     "output_type": "stream",
     "text": [
      "Updated property [core/project].\n",
      "Updated property [compute/region].\n"
     ]
    }
   ],
   "source": [
    "%bash\n",
    "gcloud config set project $PROJECT\n",
    "gcloud config set compute/region $REGION"
   ]
  },
  {
   "cell_type": "code",
   "execution_count": 11,
   "metadata": {},
   "outputs": [
    {
     "name": "stdout",
     "output_type": "stream",
     "text": [
      "Authorizing the Cloud ML Service account service-462605511119@cloud-ml.google.com.iam.gserviceaccount.com to access files in storage-democases-go-reply-internal\n"
     ]
    },
    {
     "name": "stderr",
     "output_type": "stream",
     "text": [
      "  % Total    % Received % Xferd  Average Speed   Time    Time     Time  Current\n",
      "                                 Dload  Upload   Total   Spent    Left  Speed\n",
      "\r",
      "  0     0    0     0    0     0      0      0 --:--:-- --:--:-- --:--:--     0\r",
      "100   133    0   133    0     0    339      0 --:--:-- --:--:-- --:--:--   340\n",
      "No changes to gs://storage-democases-go-reply-internal/\n",
      "No changes to gs://storage-democases-go-reply-internal/adult.data.csv\n",
      "No changes to gs://storage-democases-go-reply-internal/churn_cloud/churn-test.csv\n",
      "No changes to gs://storage-democases-go-reply-internal/churn_cloud/churn-train.csv\n",
      "No changes to gs://storage-democases-go-reply-internal/churn_cloud/churn-valid.csv\n",
      "No changes to gs://storage-democases-go-reply-internal/churn_model_180220_175843/e2b80417fe931b7ed44b08d1374eea2bcb1f7898472ef0c5e51373d725cf419e/example5-0.1.tar.gz\n",
      "No changes to gs://storage-democases-go-reply-internal/churn_model_180220_175853/e171b54ea317d121eebaa18cfa3a24d49d32790c95e6e87579f7f1e87698108e/example5-0.1.tar.gz\n",
      "No changes to gs://storage-democases-go-reply-internal/churn_model_180220_180624/fe3cd6778bf68acc806dfb0bb98144297619bbb59faadc78cee765265cd4beec/example5-0.1.tar.gz\n",
      "No changes to gs://storage-democases-go-reply-internal/churn_model_180220_181601/55db5a37dd4306e6332d109dcf8c3866c6b912343b4ad2c48c05d4852cc95882/example5-0.1.tar.gz\n",
      "No changes to gs://storage-democases-go-reply-internal/churn_with_neural_net/churn-test.csv\n",
      "No changes to gs://storage-democases-go-reply-internal/churn_with_neural_net/churn-train.csv\n",
      "No changes to gs://storage-democases-go-reply-internal/churn_with_neural_net/churn-valid.csv\n",
      "No changes to gs://storage-democases-go-reply-internal/econsumption/hyper_param/vehicles-test.csv\n",
      "No changes to gs://storage-democases-go-reply-internal/econsumption/hyper_param/vehicles-train.csv\n",
      "No changes to gs://storage-democases-go-reply-internal/econsumption/hyper_param/vehicles-valid.csv\n",
      "No changes to gs://storage-democases-go-reply-internal/econsumption/smallinput/vehicles-test.csv\n",
      "No changes to gs://storage-democases-go-reply-internal/econsumption/smallinput/vehicles-train.csv\n",
      "No changes to gs://storage-democases-go-reply-internal/econsumption/smallinput/vehicles-valid.csv\n",
      "No changes to gs://storage-democases-go-reply-internal/vehicles_health_demo_180219_161457/fb5cab4132707eb592c019ebc5651f8b0fe2008c08a318ce2c0fbf7cdfbeef20/example5-0.1.tar.gz\n",
      "No changes to gs://storage-democases-go-reply-internal/vehicles_health_demo_180219_165839/31ecbd7c9ffea6c1a7e34a0e89217312b891990a296edeb3ee77c50d43021bfa/example5-0.1.tar.gz\n",
      "No changes to gs://storage-democases-go-reply-internal/vehicles_health_demo_180219_173933/ebaa74ca58651ea5c586fba9865d5cbe6c18cc8783ee752df900052a9aa83e2f/example5-0.1.tar.gz\n",
      "No changes to gs://storage-democases-go-reply-internal/vehicles_health_demo_180219_174818/6e168bb8c227f9a3c5b5b0db20c99c41a0fce903c9a17ed225432c884a1fbe12/example5-0.1.tar.gz\n",
      "No changes to gs://storage-democases-go-reply-internal/vehicles_health_demo_180219_175548/3c7c09e27bea85b82fc4df230b363fb2f9ba73d8c54b23fb55ad12d2f2e1e5ba/example5-0.1.tar.gz\n",
      "No changes to gs://storage-democases-go-reply-internal/vehicles_health_demo_180219_180212/1e0b212522f52fb3b18e3f256b893ed39669ca71c4d3aad8fd3afc84be847a5a/example5-0.1.tar.gz\n",
      "No changes to gs://storage-democases-go-reply-internal/vehicles_health_demo_180219_180735/62ba6bedad4d3fd78a65d6aa941a8d4631ca9ebff5545ba025b022d1deaa5d43/example5-0.1.tar.gz\n",
      "No changes to gs://storage-democases-go-reply-internal/vehicles_health_demo_180219_181439/edf595bc36f260a9c8dd02f384fda776719cfe53dc7824bdeffde9228a458e6d/example5-0.1.tar.gz\n",
      "No changes to gs://storage-democases-go-reply-internal/vehicles_health_demo_180220_150007/20a77f1b7eaaad808bc5834bcd361de16db7fae6de83466cf2b5c1e15927a36e/example5-0.1.tar.gz\n",
      "No changes to gs://storage-democases-go-reply-internal/vehicles_health_demo_180220_152054/2ad481351a68fdbe0ba4b00d3231bd59a4cb3b065c46511ec7b97987652796bb/example5-0.1.tar.gz\n",
      "No changes to gs://storage-democases-go-reply-internal/vehicles_health_demo_180220_152831/115f11fa5320f3a9b1d2e3fd9f25a82dbdded4addbde5c32eab6313cfd85745c/example5-0.1.tar.gz\n",
      "No changes to gs://storage-democases-go-reply-internal/vehicles_health_demo_180220_160721/8751f1a51a7bac40891f5da82576ebee60e114ada60bc46301a9c56931d25027/example5-0.1.tar.gz\n",
      "No changes to gs://storage-democases-go-reply-internal/vehicles_health_demo_180220_161035/e8a8a508d14b4455421333a042373ec0d3049a7ce0f48a818624d31bfc4af6e4/example5-0.1.tar.gz\n",
      "No changes to gs://storage-democases-go-reply-internal/vehicles_health_demo_180220_161251/a4de542d1f3008238f89237a4bfa2d50682ef398872f2502ebd0afc003dbe3c9/example5-0.1.tar.gz\n",
      "No changes to gs://storage-democases-go-reply-internal/vehicles_health_demo_180220_161732/9ae2a6c1fc165ec59dc06083bb9f5fae3af169abf1af0762adaafb5aa4ff0111/example5-0.1.tar.gz\n",
      "No changes to gs://storage-democases-go-reply-internal/vehicles_health_demo_180220_163055/179542c5a3dcc954eb647edb5792a0594ec553ec8249855b7d417618ad9c33d5/example5-0.1.tar.gz\n",
      "No changes to gs://storage-democases-go-reply-internal/vehicles_health_demo_180220_163415/b95e331291d3b42039ea79d87d6a67ca2f860b1361c1818b8a4b5f2d45605b8b/example5-0.1.tar.gz\n",
      "No changes to gs://storage-democases-go-reply-internal/vehicles_health_demo_180220_172103/61825de2b5e798ddad1baae5a4eeeb6f51965c2fb749fc706b39a71e9b294d88/example5-0.1.tar.gz\n",
      "No changes to gs://storage-democases-go-reply-internal/vehicles_health_demo_180220_172512/de356332d21c1887cec8ca96de9e59540e08baed7a413b86b560548a550b7f5f/example5-0.1.tar.gz\n",
      "No changes to gs://storage-democases-go-reply-internal/vehicles_health_demo_180220_172822/8a647f449141990973aa1dc79917bf1b2fe39072133309b2e35c80402ad9b993/example5-0.1.tar.gz\n",
      "No changes to gs://storage-democases-go-reply-internal/\n"
     ]
    }
   ],
   "source": [
    "%bash\n",
    "PROJECT_ID=$PROJECT\n",
    "AUTH_TOKEN=$(gcloud auth print-access-token)\n",
    "SVC_ACCOUNT=$(curl -X GET -H \"Content-Type: application/json\" \\\n",
    "    -H \"Authorization: Bearer $AUTH_TOKEN\" \\\n",
    "    https://ml.googleapis.com/v1/projects/${PROJECT_ID}:getConfig \\\n",
    "    | python -c \"import json; import sys; response = json.load(sys.stdin); \\\n",
    "    print response['serviceAccount']\")\n",
    "\n",
    "echo \"Authorizing the Cloud ML Service account $SVC_ACCOUNT to access files in $BUCKET\"\n",
    "gsutil -m defacl ch -u $SVC_ACCOUNT:R gs://$BUCKET\n",
    "gsutil -m acl ch -u $SVC_ACCOUNT:R -r gs://$BUCKET  # error message (if bucket is empty) can be ignored\n",
    "gsutil -m acl ch -u $SVC_ACCOUNT:W gs://$BUCKET"
   ]
  },
  {
   "cell_type": "code",
   "execution_count": 43,
   "metadata": {},
   "outputs": [
    {
     "name": "stdout",
     "output_type": "stream",
     "text": [
      "storage-democases-go-reply-internal\n"
     ]
    },
    {
     "name": "stderr",
     "output_type": "stream",
     "text": [
      "Removing gs://storage-democases-go-reply-internal/churn_with_neural_net/churn-test.csv#1519382676454587...\n",
      "Removing gs://storage-democases-go-reply-internal/churn_with_neural_net/churn-train.csv#1519382676520068...\n",
      "Removing gs://storage-democases-go-reply-internal/churn_with_neural_net/churn-valid.csv#1519382676498775...\n",
      "Removing gs://storage-democases-go-reply-internal/churn_with_neural_net/churn_time_dependent_sorted.csv#1519382677065084...\n",
      "Removing gs://storage-democases-go-reply-internal/churn_with_neural_net/churn_time_dependent_unsorted.csv#1519382677044396...\n",
      "/ [1/5 objects]  20% Done                                                       \r",
      "/ [2/5 objects]  40% Done                                                       \r",
      "/ [3/5 objects]  60% Done                                                       \r",
      "/ [4/5 objects]  80% Done                                                       \r",
      "/ [5/5 objects] 100% Done                                                       \r\n",
      "Operation completed over 5 objects.                                              \n",
      "Copying file:///content/datalab/democases-go-reply-internal/churn-prediction/churn-test.csv [Content-Type=text/csv]...\n",
      "/ [0 files][    0.0 B/ 54.8 KiB]                                                \r",
      "Copying file:///content/datalab/democases-go-reply-internal/churn-prediction/churn_time_dependent_sorted.csv [Content-Type=text/csv]...\n",
      "/ [0 files][    0.0 B/ 14.5 MiB]                                                \r",
      "Copying file:///content/datalab/democases-go-reply-internal/churn-prediction/churn_time_dependent_unsorted.csv [Content-Type=text/csv]...\n",
      "/ [0/5 files][    0.0 B/ 29.2 MiB]   0% Done                                    \r",
      "Copying file:///content/datalab/democases-go-reply-internal/churn-prediction/churn-train.csv [Content-Type=text/csv]...\n",
      "/ [0/5 files][    0.0 B/ 29.2 MiB]   0% Done                                    \r",
      "Copying file:///content/datalab/democases-go-reply-internal/churn-prediction/churn-valid.csv [Content-Type=text/csv]...\n",
      "/ [0/5 files][    0.0 B/ 29.2 MiB]   0% Done                                    \r",
      "/ [1/5 files][365.2 KiB/ 29.2 MiB]   1% Done                                    \r",
      "/ [2/5 files][365.2 KiB/ 29.2 MiB]   1% Done                                    \r",
      "/ [3/5 files][  2.4 MiB/ 29.2 MiB]   8% Done                                    \r",
      "/ [4/5 files][ 29.2 MiB/ 29.2 MiB]  99% Done                                    \r",
      "-\r",
      "- [5/5 files][ 29.2 MiB/ 29.2 MiB] 100% Done                                    \r\n",
      "Operation completed over 5 objects/29.2 MiB.                                     \n"
     ]
    }
   ],
   "source": [
    "%bash\n",
    "echo $BUCKET\n",
    "gsutil -m rm -rf gs://${BUCKET}/churn_with_neural_net/\n",
    "gsutil -m cp ${REPO}/*.csv gs://${BUCKET}/churn_with_neural_net/"
   ]
  },
  {
   "cell_type": "code",
   "execution_count": null,
   "metadata": {},
   "outputs": [],
   "source": [
    "%bash\n",
    "OUTDIR=gs://${BUCKET}/churn_with_neural_net_output/churn_trained\n",
    "rm -rf vehicles.tar.gz churn_trained\n",
    "gcloud ml-engine local train \\\n",
    "   --module-name=trainer.task \\\n",
    "   --package-path=${REPO}/churn_with_neural_net/trainer \\\n",
    "   --job-dir $OUTDIR \\\n",
    "   -- \\\n",
    "   --train_files=${REPO}/churn-train.csv \\\n",
    "   --eval_files=${REPO}/churn-valid.csv  \\\n",
    "   --num_epochs=10 \\\n",
    "   --output_dir=${REPO}/churn_trained"
   ]
  },
  {
   "cell_type": "code",
   "execution_count": 34,
   "metadata": {},
   "outputs": [
    {
     "name": "stdout",
     "output_type": "stream",
     "text": [
      "storage-democases-go-reply-internal\n"
     ]
    },
    {
     "name": "stderr",
     "output_type": "stream",
     "text": [
      "CommandException: 1 files/objects could not be removed.\n",
      "Copying file:///content/datalab/democases-go-reply-internal/churn-prediction/churn-test.csv [Content-Type=text/csv]...\n",
      "/ [0 files][    0.0 B/ 54.8 KiB]                                                \r",
      "Copying file:///content/datalab/democases-go-reply-internal/churn-prediction/churn_time_dependent_sorted.csv [Content-Type=text/csv]...\n",
      "/ [0 files][    0.0 B/ 14.5 MiB]                                                \r",
      "Copying file:///content/datalab/democases-go-reply-internal/churn-prediction/churn_time_dependent_unsorted.csv [Content-Type=text/csv]...\n",
      "/ [0 files][    0.0 B/ 28.9 MiB]                                                \r",
      "Copying file:///content/datalab/democases-go-reply-internal/churn-prediction/churn-train.csv [Content-Type=text/csv]...\n",
      "/ [0/5 files][    0.0 B/ 29.2 MiB]   0% Done                                    \r",
      "Copying file:///content/datalab/democases-go-reply-internal/churn-prediction/churn-valid.csv [Content-Type=text/csv]...\n",
      "/ [0/5 files][    0.0 B/ 29.2 MiB]   0% Done                                    \r",
      "/ [1/5 files][365.2 KiB/ 29.2 MiB]   1% Done                                    \r",
      "/ [2/5 files][365.2 KiB/ 29.2 MiB]   1% Done                                    \r",
      "/ [3/5 files][  1.4 MiB/ 29.2 MiB]   4% Done                                    \r",
      "-\r",
      "- [4/5 files][ 29.2 MiB/ 29.2 MiB]  99% Done                                    \r",
      "- [5/5 files][ 29.2 MiB/ 29.2 MiB] 100% Done                                    \r\n",
      "Operation completed over 5 objects/29.2 MiB.                                     \n"
     ]
    }
   ],
   "source": [
    "%bash\n",
    "echo $BUCKET\n",
    "gsutil -m rm -rf gs://${BUCKET}/churn_cloud\n",
    "gsutil -m cp ${REPO}/*.csv gs://${BUCKET}/churn_cloud/"
   ]
  },
  {
   "cell_type": "code",
   "execution_count": 32,
   "metadata": {},
   "outputs": [
    {
     "name": "stdout",
     "output_type": "stream",
     "text": [
      "gs://storage-democases-go-reply-internal/churn_cloud/churn_trained us-central1 churn_model_180223_100803\n",
      "jobId: churn_model_180223_100803\n",
      "state: QUEUED\n"
     ]
    },
    {
     "name": "stderr",
     "output_type": "stream",
     "text": [
      "CommandException: 1 files/objects could not be removed.\n",
      "/tools/google-cloud-sdk/lib/googlecloudsdk/core/util/files.py:622: UnicodeWarning: Unicode equal comparison failed to convert both arguments to Unicode - interpreting them as being unequal\n",
      "  for chunk in iter(lambda: fp.read(4096), ''):\n",
      "Job [churn_model_180223_100803] submitted successfully.\n",
      "Your job is still active. You may view the status of your job with the command\n",
      "\n",
      "  $ gcloud ml-engine jobs describe churn_model_180223_100803\n",
      "\n",
      "or continue streaming the logs with the command\n",
      "\n",
      "  $ gcloud ml-engine jobs stream-logs churn_model_180223_100803\n"
     ]
    }
   ],
   "source": [
    "%%bash\n",
    "OUTDIR=gs://${BUCKET}/churn_cloud_output/churn_trained\n",
    "JOBNAME=churn_model_$(date -u +%y%m%d_%H%M%S)\n",
    "echo $OUTDIR $REGION $JOBNAME\n",
    "gsutil -m rm -rf $OUTDIR\n",
    "gcloud ml-engine jobs submit training $JOBNAME \\\n",
    "  --region=$REGION \\\n",
    "  --module-name=trainer.task \\\n",
    "  --package-path=${REPO}/churn_with_neural_net/trainer \\\n",
    "  --job-dir=$OUTDIR \\\n",
    "  --staging-bucket=gs://$BUCKET \\\n",
    "  --scale-tier=BASIC \\\n",
    "  --runtime-version=1.0 \\\n",
    "  -- \\\n",
    "  --train_files=\"gs://${BUCKET}/churn_cloud/churn-train.csv\" \\\n",
    "  --eval_files=\"gs://${BUCKET}/churn_cloud/churn-valid.csv\"  \\\n",
    "  --output_dir=$OUTDIR \\\n",
    "  --num_epochs=100"
   ]
  },
  {
   "cell_type": "code",
   "execution_count": null,
   "metadata": {
    "collapsed": true
   },
   "outputs": [],
   "source": []
  }
 ],
 "metadata": {
  "kernelspec": {
   "display_name": "Python 3",
   "language": "python",
   "name": "python3"
  },
  "language_info": {
   "codemirror_mode": {
    "name": "ipython",
    "version": 3
   },
   "file_extension": ".py",
   "mimetype": "text/x-python",
   "name": "python",
   "nbconvert_exporter": "python",
   "pygments_lexer": "ipython3",
   "version": "3.6.3"
  }
 },
 "nbformat": 4,
 "nbformat_minor": 2
}
