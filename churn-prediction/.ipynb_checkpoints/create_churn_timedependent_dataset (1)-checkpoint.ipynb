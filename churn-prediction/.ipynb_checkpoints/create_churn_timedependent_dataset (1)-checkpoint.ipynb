{
 "cells": [
  {
   "cell_type": "code",
   "execution_count": null,
   "metadata": {
    "collapsed": true
   },
   "outputs": [],
   "source": [
    "import numpy as np\n",
    "import pandas as pd"
   ]
  },
  {
   "cell_type": "code",
   "execution_count": null,
   "metadata": {
    "collapsed": true
   },
   "outputs": [],
   "source": [
    "timestamp_begin_january = 1483228800\n",
    "timestamp_end_november = 1512086399\n",
    "timestamp_begin_december = 1512086400\n",
    "timestamp_end_december = 1514764800\n",
    "timestamp_per_day = 86400\n",
    "\n",
    "min_orders_per_day = 0\n",
    "max_orders_per_day = 500\n",
    "\n",
    "min_user_id = 1000\n",
    "max_user_id = 5000"
   ]
  },
  {
   "cell_type": "code",
   "execution_count": null,
   "metadata": {},
   "outputs": [],
   "source": [
    "class event:\n",
    "    def __init__(self, eventid, name):\n",
    "        self.eventid = eventid\n",
    "        self.name = name\n",
    "\n",
    "homepage = event(0, 'homepage')\n",
    "menu_page = event(1, 'menu page')\n",
    "log_in = event(2, 'log in')\n",
    "basket_overview = event(3, 'basket overview')\n",
    "check_out = event(4, 'check out')\n",
    "confirm_order = event(5, 'confirm order')\n",
    "order_completed = event(6, 'order completed')\n",
    "no_event = event(7, 'no event')\n",
    "\n",
    "all_events = [homepage, menu_page, log_in, basket_overview, check_out, confirm_order, order_completed]"
   ]
  },
  {
   "cell_type": "code",
   "execution_count": null,
   "metadata": {},
   "outputs": [],
   "source": [
    "#create dataframe \n",
    "\n",
    "def pick_event(previous_event):\n",
    "    if previous_event == menu_page:\n",
    "        random_select = np.random.randint(0, 15, size=1)[0]\n",
    "        if random_select == 5 or random_select == 7:\n",
    "            current_event = log_in\n",
    "        elif random_select == 3 or random_select == 10 or random_select == 14:\n",
    "            current_event = 'break'\n",
    "        else: \n",
    "            current_event = menu_page\n",
    "    else:\n",
    "        current_event = all_events[previous_event.eventid + 1]\n",
    "    return current_event\n",
    "\n",
    "def one_order(current_user_id, current_time_stamp):\n",
    "    df_new_order = pd.DataFrame(columns=('user_id', 'timestamp', 'event_id', 'event_name', 'churn'))\n",
    "    event = homepage\n",
    "    df_new_order_new_row = pd.DataFrame([[current_user_id, current_time_stamp, event.eventid, event.name, churn]], columns=('user_id', 'timestamp', 'event_id', 'event_name', 'churn'))\n",
    "    df_new_order = df_new_order_new_row.append(df_new_order, ignore_index=True)\n",
    "    number_of_klicks = 0\n",
    "    while number_of_klicks < 20:\n",
    "        event = pick_event(event)\n",
    "        if event == 'break':\n",
    "            break\n",
    "        current_time_stamp = current_time_stamp + np.random.randint(0, 900, size=1)[0]\n",
    "        df_new_order_new_row = pd.DataFrame([[current_user_id, current_time_stamp, event.eventid, event.name, churn]], columns=('user_id', 'timestamp', 'event_id', 'event_name', 'churn'))\n",
    "        df_new_order = df_new_order.append(df_new_order_new_row, ignore_index=True)\n",
    "        if event == order_completed:\n",
    "            break\n",
    "    return df_new_order\n",
    "\n",
    "def append_df(timestamp_begin_day, timestamp_end_day, df_all_orders):\n",
    "    orders_per_day = np.random.randint(min_orders_per_day, max_orders_per_day, size=1)[0]\n",
    "    orders_per_day_created = 0\n",
    "    while orders_per_day_created < orders_per_day:\n",
    "        current_time_stamp = np.random.randint(timestamp_begin_day, timestamp_end_day, size=1)[0]\n",
    "        current_user_id = np.random.randint(min_user_id, max_user_id, size=1)[0]\n",
    "        df_new_order = one_order(current_user_id, current_time_stamp)\n",
    "        df_all_orders = df_all_orders.append(df_new_order, ignore_index=True)\n",
    "        orders_per_day_created += 1\n",
    "    return df_all_orders\n",
    "\n",
    "#-----------------------------run----------------------------#\n",
    "df_all_orders_until_december = pd.DataFrame(columns=('user_id', 'timestamp', 'event_id', 'event_name', 'churn'))\n",
    "df_all_orders_from_december = pd.DataFrame(columns=('user_id', 'timestamp', 'event_id', 'event_name', 'churn'))\n",
    "day_of_the_year = 0\n",
    "churn = 0\n",
    "while True:\n",
    "    print day_of_the_year\n",
    "    timestamp_begin_day = timestamp_begin_january + day_of_the_year * timestamp_per_day\n",
    "    timestamp_end_day = timestamp_begin_day + timestamp_per_day\n",
    "    df_all_orders_until_december = append_df(timestamp_begin_day, timestamp_end_day, df_all_orders_until_december)\n",
    "    day_of_the_year += 1\n",
    "    if timestamp_end_november <= (timestamp_begin_january + day_of_the_year * timestamp_per_day):\n",
    "        break\n",
    "        \n",
    "while True:\n",
    "    timestamp_begin_day = timestamp_begin_december + day_of_the_year * timestamp_per_day\n",
    "    timestamp_end_day = timestamp_begin_day + timestamp_per_day\n",
    "    df_all_orders_from_december = append_df(timestamp_begin_day, timestamp_end_day, df_all_orders_from_december)\n",
    "    day_of_the_year += 1\n",
    "    print day_of_the_year\n",
    "    if timestamp_end_december <= (timestamp_begin_january + day_of_the_year * timestamp_per_day):\n",
    "        break"
   ]
  },
  {
   "cell_type": "code",
   "execution_count": null,
   "metadata": {},
   "outputs": [],
   "source": [
    "#df_all_orders_until_december"
   ]
  },
  {
   "cell_type": "code",
   "execution_count": null,
   "metadata": {},
   "outputs": [],
   "source": [
    "#df_all_orders_from_december"
   ]
  },
  {
   "cell_type": "code",
   "execution_count": null,
   "metadata": {
    "collapsed": true
   },
   "outputs": [],
   "source": [
    "df_all_orders_until_december.to_csv('churn_time_dependent_unsorted.csv', index = False)"
   ]
  },
  {
   "cell_type": "code",
   "execution_count": null,
   "metadata": {
    "collapsed": true
   },
   "outputs": [],
   "source": [
    "#calculate churn\n",
    "\n",
    "def calculate_churn(df_all_orders_from_december, df_all_orders_until_december, timestamp_begin_december):\n",
    "    churned_users = []\n",
    "    for row in df_all_orders_from_december.iterrows():\n",
    "        if row[1][1] > timestamp_begin_december:\n",
    "            churned_users.append(row[1][0])\n",
    "    for row in df_all_orders_until_december.iterrows():\n",
    "        if row[1][0] in churned_users:\n",
    "            row[1][4] = 1\n",
    "            \n",
    "calculate_churn(df_all_orders_from_december, df_all_orders_until_december, timestamp_begin_december)"
   ]
  },
  {
   "cell_type": "code",
   "execution_count": null,
   "metadata": {
    "collapsed": true
   },
   "outputs": [],
   "source": [
    "df_all_orders_until_december.to_csv('churn_time_dependent_unsorted.csv', index = False)"
   ]
  },
  {
   "cell_type": "code",
   "execution_count": null,
   "metadata": {},
   "outputs": [],
   "source": [
    "df_all_orders_until_december.sort_values(by=['timestamp'])"
   ]
  },
  {
   "cell_type": "code",
   "execution_count": null,
   "metadata": {},
   "outputs": [],
   "source": [
    "df_all_orders_from_december.sort_values(by=['timestamp'])"
   ]
  },
  {
   "cell_type": "code",
   "execution_count": null,
   "metadata": {},
   "outputs": [],
   "source": [
    "df_all_orders_until_december.to_csv('churn_time_dependent_sorted.csv', index = False)"
   ]
  },
  {
   "cell_type": "code",
   "execution_count": null,
   "metadata": {
    "collapsed": true
   },
   "outputs": [],
   "source": []
  }
 ],
 "metadata": {
  "kernelspec": {
   "display_name": "Python 3",
   "language": "python",
   "name": "python3"
  },
  "language_info": {
   "codemirror_mode": {
    "name": "ipython",
    "version": 3
   },
   "file_extension": ".py",
   "mimetype": "text/x-python",
   "name": "python",
   "nbconvert_exporter": "python",
   "pygments_lexer": "ipython3",
   "version": "3.6.3"
  }
 },
 "nbformat": 4,
 "nbformat_minor": 2
}
