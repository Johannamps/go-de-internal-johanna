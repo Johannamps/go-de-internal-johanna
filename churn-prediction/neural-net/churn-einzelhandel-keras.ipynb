{
 "cells": [
  {
   "cell_type": "code",
   "execution_count": 1,
   "metadata": {
    "collapsed": false,
    "deletable": true,
    "editable": true
   },
   "outputs": [
    {
     "name": "stdout",
     "output_type": "stream",
     "text": [
      "Collecting keras\n",
      "  Downloading Keras-2.1.5-py2.py3-none-any.whl (334kB)\n",
      "\u001b[K    100% |████████████████████████████████| 337kB 1.5MB/s ta 0:00:01\n",
      "\u001b[?25hRequirement already satisfied: numpy>=1.9.1 in /usr/local/envs/py2env/lib/python2.7/site-packages (from keras)\n",
      "Requirement already satisfied: scipy>=0.14 in /usr/local/envs/py2env/lib/python2.7/site-packages (from keras)\n",
      "Requirement already satisfied: six>=1.9.0 in /usr/local/envs/py2env/lib/python2.7/site-packages (from keras)\n",
      "Requirement already satisfied: pyyaml in /usr/local/envs/py2env/lib/python2.7/site-packages (from keras)\n",
      "Installing collected packages: keras\n",
      "Successfully installed keras-2.1.5\n"
     ]
    }
   ],
   "source": [
    "!pip install keras"
   ]
  },
  {
   "cell_type": "code",
   "execution_count": 2,
   "metadata": {
    "collapsed": false,
    "deletable": true,
    "editable": true
   },
   "outputs": [
    {
     "name": "stderr",
     "output_type": "stream",
     "text": [
      "/usr/local/envs/py2env/lib/python2.7/site-packages/h5py/__init__.py:36: FutureWarning: Conversion of the second argument of issubdtype from `float` to `np.floating` is deprecated. In future, it will be treated as `np.float64 == np.dtype(float).type`.\n",
      "  from ._conv import register_converters as _register_converters\n",
      "Using TensorFlow backend.\n"
     ]
    },
    {
     "name": "stdout",
     "output_type": "stream",
     "text": [
      "1.5.0\n"
     ]
    }
   ],
   "source": [
    "import datalab.bigquery as bq\n",
    "import seaborn as sns\n",
    "import pandas as pd\n",
    "import numpy as np\n",
    "import shutil\n",
    "import os\n",
    "import h5py\n",
    "from sklearn import preprocessing\n",
    "import keras\n",
    "from pandas_gbq.gbq import GenericGBQException\n",
    "import logging\n",
    "import tensorflow as tf\n",
    "print tf.__version__"
   ]
  },
  {
   "cell_type": "code",
   "execution_count": 3,
   "metadata": {
    "collapsed": false,
    "deletable": true,
    "editable": true
   },
   "outputs": [],
   "source": [
    "PROJECT = 'go-de-internal'\n",
    "BUCKET = 'go-de-internal-johanna'\n",
    "REGION = 'europe-west1'\n",
    "REPO = \"/content/datalab/demo-cases/churn-prediction/neural-net\""
   ]
  },
  {
   "cell_type": "code",
   "execution_count": 4,
   "metadata": {
    "collapsed": false,
    "deletable": true,
    "editable": true
   },
   "outputs": [],
   "source": [
    "# for bash\n",
    "os.environ['PROJECT'] = PROJECT\n",
    "os.environ['BUCKET'] = BUCKET\n",
    "os.environ['REGION'] = REGION\n",
    "os.environ['REPO'] = REPO"
   ]
  },
  {
   "cell_type": "code",
   "execution_count": 5,
   "metadata": {
    "collapsed": false,
    "deletable": true,
    "editable": true
   },
   "outputs": [
    {
     "name": "stderr",
     "output_type": "stream",
     "text": [
      "Updated property [core/project].\n",
      "Updated property [compute/region].\n"
     ]
    }
   ],
   "source": [
    "%bash\n",
    "gcloud config set project $PROJECT\n",
    "gcloud config set compute/region $REGION"
   ]
  },
  {
   "cell_type": "code",
   "execution_count": 6,
   "metadata": {
    "collapsed": false,
    "deletable": true,
    "editable": true
   },
   "outputs": [
    {
     "name": "stdout",
     "output_type": "stream",
     "text": [
      "Authorizing the Cloud ML Service account service-462605511119@cloud-ml.google.com.iam.gserviceaccount.com to access files in go-de-internal-johanna\n"
     ]
    },
    {
     "name": "stderr",
     "output_type": "stream",
     "text": [
      "  % Total    % Received % Xferd  Average Speed   Time    Time     Time  Current\n",
      "                                 Dload  Upload   Total   Spent    Left  Speed\n",
      "\r",
      "  0     0    0     0    0     0      0      0 --:--:-- --:--:-- --:--:--     0\r",
      "100   133    0   133    0     0    149      0 --:--:-- --:--:-- --:--:--   149\r",
      "100   133    0   133    0     0    149      0 --:--:-- --:--:-- --:--:--   149\n",
      "No changes to gs://go-de-internal-johanna/\n",
      "No changes to gs://go-de-internal-johanna/churn-prediction/\n",
      "No changes to gs://go-de-internal-johanna/churn-prediction/mv_ab_model_ads_build_sep.csv\n",
      "No changes to gs://go-de-internal-johanna/churn-prediction/neural_net/churn-einzelhandel-test.csv\n",
      "No changes to gs://go-de-internal-johanna/churn-prediction/neural_net/churn-einzelhandel-train.csv\n",
      "No changes to gs://go-de-internal-johanna/churn-prediction/neural_net/churn-einzelhandel-valid.csv\n",
      "No changes to gs://go-de-internal-johanna/churn-prediction/neural_net/churn-telecommunication.csv\n",
      "No changes to gs://go-de-internal-johanna/churn-prediction/neural_net/churn_trained/\n",
      "No changes to gs://go-de-internal-johanna/churn-prediction/neural_net/churn_trained/churn_model.hdf5\n",
      "No changes to gs://go-de-internal-johanna/churn-prediction/neural_net/churn_trained/export/\n",
      "No changes to gs://go-de-internal-johanna/churn-prediction/neural_net/churn_trained/export/saved_model.pb\n",
      "No changes to gs://go-de-internal-johanna/churn-prediction/neural_net/churn_trained/export/variables/\n",
      "No changes to gs://go-de-internal-johanna/churn-prediction/neural_net/churn_trained/export/variables/variables.data-00000-of-00001\n",
      "No changes to gs://go-de-internal-johanna/churn-prediction/neural_net/churn_trained/export/variables/variables.index\n",
      "No changes to gs://go-de-internal-johanna/churn-prediction/neural_net/churn_trained/logs/\n",
      "No changes to gs://go-de-internal-johanna/churn-prediction/neural_net/churn_trained/logs/events.out.tfevents.1520336671.440bac950f96\n",
      "No changes to gs://go-de-internal-johanna/flight-time-estimate/\n",
      "No changes to gs://go-de-internal-johanna/pattern-recognition/\n",
      "No changes to gs://go-de-internal-johanna/vehicles_health_demo_180305_180649/413a63e0e47758abd44b25679856780a0346cc2efadb779f70292c1e8ffd12fa/econsumption-0.1.tar.gz\n",
      "No changes to gs://go-de-internal-johanna/vehicles_health_demo_hyper_param_180305_180703/0712cc9a349f1b7d8b740620452df3c60b430d2647b84bb756e54b883d8f788f/econsumption-0.1.tar.gz\n",
      "No changes to gs://go-de-internal-johanna/vehilce-health-status/\n",
      "No changes to gs://go-de-internal-johanna/vehilce-health-status//neural-net/vehicles-test.csv\n",
      "No changes to gs://go-de-internal-johanna/vehilce-health-status//neural-net/vehicles-train.csv\n",
      "No changes to gs://go-de-internal-johanna/vehilce-health-status//neural-net/vehicles-valid.csv\n",
      "No changes to gs://go-de-internal-johanna/vehilce-health-status/hyper-param/vehicles-test.csv\n",
      "No changes to gs://go-de-internal-johanna/vehilce-health-status/hyper-param/vehicles-train.csv\n",
      "No changes to gs://go-de-internal-johanna/vehilce-health-status/hyper-param/vehicles-valid.csv\n",
      "No changes to gs://go-de-internal-johanna/vehilce-health-status/lindeshow-case-data-all.csv\n",
      "No changes to gs://go-de-internal-johanna/vehilce-health-status/neural-net/vehicles-test.csv\n",
      "No changes to gs://go-de-internal-johanna/vehilce-health-status/neural-net/vehicles-train.csv\n",
      "No changes to gs://go-de-internal-johanna/vehilce-health-status/neural-net/vehicles-valid.csv\n",
      "Updated ACL on gs://go-de-internal-johanna/vehilce-health-status/neural-net/vehicles_trained/eval/events.out.tfevents.1520273650.cmle-training-master-e97f25bfc7-0-b8t26\n",
      "Updated ACL on gs://go-de-internal-johanna/vehilce-health-status/neural-net/vehicles_trained/eval/\n",
      "Updated ACL on gs://go-de-internal-johanna/vehilce-health-status/neural-net/vehicles_trained/eval/events.out.tfevents.1520273232.cmle-training-master-e97f25bfc7-0-b8t26\n",
      "Updated ACL on gs://go-de-internal-johanna/vehilce-health-status/neural-net/vehicles_trained/checkpoint\n",
      "Updated ACL on gs://go-de-internal-johanna/vehilce-health-status/neural-net/vehicles_trained/\n",
      "Updated ACL on gs://go-de-internal-johanna/vehilce-health-status/neural-net/vehicles_trained/export/Servo/1520273651560/saved_model.pb\n",
      "Updated ACL on gs://go-de-internal-johanna/vehilce-health-status/neural-net/vehicles_trained/export/Servo/1520273651560/\n",
      "Updated ACL on gs://go-de-internal-johanna/vehilce-health-status/neural-net/vehicles_trained/export/\n",
      "Updated ACL on gs://go-de-internal-johanna/vehilce-health-status/neural-net/vehicles_trained/events.out.tfevents.1520273224.cmle-training-master-e97f25bfc7-0-b8t26\n",
      "Updated ACL on gs://go-de-internal-johanna/vehilce-health-status/neural-net/vehicles_trained/export/Servo/\n",
      "Updated ACL on gs://go-de-internal-johanna/vehilce-health-status/neural-net/vehicles_trained/export/Servo/1520273651560/variables/\n",
      "Updated ACL on gs://go-de-internal-johanna/vehilce-health-status/neural-net/vehicles_trained/export/Servo/1520273651560/variables/variables.index\n",
      "Updated ACL on gs://go-de-internal-johanna/vehilce-health-status/neural-net/vehicles_trained/model.ckpt-1.data-00000-of-00001\n",
      "Updated ACL on gs://go-de-internal-johanna/vehilce-health-status/neural-net/vehicles_trained/export/Servo/1520273651560/variables/variables.data-00000-of-00001\n",
      "Updated ACL on gs://go-de-internal-johanna/vehilce-health-status/neural-net/vehicles_trained/graph.pbtxt\n",
      "Updated ACL on gs://go-de-internal-johanna/vehilce-health-status/neural-net/vehicles_trained/model.ckpt-1.index\n",
      "Updated ACL on gs://go-de-internal-johanna/vehilce-health-status/neural-net/vehicles_trained/model.ckpt-1.meta\n",
      "Updated ACL on gs://go-de-internal-johanna/vehilce-health-status/neural-net/vehicles_trained/model.ckpt-2100.data-00000-of-00001\n",
      "Updated ACL on gs://go-de-internal-johanna/vehilce-health-status/neural-net/vehicles_trained/model.ckpt-2100.index\n",
      "Updated ACL on gs://go-de-internal-johanna/vehilce-health-status/neural-net/vehicles_trained/model.ckpt-2100.meta\n",
      "No changes to gs://go-de-internal-johanna/\n"
     ]
    }
   ],
   "source": [
    "%bash\n",
    "PROJECT_ID=$PROJECT\n",
    "AUTH_TOKEN=$(gcloud auth print-access-token)\n",
    "SVC_ACCOUNT=$(curl -X GET -H \"Content-Type: application/json\" \\\n",
    "    -H \"Authorization: Bearer $AUTH_TOKEN\" \\\n",
    "    https://ml.googleapis.com/v1/projects/${PROJECT_ID}:getConfig \\\n",
    "    | python -c \"import json; import sys; response = json.load(sys.stdin); \\\n",
    "    print response['serviceAccount']\")\n",
    "\n",
    "echo \"Authorizing the Cloud ML Service account $SVC_ACCOUNT to access files in $BUCKET\"\n",
    "gsutil -m defacl ch -u $SVC_ACCOUNT:R gs://$BUCKET\n",
    "gsutil -m acl ch -u $SVC_ACCOUNT:R -r gs://$BUCKET  # error message (if bucket is empty) can be ignored\n",
    "gsutil -m acl ch -u $SVC_ACCOUNT:W gs://$BUCKET"
   ]
  },
  {
   "cell_type": "code",
   "execution_count": 7,
   "metadata": {
    "collapsed": false,
    "deletable": true,
    "editable": true
   },
   "outputs": [
    {
     "name": "stdout",
     "output_type": "stream",
     "text": [
      "go-de-internal-johanna\n"
     ]
    },
    {
     "name": "stderr",
     "output_type": "stream",
     "text": [
      "Removing gs://go-de-internal-johanna/churn-prediction/neural_net/churn-einzelhandel-test.csv#1520336666709749...\n",
      "Removing gs://go-de-internal-johanna/churn-prediction/neural_net/churn-einzelhandel-train.csv#1520336666913302...\n",
      "Removing gs://go-de-internal-johanna/churn-prediction/neural_net/churn-einzelhandel-valid.csv#1520336666710992...\n",
      "Removing gs://go-de-internal-johanna/churn-prediction/neural_net/churn-telecommunication.csv#1520336666418153...\n",
      "Removing gs://go-de-internal-johanna/churn-prediction/neural_net/churn_trained/#1520336670979825...\n",
      "/ [1/13 objects]   7% Done                                                      \r",
      "/ [2/13 objects]  15% Done                                                      \r",
      "Removing gs://go-de-internal-johanna/churn-prediction/neural_net/churn_trained/export/#1520336678399688...\n",
      "Removing gs://go-de-internal-johanna/churn-prediction/neural_net/churn_trained/churn_model.hdf5#1520336677912198...\n",
      "/ [3/13 objects]  23% Done                                                      \r",
      "/ [4/13 objects]  30% Done                                                      \r",
      "/ [5/13 objects]  38% Done                                                      \r",
      "Removing gs://go-de-internal-johanna/churn-prediction/neural_net/churn_trained/export/saved_model.pb#1520336681936538...\n",
      "Removing gs://go-de-internal-johanna/churn-prediction/neural_net/churn_trained/export/variables/#1520336680665446...\n",
      "Removing gs://go-de-internal-johanna/churn-prediction/neural_net/churn_trained/export/variables/variables.data-00000-of-00001#1520336681108942...\n",
      "Removing gs://go-de-internal-johanna/churn-prediction/neural_net/churn_trained/export/variables/variables.index#1520336681442834...\n",
      "Removing gs://go-de-internal-johanna/churn-prediction/neural_net/churn_trained/logs/#1520336671201484...\n",
      "Removing gs://go-de-internal-johanna/churn-prediction/neural_net/churn_trained/logs/events.out.tfevents.1520336671.440bac950f96#1520336677556028...\n",
      "/ [6/13 objects]  46% Done                                                      \r",
      "/ [7/13 objects]  53% Done                                                      \r",
      "/ [8/13 objects]  61% Done                                                      \r",
      "/ [9/13 objects]  69% Done                                                      \r",
      "/ [10/13 objects]  76% Done                                                     \r",
      "/ [11/13 objects]  84% Done                                                     \r",
      "/ [12/13 objects]  92% Done                                                     \r",
      "/ [13/13 objects] 100% Done                                                     \r\n",
      "Operation completed over 13 objects.                                             \n",
      "Copying file:///content/datalab/demo-cases/churn-prediction/neural-net/churn-einzelhandel-test.csv [Content-Type=text/csv]...\n",
      "/ [0 files][    0.0 B/  9.8 MiB]                                                \r",
      "Copying file:///content/datalab/demo-cases/churn-prediction/neural-net/churn-einzelhandel-train.csv [Content-Type=text/csv]...\n",
      "/ [0 files][    0.0 B/ 39.4 MiB]                                                \r",
      "Copying file:///content/datalab/demo-cases/churn-prediction/neural-net/churn-einzelhandel-valid.csv [Content-Type=text/csv]...\n",
      "/ [0/7 files][    0.0 B/ 50.7 MiB]   0% Done                                    \r",
      "Copying file:///content/datalab/demo-cases/churn-prediction/neural-net/churn-telecommunication.csv [Content-Type=text/csv]...\n",
      "/ [0/7 files][    0.0 B/ 50.7 MiB]   0% Done                                    \r",
      "Copying file:///content/datalab/demo-cases/churn-prediction/neural-net/works-test.csv [Content-Type=text/csv]...\n",
      "/ [0/7 files][    0.0 B/ 50.7 MiB]   0% Done                                    \r",
      "/ [1/7 files][  7.7 MiB/ 50.7 MiB]  15% Done                                    \r",
      "/ [2/7 files][  7.7 MiB/ 50.7 MiB]  15% Done                                    \r",
      "Copying file:///content/datalab/demo-cases/churn-prediction/neural-net/works-valid.csv [Content-Type=text/csv]...\n",
      "Copying file:///content/datalab/demo-cases/churn-prediction/neural-net/works-train.csv [Content-Type=text/csv]...\n",
      "/ [2/7 files][  7.7 MiB/ 50.7 MiB]  15% Done                                    \r",
      "/ [2/7 files][  7.7 MiB/ 50.7 MiB]  15% Done                                    \r",
      "-\r",
      "- [3/7 files][ 27.2 MiB/ 50.7 MiB]  53% Done                                    \r",
      "- [4/7 files][ 33.5 MiB/ 50.7 MiB]  66% Done                                    \r",
      "- [5/7 files][ 50.7 MiB/ 50.7 MiB]  99% Done                                    \r",
      "- [6/7 files][ 50.7 MiB/ 50.7 MiB]  99% Done                                    \r",
      "- [7/7 files][ 50.7 MiB/ 50.7 MiB] 100% Done                                    \r\n",
      "Operation completed over 7 objects/50.7 MiB.                                     \n"
     ]
    }
   ],
   "source": [
    "%bash\n",
    "echo $BUCKET\n",
    "gsutil -m rm -rf gs://${BUCKET}/churn-prediction/neural_net/\n",
    "gsutil -m cp ${REPO}/*.csv gs://${BUCKET}/churn-prediction/neural_net/"
   ]
  },
  {
   "cell_type": "code",
   "execution_count": 8,
   "metadata": {
    "collapsed": false,
    "deletable": true,
    "editable": true
   },
   "outputs": [
    {
     "name": "stdout",
     "output_type": "stream",
     "text": [
      "go-de-internal-johanna\n",
      "Tensor(\"metrics/recall/div:0\", shape=(), dtype=float32)\n",
      "<class 'tensorflow.python.framework.ops.Tensor'>\n",
      "(<class 'keras.optimizers.RMSprop'>, {'epsilon': 1e-07, 'lr': 0.0010000000474974513, 'rho': 0.8999999761581421, 'decay': 0.0})\n",
      "Epoch 1/5\n",
      "\n",
      "  1/100 [..............................] - ETA: 23s - loss: 0.7147 - acc: 0.4062 - precision: 0.4062 - recall: 0.4062\n",
      " 14/100 [===>..........................] - ETA: 1s - loss: 0.6471 - acc: 0.6220 - precision: 0.6220 - recall: 0.6220 \n",
      " 21/100 [=====>........................] - ETA: 1s - loss: 0.6269 - acc: 0.6502 - precision: 0.6502 - recall: 0.6502\n",
      " 29/100 [=======>......................] - ETA: 0s - loss: 0.6079 - acc: 0.6699 - precision: 0.6699 - recall: 0.6699\n",
      " 35/100 [=========>....................] - ETA: 0s - loss: 0.5927 - acc: 0.6845 - precision: 0.6845 - recall: 0.6845\n",
      " 43/100 [===========>..................] - ETA: 0s - loss: 0.5773 - acc: 0.6952 - precision: 0.6952 - recall: 0.6952\n",
      " 51/100 [==============>...............] - ETA: 0s - loss: 0.5617 - acc: 0.7061 - precision: 0.7061 - recall: 0.7061\n",
      " 58/100 [================>.............] - ETA: 0s - loss: 0.5528 - acc: 0.7139 - precision: 0.7139 - recall: 0.7139\n",
      " 63/100 [=================>............] - ETA: 0s - loss: 0.5507 - acc: 0.7153 - precision: 0.7153 - recall: 0.7153\n",
      " 68/100 [===================>..........] - ETA: 0s - loss: 0.5455 - acc: 0.7174 - precision: 0.7174 - recall: 0.7174\n",
      " 75/100 [=====================>........] - ETA: 0s - loss: 0.5449 - acc: 0.7185 - precision: 0.7185 - recall: 0.7185\n",
      " 83/100 [=======================>......] - ETA: 0s - loss: 0.5412 - acc: 0.7212 - precision: 0.7212 - recall: 0.7212\n",
      " 90/100 [==========================>...] - ETA: 0s - loss: 0.5380 - acc: 0.7255 - precision: 0.7255 - recall: 0.7255\n",
      " 97/100 [============================>.] - ETA: 0s - loss: 0.5360 - acc: 0.7269 - precision: 0.7269 - recall: 0.7269\n",
      "100/100 [==============================] - 1s 10ms/step - loss: 0.5383 - acc: 0.7258 - precision: 0.7258 - recall: 0.7258\n",
      "Epoch 2/5\n",
      "\n",
      "  1/100 [..............................] - ETA: 0s - loss: 0.5186 - acc: 0.7656 - precision: 0.7656 - recall: 0.7656\n",
      "  9/100 [=>............................] - ETA: 0s - loss: 0.4850 - acc: 0.7652 - precision: 0.7652 - recall: 0.7652\n",
      " 16/100 [===>..........................] - ETA: 0s - loss: 0.5124 - acc: 0.7433 - precision: 0.7433 - recall: 0.7433\n",
      " 24/100 [======>.......................] - ETA: 0s - loss: 0.4958 - acc: 0.7498 - precision: 0.7498 - recall: 0.7498\n",
      " 31/100 [========>.....................] - ETA: 0s - loss: 0.4934 - acc: 0.7538 - precision: 0.7538 - recall: 0.7538\n",
      " 39/100 [==========>...................] - ETA: 0s - loss: 0.4996 - acc: 0.7532 - precision: 0.7532 - recall: 0.7532\n",
      " 47/100 [=============>................] - ETA: 0s - loss: 0.4907 - acc: 0.7597 - precision: 0.7597 - recall: 0.7597\n",
      " 54/100 [===============>..............] - ETA: 0s - loss: 0.4869 - acc: 0.7623 - precision: 0.7623 - recall: 0.7623\n",
      " 61/100 [=================>............] - ETA: 0s - loss: 0.4862 - acc: 0.7642 - precision: 0.7642 - recall: 0.7642\n",
      " 68/100 [===================>..........] - ETA: 0s - loss: 0.4972 - acc: 0.7555 - precision: 0.7555 - recall: 0.7555\n",
      " 77/100 [======================>.......] - ETA: 0s - loss: 0.4966 - acc: 0.7554 - precision: 0.7554 - recall: 0.7554\n",
      " 84/100 [========================>.....] - ETA: 0s - loss: 0.4947 - acc: 0.7589 - precision: 0.7589 - recall: 0.7589\n",
      " 91/100 [==========================>...] - ETA: 0s - loss: 0.4911 - acc: 0.7607 - precision: 0.7607 - recall: 0.7607\n",
      " 99/100 [============================>.] - ETA: 0s - loss: 0.4951 - acc: 0.7584 - precision: 0.7584 - recall: 0.7584\n",
      "100/100 [==============================] - 1s 8ms/step - loss: 0.4956 - acc: 0.7580 - precision: 0.7580 - recall: 0.7580\n",
      "Epoch 3/5\n",
      "\n",
      "  1/100 [..............................] - ETA: 0s - loss: 0.3979 - acc: 0.8438 - precision: 0.8438 - recall: 0.8438\n",
      "  9/100 [=>............................] - ETA: 0s - loss: 0.4017 - acc: 0.7967 - precision: 0.7967 - recall: 0.7967\n",
      " 17/100 [====>.........................] - ETA: 0s - loss: 0.4605 - acc: 0.7776 - precision: 0.7776 - recall: 0.7776\n",
      " 25/100 [======>.......................] - ETA: 0s - loss: 0.4593 - acc: 0.7809 - precision: 0.7809 - recall: 0.7809\n",
      " 32/100 [========>.....................] - ETA: 0s - loss: 0.4771 - acc: 0.7701 - precision: 0.7701 - recall: 0.7701\n",
      " 40/100 [===========>..................] - ETA: 0s - loss: 0.4680 - acc: 0.7773 - precision: 0.7773 - recall: 0.7773\n",
      " 44/100 [============>.................] - ETA: 0s - loss: 0.4801 - acc: 0.7701 - precision: 0.7701 - recall: 0.7701\n",
      " 47/100 [=============>................] - ETA: 0s - loss: 0.4784 - acc: 0.7709 - precision: 0.7709 - recall: 0.7709\n",
      " 54/100 [===============>..............] - ETA: 0s - loss: 0.4712 - acc: 0.7746 - precision: 0.7746 - recall: 0.7746\n",
      " 61/100 [=================>............] - ETA: 0s - loss: 0.4657 - acc: 0.7760 - precision: 0.7760 - recall: 0.7760\n",
      " 68/100 [===================>..........] - ETA: 0s - loss: 0.4580 - acc: 0.7778 - precision: 0.7778 - recall: 0.7778\n",
      " 75/100 [=====================>........] - ETA: 0s - loss: 0.4588 - acc: 0.7751 - precision: 0.7751 - recall: 0.7751\n",
      " 82/100 [=======================>......] - ETA: 0s - loss: 0.4552 - acc: 0.7786 - precision: 0.7786 - recall: 0.7786\n",
      " 89/100 [=========================>....] - ETA: 0s - loss: 0.4542 - acc: 0.7812 - precision: 0.7812 - recall: 0.7812\n",
      " 96/100 [===========================>..] - ETA: 0s - loss: 0.4604 - acc: 0.7778 - precision: 0.7778 - recall: 0.7778\n",
      "100/100 [==============================] - 1s 8ms/step - loss: 0.4569 - acc: 0.7801 - precision: 0.7801 - recall: 0.7801\n",
      "Epoch 4/5\n",
      "\n",
      "  1/100 [..............................] - ETA: 0s - loss: 0.4049 - acc: 0.8333 - precision: 0.8333 - recall: 0.8333\n",
      "  8/100 [=>............................] - ETA: 0s - loss: 0.4326 - acc: 0.8116 - precision: 0.8116 - recall: 0.8116\n",
      " 14/100 [===>..........................] - ETA: 0s - loss: 0.4178 - acc: 0.8108 - precision: 0.8108 - recall: 0.8108\n",
      " 22/100 [=====>........................] - ETA: 0s - loss: 0.4417 - acc: 0.8049 - precision: 0.8049 - recall: 0.8049\n",
      " 29/100 [=======>......................] - ETA: 0s - loss: 0.4579 - acc: 0.7902 - precision: 0.7902 - recall: 0.7902\n",
      " 37/100 [==========>...................] - ETA: 0s - loss: 0.4480 - acc: 0.7960 - precision: 0.7960 - recall: 0.7960\n",
      " 42/100 [===========>..................] - ETA: 0s - loss: 0.4411 - acc: 0.7985 - precision: 0.7985 - recall: 0.7985\n",
      " 49/100 [=============>................] - ETA: 0s - loss: 0.4356 - acc: 0.8012 - precision: 0.8012 - recall: 0.8012\n",
      " 56/100 [===============>..............] - ETA: 0s - loss: 0.4286 - acc: 0.8055 - precision: 0.8055 - recall: 0.8055\n",
      " 64/100 [==================>...........] - ETA: 0s - loss: 0.4346 - acc: 0.8002 - precision: 0.8002 - recall: 0.8002\n",
      " 72/100 [====================>.........] - ETA: 0s - loss: 0.4364 - acc: 0.7958 - precision: 0.7958 - recall: 0.7958\n",
      " 80/100 [=======================>......] - ETA: 0s - loss: 0.4360 - acc: 0.7927 - precision: 0.7927 - recall: 0.7927\n",
      " 84/100 [========================>.....] - ETA: 0s - loss: 0.4360 - acc: 0.7914 - precision: 0.7914 - recall: 0.7914\n",
      " 92/100 [==========================>...] - ETA: 0s - loss: 0.4375 - acc: 0.7884 - precision: 0.7884 - recall: 0.7884\n",
      "100/100 [==============================] - 1s 8ms/step - loss: 0.4457 - acc: 0.7835 - precision: 0.7835 - recall: 0.7835\n",
      "Epoch 5/5\n",
      "\n",
      "  1/100 [..............................] - ETA: 0s - loss: 0.3181 - acc: 0.8611 - precision: 0.8611 - recall: 0.8611\n",
      "  8/100 [=>............................] - ETA: 0s - loss: 0.3583 - acc: 0.8446 - precision: 0.8446 - recall: 0.8446\n",
      " 16/100 [===>..........................] - ETA: 0s - loss: 0.4445 - acc: 0.7936 - precision: 0.7936 - recall: 0.7936\n",
      " 24/100 [======>.......................] - ETA: 0s - loss: 0.4180 - acc: 0.8074 - precision: 0.8074 - recall: 0.8074\n",
      " 32/100 [========>.....................] - ETA: 0s - loss: 0.4203 - acc: 0.8060 - precision: 0.8060 - recall: 0.8060\n",
      " 37/100 [==========>...................] - ETA: 0s - loss: 0.4349 - acc: 0.7934 - precision: 0.7934 - recall: 0.7934\n",
      " 45/100 [============>.................] - ETA: 0s - loss: 0.4251 - acc: 0.7976 - precision: 0.7976 - recall: 0.7976\n",
      " 52/100 [==============>...............] - ETA: 0s - loss: 0.4314 - acc: 0.7960 - precision: 0.7960 - recall: 0.7960\n",
      " 60/100 [=================>............] - ETA: 0s - loss: 0.4306 - acc: 0.7977 - precision: 0.7977 - recall: 0.7977\n",
      " 67/100 [===================>..........] - ETA: 0s - loss: 0.4444 - acc: 0.7903 - precision: 0.7903 - recall: 0.7903\n",
      " 74/100 [=====================>........] - ETA: 0s - loss: 0.4433 - acc: 0.7900 - precision: 0.7900 - recall: 0.7900\n",
      " 81/100 [=======================>......] - ETA: 0s - loss: 0.4443 - acc: 0.7915 - precision: 0.7915 - recall: 0.7915\n",
      " 88/100 [=========================>....] - ETA: 0s - loss: 0.4388 - acc: 0.7939 - precision: 0.7939 - recall: 0.7939\n",
      " 96/100 [===========================>..] - ETA: 0s - loss: 0.4455 - acc: 0.7927 - precision: 0.7927 - recall: 0.7927\n",
      "100/100 [==============================] - 1s 7ms/step - loss: 0.4460 - acc: 0.7912 - precision: 0.7912 - recall: 0.7912\n"
     ]
    },
    {
     "name": "stderr",
     "output_type": "stream",
     "text": [
      "Removing gs://go-de-internal-johanna/churn-prediction/neural_net/churn-einzelhandel-test.csv#1520431147061741...\n",
      "Removing gs://go-de-internal-johanna/churn-prediction/neural_net/churn-einzelhandel-train.csv#1520431147142429...\n",
      "Removing gs://go-de-internal-johanna/churn-prediction/neural_net/churn-einzelhandel-valid.csv#1520431147059848...\n",
      "Removing gs://go-de-internal-johanna/churn-prediction/neural_net/churn-telecommunication.csv#1520431146519087...\n",
      "Removing gs://go-de-internal-johanna/churn-prediction/neural_net/works-test.csv#1520431146519223...\n",
      "Removing gs://go-de-internal-johanna/churn-prediction/neural_net/works-train.csv#1520431146884089...\n",
      "Removing gs://go-de-internal-johanna/churn-prediction/neural_net/works-valid.csv#1520431146819256...\n",
      "/ [1/7 objects]  14% Done                                                       \r",
      "/ [2/7 objects]  28% Done                                                       \r",
      "/ [3/7 objects]  42% Done                                                       \r",
      "/ [4/7 objects]  57% Done                                                       \r",
      "/ [5/7 objects]  71% Done                                                       \r",
      "/ [6/7 objects]  85% Done                                                       \r",
      "/ [7/7 objects] 100% Done                                                       \r\n",
      "Operation completed over 7 objects.                                              \n",
      "Copying file:///content/datalab/demo-cases/churn-prediction/neural-net/churn-einzelhandel-test.csv [Content-Type=text/csv]...\n",
      "/ [0 files][    0.0 B/  9.8 MiB]                                                \r",
      "Copying file:///content/datalab/demo-cases/churn-prediction/neural-net/churn-einzelhandel-train.csv [Content-Type=text/csv]...\n",
      "/ [0 files][    0.0 B/ 39.4 MiB]                                                \r",
      "Copying file:///content/datalab/demo-cases/churn-prediction/neural-net/churn-einzelhandel-valid.csv [Content-Type=text/csv]...\n",
      "/ [0 files][    0.0 B/ 49.2 MiB]                                                \r",
      "Copying file:///content/datalab/demo-cases/churn-prediction/neural-net/churn-telecommunication.csv [Content-Type=text/csv]...\n",
      "/ [0/7 files][    0.0 B/ 50.7 MiB]   0% Done                                    \r",
      "Copying file:///content/datalab/demo-cases/churn-prediction/neural-net/works-test.csv [Content-Type=text/csv]...\n",
      "/ [0/7 files][    0.0 B/ 50.7 MiB]   0% Done                                    \r",
      "/ [1/7 files][  5.3 MiB/ 50.7 MiB]  10% Done                                    \r",
      "Copying file:///content/datalab/demo-cases/churn-prediction/neural-net/works-train.csv [Content-Type=text/csv]...\n",
      "/ [1/7 files][  5.6 MiB/ 50.7 MiB]  11% Done                                    \r",
      "/ [2/7 files][  7.1 MiB/ 50.7 MiB]  14% Done                                    \r",
      "Copying file:///content/datalab/demo-cases/churn-prediction/neural-net/works-valid.csv [Content-Type=text/csv]...\n",
      "/ [2/7 files][  7.1 MiB/ 50.7 MiB]  14% Done                                    \r",
      "-\r",
      "- [3/7 files][ 32.2 MiB/ 50.7 MiB]  63% Done                                    \r",
      "- [4/7 files][ 32.2 MiB/ 50.7 MiB]  63% Done                                    \r",
      "- [5/7 files][ 50.7 MiB/ 50.7 MiB]  99% Done                                    \r",
      "- [6/7 files][ 50.7 MiB/ 50.7 MiB]  99% Done                                    \r",
      "- [7/7 files][ 50.7 MiB/ 50.7 MiB] 100% Done                                    \r\n",
      "Operation completed over 7 objects/50.7 MiB.                                     \n",
      "/usr/local/envs/py2env/lib/python2.7/site-packages/h5py/__init__.py:36: FutureWarning: Conversion of the second argument of issubdtype from `float` to `np.floating` is deprecated. In future, it will be treated as `np.float64 == np.dtype(float).type`.\n",
      "  from ._conv import register_converters as _register_converters\n",
      "Using TensorFlow backend.\n",
      "2018-03-07 13:59:14.607458: I tensorflow/core/platform/cpu_feature_guard.cc:137] Your CPU supports instructions that this TensorFlow binary was not compiled to use: SSE4.1 SSE4.2 AVX\n",
      "/usr/local/envs/py2env/lib/python2.7/site-packages/keras/callbacks.py:435: RuntimeWarning: Can save best model only with val_loss available, skipping.\n",
      "  'skipping.' % (self.monitor), RuntimeWarning)\n"
     ]
    }
   ],
   "source": [
    "%bash\n",
    "echo $BUCKET\n",
    "gsutil -m rm -rf gs://${BUCKET}/churn-prediction/neural_net/\n",
    "gsutil -m cp ${REPO}/*.csv gs://${BUCKET}/churn-prediction/neural_net/\n",
    "OUTDIR=gs://${BUCKET}/churn-prediction/neural_net/churn_trained/\n",
    "rm -rf vehicles.tar.gz churn_trained\n",
    "gcloud ml-engine local train \\\n",
    "  --module-name=trainer.task \\\n",
    "  --package-path=${REPO}/einzelhandel/trainer \\\n",
    "  --job-dir $OUTDIR \\\n",
    "  -- \\\n",
    "  --train_files=${REPO}/churn-einzelhandel-train.csv \\\n",
    "  --eval_files=${REPO}/churn-einzelhandel-valid.csv  \\\n",
    "  --num_epochs=5 \\\n",
    "  --output_dir=$OUTDIR "
   ]
  },
  {
   "cell_type": "code",
   "execution_count": 50,
   "metadata": {
    "collapsed": false,
    "deletable": true,
    "editable": true
   },
   "outputs": [
    {
     "name": "stdout",
     "output_type": "stream",
     "text": [
      "go-de-internal-johanna\n"
     ]
    },
    {
     "name": "stderr",
     "output_type": "stream",
     "text": [
      "Removing gs://go-de-internal-johanna/churn-prediction/neural_net/churn-einzelhandel-test.csv#1520332655689918...\n",
      "Removing gs://go-de-internal-johanna/churn-prediction/neural_net/churn-einzelhandel-train.csv#1520332655916552...\n",
      "Removing gs://go-de-internal-johanna/churn-prediction/neural_net/churn-einzelhandel-valid.csv#1520332655689545...\n",
      "Removing gs://go-de-internal-johanna/churn-prediction/neural_net/churn-telecommunication.csv#1520332655268372...\n",
      "/ [1/4 objects]  25% Done                                                       \r",
      "/ [2/4 objects]  50% Done                                                       \r",
      "/ [3/4 objects]  75% Done                                                       \r",
      "/ [4/4 objects] 100% Done                                                       \r\n",
      "Operation completed over 4 objects.                                              \n",
      "Copying file:///content/datalab/demo-cases/churn-prediction/neural-net/churn-einzelhandel-test.csv [Content-Type=text/csv]...\n",
      "/ [0 files][    0.0 B/  9.8 MiB]                                                \r",
      "Copying file:///content/datalab/demo-cases/churn-prediction/neural-net/churn-einzelhandel-train.csv [Content-Type=text/csv]...\n",
      "/ [0 files][    0.0 B/ 39.4 MiB]                                                \r",
      "Copying file:///content/datalab/demo-cases/churn-prediction/neural-net/churn-einzelhandel-valid.csv [Content-Type=text/csv]...\n",
      "/ [0 files][    0.0 B/ 49.2 MiB]                                                \r",
      "Copying file:///content/datalab/demo-cases/churn-prediction/neural-net/churn-telecommunication.csv [Content-Type=text/csv]...\n",
      "/ [0/4 files][    0.0 B/ 49.7 MiB]   0% Done                                    \r",
      "/ [1/4 files][ 13.9 MiB/ 49.7 MiB]  27% Done                                    \r",
      "-\r",
      "- [2/4 files][ 49.3 MiB/ 49.7 MiB]  99% Done                                    \r",
      "- [3/4 files][ 49.7 MiB/ 49.7 MiB]  99% Done                                    \r",
      "- [4/4 files][ 49.7 MiB/ 49.7 MiB] 100% Done                                    \r\n",
      "Operation completed over 4 objects/49.7 MiB.                                     \n"
     ]
    }
   ],
   "source": [
    "%bash\n",
    "echo $BUCKET\n",
    "gsutil -m rm -rf gs://${BUCKET}/churn-prediction/neural_net\n",
    "gsutil -m cp ${REPO}/*.csv gs://${BUCKET}/churn-prediction/neural_net/"
   ]
  },
  {
   "cell_type": "code",
   "execution_count": 51,
   "metadata": {
    "collapsed": false,
    "deletable": true,
    "editable": true
   },
   "outputs": [
    {
     "name": "stdout",
     "output_type": "stream",
     "text": [
      "gs://go-de-internal-johanna/churn-prediction/neural_net/churn_trained europe-west1 churn_model_180306_103832\n",
      "jobId: churn_model_180306_103832\n",
      "state: QUEUED\n"
     ]
    },
    {
     "name": "stderr",
     "output_type": "stream",
     "text": [
      "CommandException: 1 files/objects could not be removed.\n",
      "/tools/google-cloud-sdk/lib/googlecloudsdk/core/util/files.py:622: UnicodeWarning: Unicode equal comparison failed to convert both arguments to Unicode - interpreting them as being unequal\n",
      "  for chunk in iter(lambda: fp.read(4096), ''):\n",
      "Job [churn_model_180306_103832] submitted successfully.\n",
      "Your job is still active. You may view the status of your job with the command\n",
      "\n",
      "  $ gcloud ml-engine jobs describe churn_model_180306_103832\n",
      "\n",
      "or continue streaming the logs with the command\n",
      "\n",
      "  $ gcloud ml-engine jobs stream-logs churn_model_180306_103832\n"
     ]
    }
   ],
   "source": [
    "%bash\n",
    "echo $BUCKET\n",
    "gsutil -m rm -rf gs://${BUCKET}/churn-prediction/neural_net/\n",
    "gsutil -m cp ${REPO}/*.csv gs://${BUCKET}/churn-prediction/neural_net/\n",
    "OUTDIR=gs://${BUCKET}/churn-prediction/neural_net/churn_trained/\n",
    "JOBNAME=churn_model_$(date -u +%y%m%d_%H%M%S)\n",
    "echo $OUTDIR $REGION $JOBNAME\n",
    "gsutil -m rm -rf $OUTDIR\n",
    "gcloud ml-engine jobs submit training $JOBNAME \\\n",
    "  --region=$REGION \\\n",
    "  --module-name=trainer.task \\\n",
    "  --package-path=${REPO}/einzelhandel/trainer \\\n",
    "  --job-dir=$OUTDIR \\\n",
    "  --staging-bucket=gs://$BUCKET/ \\\n",
    "  --scale-tier=BASIC \\\n",
    "  --runtime-version=1.2 \\\n",
    "  -- \\\n",
    "  --train_files=\"gs://${BUCKET}/churn_cloud/churn-einzelhandel-train.csv\" \\\n",
    "  --eval_files=\"gs://${BUCKET}/churn_cloud/churn-einzelhandel-valid.csv\"  \\\n",
    "  --num_epochs=100 \\\n",
    "  --output_dir=$OUTDIR \\\n",
    "  --train_steps=100 \\\n",
    "  --eval_steps=100 \\\n",
    "  --train_batch_size=40 \\\n",
    "  --eval_batch_size=40 \\\n",
    "  --learning_rate=0.003 \\\n",
    "  --first_layer_size=256 \\\n",
    "  --num_layers=5 \\\n",
    "  --scale_factor=0.25 \\\n",
    "  --eval_num_epochs=1 \\\n",
    "  --checkpoint_epochs=5"
   ]
  },
  {
   "cell_type": "code",
   "execution_count": null,
   "metadata": {
    "collapsed": false,
    "deletable": true,
    "editable": true
   },
   "outputs": [],
   "source": [
    "!grep -A 2 add_argument trainer/task.py"
   ]
  },
  {
   "cell_type": "code",
   "execution_count": null,
   "metadata": {
    "collapsed": false,
    "deletable": true,
    "editable": true
   },
   "outputs": [],
   "source": [
    "!grep -A 5 eval_metric trainer/model.py"
   ]
  },
  {
   "cell_type": "code",
   "execution_count": null,
   "metadata": {
    "collapsed": false,
    "deletable": true,
    "editable": true
   },
   "outputs": [],
   "source": [
    "%writefile hyperparam.yaml\n",
    "trainingInput:\n",
    "  scaleTier: STANDARD_1\n",
    "  hyperparameters:\n",
    "    goal: MINIMIZE\n",
    "    hyperparameterMetricTag: val_ac\n",
    "    maxTrials: 20\n",
    "    maxParallelTrials: 1\n",
    "    params:\n",
    "    - parameterName: train_batch_size\n",
    "      type: INTEGER\n",
    "      minValue: 64\n",
    "      maxValue: 512\n",
    "      scaleType: UNIT_LOG_SCALE\n",
    "    - parameterName: nbuckets\n",
    "      type: INTEGER\n",
    "      minValue: 10\n",
    "      maxValue: 20\n",
    "      scaleType: UNIT_LINEAR_SCALE\n",
    "    - parameterName: hidden_units\n",
    "      type: CATEGORICAL\n",
    "      categoricalValues: [\"128 32\", \"256 128 16\", \"64 64 64 8\"]       "
   ]
  },
  {
   "cell_type": "code",
   "execution_count": null,
   "metadata": {
    "collapsed": false,
    "deletable": true,
    "editable": true
   },
   "outputs": [],
   "source": [
    "%bash\n",
    "echo $BUCKET\n",
    "gsutil -m rm -rf gs://${BUCKET}/churn_cloud_hyper\n",
    "gsutil -m cp ${REPO}/*.csv gs://${BUCKET}/churn_cloud_hyper/"
   ]
  },
  {
   "cell_type": "code",
   "execution_count": null,
   "metadata": {
    "collapsed": false,
    "deletable": true,
    "editable": true
   },
   "outputs": [],
   "source": [
    "%bash\n",
    "OUTDIR=gs://${BUCKET}/churn_cloud_hyper/churn_trained\n",
    "JOBNAME=churn_model_hyper_$(date -u +%y%m%d_%H%M%S)\n",
    "echo $OUTDIR $REGION $JOBNAME\n",
    "gsutil -m rm -rf $OUTDIR\n",
    "gcloud ml-engine jobs submit training $JOBNAME \\\n",
    "  --region=$REGION \\\n",
    "  --module-name=trainer.task \\\n",
    "  --package-path=${REPO}/trainer \\\n",
    "  --job-dir=$OUTDIR \\\n",
    "  --staging-bucket=gs://$BUCKET/churn_cloud_hyper/ \\\n",
    "  --scale-tier=BASIC \\\n",
    "  --runtime-version=1.2 \\\n",
    "  --config=hyperparam.yaml \\\n",
    "  -- \\\n",
    "  --train_files=\"gs://${BUCKET}/churn_cloud_hyper/churn-einzelhandel-train.csv\" \\\n",
    "  --eval_files=\"gs://${BUCKET}/churn_cloud_hyper/churn-einzelhandel-valid.csv\"  \\\n",
    "  --num_epochs=100\n",
    "  --output_dir=$OUTDIR \\\n",
    "  --train_steps=100 \\\n",
    "  --eval_steps=100 \\\n",
    "  --train_batch_size=40 \\\n",
    "  --eval_batch_size=40 \\\n",
    "  --learning_rate=0.003 \\\n",
    "  --first_layer_size=256 \\\n",
    "  --num_layers=5 \\\n",
    "  --scale_factor=0.25 \\\n",
    "  --eval_num_epochs=1 \\\n",
    "  --checkpoint_epochs=5"
   ]
  },
  {
   "cell_type": "code",
   "execution_count": null,
   "metadata": {
    "collapsed": true,
    "deletable": true,
    "editable": true
   },
   "outputs": [],
   "source": []
  },
  {
   "cell_type": "code",
   "execution_count": null,
   "metadata": {
    "collapsed": true,
    "deletable": true,
    "editable": true
   },
   "outputs": [],
   "source": []
  }
 ],
 "metadata": {
  "kernelspec": {
   "display_name": "Python 2",
   "language": "python",
   "name": "python2"
  },
  "language_info": {
   "codemirror_mode": {
    "name": "ipython",
    "version": 2
   },
   "file_extension": ".py",
   "mimetype": "text/x-python",
   "name": "python",
   "nbconvert_exporter": "python",
   "pygments_lexer": "ipython2",
   "version": "2.7.14"
  }
 },
 "nbformat": 4,
 "nbformat_minor": 2
}
