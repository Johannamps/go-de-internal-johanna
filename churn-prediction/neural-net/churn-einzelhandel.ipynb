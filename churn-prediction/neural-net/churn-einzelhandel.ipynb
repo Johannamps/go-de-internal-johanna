{
 "cells": [
  {
   "cell_type": "code",
   "execution_count": 22,
   "metadata": {
    "collapsed": false,
    "deletable": true,
    "editable": true
   },
   "outputs": [
    {
     "name": "stdout",
     "output_type": "stream",
     "text": [
      "Requirement already satisfied: keras in /usr/local/envs/py2env/lib/python2.7/site-packages\n",
      "Requirement already satisfied: numpy>=1.9.1 in /usr/local/envs/py2env/lib/python2.7/site-packages (from keras)\n",
      "Requirement already satisfied: scipy>=0.14 in /usr/local/envs/py2env/lib/python2.7/site-packages (from keras)\n",
      "Requirement already satisfied: six>=1.9.0 in /usr/local/envs/py2env/lib/python2.7/site-packages (from keras)\n",
      "Requirement already satisfied: pyyaml in /usr/local/envs/py2env/lib/python2.7/site-packages (from keras)\n"
     ]
    }
   ],
   "source": [
    "!pip install keras"
   ]
  },
  {
   "cell_type": "code",
   "execution_count": 23,
   "metadata": {
    "collapsed": false,
    "deletable": true,
    "editable": true
   },
   "outputs": [
    {
     "name": "stdout",
     "output_type": "stream",
     "text": [
      "1.5.0\n"
     ]
    }
   ],
   "source": [
    "import datalab.bigquery as bq\n",
    "import seaborn as sns\n",
    "import pandas as pd\n",
    "import numpy as np\n",
    "import shutil\n",
    "import os\n",
    "import h5py\n",
    "from sklearn import preprocessing\n",
    "import keras\n",
    "from pandas_gbq.gbq import GenericGBQException\n",
    "import logging\n",
    "import tensorflow as tf\n",
    "print tf.__version__"
   ]
  },
  {
   "cell_type": "code",
   "execution_count": 24,
   "metadata": {
    "collapsed": false,
    "deletable": true,
    "editable": true
   },
   "outputs": [],
   "source": [
    "PROJECT = 'go-de-internal'\n",
    "BUCKET = 'go-de-internal-johanna'\n",
    "REGION = 'europe-west1'\n",
    "REPO = \"/content/datalab/demo-cases/churn-prediction/neural-net\""
   ]
  },
  {
   "cell_type": "code",
   "execution_count": 25,
   "metadata": {
    "collapsed": false,
    "deletable": true,
    "editable": true
   },
   "outputs": [],
   "source": [
    "# for bash\n",
    "os.environ['PROJECT'] = PROJECT\n",
    "os.environ['BUCKET'] = BUCKET\n",
    "os.environ['REGION'] = REGION\n",
    "os.environ['REPO'] = REPO"
   ]
  },
  {
   "cell_type": "code",
   "execution_count": 26,
   "metadata": {
    "collapsed": false,
    "deletable": true,
    "editable": true
   },
   "outputs": [
    {
     "name": "stderr",
     "output_type": "stream",
     "text": [
      "Updated property [core/project].\n",
      "Updated property [compute/region].\n"
     ]
    }
   ],
   "source": [
    "%bash\n",
    "gcloud config set project $PROJECT\n",
    "gcloud config set compute/region $REGION"
   ]
  },
  {
   "cell_type": "code",
   "execution_count": 27,
   "metadata": {
    "collapsed": false,
    "deletable": true,
    "editable": true
   },
   "outputs": [
    {
     "name": "stdout",
     "output_type": "stream",
     "text": [
      "Authorizing the Cloud ML Service account service-462605511119@cloud-ml.google.com.iam.gserviceaccount.com to access files in go-de-internal-johanna\n"
     ]
    },
    {
     "name": "stderr",
     "output_type": "stream",
     "text": [
      "  % Total    % Received % Xferd  Average Speed   Time    Time     Time  Current\n",
      "                                 Dload  Upload   Total   Spent    Left  Speed\n",
      "\r",
      "  0     0    0     0    0     0      0      0 --:--:-- --:--:-- --:--:--     0\r",
      "100   133    0   133    0     0    135      0 --:--:-- --:--:-- --:--:--   135\r",
      "100   133    0   133    0     0    135      0 --:--:-- --:--:-- --:--:--   135\n",
      "No changes to gs://go-de-internal-johanna/\n",
      "No changes to gs://go-de-internal-johanna/churn-prediction/\n",
      "No changes to gs://go-de-internal-johanna/churn-prediction/mv_ab_model_ads_build_sep.csv\n",
      "No changes to gs://go-de-internal-johanna/churn-prediction/neural_net/churn-telecommunication.csv\n",
      "No changes to gs://go-de-internal-johanna/churn-prediction/neural_net/churn-test.csv\n",
      "No changes to gs://go-de-internal-johanna/churn-prediction/neural_net/churn-train.csv\n",
      "No changes to gs://go-de-internal-johanna/churn-prediction/neural_net/churn-valid.csv\n",
      "No changes to gs://go-de-internal-johanna/churn_neural_net/\n",
      "No changes to gs://go-de-internal-johanna/churn_neural_net/churn_trained/\n",
      "No changes to gs://go-de-internal-johanna/churn_neural_net/churn_trained/churn_model.hdf5\n",
      "No changes to gs://go-de-internal-johanna/churn_neural_net/churn_trained/export/\n",
      "No changes to gs://go-de-internal-johanna/churn_neural_net/churn_trained/export/saved_model.pb\n",
      "No changes to gs://go-de-internal-johanna/churn_neural_net/churn_trained/export/variables/\n",
      "No changes to gs://go-de-internal-johanna/churn_neural_net/churn_trained/export/variables/variables.data-00000-of-00001\n",
      "No changes to gs://go-de-internal-johanna/churn_neural_net/churn_trained/export/variables/variables.index\n",
      "No changes to gs://go-de-internal-johanna/churn_neural_net/churn_trained/logs/\n",
      "No changes to gs://go-de-internal-johanna/churn_neural_net/churn_trained/logs/events.out.tfevents.1520324678.440bac950f96\n",
      "No changes to gs://go-de-internal-johanna/churn_neural_net/churn_trained/logs/events.out.tfevents.1520324794.440bac950f96\n",
      "No changes to gs://go-de-internal-johanna/churn_neural_net/churn_trained/logs/events.out.tfevents.1520325379.440bac950f96\n",
      "No changes to gs://go-de-internal-johanna/churn_neural_net/churn_trained/logs/events.out.tfevents.1520326680.440bac950f96\n",
      "No changes to gs://go-de-internal-johanna/churn_neural_net/churn_trained/logs/events.out.tfevents.1520326706.440bac950f96\n",
      "No changes to gs://go-de-internal-johanna/churn_neural_net/churn_trained/logs/events.out.tfevents.1520326726.440bac950f96\n",
      "No changes to gs://go-de-internal-johanna/churn_neural_net/churn_trained/logs/events.out.tfevents.1520326920.440bac950f96\n",
      "No changes to gs://go-de-internal-johanna/churn_neural_net/churn_trained/logs/events.out.tfevents.1520327016.440bac950f96\n",
      "No changes to gs://go-de-internal-johanna/churn_neural_net/churn_trained/logs/events.out.tfevents.1520327112.440bac950f96\n",
      "No changes to gs://go-de-internal-johanna/churn_neural_net/churn_trained/logs/events.out.tfevents.1520327269.440bac950f96\n",
      "No changes to gs://go-de-internal-johanna/churn_neural_net/churn_trained/logs/events.out.tfevents.1520327710.440bac950f96\n",
      "No changes to gs://go-de-internal-johanna/churn_neural_net/churn_trained/logs/events.out.tfevents.1520328214.440bac950f96\n",
      "No changes to gs://go-de-internal-johanna/churn_neural_net/churn_trained/logs/events.out.tfevents.1520328314.440bac950f96\n",
      "No changes to gs://go-de-internal-johanna/churn_neural_net/churn_trained/logs/events.out.tfevents.1520328470.440bac950f96\n",
      "No changes to gs://go-de-internal-johanna/churn_neural_net/churn_trained/logs/events.out.tfevents.1520329052.440bac950f96\n",
      "No changes to gs://go-de-internal-johanna/churn_neural_net/churn_trained/logs/events.out.tfevents.1520329567.440bac950f96\n",
      "Updated ACL on gs://go-de-internal-johanna/econsumption/smallinput/\n",
      "Updated ACL on gs://go-de-internal-johanna/econsumption/\n",
      "Updated ACL on gs://go-de-internal-johanna/econsumption/smallinput/vehicles_trained/checkpoint\n",
      "Updated ACL on gs://go-de-internal-johanna/econsumption/smallinput/vehicles_trained/events.out.tfevents.1520261663.cmle-training-master-c86bfda8bf-0-hhknq\n",
      "Updated ACL on gs://go-de-internal-johanna/econsumption/smallinput/vehicles_trained/\n",
      "Updated ACL on gs://go-de-internal-johanna/econsumption/smallinput/vehicles_trained/model.ckpt-0.data-00000-of-00001\n",
      "Updated ACL on gs://go-de-internal-johanna/econsumption/smallinput/vehicles_trained/graph.pbtxt\n",
      "Updated ACL on gs://go-de-internal-johanna/econsumption/smallinput/vehicles_trained/model.ckpt-0.index\n",
      "No changes to gs://go-de-internal-johanna/flight-time-estimate/\n",
      "Updated ACL on gs://go-de-internal-johanna/econsumption/smallinput/vehicles_trained/model.ckpt-0.meta\n",
      "No changes to gs://go-de-internal-johanna/pattern-recognition/\n",
      "No changes to gs://go-de-internal-johanna/vehicles_health_demo_180305_180649/413a63e0e47758abd44b25679856780a0346cc2efadb779f70292c1e8ffd12fa/econsumption-0.1.tar.gz\n",
      "No changes to gs://go-de-internal-johanna/vehicles_health_demo_hyper_param_180305_180703/0712cc9a349f1b7d8b740620452df3c60b430d2647b84bb756e54b883d8f788f/econsumption-0.1.tar.gz\n",
      "No changes to gs://go-de-internal-johanna/vehilce-health-status/\n",
      "No changes to gs://go-de-internal-johanna/vehilce-health-status//neural-net/vehicles-test.csv\n",
      "No changes to gs://go-de-internal-johanna/vehilce-health-status//neural-net/vehicles-train.csv\n",
      "No changes to gs://go-de-internal-johanna/vehilce-health-status//neural-net/vehicles-valid.csv\n",
      "No changes to gs://go-de-internal-johanna/vehilce-health-status/hyper-param/vehicles-test.csv\n",
      "No changes to gs://go-de-internal-johanna/vehilce-health-status/hyper-param/vehicles-train.csv\n",
      "No changes to gs://go-de-internal-johanna/vehilce-health-status/hyper-param/vehicles-valid.csv\n",
      "No changes to gs://go-de-internal-johanna/vehilce-health-status/lindeshow-case-data-all.csv\n",
      "No changes to gs://go-de-internal-johanna/vehilce-health-status/neural-net/vehicles-test.csv\n",
      "No changes to gs://go-de-internal-johanna/vehilce-health-status/neural-net/vehicles-train.csv\n",
      "No changes to gs://go-de-internal-johanna/vehilce-health-status/neural-net/vehicles-valid.csv\n",
      "Updated ACL on gs://go-de-internal-johanna/vehilce-health-status/neural-net/vehicles_trained/\n",
      "Updated ACL on gs://go-de-internal-johanna/vehilce-health-status/neural-net/vehicles_trained/eval/events.out.tfevents.1520273232.cmle-training-master-e97f25bfc7-0-b8t26\n",
      "Updated ACL on gs://go-de-internal-johanna/vehilce-health-status/neural-net/vehicles_trained/eval/events.out.tfevents.1520273650.cmle-training-master-e97f25bfc7-0-b8t26\n",
      "Updated ACL on gs://go-de-internal-johanna/vehilce-health-status/neural-net/vehicles_trained/eval/\n",
      "Updated ACL on gs://go-de-internal-johanna/vehilce-health-status/neural-net/vehicles_trained/checkpoint\n",
      "Updated ACL on gs://go-de-internal-johanna/vehilce-health-status/neural-net/vehicles_trained/export/Servo/1520273651560/saved_model.pb\n",
      "Updated ACL on gs://go-de-internal-johanna/vehilce-health-status/neural-net/vehicles_trained/export/Servo/1520273651560/\n",
      "Updated ACL on gs://go-de-internal-johanna/vehilce-health-status/neural-net/vehicles_trained/events.out.tfevents.1520273224.cmle-training-master-e97f25bfc7-0-b8t26\n",
      "Updated ACL on gs://go-de-internal-johanna/vehilce-health-status/neural-net/vehicles_trained/export/Servo/\n",
      "Updated ACL on gs://go-de-internal-johanna/vehilce-health-status/neural-net/vehicles_trained/export/\n",
      "Updated ACL on gs://go-de-internal-johanna/vehilce-health-status/neural-net/vehicles_trained/graph.pbtxt\n",
      "Updated ACL on gs://go-de-internal-johanna/vehilce-health-status/neural-net/vehicles_trained/export/Servo/1520273651560/variables/variables.index\n",
      "Updated ACL on gs://go-de-internal-johanna/vehilce-health-status/neural-net/vehicles_trained/export/Servo/1520273651560/variables/variables.data-00000-of-00001\n",
      "Updated ACL on gs://go-de-internal-johanna/vehilce-health-status/neural-net/vehicles_trained/export/Servo/1520273651560/variables/\n",
      "Updated ACL on gs://go-de-internal-johanna/vehilce-health-status/neural-net/vehicles_trained/model.ckpt-1.data-00000-of-00001\n",
      "Updated ACL on gs://go-de-internal-johanna/vehilce-health-status/neural-net/vehicles_trained/model.ckpt-1.index\n",
      "Updated ACL on gs://go-de-internal-johanna/vehilce-health-status/neural-net/vehicles_trained/model.ckpt-1.meta\n",
      "Updated ACL on gs://go-de-internal-johanna/vehilce-health-status/neural-net/vehicles_trained/model.ckpt-2100.meta\n",
      "Updated ACL on gs://go-de-internal-johanna/vehilce-health-status/neural-net/vehicles_trained/model.ckpt-2100.data-00000-of-00001\n",
      "Updated ACL on gs://go-de-internal-johanna/vehilce-health-status/neural-net/vehicles_trained/model.ckpt-2100.index\n",
      "No changes to gs://go-de-internal-johanna/\n"
     ]
    }
   ],
   "source": [
    "%bash\n",
    "PROJECT_ID=$PROJECT\n",
    "AUTH_TOKEN=$(gcloud auth print-access-token)\n",
    "SVC_ACCOUNT=$(curl -X GET -H \"Content-Type: application/json\" \\\n",
    "    -H \"Authorization: Bearer $AUTH_TOKEN\" \\\n",
    "    https://ml.googleapis.com/v1/projects/${PROJECT_ID}:getConfig \\\n",
    "    | python -c \"import json; import sys; response = json.load(sys.stdin); \\\n",
    "    print response['serviceAccount']\")\n",
    "\n",
    "echo \"Authorizing the Cloud ML Service account $SVC_ACCOUNT to access files in $BUCKET\"\n",
    "gsutil -m defacl ch -u $SVC_ACCOUNT:R gs://$BUCKET\n",
    "gsutil -m acl ch -u $SVC_ACCOUNT:R -r gs://$BUCKET  # error message (if bucket is empty) can be ignored\n",
    "gsutil -m acl ch -u $SVC_ACCOUNT:W gs://$BUCKET"
   ]
  },
  {
   "cell_type": "code",
   "execution_count": 28,
   "metadata": {
    "collapsed": false,
    "deletable": true,
    "editable": true
   },
   "outputs": [
    {
     "name": "stdout",
     "output_type": "stream",
     "text": [
      "go-de-internal-johanna\n"
     ]
    },
    {
     "name": "stderr",
     "output_type": "stream",
     "text": [
      "Removing gs://go-de-internal-johanna/churn-prediction/neural_net/churn-telecommunication.csv#1520329402756741...\n",
      "Removing gs://go-de-internal-johanna/churn-prediction/neural_net/churn-test.csv#1520329403029613...\n",
      "Removing gs://go-de-internal-johanna/churn-prediction/neural_net/churn-train.csv#1520329403149074...\n",
      "Removing gs://go-de-internal-johanna/churn-prediction/neural_net/churn-valid.csv#1520329402986301...\n",
      "/ [1/4 objects]  25% Done                                                       \r",
      "/ [2/4 objects]  50% Done                                                       \r",
      "/ [3/4 objects]  75% Done                                                       \r",
      "/ [4/4 objects] 100% Done                                                       \r\n",
      "Operation completed over 4 objects.                                              \n",
      "Copying file:///content/datalab/demo-cases/churn-prediction/neural-net/churn-einzelhandel-test.csv [Content-Type=text/csv]...\n",
      "/ [0 files][    0.0 B/  9.8 MiB]                                                \r",
      "Copying file:///content/datalab/demo-cases/churn-prediction/neural-net/churn-einzelhandel-train.csv [Content-Type=text/csv]...\n",
      "/ [0 files][    0.0 B/ 39.4 MiB]                                                \r",
      "Copying file:///content/datalab/demo-cases/churn-prediction/neural-net/churn-einzelhandel-valid.csv [Content-Type=text/csv]...\n",
      "/ [0/4 files][    0.0 B/ 49.7 MiB]   0% Done                                    \r",
      "Copying file:///content/datalab/demo-cases/churn-prediction/neural-net/churn-telecommunication.csv [Content-Type=text/csv]...\n",
      "/ [0/4 files][    0.0 B/ 49.7 MiB]   0% Done                                    \r",
      "/ [1/4 files][  1.3 MiB/ 49.7 MiB]   2% Done                                    \r",
      "-\r",
      "- [2/4 files][ 36.4 MiB/ 49.7 MiB]  73% Done                                    \r",
      "- [3/4 files][ 36.4 MiB/ 49.7 MiB]  73% Done                                    \r",
      "- [4/4 files][ 49.7 MiB/ 49.7 MiB] 100% Done                                    \r\n",
      "Operation completed over 4 objects/49.7 MiB.                                     \n"
     ]
    }
   ],
   "source": [
    "%bash\n",
    "echo $BUCKET\n",
    "gsutil -m rm -rf gs://${BUCKET}/churn-prediction/neural_net/\n",
    "gsutil -m cp ${REPO}/*.csv gs://${BUCKET}/churn-prediction/neural_net/"
   ]
  },
  {
   "cell_type": "code",
   "execution_count": 61,
   "metadata": {
    "collapsed": false,
    "deletable": true,
    "editable": true
   },
   "outputs": [
    {
     "name": "stdout",
     "output_type": "stream",
     "text": [
      "go-de-internal-johanna\n",
      "Tensor(\"metrics/recall/div:0\", shape=(), dtype=float32)\n",
      "<class 'tensorflow.python.framework.ops.Tensor'>\n",
      "(<class 'keras.optimizers.RMSprop'>, {'epsilon': 1e-07, 'lr': 0.0010000000474974513, 'rho': 0.8999999761581421, 'decay': 0.0})\n",
      "Epoch 1/5\n",
      "\n",
      "  1/100 [..............................] - ETA: 30s - loss: 0.6911 - acc: 0.5781 - precision: 0.5781 - recall: 0.5781\n",
      " 13/100 [==>...........................] - ETA: 2s - loss: 0.6339 - acc: 0.6541 - precision: 0.6541 - recall: 0.6541 \n",
      " 20/100 [=====>........................] - ETA: 1s - loss: 0.6138 - acc: 0.6749 - precision: 0.6749 - recall: 0.6749\n",
      " 27/100 [=======>......................] - ETA: 1s - loss: 0.5960 - acc: 0.6918 - precision: 0.6918 - recall: 0.6918\n",
      " 34/100 [=========>....................] - ETA: 1s - loss: 0.5824 - acc: 0.7020 - precision: 0.7020 - recall: 0.7020\n",
      " 41/100 [===========>..................] - ETA: 0s - loss: 0.5730 - acc: 0.7059 - precision: 0.7059 - recall: 0.7059\n",
      " 48/100 [=============>................] - ETA: 0s - loss: 0.5560 - acc: 0.7179 - precision: 0.7179 - recall: 0.7179\n",
      " 55/100 [===============>..............] - ETA: 0s - loss: 0.5444 - acc: 0.7247 - precision: 0.7247 - recall: 0.7247\n",
      " 62/100 [=================>............] - ETA: 0s - loss: 0.5447 - acc: 0.7240 - precision: 0.7240 - recall: 0.7240\n",
      " 68/100 [===================>..........] - ETA: 0s - loss: 0.5383 - acc: 0.7264 - precision: 0.7264 - recall: 0.7264\n",
      " 75/100 [=====================>........] - ETA: 0s - loss: 0.5384 - acc: 0.7279 - precision: 0.7279 - recall: 0.7279\n",
      " 82/100 [=======================>......] - ETA: 0s - loss: 0.5344 - acc: 0.7301 - precision: 0.7301 - recall: 0.7301\n",
      " 89/100 [=========================>....] - ETA: 0s - loss: 0.5310 - acc: 0.7346 - precision: 0.7346 - recall: 0.7346\n",
      " 93/100 [==========================>...] - ETA: 0s - loss: 0.5312 - acc: 0.7352 - precision: 0.7352 - recall: 0.7352\n",
      " 96/100 [===========================>..] - ETA: 0s - loss: 0.5302 - acc: 0.7365 - precision: 0.7365 - recall: 0.7365\n",
      "100/100 [==============================] - 1s 11ms/step - loss: 0.5329 - acc: 0.7357 - precision: 0.7357 - recall: 0.7357\n",
      "Epoch 2/5\n",
      "\n",
      "  1/100 [..............................] - ETA: 0s - loss: 0.5000 - acc: 0.7656 - precision: 0.7656 - recall: 0.7656\n",
      "  8/100 [=>............................] - ETA: 0s - loss: 0.4854 - acc: 0.7574 - precision: 0.7574 - recall: 0.7574\n",
      " 15/100 [===>..........................] - ETA: 0s - loss: 0.5016 - acc: 0.7434 - precision: 0.7434 - recall: 0.7434\n",
      " 23/100 [=====>........................] - ETA: 0s - loss: 0.4914 - acc: 0.7560 - precision: 0.7560 - recall: 0.7560\n",
      " 30/100 [========>.....................] - ETA: 0s - loss: 0.4881 - acc: 0.7590 - precision: 0.7590 - recall: 0.7590\n",
      " 37/100 [==========>...................] - ETA: 0s - loss: 0.4960 - acc: 0.7561 - precision: 0.7561 - recall: 0.7561\n",
      " 44/100 [============>.................] - ETA: 0s - loss: 0.4886 - acc: 0.7606 - precision: 0.7606 - recall: 0.7606\n",
      " 51/100 [==============>...............] - ETA: 0s - loss: 0.4818 - acc: 0.7639 - precision: 0.7639 - recall: 0.7639\n",
      " 58/100 [================>.............] - ETA: 0s - loss: 0.4824 - acc: 0.7644 - precision: 0.7644 - recall: 0.7644\n",
      " 65/100 [==================>...........] - ETA: 0s - loss: 0.4862 - acc: 0.7605 - precision: 0.7605 - recall: 0.7605\n",
      " 72/100 [====================>.........] - ETA: 0s - loss: 0.4849 - acc: 0.7605 - precision: 0.7605 - recall: 0.7605\n",
      " 78/100 [======================>.......] - ETA: 0s - loss: 0.4872 - acc: 0.7596 - precision: 0.7596 - recall: 0.7596\n",
      " 81/100 [=======================>......] - ETA: 0s - loss: 0.4860 - acc: 0.7607 - precision: 0.7607 - recall: 0.7607\n",
      " 88/100 [=========================>....] - ETA: 0s - loss: 0.4823 - acc: 0.7624 - precision: 0.7624 - recall: 0.7624\n",
      " 95/100 [===========================>..] - ETA: 0s - loss: 0.4853 - acc: 0.7607 - precision: 0.7607 - recall: 0.7607\n",
      "100/100 [==============================] - 1s 8ms/step - loss: 0.4871 - acc: 0.7582 - precision: 0.7582 - recall: 0.7582\n",
      "Epoch 3/5\n",
      "\n",
      "  1/100 [..............................] - ETA: 0s - loss: 0.3981 - acc: 0.8594 - precision: 0.8594 - recall: 0.8594\n",
      "  9/100 [=>............................] - ETA: 0s - loss: 0.4358 - acc: 0.8086 - precision: 0.8086 - recall: 0.8086\n",
      " 17/100 [====>.........................] - ETA: 0s - loss: 0.4569 - acc: 0.7923 - precision: 0.7923 - recall: 0.7923\n",
      " 25/100 [======>.......................] - ETA: 0s - loss: 0.4594 - acc: 0.7920 - precision: 0.7920 - recall: 0.7920\n",
      " 32/100 [========>.....................] - ETA: 0s - loss: 0.4855 - acc: 0.7719 - precision: 0.7719 - recall: 0.7719\n",
      " 40/100 [===========>..................] - ETA: 0s - loss: 0.4738 - acc: 0.7778 - precision: 0.7778 - recall: 0.7778\n",
      " 48/100 [=============>................] - ETA: 0s - loss: 0.4843 - acc: 0.7676 - precision: 0.7676 - recall: 0.7676\n",
      " 55/100 [===============>..............] - ETA: 0s - loss: 0.4751 - acc: 0.7733 - precision: 0.7733 - recall: 0.7733\n",
      " 62/100 [=================>............] - ETA: 0s - loss: 0.4722 - acc: 0.7730 - precision: 0.7730 - recall: 0.7730\n",
      " 66/100 [==================>...........] - ETA: 0s - loss: 0.4677 - acc: 0.7731 - precision: 0.7731 - recall: 0.7731\n",
      " 70/100 [====================>.........] - ETA: 0s - loss: 0.4590 - acc: 0.7802 - precision: 0.7802 - recall: 0.7802\n",
      " 77/100 [======================>.......] - ETA: 0s - loss: 0.4636 - acc: 0.7795 - precision: 0.7795 - recall: 0.7795\n",
      " 84/100 [========================>.....] - ETA: 0s - loss: 0.4627 - acc: 0.7809 - precision: 0.7809 - recall: 0.7809\n",
      " 92/100 [==========================>...] - ETA: 0s - loss: 0.4610 - acc: 0.7829 - precision: 0.7829 - recall: 0.7829\n",
      " 98/100 [============================>.] - ETA: 0s - loss: 0.4605 - acc: 0.7832 - precision: 0.7832 - recall: 0.7832\n",
      "100/100 [==============================] - 1s 8ms/step - loss: 0.4599 - acc: 0.7829 - precision: 0.7829 - recall: 0.7829\n",
      "Epoch 4/5\n",
      "\n",
      "  1/100 [..............................] - ETA: 0s - loss: 0.4478 - acc: 0.7500 - precision: 0.7500 - recall: 0.7500\n",
      "  8/100 [=>............................] - ETA: 0s - loss: 0.4543 - acc: 0.7875 - precision: 0.7875 - recall: 0.7875\n",
      " 15/100 [===>..........................] - ETA: 0s - loss: 0.4335 - acc: 0.7985 - precision: 0.7985 - recall: 0.7985\n",
      " 22/100 [=====>........................] - ETA: 0s - loss: 0.4370 - acc: 0.7946 - precision: 0.7946 - recall: 0.7946\n",
      " 30/100 [========>.....................] - ETA: 0s - loss: 0.4555 - acc: 0.7876 - precision: 0.7876 - recall: 0.7876\n",
      " 38/100 [==========>...................] - ETA: 0s - loss: 0.4472 - acc: 0.7899 - precision: 0.7899 - recall: 0.7899\n",
      " 45/100 [============>.................] - ETA: 0s - loss: 0.4366 - acc: 0.7967 - precision: 0.7967 - recall: 0.7967\n",
      " 50/100 [==============>...............] - ETA: 0s - loss: 0.4356 - acc: 0.8005 - precision: 0.8005 - recall: 0.8005\n",
      " 55/100 [===============>..............] - ETA: 0s - loss: 0.4327 - acc: 0.8009 - precision: 0.8009 - recall: 0.8009\n",
      " 62/100 [=================>............] - ETA: 0s - loss: 0.4361 - acc: 0.7986 - precision: 0.7986 - recall: 0.7986\n",
      " 69/100 [===================>..........] - ETA: 0s - loss: 0.4378 - acc: 0.7957 - precision: 0.7957 - recall: 0.7957\n",
      " 76/100 [=====================>........] - ETA: 0s - loss: 0.4370 - acc: 0.7960 - precision: 0.7960 - recall: 0.7960\n",
      " 83/100 [=======================>......] - ETA: 0s - loss: 0.4380 - acc: 0.7931 - precision: 0.7931 - recall: 0.7931\n",
      " 91/100 [==========================>...] - ETA: 0s - loss: 0.4401 - acc: 0.7917 - precision: 0.7917 - recall: 0.7917\n",
      " 98/100 [============================>.] - ETA: 0s - loss: 0.4473 - acc: 0.7885 - precision: 0.7885 - recall: 0.7885\n",
      "100/100 [==============================] - 1s 8ms/step - loss: 0.4467 - acc: 0.7886 - precision: 0.7886 - recall: 0.7886\n",
      "Epoch 5/5\n",
      "\n",
      "  1/100 [..............................] - ETA: 0s - loss: 0.2892 - acc: 0.8889 - precision: 0.8889 - recall: 0.8889\n",
      "  8/100 [=>............................] - ETA: 0s - loss: 0.4012 - acc: 0.8216 - precision: 0.8216 - recall: 0.8216\n",
      " 14/100 [===>..........................] - ETA: 0s - loss: 0.4681 - acc: 0.7847 - precision: 0.7847 - recall: 0.7847\n",
      " 20/100 [=====>........................] - ETA: 0s - loss: 0.4450 - acc: 0.7970 - precision: 0.7970 - recall: 0.7970\n",
      " 26/100 [======>.......................] - ETA: 0s - loss: 0.4392 - acc: 0.7990 - precision: 0.7990 - recall: 0.7990\n",
      " 34/100 [=========>....................] - ETA: 0s - loss: 0.4251 - acc: 0.8005 - precision: 0.8005 - recall: 0.8005\n",
      " 41/100 [===========>..................] - ETA: 0s - loss: 0.4211 - acc: 0.8052 - precision: 0.8052 - recall: 0.8052\n",
      " 46/100 [============>.................] - ETA: 0s - loss: 0.4346 - acc: 0.8000 - precision: 0.8000 - recall: 0.8000\n",
      " 50/100 [==============>...............] - ETA: 0s - loss: 0.4295 - acc: 0.8024 - precision: 0.8024 - recall: 0.8024\n",
      " 58/100 [================>.............] - ETA: 0s - loss: 0.4311 - acc: 0.8016 - precision: 0.8016 - recall: 0.8016\n",
      " 65/100 [==================>...........] - ETA: 0s - loss: 0.4462 - acc: 0.7906 - precision: 0.7906 - recall: 0.7906\n",
      " 72/100 [====================>.........] - ETA: 0s - loss: 0.4433 - acc: 0.7909 - precision: 0.7909 - recall: 0.7909\n",
      " 79/100 [======================>.......] - ETA: 0s - loss: 0.4420 - acc: 0.7893 - precision: 0.7893 - recall: 0.7893\n",
      " 87/100 [=========================>....] - ETA: 0s - loss: 0.4414 - acc: 0.7908 - precision: 0.7908 - recall: 0.7908\n",
      " 94/100 [===========================>..] - ETA: 0s - loss: 0.4470 - acc: 0.7888 - precision: 0.7888 - recall: 0.7888\n",
      "100/100 [==============================] - 1s 8ms/step - loss: 0.4494 - acc: 0.7851 - precision: 0.7851 - recall: 0.7851\n"
     ]
    },
    {
     "name": "stderr",
     "output_type": "stream",
     "text": [
      "Removing gs://go-de-internal-johanna/churn-prediction/neural_net/churn-einzelhandel-test.csv#1520336611376001...\n",
      "Removing gs://go-de-internal-johanna/churn-prediction/neural_net/churn-einzelhandel-train.csv#1520336611678511...\n",
      "Removing gs://go-de-internal-johanna/churn-prediction/neural_net/churn-einzelhandel-valid.csv#1520336611449794...\n",
      "Removing gs://go-de-internal-johanna/churn-prediction/neural_net/churn-telecommunication.csv#1520336611118212...\n",
      "/ [1/4 objects]  25% Done                                                       \r",
      "/ [2/4 objects]  50% Done                                                       \r",
      "/ [3/4 objects]  75% Done                                                       \r",
      "/ [4/4 objects] 100% Done                                                       \r\n",
      "Operation completed over 4 objects.                                              \n",
      "Copying file:///content/datalab/demo-cases/churn-prediction/neural-net/churn-einzelhandel-test.csv [Content-Type=text/csv]...\n",
      "/ [0 files][    0.0 B/  9.8 MiB]                                                \r",
      "Copying file:///content/datalab/demo-cases/churn-prediction/neural-net/churn-einzelhandel-train.csv [Content-Type=text/csv]...\n",
      "/ [0 files][    0.0 B/ 39.4 MiB]                                                \r",
      "Copying file:///content/datalab/demo-cases/churn-prediction/neural-net/churn-einzelhandel-valid.csv [Content-Type=text/csv]...\n",
      "/ [0/4 files][    0.0 B/ 49.7 MiB]   0% Done                                    \r",
      "Copying file:///content/datalab/demo-cases/churn-prediction/neural-net/churn-telecommunication.csv [Content-Type=text/csv]...\n",
      "/ [0/4 files][    0.0 B/ 49.7 MiB]   0% Done                                    \r",
      "/ [1/4 files][ 20.6 MiB/ 49.7 MiB]  41% Done                                    \r",
      "-\r",
      "- [2/4 files][ 49.7 MiB/ 49.7 MiB]  99% Done                                    \r",
      "- [3/4 files][ 49.7 MiB/ 49.7 MiB]  99% Done                                    \r",
      "- [4/4 files][ 49.7 MiB/ 49.7 MiB] 100% Done                                    \r\n",
      "Operation completed over 4 objects/49.7 MiB.                                     \n",
      "/usr/local/envs/py2env/lib/python2.7/site-packages/h5py/__init__.py:36: FutureWarning: Conversion of the second argument of issubdtype from `float` to `np.floating` is deprecated. In future, it will be treated as `np.float64 == np.dtype(float).type`.\n",
      "  from ._conv import register_converters as _register_converters\n",
      "Using TensorFlow backend.\n",
      "2018-03-06 11:44:29.353084: I tensorflow/core/platform/cpu_feature_guard.cc:137] Your CPU supports instructions that this TensorFlow binary was not compiled to use: SSE4.1 SSE4.2 AVX\n",
      "/usr/local/envs/py2env/lib/python2.7/site-packages/keras/callbacks.py:435: RuntimeWarning: Can save best model only with val_loss available, skipping.\n",
      "  'skipping.' % (self.monitor), RuntimeWarning)\n"
     ]
    }
   ],
   "source": [
    "%bash\n",
    "echo $BUCKET\n",
    "gsutil -m rm -rf gs://${BUCKET}/churn-prediction/neural_net/\n",
    "gsutil -m cp ${REPO}/*.csv gs://${BUCKET}/churn-prediction/neural_net/\n",
    "OUTDIR=gs://${BUCKET}/churn-prediction/neural_net/churn_trained/\n",
    "rm -rf vehicles.tar.gz churn_trained\n",
    "gcloud ml-engine local train \\\n",
    "  --module-name=trainer.task \\\n",
    "  --package-path=${REPO}/einzelhandel/trainer \\\n",
    "  --job-dir $OUTDIR \\\n",
    "  -- \\\n",
    "  --train_files=${REPO}/churn-einzelhandel-train.csv \\\n",
    "  --eval_files=${REPO}/churn-einzelhandel-valid.csv  \\\n",
    "  --num_epochs=5 \\\n",
    "  --output_dir=$OUTDIR "
   ]
  },
  {
   "cell_type": "code",
   "execution_count": 50,
   "metadata": {
    "collapsed": false,
    "deletable": true,
    "editable": true
   },
   "outputs": [
    {
     "name": "stdout",
     "output_type": "stream",
     "text": [
      "go-de-internal-johanna\n"
     ]
    },
    {
     "name": "stderr",
     "output_type": "stream",
     "text": [
      "Removing gs://go-de-internal-johanna/churn-prediction/neural_net/churn-einzelhandel-test.csv#1520332655689918...\n",
      "Removing gs://go-de-internal-johanna/churn-prediction/neural_net/churn-einzelhandel-train.csv#1520332655916552...\n",
      "Removing gs://go-de-internal-johanna/churn-prediction/neural_net/churn-einzelhandel-valid.csv#1520332655689545...\n",
      "Removing gs://go-de-internal-johanna/churn-prediction/neural_net/churn-telecommunication.csv#1520332655268372...\n",
      "/ [1/4 objects]  25% Done                                                       \r",
      "/ [2/4 objects]  50% Done                                                       \r",
      "/ [3/4 objects]  75% Done                                                       \r",
      "/ [4/4 objects] 100% Done                                                       \r\n",
      "Operation completed over 4 objects.                                              \n",
      "Copying file:///content/datalab/demo-cases/churn-prediction/neural-net/churn-einzelhandel-test.csv [Content-Type=text/csv]...\n",
      "/ [0 files][    0.0 B/  9.8 MiB]                                                \r",
      "Copying file:///content/datalab/demo-cases/churn-prediction/neural-net/churn-einzelhandel-train.csv [Content-Type=text/csv]...\n",
      "/ [0 files][    0.0 B/ 39.4 MiB]                                                \r",
      "Copying file:///content/datalab/demo-cases/churn-prediction/neural-net/churn-einzelhandel-valid.csv [Content-Type=text/csv]...\n",
      "/ [0 files][    0.0 B/ 49.2 MiB]                                                \r",
      "Copying file:///content/datalab/demo-cases/churn-prediction/neural-net/churn-telecommunication.csv [Content-Type=text/csv]...\n",
      "/ [0/4 files][    0.0 B/ 49.7 MiB]   0% Done                                    \r",
      "/ [1/4 files][ 13.9 MiB/ 49.7 MiB]  27% Done                                    \r",
      "-\r",
      "- [2/4 files][ 49.3 MiB/ 49.7 MiB]  99% Done                                    \r",
      "- [3/4 files][ 49.7 MiB/ 49.7 MiB]  99% Done                                    \r",
      "- [4/4 files][ 49.7 MiB/ 49.7 MiB] 100% Done                                    \r\n",
      "Operation completed over 4 objects/49.7 MiB.                                     \n"
     ]
    }
   ],
   "source": [
    "%bash\n",
    "echo $BUCKET\n",
    "gsutil -m rm -rf gs://${BUCKET}/churn-prediction/neural_net\n",
    "gsutil -m cp ${REPO}/*.csv gs://${BUCKET}/churn-prediction/neural_net/"
   ]
  },
  {
   "cell_type": "code",
   "execution_count": 51,
   "metadata": {
    "collapsed": false,
    "deletable": true,
    "editable": true
   },
   "outputs": [
    {
     "name": "stdout",
     "output_type": "stream",
     "text": [
      "gs://go-de-internal-johanna/churn-prediction/neural_net/churn_trained europe-west1 churn_model_180306_103832\n",
      "jobId: churn_model_180306_103832\n",
      "state: QUEUED\n"
     ]
    },
    {
     "name": "stderr",
     "output_type": "stream",
     "text": [
      "CommandException: 1 files/objects could not be removed.\n",
      "/tools/google-cloud-sdk/lib/googlecloudsdk/core/util/files.py:622: UnicodeWarning: Unicode equal comparison failed to convert both arguments to Unicode - interpreting them as being unequal\n",
      "  for chunk in iter(lambda: fp.read(4096), ''):\n",
      "Job [churn_model_180306_103832] submitted successfully.\n",
      "Your job is still active. You may view the status of your job with the command\n",
      "\n",
      "  $ gcloud ml-engine jobs describe churn_model_180306_103832\n",
      "\n",
      "or continue streaming the logs with the command\n",
      "\n",
      "  $ gcloud ml-engine jobs stream-logs churn_model_180306_103832\n"
     ]
    }
   ],
   "source": [
    "%bash\n",
    "echo $BUCKET\n",
    "gsutil -m rm -rf gs://${BUCKET}/churn-prediction/neural_net/\n",
    "gsutil -m cp ${REPO}/*.csv gs://${BUCKET}/churn-prediction/neural_net/\n",
    "OUTDIR=gs://${BUCKET}/churn-prediction/neural_net/churn_trained/\n",
    "JOBNAME=churn_model_$(date -u +%y%m%d_%H%M%S)\n",
    "echo $OUTDIR $REGION $JOBNAME\n",
    "gsutil -m rm -rf $OUTDIR\n",
    "gcloud ml-engine jobs submit training $JOBNAME \\\n",
    "  --region=$REGION \\\n",
    "  --module-name=trainer.task \\\n",
    "  --package-path=${REPO}/einzelhandel/trainer \\\n",
    "  --job-dir=$OUTDIR \\\n",
    "  --staging-bucket=gs://$BUCKET/ \\\n",
    "  --scale-tier=BASIC \\\n",
    "  --runtime-version=1.2 \\\n",
    "  -- \\\n",
    "  --train_files=\"gs://${BUCKET}/churn_cloud/churn-einzelhandel-train.csv\" \\\n",
    "  --eval_files=\"gs://${BUCKET}/churn_cloud/churn-einzelhandel-valid.csv\"  \\\n",
    "  --num_epochs=100 \\\n",
    "  --output_dir=$OUTDIR \\\n",
    "  --train_steps=100 \\\n",
    "  --eval_steps=100 \\\n",
    "  --train_batch_size=40 \\\n",
    "  --eval_batch_size=40 \\\n",
    "  --learning_rate=0.003 \\\n",
    "  --first_layer_size=256 \\\n",
    "  --num_layers=5 \\\n",
    "  --scale_factor=0.25 \\\n",
    "  --eval_num_epochs=1 \\\n",
    "  --checkpoint_epochs=5"
   ]
  },
  {
   "cell_type": "code",
   "execution_count": null,
   "metadata": {
    "collapsed": false,
    "deletable": true,
    "editable": true
   },
   "outputs": [],
   "source": [
    "!grep -A 2 add_argument trainer/task.py"
   ]
  },
  {
   "cell_type": "code",
   "execution_count": null,
   "metadata": {
    "collapsed": false,
    "deletable": true,
    "editable": true
   },
   "outputs": [],
   "source": [
    "!grep -A 5 eval_metric trainer/model.py"
   ]
  },
  {
   "cell_type": "code",
   "execution_count": null,
   "metadata": {
    "collapsed": false,
    "deletable": true,
    "editable": true
   },
   "outputs": [],
   "source": [
    "%writefile hyperparam.yaml\n",
    "trainingInput:\n",
    "  scaleTier: STANDARD_1\n",
    "  hyperparameters:\n",
    "    goal: MINIMIZE\n",
    "    hyperparameterMetricTag: val_ac\n",
    "    maxTrials: 20\n",
    "    maxParallelTrials: 1\n",
    "    params:\n",
    "    - parameterName: train_batch_size\n",
    "      type: INTEGER\n",
    "      minValue: 64\n",
    "      maxValue: 512\n",
    "      scaleType: UNIT_LOG_SCALE\n",
    "    - parameterName: nbuckets\n",
    "      type: INTEGER\n",
    "      minValue: 10\n",
    "      maxValue: 20\n",
    "      scaleType: UNIT_LINEAR_SCALE\n",
    "    - parameterName: hidden_units\n",
    "      type: CATEGORICAL\n",
    "      categoricalValues: [\"128 32\", \"256 128 16\", \"64 64 64 8\"]       "
   ]
  },
  {
   "cell_type": "code",
   "execution_count": null,
   "metadata": {
    "collapsed": false,
    "deletable": true,
    "editable": true
   },
   "outputs": [],
   "source": [
    "%bash\n",
    "echo $BUCKET\n",
    "gsutil -m rm -rf gs://${BUCKET}/churn_cloud_hyper\n",
    "gsutil -m cp ${REPO}/*.csv gs://${BUCKET}/churn_cloud_hyper/"
   ]
  },
  {
   "cell_type": "code",
   "execution_count": null,
   "metadata": {
    "collapsed": false,
    "deletable": true,
    "editable": true
   },
   "outputs": [],
   "source": [
    "%bash\n",
    "OUTDIR=gs://${BUCKET}/churn_cloud_hyper/churn_trained\n",
    "JOBNAME=churn_model_hyper_$(date -u +%y%m%d_%H%M%S)\n",
    "echo $OUTDIR $REGION $JOBNAME\n",
    "gsutil -m rm -rf $OUTDIR\n",
    "gcloud ml-engine jobs submit training $JOBNAME \\\n",
    "  --region=$REGION \\\n",
    "  --module-name=trainer.task \\\n",
    "  --package-path=${REPO}/trainer \\\n",
    "  --job-dir=$OUTDIR \\\n",
    "  --staging-bucket=gs://$BUCKET/churn_cloud_hyper/ \\\n",
    "  --scale-tier=BASIC \\\n",
    "  --runtime-version=1.2 \\\n",
    "  --config=hyperparam.yaml \\\n",
    "  -- \\\n",
    "  --train_files=\"gs://${BUCKET}/churn_cloud_hyper/churn-einzelhandel-train.csv\" \\\n",
    "  --eval_files=\"gs://${BUCKET}/churn_cloud_hyper/churn-einzelhandel-valid.csv\"  \\\n",
    "  --num_epochs=100\n",
    "  --output_dir=$OUTDIR \\\n",
    "  --train_steps=100 \\\n",
    "  --eval_steps=100 \\\n",
    "  --train_batch_size=40 \\\n",
    "  --eval_batch_size=40 \\\n",
    "  --learning_rate=0.003 \\\n",
    "  --first_layer_size=256 \\\n",
    "  --num_layers=5 \\\n",
    "  --scale_factor=0.25 \\\n",
    "  --eval_num_epochs=1 \\\n",
    "  --checkpoint_epochs=5"
   ]
  },
  {
   "cell_type": "code",
   "execution_count": null,
   "metadata": {
    "collapsed": true,
    "deletable": true,
    "editable": true
   },
   "outputs": [],
   "source": []
  },
  {
   "cell_type": "code",
   "execution_count": null,
   "metadata": {
    "collapsed": true,
    "deletable": true,
    "editable": true
   },
   "outputs": [],
   "source": []
  }
 ],
 "metadata": {
  "kernelspec": {
   "display_name": "Python 2",
   "language": "python",
   "name": "python2"
  },
  "language_info": {
   "codemirror_mode": {
    "name": "ipython",
    "version": 2
   },
   "file_extension": ".py",
   "mimetype": "text/x-python",
   "name": "python",
   "nbconvert_exporter": "python",
   "pygments_lexer": "ipython2",
   "version": "2.7.14"
  }
 },
 "nbformat": 4,
 "nbformat_minor": 2
}
