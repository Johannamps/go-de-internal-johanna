{
 "cells": [
  {
   "cell_type": "code",
   "execution_count": null,
   "metadata": {
    "collapsed": false,
    "deletable": true,
    "editable": true
   },
   "outputs": [],
   "source": [
    "!pip install keras tensorflow-serving-api"
   ]
  },
  {
   "cell_type": "code",
   "execution_count": null,
   "metadata": {
    "collapsed": false,
    "deletable": true,
    "editable": true
   },
   "outputs": [],
   "source": [
    "import keras\n",
    "import tensorflow as tf\n",
    "from keras.models import Sequential\n",
    "\n",
    "batch_size = 128\n",
    "num_classes = 10\n",
    "epochs = 20\n",
    "\n",
    "sess = tf.Session()\n",
    "\n",
    "from keras import backend as K\n",
    "K.set_session(sess)"
   ]
  },
  {
   "cell_type": "code",
   "execution_count": null,
   "metadata": {
    "collapsed": true,
    "deletable": true,
    "editable": true
   },
   "outputs": [],
   "source": [
    "# this placeholder will contain our input digits, as flat vectors\n",
    "img = tf.placeholder(tf.float32, shape=(None, 784))"
   ]
  },
  {
   "cell_type": "code",
   "execution_count": null,
   "metadata": {
    "collapsed": false,
    "deletable": true,
    "editable": true
   },
   "outputs": [],
   "source": [
    "from keras.layers import Dense, InputLayer\n",
    "from keras.models import Model, Sequential\n",
    "from keras.optimizers import RMSprop\n",
    "\n",
    "# Keras layers can be called on TensorFlow tensors:\n",
    "model = Sequential()\n",
    "model.add(Dense(500, activation='relu', input_dim=784))  # fully-connected layer with 128 units and ReLU activation\n",
    "model.add(Dense(128, activation='softmax'))\n",
    "model.add(Dense(10, activation='softmax'))\n",
    "\n",
    "model.summary()\n",
    "\n",
    "model.compile(loss='categorical_crossentropy',\n",
    "              optimizer=RMSprop(),\n",
    "              metrics=['accuracy'])"
   ]
  },
  {
   "cell_type": "code",
   "execution_count": null,
   "metadata": {
    "collapsed": false,
    "deletable": true,
    "editable": true
   },
   "outputs": [],
   "source": [
    "from keras.datasets import mnist\n",
    "# the data, shuffled and split between train and test sets\n",
    "(x_train, y_train), (x_test, y_test) = mnist.load_data()\n",
    "\n",
    "x_train = x_train.reshape(60000, 784)\n",
    "x_test = x_test.reshape(10000, 784)\n",
    "x_train = x_train.astype('float32')\n",
    "x_test = x_test.astype('float32')\n",
    "x_train /= 255\n",
    "x_test /= 255\n",
    "print(x_train.shape[0], 'train samples')\n",
    "print(x_test.shape[0], 'test samples')\n",
    "\n",
    "# convert class vectors to binary class matrices\n",
    "y_train = keras.utils.to_categorical(y_train, num_classes)\n",
    "y_test = keras.utils.to_categorical(y_test, num_classes)"
   ]
  },
  {
   "cell_type": "code",
   "execution_count": null,
   "metadata": {
    "collapsed": false,
    "deletable": true,
    "editable": true
   },
   "outputs": [],
   "source": [
    "#from tensorflow.examples.tutorials.mnist import input_data\n",
    "#mnist_data = input_data.read_data_sets('MNIST_data', one_hot=True)\n",
    "\n",
    "#train_step = tf.train.GradientDescentOptimizer(0.5).minimize(loss)\n",
    "\n",
    "\n",
    "\n",
    "# Initialize all variables\n",
    "#init_op = tf.global_variables_initializer()\n",
    "#sess.run(init_op)\n",
    "\n",
    "history = model.fit(x_train, y_train,\n",
    "                    batch_size=batch_size,\n",
    "                    epochs=epochs,\n",
    "                    verbose=1,\n",
    "                    validation_data=(x_test, y_test))\n",
    "score = model.evaluate(x_test, y_test, verbose=0)\n",
    "print('Test loss:', score[0])\n",
    "print('Test accuracy:', score[1])\n",
    "\n",
    "# Run training loop\n",
    "#with sess.as_default():\n",
    "#    for i in range(100):\n",
    "#        batch = mnist_data.train.next_batch(50)\n",
    "#        train_step.run(feed_dict={img: batch[0],\n",
    "#                                  labels: batch[1]})"
   ]
  },
  {
   "cell_type": "code",
   "execution_count": null,
   "metadata": {
    "collapsed": false,
    "deletable": true,
    "editable": true
   },
   "outputs": [],
   "source": [
    "print(y_test[800])\n",
    "print(x_test[800])"
   ]
  },
  {
   "cell_type": "code",
   "execution_count": null,
   "metadata": {
    "collapsed": true,
    "deletable": true,
    "editable": true
   },
   "outputs": [],
   "source": [
    "from keras import backend as K\n",
    "K.set_learning_phase(0)  # all new operations will be in test mode from now on\n",
    "\n",
    "# serialize the model and get its weights, for quick re-building\n",
    "config = model.get_config()\n",
    "weights = model.get_weights()\n",
    "\n",
    "# re-build a model where the learning phase is now hard-coded to 0\n",
    "from keras.models import model_from_config\n",
    "from tensorflow.python.saved_model import builder as saved_model_builder\n",
    "from tensorflow.python.saved_model import utils\n",
    "from tensorflow.python.saved_model import tag_constants, signature_constants\n",
    "from tensorflow.python.saved_model.signature_def_utils_impl import build_signature_def, predict_signature_def\n",
    "from tensorflow.contrib.session_bundle import exporter\n",
    "\n",
    "new_model = Sequential.from_config(config)\n",
    "new_model.set_weights(weights)"
   ]
  },
  {
   "cell_type": "code",
   "execution_count": null,
   "metadata": {
    "collapsed": false,
    "deletable": true,
    "editable": true
   },
   "outputs": [],
   "source": [
    "export_path = \"gs://mkt-cloudml-jumpstart-johanna/model1\"\n",
    "#def to_savedmodel(model, export_path):\n",
    "\"\"\"Convert the Keras HDF5 model into TensorFlow SavedModel.\"\"\"\n",
    "\n",
    "builder = saved_model_builder.SavedModelBuilder(export_path)\n",
    "\n",
    "signature = predict_signature_def(inputs={'input': model.inputs[0]},\n",
    "                                    outputs={'income': model.outputs[0]})\n",
    "\n",
    "with K.get_session() as sess:\n",
    "   builder.add_meta_graph_and_variables(\n",
    "        sess=sess,\n",
    "        tags=[tag_constants.SERVING],\n",
    "        signature_def_map={\n",
    "            signature_constants.DEFAULT_SERVING_SIGNATURE_DEF_KEY: signature}\n",
    "   )\n",
    "builder.save()"
   ]
  },
  {
   "cell_type": "code",
   "execution_count": null,
   "metadata": {
    "collapsed": false,
    "deletable": true,
    "editable": true
   },
   "outputs": [],
   "source": [
    "from oauth2client.client import GoogleCredentials\n",
    "from googleapiclient import discovery\n",
    "from googleapiclient import errors\n",
    "\n",
    "credentials = GoogleCredentials.get_application_default()\n",
    "\n",
    "ml = discovery.build('ml','v1', credentials=credentials)\n",
    "projectID = 'projects/{}'.format('mkt-cloudml-jumpstart')"
   ]
  },
  {
   "cell_type": "code",
   "execution_count": null,
   "metadata": {
    "collapsed": false,
    "deletable": true,
    "editable": true
   },
   "outputs": [],
   "source": [
    "# Create ml_engine model\n",
    "model_name = 'mnist_keras_test_johanna'\n",
    "requestDict = {'name': model_name,\n",
    "               'description': 'Keras mnist classifier'}\n",
    "try:\n",
    "    response = ml.projects().models().create(parent=projectID,\n",
    "                                         body=requestDict).execute()\n",
    "    ml_model = response\n",
    "    print(response)\n",
    "except errors.HttpError, err:\n",
    "    # Something went wrong, print out some information.\n",
    "    print('There was an error creating the model. Check the details:')\n",
    "    print(err._get_reason())"
   ]
  },
  {
   "cell_type": "code",
   "execution_count": null,
   "metadata": {
    "collapsed": false,
    "deletable": true,
    "editable": true
   },
   "outputs": [],
   "source": [
    "\n",
    "# Create ml_engine model version\n",
    "requestDict = { \"name\": \"v1\",\n",
    "                \"description\": \"Version 1\",\n",
    "                \"deploymentUri\": export_path\n",
    "              }\n",
    "\n",
    "model_path = projectID + \"/models/\" + model_name\n",
    "try:\n",
    "    response = ml.projects().models().versions().create(parent=model_path ,\n",
    "                                         body=requestDict).execute()\n",
    "    print(response)\n",
    "except errors.HttpError, err:\n",
    "    # Something went wrong, print out some information.\n",
    "    print('There was an error creating the model version. Check the details:')\n",
    "    print(err._get_reason())"
   ]
  },
  {
   "cell_type": "code",
   "execution_count": null,
   "metadata": {
    "collapsed": false,
    "deletable": true,
    "editable": true
   },
   "outputs": [],
   "source": [
    "# Do online predition\n",
    "\n",
    "requestDict = { \"instances\": [ x_test[800].tolist() ]\n",
    "              }\n",
    "#print(requestDict)\n",
    "#model_path = projectID + \"/models/\" + model_name\n",
    "try:\n",
    "    response = ml.projects().predict(name=model_path ,\n",
    "                                         body=requestDict).execute()\n",
    "    print(response)\n",
    "except errors.HttpError, err:\n",
    "    # Something went wrong, print out some information.\n",
    "    print('There was an error predicting. Check the details:')\n",
    "    print(err._get_reason())"
   ]
  },
  {
   "cell_type": "code",
   "execution_count": null,
   "metadata": {
    "collapsed": false,
    "deletable": true,
    "editable": true
   },
   "outputs": [],
   "source": [
    "results_list = response[\"predictions\"][0][\"income\"]\n",
    "index_prediction = results_list.index(max(results_list))\n",
    "print(results_list)\n",
    "print('Predicted digit: ' + str(index_prediction) + ' with a confidence of: ' + str(results_list[index]))\n",
    "print('------------------')\n",
    "print(y_test[800])"
   ]
  },
  {
   "cell_type": "code",
   "execution_count": null,
   "metadata": {
    "collapsed": false,
    "deletable": true,
    "editable": true
   },
   "outputs": [],
   "source": [
    "from random import randint\n",
    "\n",
    "for x in range(0, 100):\n",
    "    i = randint(0, 9999)\n",
    "    requestDict = { \"instances\": [ x_test[i].tolist() ]\n",
    "                  }\n",
    "                   \n",
    "    try:\n",
    "        response = ml.projects().predict(name=model_path ,\n",
    "                                         body=requestDict).execute()\n",
    "        results_list = response[\"predictions\"][0][\"income\"]\n",
    "        index = results_list.index(max(results_list))\n",
    "        print('For index: ' + str(i) + ' predicted digit is: ' + str(index) + ' with a confidence of: ' + str(results_list[index]))\n",
    "    except errors.HttpError, err:\n",
    "        # Something went wrong, print out some information.\n",
    "        print('There was an error predicting. Check the details:')\n",
    "        print(err._get_reason())"
   ]
  },
  {
   "cell_type": "code",
   "execution_count": null,
   "metadata": {
    "collapsed": true,
    "deletable": true,
    "editable": true
   },
   "outputs": [],
   "source": []
  }
 ],
 "metadata": {
  "kernelspec": {
   "display_name": "Python 2",
   "language": "python",
   "name": "python2"
  },
  "language_info": {
   "codemirror_mode": {
    "name": "ipython",
    "version": 2
   },
   "file_extension": ".py",
   "mimetype": "text/x-python",
   "name": "python",
   "nbconvert_exporter": "python",
   "pygments_lexer": "ipython2",
   "version": "2.7.14"
  }
 },
 "nbformat": 4,
 "nbformat_minor": 2
}
