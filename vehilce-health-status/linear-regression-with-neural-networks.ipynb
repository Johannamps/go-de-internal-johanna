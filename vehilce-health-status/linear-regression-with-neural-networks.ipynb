{
 "cells": [
  {
   "cell_type": "code",
   "execution_count": null,
   "metadata": {
    "collapsed": false,
    "deletable": true,
    "editable": true
   },
   "outputs": [],
   "source": [
    "!pip install --upgrade tensorflow"
   ]
  },
  {
   "cell_type": "code",
   "execution_count": 59,
   "metadata": {
    "collapsed": false,
    "deletable": true,
    "editable": true
   },
   "outputs": [
    {
     "name": "stdout",
     "output_type": "stream",
     "text": [
      "1.5.0\n"
     ]
    }
   ],
   "source": [
    "import datalab.bigquery as bq\n",
    "import seaborn as sns\n",
    "import pandas as pd\n",
    "import numpy as np\n",
    "import shutil\n",
    "import tensorflow as tf\n",
    "print tf.__version__\n",
    "import os"
   ]
  },
  {
   "cell_type": "markdown",
   "metadata": {
    "deletable": true,
    "editable": true
   },
   "source": [
    "<h1> Baseline model and compute its RSME </h1>"
   ]
  },
  {
   "cell_type": "code",
   "execution_count": 60,
   "metadata": {
    "collapsed": false,
    "deletable": true,
    "editable": true
   },
   "outputs": [
    {
     "name": "stdout",
     "output_type": "stream",
     "text": [
      "('averageEconsumption = ', 0.010274811520608038)\n",
      "Train RMSE = 0.149345829532\n",
      "Valid RMSE = 0.148660663726\n",
      "Test RMSE = 0.146238892905\n"
     ]
    }
   ],
   "source": [
    "def estimate_stress(df):\n",
    "  columns = [abs(df['ACCELERATION']), abs(df['PITCH']), abs(df['ROLL']), abs(df['YAW'])]\n",
    "  stress_level = sum(columns)/4\n",
    "  return stress_level\n",
    "\n",
    "def compute_rmse(actual, predicted):\n",
    "  return np.sqrt(np.mean((actual-predicted)**2))\n",
    "\n",
    "def print_rmse(df, econsump, name):\n",
    "  print (\"{1} RMSE = {0}\".format(compute_rmse(df['ECONSUMPTION'], econsump*estimate_stress(df)), name))\n",
    "\n",
    "FEATURES = ['ACCELERATION', 'PITCH','ROLL','YAW']\n",
    "TARGET = 'ECONSUMPTION'\n",
    "columns = list([TARGET])\n",
    "columns.extend(FEATURES) # in CSV, target is the first column, after the features\n",
    "columns.append('key')\n",
    "df_train = pd.read_csv('vehicles-train.csv', header=None, names=columns)\n",
    "df_valid = pd.read_csv('vehicles-valid.csv', header=None, names=columns)\n",
    "df_test = pd.read_csv('vehicles-test.csv', header=None, names=columns)\n",
    "econsump = df_train['ECONSUMPTION'].mean() * estimate_stress(df_train).mean()/4\n",
    "print (\"averageEconsumption = \", econsump)\n",
    "print_rmse(df_train, econsump, 'Train')\n",
    "print_rmse(df_valid, econsump, 'Valid')\n",
    "print_rmse(df_test, econsump, 'Test')"
   ]
  },
  {
   "cell_type": "markdown",
   "metadata": {
    "deletable": true,
    "editable": true
   },
   "source": [
    "<h1> ML Regression with Neural Network </h1>\n",
    "\n",
    "Now lets try and run a smarter model."
   ]
  },
  {
   "cell_type": "code",
   "execution_count": 61,
   "metadata": {
    "collapsed": false,
    "deletable": true,
    "editable": true
   },
   "outputs": [
    {
     "data": {
      "text/plain": [
       "['vehicles_trained',\n",
       " '.ipynb_checkpoints',\n",
       " 'data-preparation.ipynb',\n",
       " 'vehicles-valid.csv',\n",
       " 'test.json',\n",
       " 'vehicles-test.csv',\n",
       " 'vehicles-train.csv',\n",
       " 'econsumption',\n",
       " 'linear-regression-with-neural-networks.ipynb',\n",
       " 'hyperparam.yaml']"
      ]
     },
     "execution_count": 61,
     "metadata": {},
     "output_type": "execute_result"
    }
   ],
   "source": [
    "PROJECT = 'go-de-internal'\n",
    "BUCKET = 'go-de-internal-johanna'\n",
    "REGION = 'europe-west1'\n",
    "REPO = \"/content/datalab/demo-cases/vehilce-health-status\"\n",
    "os.listdir(REPO)"
   ]
  },
  {
   "cell_type": "code",
   "execution_count": 62,
   "metadata": {
    "collapsed": true,
    "deletable": true,
    "editable": true
   },
   "outputs": [],
   "source": [
    "# for bash\n",
    "os.environ['PROJECT'] = PROJECT\n",
    "os.environ['BUCKET'] = BUCKET\n",
    "os.environ['REGION'] = REGION\n",
    "os.environ['REPO'] = REPO"
   ]
  },
  {
   "cell_type": "code",
   "execution_count": 63,
   "metadata": {
    "collapsed": false,
    "deletable": true,
    "editable": true
   },
   "outputs": [
    {
     "name": "stderr",
     "output_type": "stream",
     "text": [
      "Updated property [core/project].\n",
      "Updated property [compute/region].\n"
     ]
    }
   ],
   "source": [
    "%bash\n",
    "gcloud config set project $PROJECT\n",
    "gcloud config set compute/region $REGION"
   ]
  },
  {
   "cell_type": "code",
   "execution_count": 64,
   "metadata": {
    "collapsed": false,
    "deletable": true,
    "editable": true
   },
   "outputs": [
    {
     "name": "stdout",
     "output_type": "stream",
     "text": [
      "Authorizing the Cloud ML Service account service-462605511119@cloud-ml.google.com.iam.gserviceaccount.com to access files in go-de-internal-johanna\n"
     ]
    },
    {
     "name": "stderr",
     "output_type": "stream",
     "text": [
      "  % Total    % Received % Xferd  Average Speed   Time    Time     Time  Current\n",
      "                                 Dload  Upload   Total   Spent    Left  Speed\n",
      "\r",
      "  0     0    0     0    0     0      0      0 --:--:-- --:--:-- --:--:--     0\r",
      "100   133    0   133    0     0    146      0 --:--:-- --:--:-- --:--:--   146\r",
      "100   133    0   133    0     0    146      0 --:--:-- --:--:-- --:--:--   146\n",
      "No changes to gs://go-de-internal-johanna/\n",
      "No changes to gs://go-de-internal-johanna/churn-prediction/\n",
      "No changes to gs://go-de-internal-johanna/churn-prediction/mv_ab_model_ads_build_sep.csv\n",
      "Updated ACL on gs://go-de-internal-johanna/econsumption/\n",
      "Updated ACL on gs://go-de-internal-johanna/econsumption/smallinput/vehicles_trained/events.out.tfevents.1520261663.cmle-training-master-c86bfda8bf-0-hhknq\n",
      "Updated ACL on gs://go-de-internal-johanna/econsumption/smallinput/\n",
      "Updated ACL on gs://go-de-internal-johanna/econsumption/smallinput/vehicles_trained/\n",
      "Updated ACL on gs://go-de-internal-johanna/econsumption/smallinput/vehicles_trained/checkpoint\n",
      "Updated ACL on gs://go-de-internal-johanna/econsumption/smallinput/vehicles_trained/graph.pbtxt\n",
      "No changes to gs://go-de-internal-johanna/flight-time-estimate/\n",
      "Updated ACL on gs://go-de-internal-johanna/econsumption/smallinput/vehicles_trained/model.ckpt-0.index\n",
      "Updated ACL on gs://go-de-internal-johanna/econsumption/smallinput/vehicles_trained/model.ckpt-0.data-00000-of-00001\n",
      "Updated ACL on gs://go-de-internal-johanna/econsumption/smallinput/vehicles_trained/model.ckpt-0.meta\n",
      "No changes to gs://go-de-internal-johanna/pattern-recognition/\n",
      "No changes to gs://go-de-internal-johanna/vehilce-health-status/\n",
      "No changes to gs://go-de-internal-johanna/vehilce-health-status//neural-net/vehicles-test.csv\n",
      "No changes to gs://go-de-internal-johanna/vehilce-health-status//neural-net/vehicles-train.csv\n",
      "No changes to gs://go-de-internal-johanna/vehilce-health-status//neural-net/vehicles-valid.csv\n",
      "No changes to gs://go-de-internal-johanna/vehilce-health-status/hyper-param/vehicles-test.csv\n",
      "No changes to gs://go-de-internal-johanna/vehilce-health-status/hyper-param/vehicles-train.csv\n",
      "No changes to gs://go-de-internal-johanna/vehilce-health-status/hyper-param/vehicles-valid.csv\n",
      "No changes to gs://go-de-internal-johanna/vehilce-health-status/lindeshow-case-data-all.csv\n",
      "Updated ACL on gs://go-de-internal-johanna/vehilce-health-status/neural-net/vehicles_trained/events.out.tfevents.1520262041.cmle-training-master-536f8b07dd-0-ztvsd\n",
      "Updated ACL on gs://go-de-internal-johanna/vehilce-health-status/neural-net/vehicles_trained/events.out.tfevents.1520261788.cmle-training-master-b797354648-0-9frqq\n",
      "Updated ACL on gs://go-de-internal-johanna/vehilce-health-status/neural-net/\n",
      "Updated ACL on gs://go-de-internal-johanna/vehilce-health-status/neural-net/vehicles_trained/\n",
      "Updated ACL on gs://go-de-internal-johanna/vehilce-health-status/neural-net/vehicles_trained/checkpoint\n",
      "Updated ACL on gs://go-de-internal-johanna/vehilce-health-status/neural-net/vehicles_trained/model.ckpt-0.index\n",
      "Updated ACL on gs://go-de-internal-johanna/vehilce-health-status/neural-net/vehicles_trained/model.ckpt-0.data-00000-of-00001\n",
      "Updated ACL on gs://go-de-internal-johanna/vehilce-health-status/neural-net/vehicles_trained/model.ckpt-0.meta\n",
      "Updated ACL on gs://go-de-internal-johanna/vehilce-health-status/neural-net/vehicles_trained/graph.pbtxt\n",
      "No changes to gs://go-de-internal-johanna/\n"
     ]
    }
   ],
   "source": [
    "%bash\n",
    "PROJECT_ID=$PROJECT\n",
    "AUTH_TOKEN=$(gcloud auth print-access-token)\n",
    "SVC_ACCOUNT=$(curl -X GET -H \"Content-Type: application/json\" \\\n",
    "    -H \"Authorization: Bearer $AUTH_TOKEN\" \\\n",
    "    https://ml.googleapis.com/v1/projects/${PROJECT_ID}:getConfig \\\n",
    "    | python -c \"import json; import sys; response = json.load(sys.stdin); \\\n",
    "    print response['serviceAccount']\")\n",
    "\n",
    "echo \"Authorizing the Cloud ML Service account $SVC_ACCOUNT to access files in $BUCKET\"\n",
    "gsutil -m defacl ch -u $SVC_ACCOUNT:R gs://$BUCKET\n",
    "gsutil -m acl ch -u $SVC_ACCOUNT:R -r gs://$BUCKET  # error message (if bucket is empty) can be ignored\n",
    "gsutil -m acl ch -u $SVC_ACCOUNT:W gs://$BUCKET"
   ]
  },
  {
   "cell_type": "code",
   "execution_count": 65,
   "metadata": {
    "collapsed": false,
    "deletable": true,
    "editable": true
   },
   "outputs": [
    {
     "name": "stdout",
     "output_type": "stream",
     "text": [
      "#!/usr/bin/env python\r\n",
      "\r\n",
      "# Copyright 2017 Google Inc. All Rights Reserved.\r\n",
      "#\r\n",
      "# Licensed under the Apache License, Version 2.0 (the \"License\");\r\n",
      "# you may not use this file except in compliance with the License.\r\n",
      "# You may obtain a copy of the License at\r\n",
      "#\r\n",
      "#      http://www.apache.org/licenses/LICENSE-2.0\r\n",
      "#\r\n",
      "# Unless required by applicable law or agreed to in writing, software\r\n",
      "# distributed under the License is distributed on an \"AS IS\" BASIS,\r\n",
      "# WITHOUT WARRANTIES OR CONDITIONS OF ANY KIND, either express or implied.\r\n",
      "# See the License for the specific language governing permissions and\r\n",
      "# limitations under the License.\r\n",
      "\r\n",
      "from __future__ import absolute_import\r\n",
      "from __future__ import division\r\n",
      "from __future__ import print_function\r\n",
      "\r\n",
      "import tensorflow as tf\r\n",
      "from tensorflow.contrib import layers\r\n",
      "import tensorflow.contrib.learn as tflearn\r\n",
      "from tensorflow.contrib import metrics\r\n",
      "\r\n",
      "\r\n",
      "tf.logging.set_verbosity(tf.logging.INFO)\r\n",
      "\r\n",
      "CSV_COLUMNS = ['ECONSUMPTION', 'ACCELERATION','PITCH','ROLL','YAW', 'key']\r\n",
      "\r\n",
      "LABEL_COLUMN = 'ECONSUMPTION'\r\n",
      "\r\n",
      "DEFAULTS = [[5.0], [0.0], [0.0], [0.0], [0.0], ['nokey']]\r\n",
      "\r\n",
      "# These are the raw input columns, and will be provided for prediction also\r\n",
      "INPUT_COLUMNS = [\r\n",
      "    layers.real_valued_column('ACCELERATION'),\r\n",
      "    layers.real_valued_column('PITCH'),\r\n",
      "    layers.real_valued_column('ROLL'),\r\n",
      "    layers.real_valued_column('YAW'),\r\n",
      "]\r\n",
      "\r\n",
      "def build_estimator(model_dir, hidden_units):\r\n",
      "  (accel, pitch, roll, yaw) = INPUT_COLUMNS \r\n",
      "  return tf.contrib.learn.DNNRegressor(\r\n",
      "      model_dir=model_dir,\r\n",
      "      feature_columns=[accel, pitch, roll, yaw],  # as-is\r\n",
      "      hidden_units=hidden_units or [128, 32, 4])\r\n",
      "\r\n",
      "\r\n",
      "def serving_input_fn():\r\n",
      "    feature_placeholders = {\r\n",
      "        column.name: tf.placeholder(tf.float32, [None]) for column in INPUT_COLUMNS\r\n",
      "    }\r\n",
      "    features = {\r\n",
      "      key: tf.expand_dims(tensor, -1)\r\n",
      "      for key, tensor in feature_placeholders.items()\r\n",
      "    }\r\n",
      "    return tflearn.utils.input_fn_utils.InputFnOps(\r\n",
      "      features,\r\n",
      "      None,\r\n",
      "      feature_placeholders\r\n",
      "    )\r\n",
      "\r\n",
      "def generate_csv_input_fn(filename, num_epochs=None, batch_size=512, mode=tf.contrib.learn.ModeKeys.TRAIN):\r\n",
      "  def _input_fn():\r\n",
      "    # could be a path to one file or a file pattern.\r\n",
      "    input_file_names = tf.train.match_filenames_once(filename)\r\n",
      "    #input_file_names = [filename]\r\n",
      "\r\n",
      "    filename_queue = tf.train.string_input_producer(\r\n",
      "        input_file_names, num_epochs=num_epochs, shuffle=True)\r\n",
      "    reader = tf.TextLineReader()\r\n",
      "    _, value = reader.read_up_to(filename_queue, num_records=batch_size)\r\n",
      "\r\n",
      "    value_column = tf.expand_dims(value, -1)\r\n",
      "\r\n",
      "    columns = tf.decode_csv(value_column, record_defaults=DEFAULTS)\r\n",
      "\r\n",
      "    features = dict(zip(CSV_COLUMNS, columns))\r\n",
      "\r\n",
      "    label = features.pop(LABEL_COLUMN)\r\n",
      "\r\n",
      "    return features, label\r\n",
      "\r\n",
      "  return _input_fn\r\n",
      "\r\n",
      "\r\n",
      "def get_eval_metrics():\r\n",
      "  return {\r\n",
      "     'rmse': tflearn.MetricSpec(metric_fn=metrics.streaming_root_mean_squared_error),\r\n",
      "  }\r\n"
     ]
    }
   ],
   "source": [
    "!cat econsumption/trainer/model.py"
   ]
  },
  {
   "cell_type": "code",
   "execution_count": 66,
   "metadata": {
    "collapsed": false,
    "deletable": true,
    "editable": true
   },
   "outputs": [
    {
     "name": "stdout",
     "output_type": "stream",
     "text": [
      "0.0011634026758261544,0.020811654526534856,0.43367346938775514,0.3654822335025381,0.8838383838383839,0\n",
      "0.16021716849948758,0.008324661810613941,0.3928571428571429,0.4974619289340102,0.4292929292929293,0\n"
     ]
    }
   ],
   "source": [
    "%bash\n",
    "head -1 $REPO/vehicles-train.csv\n",
    "head -1 $REPO/vehicles-valid.csv"
   ]
  },
  {
   "cell_type": "markdown",
   "metadata": {
    "deletable": true,
    "editable": true
   },
   "source": [
    "<h2> Running the Python module from the command-line </h2>"
   ]
  },
  {
   "cell_type": "code",
   "execution_count": 67,
   "metadata": {
    "collapsed": false,
    "deletable": true,
    "editable": true
   },
   "outputs": [
    {
     "name": "stderr",
     "output_type": "stream",
     "text": [
      "/usr/local/envs/py2env/lib/python2.7/site-packages/h5py/__init__.py:36: FutureWarning: Conversion of the second argument of issubdtype from `float` to `np.floating` is deprecated. In future, it will be treated as `np.float64 == np.dtype(float).type`.\n",
      "  from ._conv import register_converters as _register_converters\n",
      "INFO:tensorflow:Using default config.\n",
      "INFO:tensorflow:Using config: {'_save_checkpoints_secs': 600, '_num_ps_replicas': 0, '_keep_checkpoint_max': 5, '_task_type': None, '_is_chief': True, '_cluster_spec': <tensorflow.python.training.server_lib.ClusterSpec object at 0x7fe7c3c39690>, '_model_dir': '/content/datalab/demo-cases/vehilce-health-status/vehicles_trained/', '_save_checkpoints_steps': None, '_keep_checkpoint_every_n_hours': 10000, '_session_config': None, '_tf_random_seed': None, '_save_summary_steps': 100, '_environment': 'local', '_num_worker_replicas': 0, '_task_id': 0, '_log_step_count_steps': 100, '_tf_config': gpu_options {\n",
      "  per_process_gpu_memory_fraction: 1.0\n",
      "}\n",
      ", '_evaluation_master': '', '_master': ''}\n",
      "WARNING:tensorflow:From /usr/local/envs/py2env/lib/python2.7/site-packages/tensorflow/contrib/learn/python/learn/monitors.py:267: __init__ (from tensorflow.contrib.learn.python.learn.monitors) is deprecated and will be removed after 2016-12-05.\n",
      "Instructions for updating:\n",
      "Monitors are deprecated. Please use tf.train.SessionRunHook.\n",
      "INFO:tensorflow:Create CheckpointSaverHook.\n",
      "INFO:tensorflow:Graph was finalized.\n",
      "INFO:tensorflow:Running local_init_op.\n",
      "INFO:tensorflow:Done running local_init_op.\n",
      "INFO:tensorflow:Saving checkpoints for 1 into /content/datalab/demo-cases/vehilce-health-status/vehicles_trained/model.ckpt.\n",
      "INFO:tensorflow:Starting evaluation at 2018-03-05-17:37:29\n",
      "INFO:tensorflow:Graph was finalized.\n",
      "INFO:tensorflow:Restoring parameters from /content/datalab/demo-cases/vehilce-health-status/vehicles_trained/model.ckpt-1\n",
      "INFO:tensorflow:Running local_init_op.\n",
      "INFO:tensorflow:Done running local_init_op.\n",
      "INFO:tensorflow:Evaluation [1/10]\n",
      "INFO:tensorflow:Evaluation [2/10]\n",
      "INFO:tensorflow:Evaluation [3/10]\n",
      "INFO:tensorflow:Evaluation [4/10]\n",
      "INFO:tensorflow:Evaluation [5/10]\n",
      "INFO:tensorflow:Evaluation [6/10]\n",
      "INFO:tensorflow:Evaluation [7/10]\n",
      "INFO:tensorflow:Evaluation [8/10]\n",
      "INFO:tensorflow:Evaluation [9/10]\n",
      "INFO:tensorflow:Evaluation [10/10]\n",
      "INFO:tensorflow:Finished evaluation at 2018-03-05-17:37:30\n",
      "INFO:tensorflow:Saving dict for global step 1: global_step = 1, loss = 0.012928233, rmse = 0.11338078\n",
      "INFO:tensorflow:Validation (step 1): loss = 0.012928233, global_step = 1, rmse = 0.11338078\n",
      "INFO:tensorflow:loss = 0.016003506, step = 1\n",
      "INFO:tensorflow:global_step/sec: 51.1601\n",
      "INFO:tensorflow:loss = 0.008818919, step = 101 (1.463 sec)\n",
      "INFO:tensorflow:global_step/sec: 77.2534\n",
      "INFO:tensorflow:loss = 0.011933934, step = 201 (1.294 sec)\n",
      "INFO:tensorflow:Saving checkpoints for 210 into /content/datalab/demo-cases/vehilce-health-status/vehicles_trained/model.ckpt.\n",
      "INFO:tensorflow:Loss for final step: 0.011740693.\n",
      "INFO:tensorflow:Starting evaluation at 2018-03-05-17:37:33\n",
      "INFO:tensorflow:Graph was finalized.\n",
      "INFO:tensorflow:Restoring parameters from /content/datalab/demo-cases/vehilce-health-status/vehicles_trained/model.ckpt-210\n",
      "INFO:tensorflow:Running local_init_op.\n",
      "INFO:tensorflow:Done running local_init_op.\n",
      "INFO:tensorflow:Evaluation [1/10]\n",
      "INFO:tensorflow:Evaluation [2/10]\n",
      "INFO:tensorflow:Evaluation [3/10]\n",
      "INFO:tensorflow:Evaluation [4/10]\n",
      "INFO:tensorflow:Evaluation [5/10]\n",
      "INFO:tensorflow:Evaluation [6/10]\n",
      "INFO:tensorflow:Evaluation [7/10]\n",
      "INFO:tensorflow:Evaluation [8/10]\n",
      "INFO:tensorflow:Evaluation [9/10]\n",
      "INFO:tensorflow:Evaluation [10/10]\n",
      "INFO:tensorflow:Finished evaluation at 2018-03-05-17:37:33\n",
      "INFO:tensorflow:Saving dict for global step 210: global_step = 210, loss = 0.011007433, rmse = 0.10449612\n",
      "INFO:tensorflow:Restoring parameters from /content/datalab/demo-cases/vehilce-health-status/vehicles_trained/model.ckpt-210\n",
      "INFO:tensorflow:Assets added to graph.\n",
      "INFO:tensorflow:No assets to write.\n",
      "INFO:tensorflow:SavedModel written to: /content/datalab/demo-cases/vehilce-health-status/vehicles_trained/export/Servo/temp-1520271453/saved_model.pb\n"
     ]
    }
   ],
   "source": [
    "%bash\n",
    "rm -rf vehicles.tar.gz vehicles_trained\n",
    "export PYTHONPATH=${PYTHONPATH}:${REPO}/econsumption\n",
    "python -m trainer.task \\\n",
    "   --train_data_paths=\"${REPO}/vehicles-train*\" \\\n",
    "   --eval_data_paths=${REPO}/vehicles-valid.csv  \\\n",
    "   --output_dir=${REPO}/vehicles_trained \\\n",
    "   --num_epochs=10 \\\n",
    "   --job-dir=./tmp"
   ]
  },
  {
   "cell_type": "code",
   "execution_count": 72,
   "metadata": {
    "collapsed": false,
    "deletable": true,
    "editable": true
   },
   "outputs": [
    {
     "name": "stdout",
     "output_type": "stream",
     "text": [
      "saved_model.pb\tvariables\r\n"
     ]
    }
   ],
   "source": [
    "!ls $REPO/vehicles_trained/export/Servo/"
   ]
  },
  {
   "cell_type": "code",
   "execution_count": 69,
   "metadata": {
    "collapsed": false,
    "deletable": true,
    "editable": true
   },
   "outputs": [
    {
     "name": "stdout",
     "output_type": "stream",
     "text": [
      "Overwriting ./test.json\n"
     ]
    }
   ],
   "source": [
    "%writefile ./test.json\n",
    "{\"ACCELERATION\": 0.3424933,\"PITCH\": 0.4929889823,\"ROLL\": 0.999398298932,\"YAW\": 0.103000023}"
   ]
  },
  {
   "cell_type": "code",
   "execution_count": 73,
   "metadata": {
    "collapsed": false,
    "deletable": true,
    "editable": true
   },
   "outputs": [
    {
     "name": "stderr",
     "output_type": "stream",
     "text": [
      "ERROR: (gcloud.ml-engine.local.predict) /usr/local/envs/py2env/lib/python2.7/site-packages/h5py/__init__.py:36: FutureWarning: Conversion of the second argument of issubdtype from `float` to `np.floating` is deprecated. In future, it will be treated as `np.float64 == np.dtype(float).type`.\n",
      "  from ._conv import register_converters as _register_converters\n",
      "Traceback (most recent call last):\n",
      "  File \"lib/googlecloudsdk/command_lib/ml_engine/local_predict.py\", line 111, in <module>\n",
      "    main()\n",
      "  File \"lib/googlecloudsdk/command_lib/ml_engine/local_predict.py\", line 106, in main\n",
      "    instances=instances)\n",
      "  File \"/tools/google-cloud-sdk/lib/third_party/cloud_ml_engine_sdk/prediction/prediction_lib.py\", line 1304, in local_predict\n",
      "    client = create_client(framework, model_dir, tags)\n",
      "  File \"/tools/google-cloud-sdk/lib/third_party/cloud_ml_engine_sdk/prediction/prediction_lib.py\", line 1242, in create_client\n",
      "    return create_client_fn(model_path, tags)\n",
      "  File \"/tools/google-cloud-sdk/lib/third_party/cloud_ml_engine_sdk/prediction/prediction_lib.py\", line 1102, in create_tf_session_client\n",
      "    return SessionClient(*load_model(model_dir, tags))\n",
      "  File \"/tools/google-cloud-sdk/lib/third_party/cloud_ml_engine_sdk/prediction/prediction_lib.py\", line 448, in load_model\n",
      "    \"Cloud ML only supports TF 1.0 or above and models \"\n",
      "prediction_lib.PredictionError: Failed to load model: Cloud ML only supports TF 1.0 or above and models saved in SavedModel format. (Error code: 0)\n",
      "\n"
     ]
    }
   ],
   "source": [
    "%bash\n",
    "model_dir=$(ls ${REPO}/vehicles_trained/export/Servo/)\n",
    "gcloud ml-engine local predict \\\n",
    "    --model-dir=${REPO}/vehilces_trained/export/Servo/${model_dir} \\\n",
    "    --json-instances=./test.json"
   ]
  },
  {
   "cell_type": "markdown",
   "metadata": {
    "deletable": true,
    "editable": true
   },
   "source": [
    "<h2> Running locally using gcloud </h2>"
   ]
  },
  {
   "cell_type": "code",
   "execution_count": 74,
   "metadata": {
    "collapsed": false,
    "deletable": true,
    "editable": true
   },
   "outputs": [
    {
     "name": "stderr",
     "output_type": "stream",
     "text": [
      "/usr/local/envs/py2env/lib/python2.7/site-packages/h5py/__init__.py:36: FutureWarning: Conversion of the second argument of issubdtype from `float` to `np.floating` is deprecated. In future, it will be treated as `np.float64 == np.dtype(float).type`.\n",
      "  from ._conv import register_converters as _register_converters\n",
      "INFO:tensorflow:Using default config.\n",
      "INFO:tensorflow:Using config: {'_save_checkpoints_secs': 600, '_num_ps_replicas': 0, '_keep_checkpoint_max': 5, '_task_type': None, '_is_chief': True, '_cluster_spec': <tensorflow.python.training.server_lib.ClusterSpec object at 0x7f6a1bed5d50>, '_model_dir': '/content/datalab/demo-cases/vehilce-health-status/vehicles_trained/', '_save_checkpoints_steps': None, '_keep_checkpoint_every_n_hours': 10000, '_session_config': None, '_tf_random_seed': None, '_save_summary_steps': 100, '_environment': u'cloud', '_num_worker_replicas': 0, '_task_id': 0, '_log_step_count_steps': 100, '_tf_config': gpu_options {\n",
      "  per_process_gpu_memory_fraction: 1.0\n",
      "}\n",
      ", '_evaluation_master': '', '_master': ''}\n",
      "WARNING:tensorflow:From /usr/local/envs/py2env/lib/python2.7/site-packages/tensorflow/contrib/learn/python/learn/monitors.py:267: __init__ (from tensorflow.contrib.learn.python.learn.monitors) is deprecated and will be removed after 2016-12-05.\n",
      "Instructions for updating:\n",
      "Monitors are deprecated. Please use tf.train.SessionRunHook.\n",
      "INFO:tensorflow:Create CheckpointSaverHook.\n",
      "INFO:tensorflow:Graph was finalized.\n",
      "INFO:tensorflow:Running local_init_op.\n",
      "INFO:tensorflow:Done running local_init_op.\n",
      "INFO:tensorflow:Saving checkpoints for 1 into /content/datalab/demo-cases/vehilce-health-status/vehicles_trained/model.ckpt.\n",
      "INFO:tensorflow:Starting evaluation at 2018-03-05-17:39:19\n",
      "INFO:tensorflow:Graph was finalized.\n",
      "INFO:tensorflow:Restoring parameters from /content/datalab/demo-cases/vehilce-health-status/vehicles_trained/model.ckpt-1\n",
      "INFO:tensorflow:Running local_init_op.\n",
      "INFO:tensorflow:Done running local_init_op.\n",
      "INFO:tensorflow:Evaluation [1/10]\n",
      "INFO:tensorflow:Evaluation [2/10]\n",
      "INFO:tensorflow:Evaluation [3/10]\n",
      "INFO:tensorflow:Evaluation [4/10]\n",
      "INFO:tensorflow:Evaluation [5/10]\n",
      "INFO:tensorflow:Evaluation [6/10]\n",
      "INFO:tensorflow:Evaluation [7/10]\n",
      "INFO:tensorflow:Evaluation [8/10]\n",
      "INFO:tensorflow:Evaluation [9/10]\n",
      "INFO:tensorflow:Evaluation [10/10]\n",
      "INFO:tensorflow:Finished evaluation at 2018-03-05-17:39:19\n",
      "INFO:tensorflow:Saving dict for global step 1: global_step = 1, loss = 0.01295686, rmse = 0.11368735\n",
      "INFO:tensorflow:Validation (step 1): loss = 0.01295686, global_step = 1, rmse = 0.11368735\n",
      "INFO:tensorflow:loss = 0.049125884, step = 1\n",
      "INFO:tensorflow:global_step/sec: 57.5829\n",
      "INFO:tensorflow:loss = 0.009096278, step = 101 (1.246 sec)\n",
      "INFO:tensorflow:global_step/sec: 81.8226\n",
      "INFO:tensorflow:loss = 0.012057536, step = 201 (1.222 sec)\n",
      "INFO:tensorflow:Saving checkpoints for 210 into /content/datalab/demo-cases/vehilce-health-status/vehicles_trained/model.ckpt.\n",
      "INFO:tensorflow:Loss for final step: 0.012023318.\n",
      "INFO:tensorflow:Starting evaluation at 2018-03-05-17:39:22\n",
      "INFO:tensorflow:Graph was finalized.\n",
      "INFO:tensorflow:Restoring parameters from /content/datalab/demo-cases/vehilce-health-status/vehicles_trained/model.ckpt-210\n",
      "INFO:tensorflow:Running local_init_op.\n",
      "INFO:tensorflow:Done running local_init_op.\n",
      "INFO:tensorflow:Evaluation [1/10]\n",
      "INFO:tensorflow:Evaluation [2/10]\n",
      "INFO:tensorflow:Evaluation [3/10]\n",
      "INFO:tensorflow:Evaluation [4/10]\n",
      "INFO:tensorflow:Evaluation [5/10]\n",
      "INFO:tensorflow:Evaluation [6/10]\n",
      "INFO:tensorflow:Evaluation [7/10]\n",
      "INFO:tensorflow:Evaluation [8/10]\n",
      "INFO:tensorflow:Evaluation [9/10]\n",
      "INFO:tensorflow:Evaluation [10/10]\n",
      "INFO:tensorflow:Finished evaluation at 2018-03-05-17:39:22\n",
      "INFO:tensorflow:Saving dict for global step 210: global_step = 210, loss = 0.011235962, rmse = 0.105674356\n",
      "INFO:tensorflow:Restoring parameters from /content/datalab/demo-cases/vehilce-health-status/vehicles_trained/model.ckpt-210\n",
      "INFO:tensorflow:Assets added to graph.\n",
      "INFO:tensorflow:No assets to write.\n",
      "INFO:tensorflow:SavedModel written to: /content/datalab/demo-cases/vehilce-health-status/vehicles_trained/export/Servo/temp-1520271562/saved_model.pb\n"
     ]
    }
   ],
   "source": [
    "%bash\n",
    "rm -rf vehicles.tar.gz vehicles_trained\n",
    "gcloud ml-engine local train \\\n",
    "   --module-name=trainer.task \\\n",
    "   --package-path=${REPO}/econsumption/trainer \\\n",
    "   -- \\\n",
    "   --train_data_paths=${REPO}/vehicles-train.csv \\\n",
    "   --eval_data_paths=${REPO}/vehicles-valid.csv  \\\n",
    "   --num_epochs=10 \\\n",
    "   --output_dir=${REPO}/vehicles_trained "
   ]
  },
  {
   "cell_type": "code",
   "execution_count": null,
   "metadata": {
    "collapsed": false,
    "deletable": true,
    "editable": true
   },
   "outputs": [],
   "source": [
    "from google.datalab.ml import TensorBoard\n",
    "TensorBoard().start('{}/vehicles_trained'.format(REPO))"
   ]
  },
  {
   "cell_type": "code",
   "execution_count": null,
   "metadata": {
    "collapsed": false,
    "deletable": true,
    "editable": true
   },
   "outputs": [],
   "source": [
    "for pid in TensorBoard.list()['pid']:\n",
    "  TensorBoard().stop(pid)\n",
    "  print 'Stopped TensorBoard with pid {}'.format(pid)"
   ]
  },
  {
   "cell_type": "code",
   "execution_count": 75,
   "metadata": {
    "collapsed": false,
    "deletable": true,
    "editable": true
   },
   "outputs": [
    {
     "name": "stdout",
     "output_type": "stream",
     "text": [
      "checkpoint\t\t\t\t     model.ckpt-1.index\r\n",
      "eval\t\t\t\t\t     model.ckpt-1.meta\r\n",
      "events.out.tfevents.1520271558.b859c3f5fd0d  model.ckpt-210.data-00000-of-00001\r\n",
      "export\t\t\t\t\t     model.ckpt-210.index\r\n",
      "graph.pbtxt\t\t\t\t     model.ckpt-210.meta\r\n",
      "model.ckpt-1.data-00000-of-00001\r\n"
     ]
    }
   ],
   "source": [
    "!ls $REPO/vehicles_trained"
   ]
  },
  {
   "cell_type": "code",
   "execution_count": 76,
   "metadata": {
    "collapsed": false,
    "deletable": true,
    "editable": true
   },
   "outputs": [
    {
     "name": "stderr",
     "output_type": "stream",
     "text": [
      "ERROR: (gcloud.ml-engine.local.predict) /usr/local/envs/py2env/lib/python2.7/site-packages/h5py/__init__.py:36: FutureWarning: Conversion of the second argument of issubdtype from `float` to `np.floating` is deprecated. In future, it will be treated as `np.float64 == np.dtype(float).type`.\n",
      "  from ._conv import register_converters as _register_converters\n",
      "Traceback (most recent call last):\n",
      "  File \"lib/googlecloudsdk/command_lib/ml_engine/local_predict.py\", line 111, in <module>\n",
      "    main()\n",
      "  File \"lib/googlecloudsdk/command_lib/ml_engine/local_predict.py\", line 106, in main\n",
      "    instances=instances)\n",
      "  File \"/tools/google-cloud-sdk/lib/third_party/cloud_ml_engine_sdk/prediction/prediction_lib.py\", line 1304, in local_predict\n",
      "    client = create_client(framework, model_dir, tags)\n",
      "  File \"/tools/google-cloud-sdk/lib/third_party/cloud_ml_engine_sdk/prediction/prediction_lib.py\", line 1242, in create_client\n",
      "    return create_client_fn(model_path, tags)\n",
      "  File \"/tools/google-cloud-sdk/lib/third_party/cloud_ml_engine_sdk/prediction/prediction_lib.py\", line 1102, in create_tf_session_client\n",
      "    return SessionClient(*load_model(model_dir, tags))\n",
      "  File \"/tools/google-cloud-sdk/lib/third_party/cloud_ml_engine_sdk/prediction/prediction_lib.py\", line 448, in load_model\n",
      "    \"Cloud ML only supports TF 1.0 or above and models \"\n",
      "prediction_lib.PredictionError: Failed to load model: Cloud ML only supports TF 1.0 or above and models saved in SavedModel format. (Error code: 0)\n",
      "\n"
     ]
    }
   ],
   "source": [
    "%bash\n",
    "model_dir=$(ls ${REPO}/vehicles_trained/export/Servo)\n",
    "gcloud ml-engine local predict \\\n",
    "    --model-dir=${REPO}/vehilces_trained/export/Servo/${model_dir} \\\n",
    "    --json-instances=./test.json"
   ]
  },
  {
   "cell_type": "markdown",
   "metadata": {
    "deletable": true,
    "editable": true
   },
   "source": [
    "<h2> Submit training job using gcloud </h2>\n",
    "\n",
    "First copy the training data to the cloud.  Then, launch a training job."
   ]
  },
  {
   "cell_type": "code",
   "execution_count": 99,
   "metadata": {
    "collapsed": false,
    "deletable": true,
    "editable": true
   },
   "outputs": [
    {
     "name": "stdout",
     "output_type": "stream",
     "text": [
      "go-de-internal-johanna\n"
     ]
    },
    {
     "name": "stderr",
     "output_type": "stream",
     "text": [
      "Removing gs://go-de-internal-johanna/vehilce-health-status/neural-net/vehicles-test.csv#1520273116038825...\n",
      "Removing gs://go-de-internal-johanna/vehilce-health-status/neural-net/vehicles-train.csv#1520273115839925...\n",
      "Removing gs://go-de-internal-johanna/vehilce-health-status/neural-net/vehicles-valid.csv#1520273115796398...\n",
      "/ [1/3 objects]  33% Done                                                       \r",
      "/ [2/3 objects]  66% Done                                                       \r",
      "/ [3/3 objects] 100% Done                                                       \r\n",
      "Operation completed over 3 objects.                                              \n",
      "Copying file:///content/datalab/demo-cases/vehilce-health-status/vehicles-test.csv [Content-Type=text/csv]...\n",
      "Copying file:///content/datalab/demo-cases/vehilce-health-status/vehicles-train.csv [Content-Type=text/csv]...\n",
      "/ [0 files][    0.0 B/224.9 KiB]                                                \r",
      "/ [0/3 files][    0.0 B/  1.5 MiB]   0% Done                                    \r",
      "Copying file:///content/datalab/demo-cases/vehilce-health-status/vehicles-valid.csv [Content-Type=text/csv]...\n",
      "/ [0/3 files][    0.0 B/  1.5 MiB]   0% Done                                    \r",
      "/ [1/3 files][  1.5 MiB/  1.5 MiB]  99% Done                                    \r",
      "/ [2/3 files][  1.5 MiB/  1.5 MiB]  99% Done                                    \r",
      "/ [3/3 files][  1.5 MiB/  1.5 MiB] 100% Done                                    \r\n",
      "Operation completed over 3 objects/1.5 MiB.                                      \n"
     ]
    }
   ],
   "source": [
    "%bash\n",
    "echo $BUCKET\n",
    "gsutil -m rm -rf gs://${BUCKET}/vehilce-health-status/neural-net\n",
    "gsutil -m cp ${REPO}/*.csv gs://${BUCKET}/vehilce-health-status/neural-net/"
   ]
  },
  {
   "cell_type": "code",
   "execution_count": 1,
   "metadata": {
    "collapsed": false,
    "deletable": true,
    "editable": true
   },
   "outputs": [
    {
     "name": "stdout",
     "output_type": "stream",
     "text": [
      "gs:///churn-prediction/lstm/lstm-training churn_training180417_134831\n"
     ]
    },
    {
     "name": "stderr",
     "output_type": "stream",
     "text": [
      "CommandException: \"rm\" command does not support provider-only URLs.\n",
      "ERROR: (gcloud.ml-engine.jobs.submit.training) argument --job-dir: Must be of form gs://bucket/object\n",
      "Usage: gcloud ml-engine jobs submit training JOB --module-name=MODULE_NAME [optional flags] [-- USER_ARGS ...]\n",
      "  optional flags may be  --async | --config | --help | --job-dir | --labels |\n",
      "                         --package-path | --packages | --region |\n",
      "                         --runtime-version | --scale-tier | --staging-bucket |\n",
      "                         --stream-logs\n",
      "\n",
      "For detailed information on this command and its flags, run:\n",
      "  gcloud ml-engine jobs submit training --help\n"
     ]
    }
   ],
   "source": [
    "%%bash\n",
    "OUTDIR=gs://${BUCKET}/vehilce-health-status/neural-net/vehicles_trained\n",
    "JOBNAME=vehicles_health_demo_$(date -u +%y%m%d_%H%M%S)\n",
    "echo $OUTDIR $REGION $JOBNAME\n",
    "gsutil -m rm -rf $OUTDIR\n",
    "gcloud ml-engine jobs submit training $JOBNAME \\\n",
    "   --region=$REGION \\\n",
    "   --module-name=trainer.task \\\n",
    "   --package-path=${REPO}/econsumption/trainer \\\n",
    "   --job-dir=$OUTDIR \\\n",
    "   --staging-bucket=gs://$BUCKET \\\n",
    "   --scale-tier=BASIC \\\n",
    "   --runtime-version=1.0 \\\n",
    "   -- \\\n",
    "   --train_data_paths=\"gs://${BUCKET}/vehilce-health-status/neural-net/vehicles-train*\" \\\n",
    "   --eval_data_paths=\"gs://${BUCKET}/vehilce-health-status/neural-net/vehicles-valid*\"  \\\n",
    "   --output_dir=$OUTDIR \\\n",
    "   --num_epochs=100"
   ]
  },
  {
   "cell_type": "markdown",
   "metadata": {
    "deletable": true,
    "editable": true
   },
   "source": [
    "<h1> Deploy model </h1>\n",
    "\n",
    "Find out the actual name of the subdirectory where the model is stored and use it to deploy the model."
   ]
  },
  {
   "cell_type": "code",
   "execution_count": null,
   "metadata": {
    "collapsed": false,
    "deletable": true,
    "editable": true
   },
   "outputs": [],
   "source": [
    "%bash\n",
    "gsutil ls gs://${BUCKET}/econsumption/smallinput/vehicles_trained/export/Servo"
   ]
  },
  {
   "cell_type": "code",
   "execution_count": null,
   "metadata": {
    "collapsed": false,
    "deletable": true,
    "editable": true
   },
   "outputs": [],
   "source": [
    "%bash\n",
    "MODEL_NAME=\"econsumption\"\n",
    "MODEL_VERSION=\"v1\"\n",
    "MODEL_LOCATION=$(gsutil ls gs://${BUCKET}/vehilce-health-status/neural-net/vehicles_trained/export/Servo | tail -1)\n",
    "echo \"Deleting and deploying $MODEL_NAME $MODEL_VERSION from $MODEL_LOCATION ... this will take a few minutes\"\n",
    "#gcloud ml-engine versions delete ${MODEL_VERSION} --model ${MODEL_NAME}\n",
    "#gcloud ml-engine models delete ${MODEL_NAME}\n",
    "gcloud ml-engine models create ${MODEL_NAME} --regions $REGION\n",
    "gcloud ml-engine versions create ${MODEL_VERSION} --model ${MODEL_NAME} --origin ${MODEL_LOCATION}"
   ]
  },
  {
   "cell_type": "markdown",
   "metadata": {
    "deletable": true,
    "editable": true
   },
   "source": [
    "<h1> Prediction </h1>"
   ]
  },
  {
   "cell_type": "code",
   "execution_count": null,
   "metadata": {
    "collapsed": false,
    "deletable": true,
    "editable": true
   },
   "outputs": [],
   "source": [
    "%bash\n",
    "gcloud ml-engine predict --model=econsumption --version=v1 --json-instances=./test.json"
   ]
  },
  {
   "cell_type": "code",
   "execution_count": null,
   "metadata": {
    "collapsed": false,
    "deletable": true,
    "editable": true
   },
   "outputs": [],
   "source": [
    "from googleapiclient import discovery\n",
    "from oauth2client.client import GoogleCredentials\n",
    "import json\n",
    "\n",
    "credentials = GoogleCredentials.get_application_default()\n",
    "api = discovery.build('ml', 'v1', credentials=credentials,\n",
    "            discoveryServiceUrl='https://storage.googleapis.com/cloud-ml/discovery/ml_v1_discovery.json')\n",
    "\n",
    "request_data = {'instances':\n",
    "  [\n",
    "      {\n",
    "        'ACCELERATION': 0.3424933,\n",
    "        'PITCH': 0.49298898232,\n",
    "        'ROLL': 0.999398298932,\n",
    "        'YAW': 0.103000023,\n",
    "      }\n",
    "  ]\n",
    "}\n",
    "\n",
    "parent = 'projects/%s/models/%s/versions/%s' % (PROJECT, 'econsumption', 'v1')\n",
    "response = api.projects().predict(body=request_data, name=parent).execute()\n",
    "print \"response={0}\".format(response)"
   ]
  },
  {
   "cell_type": "markdown",
   "metadata": {
    "deletable": true,
    "editable": true
   },
   "source": [
    "<h1> Create hyper-parameter tuning </h1>\n",
    "\n",
    "The file specifies the search region in parameter space.  Cloud MLE carries out a smart search algorithm within these constraints (i.e. it does not try out every single value)."
   ]
  },
  {
   "cell_type": "code",
   "execution_count": 82,
   "metadata": {
    "collapsed": false,
    "deletable": true,
    "editable": true
   },
   "outputs": [
    {
     "name": "stdout",
     "output_type": "stream",
     "text": [
      "  parser.add_argument(\r\n",
      "      '--train_data_paths',\r\n",
      "      help='GCS or local path to training data',\r\n",
      "--\r\n",
      "  parser.add_argument(\r\n",
      "      '--num_epochs',\r\n",
      "      help=\"\"\"\\\r\n",
      "--\r\n",
      "  parser.add_argument(\r\n",
      "      '--train_batch_size',\r\n",
      "      help='Batch size for training steps',\r\n",
      "--\r\n",
      "  parser.add_argument(\r\n",
      "      '--eval_batch_size',\r\n",
      "      help='Batch size for evaluation steps',\r\n",
      "--\r\n",
      "  parser.add_argument(\r\n",
      "      '--train_steps',\r\n",
      "      help=\"\"\"\\\r\n",
      "--\r\n",
      "  parser.add_argument(\r\n",
      "      '--eval_steps',\r\n",
      "      help='Number of steps to run evalution for at each checkpoint',\r\n",
      "--\r\n",
      "  parser.add_argument(\r\n",
      "      '--eval_data_paths',\r\n",
      "      help='GCS or local path to evaluation data',\r\n",
      "--\r\n",
      "  parser.add_argument(\r\n",
      "      '--hidden_units',\r\n",
      "      help='List of hidden layer sizes to use for DNN feature columns',\r\n",
      "--\r\n",
      "  parser.add_argument(\r\n",
      "      '--output_dir',\r\n",
      "      help='GCS location to write checkpoints and export models',\r\n",
      "--\r\n",
      "  parser.add_argument(\r\n",
      "      '--job-dir',\r\n",
      "      help='this model ignores this field, but it is required by gcloud',\r\n",
      "--\r\n",
      "  parser.add_argument(\r\n",
      "      '--eval_delay_secs',\r\n",
      "      help='How long to wait before running first evaluation',\r\n",
      "--\r\n",
      "  parser.add_argument(\r\n",
      "      '--min_eval_frequency',\r\n",
      "      help='Minimum number of training steps between evaluations',\r\n",
      "--\r\n",
      "  parser.add_argument(\r\n",
      "      '--format',\r\n",
      "      help='Is the input data format csv or tfrecord?',\r\n"
     ]
    }
   ],
   "source": [
    "!grep -A 2 add_argument econsumption/trainer/task.py"
   ]
  },
  {
   "cell_type": "code",
   "execution_count": 83,
   "metadata": {
    "collapsed": false,
    "deletable": true,
    "editable": true
   },
   "outputs": [
    {
     "name": "stdout",
     "output_type": "stream",
     "text": [
      "def get_eval_metrics():\r\n",
      "  return {\r\n",
      "     'rmse': tflearn.MetricSpec(metric_fn=metrics.streaming_root_mean_squared_error),\r\n",
      "  }\r\n"
     ]
    }
   ],
   "source": [
    "!grep -A 5 eval_metric econsumption/trainer/model.py"
   ]
  },
  {
   "cell_type": "code",
   "execution_count": 87,
   "metadata": {
    "collapsed": false,
    "deletable": true,
    "editable": true
   },
   "outputs": [
    {
     "name": "stdout",
     "output_type": "stream",
     "text": [
      "Overwriting hyperparam.yaml\n"
     ]
    }
   ],
   "source": [
    "%writefile hyperparam.yaml\n",
    "trainingInput:\n",
    "  scaleTier: STANDARD_1\n",
    "  hyperparameters:\n",
    "    goal: MINIMIZE\n",
    "    maxTrials: 30\n",
    "    maxParallelTrials: 1\n",
    "    params:\n",
    "    - parameterName: train_batch_size\n",
    "      type: INTEGER\n",
    "      minValue: 64\n",
    "      maxValue: 512\n",
    "      scaleType: UNIT_LOG_SCALE\n",
    "    - parameterName: nbuckets\n",
    "      type: INTEGER\n",
    "      minValue: 10\n",
    "      maxValue: 20\n",
    "      scaleType: UNIT_LINEAR_SCALE\n",
    "    - parameterName: hidden_units\n",
    "      type: CATEGORICAL\n",
    "      categoricalValues: [\"128 32\", \"256 128 16\", \"64 64 64 8\"]       "
   ]
  },
  {
   "cell_type": "code",
   "execution_count": 101,
   "metadata": {
    "collapsed": false,
    "deletable": true,
    "editable": true
   },
   "outputs": [
    {
     "name": "stdout",
     "output_type": "stream",
     "text": [
      "go-de-internal-johanna\n"
     ]
    },
    {
     "name": "stderr",
     "output_type": "stream",
     "text": [
      "Removing gs://go-de-internal-johanna/vehilce-health-status/hyper-param/vehicles-test.csv#1520273124261874...\n",
      "Removing gs://go-de-internal-johanna/vehilce-health-status/hyper-param/vehicles-train.csv#1520273124302548...\n",
      "Removing gs://go-de-internal-johanna/vehilce-health-status/hyper-param/vehicles-valid.csv#1520273123905915...\n",
      "/ [1/3 objects]  33% Done                                                       \r",
      "/ [2/3 objects]  66% Done                                                       \r",
      "/ [3/3 objects] 100% Done                                                       \r\n",
      "Operation completed over 3 objects.                                              \n",
      "Copying file:///content/datalab/demo-cases/vehilce-health-status/vehicles-test.csv [Content-Type=text/csv]...\n",
      "/ [0 files][    0.0 B/224.9 KiB]                                                \r",
      "Copying file:///content/datalab/demo-cases/vehilce-health-status/vehicles-train.csv [Content-Type=text/csv]...\n",
      "/ [0 files][    0.0 B/  1.3 MiB]                                                \r",
      "Copying file:///content/datalab/demo-cases/vehilce-health-status/vehicles-valid.csv [Content-Type=text/csv]...\n",
      "/ [0/3 files][    0.0 B/  1.5 MiB]   0% Done                                    \r",
      "/ [1/3 files][  1.5 MiB/  1.5 MiB]  99% Done                                    \r",
      "/ [2/3 files][  1.5 MiB/  1.5 MiB]  99% Done                                    \r",
      "/ [3/3 files][  1.5 MiB/  1.5 MiB] 100% Done                                    \r\n",
      "Operation completed over 3 objects/1.5 MiB.                                      \n"
     ]
    }
   ],
   "source": [
    "%bash\n",
    "echo $BUCKET\n",
    "gsutil -m rm -rf gs://${BUCKET}/vehilce-health-status/hyper-param\n",
    "gsutil -m cp ${REPO}/*.csv gs://${BUCKET}/vehilce-health-status/hyper-param/"
   ]
  },
  {
   "cell_type": "code",
   "execution_count": 102,
   "metadata": {
    "collapsed": false,
    "deletable": true,
    "editable": true
   },
   "outputs": [
    {
     "name": "stdout",
     "output_type": "stream",
     "text": [
      "gs://go-de-internal-johanna/vehilce-health-status/hyper-param/vehicles_trained europe-west1 vehicles_health_demo_hyper_param_180305_180703\n",
      "jobId: vehicles_health_demo_hyper_param_180305_180703\n",
      "state: QUEUED\n"
     ]
    },
    {
     "name": "stderr",
     "output_type": "stream",
     "text": [
      "CommandException: 1 files/objects could not be removed.\n",
      "/tools/google-cloud-sdk/lib/googlecloudsdk/core/util/files.py:622: UnicodeWarning: Unicode equal comparison failed to convert both arguments to Unicode - interpreting them as being unequal\n",
      "  for chunk in iter(lambda: fp.read(4096), ''):\n",
      "Job [vehicles_health_demo_hyper_param_180305_180703] submitted successfully.\n",
      "Your job is still active. You may view the status of your job with the command\n",
      "\n",
      "  $ gcloud ml-engine jobs describe vehicles_health_demo_hyper_param_180305_180703\n",
      "\n",
      "or continue streaming the logs with the command\n",
      "\n",
      "  $ gcloud ml-engine jobs stream-logs vehicles_health_demo_hyper_param_180305_180703\n"
     ]
    }
   ],
   "source": [
    "%%bash\n",
    "OUTDIR=gs://${BUCKET}/vehilce-health-status/hyper-param/vehicles_trained\n",
    "JOBNAME=vehicles_health_demo_hyper_param_$(date -u +%y%m%d_%H%M%S)\n",
    "echo $OUTDIR $REGION $JOBNAME\n",
    "gsutil -m rm -rf $OUTDIR\n",
    "gcloud ml-engine jobs submit training $JOBNAME \\\n",
    "   --region=$REGION \\\n",
    "   --module-name=trainer.task \\\n",
    "   --package-path=${REPO}/econsumption/trainer \\\n",
    "   --job-dir=$OUTDIR \\\n",
    "   --staging-bucket=gs://$BUCKET \\\n",
    "   --scale-tier=BASIC \\\n",
    "   --runtime-version=1.2 \\\n",
    "   --config=hyperparam.yaml \\\n",
    "   -- \\\n",
    "   --train_data_paths=\"gs://$BUCKET/vehilce-health-status/hyper-param/vehicles-train*\" \\\n",
    "   --eval_data_paths=\"gs://${BUCKET}/vehilce-health-status/hyper-param/vehicles-valid*\"  \\\n",
    "   --output_dir=$OUTDIR \\\n",
    "   --num_epochs=100"
   ]
  },
  {
   "cell_type": "code",
   "execution_count": null,
   "metadata": {
    "collapsed": true,
    "deletable": true,
    "editable": true
   },
   "outputs": [],
   "source": []
  }
 ],
 "metadata": {
  "kernelspec": {
   "display_name": "Python 2",
   "language": "python",
   "name": "python2"
  },
  "language_info": {
   "codemirror_mode": {
    "name": "ipython",
    "version": 2
   },
   "file_extension": ".py",
   "mimetype": "text/x-python",
   "name": "python",
   "nbconvert_exporter": "python",
   "pygments_lexer": "ipython2",
   "version": "2.7.14"
  }
 },
 "nbformat": 4,
 "nbformat_minor": 2
}
