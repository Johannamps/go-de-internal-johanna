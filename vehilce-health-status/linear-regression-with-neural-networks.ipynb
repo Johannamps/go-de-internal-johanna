{
 "cells": [
  {
   "cell_type": "markdown",
   "metadata": {
    "deletable": true,
    "editable": true
   },
   "source": [
    "<h1> Read in the dataset </h1>\n",
    "\n",
    "The dataset is located in BigQuery."
   ]
  },
  {
   "cell_type": "code",
   "execution_count": 1,
   "metadata": {
    "collapsed": true,
    "deletable": true,
    "editable": true
   },
   "outputs": [],
   "source": [
    "import datalab.bigquery as bq\n",
    "import seaborn as sns\n",
    "import pandas as pd\n",
    "import numpy as np\n",
    "import shutil"
   ]
  },
  {
   "cell_type": "code",
   "execution_count": 2,
   "metadata": {
    "collapsed": false,
    "deletable": true,
    "editable": true
   },
   "outputs": [
    {
     "data": {
      "application/javascript": [
       "$.getScript('https://kmahelona.github.io/ipython_notebook_goodies/ipython_notebook_toc.js')"
      ],
      "text/plain": [
       "<IPython.core.display.Javascript object>"
      ]
     },
     "metadata": {},
     "output_type": "display_data"
    }
   ],
   "source": [
    "%%javascript\n",
    "$.getScript('https://kmahelona.github.io/ipython_notebook_goodies/ipython_notebook_toc.js')"
   ]
  },
  {
   "cell_type": "code",
   "execution_count": 3,
   "metadata": {
    "collapsed": true,
    "deletable": true,
    "editable": true
   },
   "outputs": [],
   "source": [
    "%sql --module letslookatthedata\n",
    "SELECT * FROM [go-de-internal:democases_go_reply_internal.vehicle_heath_status]\n",
    "WHERE ECONSUMPTION > 0\n",
    "LIMIT 10"
   ]
  },
  {
   "cell_type": "code",
   "execution_count": 4,
   "metadata": {
    "collapsed": false,
    "deletable": true,
    "editable": true
   },
   "outputs": [
    {
     "data": {
      "text/html": [
       "<div>\n",
       "<style scoped>\n",
       "    .dataframe tbody tr th:only-of-type {\n",
       "        vertical-align: middle;\n",
       "    }\n",
       "\n",
       "    .dataframe tbody tr th {\n",
       "        vertical-align: top;\n",
       "    }\n",
       "\n",
       "    .dataframe thead th {\n",
       "        text-align: right;\n",
       "    }\n",
       "</style>\n",
       "<table border=\"1\" class=\"dataframe\">\n",
       "  <thead>\n",
       "    <tr style=\"text-align: right;\">\n",
       "      <th></th>\n",
       "      <th>TRUCK</th>\n",
       "      <th>TIMESTAMP</th>\n",
       "      <th>VOLTAGE_MIN</th>\n",
       "      <th>VOLTAGE_AVG</th>\n",
       "      <th>VOLTAGE_MAX</th>\n",
       "      <th>CURRENT_MIN</th>\n",
       "      <th>CURRENT_AVG</th>\n",
       "      <th>CURRENT_MAX</th>\n",
       "      <th>ECONSUMPTION</th>\n",
       "      <th>ACCELERATION</th>\n",
       "      <th>SHOCKS</th>\n",
       "      <th>MOTORTEMP</th>\n",
       "      <th>CAPACITY</th>\n",
       "      <th>PITCH</th>\n",
       "      <th>ROLL</th>\n",
       "      <th>YAW</th>\n",
       "    </tr>\n",
       "  </thead>\n",
       "  <tbody>\n",
       "    <tr>\n",
       "      <th>0</th>\n",
       "      <td>reply-forklift-2</td>\n",
       "      <td>1511527785733</td>\n",
       "      <td>0.000</td>\n",
       "      <td>4.717</td>\n",
       "      <td>5.929</td>\n",
       "      <td>0.00000</td>\n",
       "      <td>199.53999</td>\n",
       "      <td>265.89999</td>\n",
       "      <td>0.919</td>\n",
       "      <td>0.130</td>\n",
       "      <td>0</td>\n",
       "      <td>NaN</td>\n",
       "      <td>97</td>\n",
       "      <td>-30.21</td>\n",
       "      <td>-2.38000</td>\n",
       "      <td>-45.20</td>\n",
       "    </tr>\n",
       "    <tr>\n",
       "      <th>1</th>\n",
       "      <td>reply-forklift-2</td>\n",
       "      <td>1507294763453</td>\n",
       "      <td>4.902</td>\n",
       "      <td>4.912</td>\n",
       "      <td>4.941</td>\n",
       "      <td>160.30000</td>\n",
       "      <td>203.16000</td>\n",
       "      <td>216.10001</td>\n",
       "      <td>10.093</td>\n",
       "      <td>-0.010</td>\n",
       "      <td>0</td>\n",
       "      <td>NaN</td>\n",
       "      <td>71</td>\n",
       "      <td>0.06</td>\n",
       "      <td>-0.75000</td>\n",
       "      <td>0.01</td>\n",
       "    </tr>\n",
       "    <tr>\n",
       "      <th>2</th>\n",
       "      <td>reply-forklift-2</td>\n",
       "      <td>1499781959129</td>\n",
       "      <td>5.016</td>\n",
       "      <td>5.503</td>\n",
       "      <td>5.974</td>\n",
       "      <td>268.50000</td>\n",
       "      <td>944.71991</td>\n",
       "      <td>1479.80005</td>\n",
       "      <td>15.797</td>\n",
       "      <td>-0.011</td>\n",
       "      <td>0</td>\n",
       "      <td>NaN</td>\n",
       "      <td>54</td>\n",
       "      <td>0.40</td>\n",
       "      <td>-0.07000</td>\n",
       "      <td>214.90</td>\n",
       "    </tr>\n",
       "    <tr>\n",
       "      <th>3</th>\n",
       "      <td>reply-forklift-2</td>\n",
       "      <td>1499777238129</td>\n",
       "      <td>6.387</td>\n",
       "      <td>6.415</td>\n",
       "      <td>6.456</td>\n",
       "      <td>165.30000</td>\n",
       "      <td>299.78000</td>\n",
       "      <td>563.00000</td>\n",
       "      <td>10.158</td>\n",
       "      <td>-0.012</td>\n",
       "      <td>0</td>\n",
       "      <td>28.5</td>\n",
       "      <td>70</td>\n",
       "      <td>-0.16</td>\n",
       "      <td>0.23000</td>\n",
       "      <td>50.56</td>\n",
       "    </tr>\n",
       "    <tr>\n",
       "      <th>4</th>\n",
       "      <td>reply-forklift-2</td>\n",
       "      <td>1499774705928</td>\n",
       "      <td>6.500</td>\n",
       "      <td>6.563</td>\n",
       "      <td>6.604</td>\n",
       "      <td>140.10001</td>\n",
       "      <td>193.36000</td>\n",
       "      <td>243.10001</td>\n",
       "      <td>6.246</td>\n",
       "      <td>-0.009</td>\n",
       "      <td>0</td>\n",
       "      <td>NaN</td>\n",
       "      <td>82</td>\n",
       "      <td>0.19</td>\n",
       "      <td>-0.20000</td>\n",
       "      <td>276.09</td>\n",
       "    </tr>\n",
       "    <tr>\n",
       "      <th>5</th>\n",
       "      <td>reply-forklift-1</td>\n",
       "      <td>1498129678168</td>\n",
       "      <td>4.430</td>\n",
       "      <td>4.537</td>\n",
       "      <td>4.613</td>\n",
       "      <td>141.70000</td>\n",
       "      <td>232.62000</td>\n",
       "      <td>381.50000</td>\n",
       "      <td>11.428</td>\n",
       "      <td>-0.043</td>\n",
       "      <td>0</td>\n",
       "      <td>NaN</td>\n",
       "      <td>67</td>\n",
       "      <td>-3.31</td>\n",
       "      <td>1.02000</td>\n",
       "      <td>-42.56</td>\n",
       "    </tr>\n",
       "    <tr>\n",
       "      <th>6</th>\n",
       "      <td>reply-forklift-1</td>\n",
       "      <td>1498129593067</td>\n",
       "      <td>4.458</td>\n",
       "      <td>4.528</td>\n",
       "      <td>4.614</td>\n",
       "      <td>132.39999</td>\n",
       "      <td>244.10001</td>\n",
       "      <td>500.00000</td>\n",
       "      <td>11.335</td>\n",
       "      <td>-0.048</td>\n",
       "      <td>0</td>\n",
       "      <td>NaN</td>\n",
       "      <td>67</td>\n",
       "      <td>-3.10</td>\n",
       "      <td>0.99000</td>\n",
       "      <td>-42.65</td>\n",
       "    </tr>\n",
       "    <tr>\n",
       "      <th>7</th>\n",
       "      <td>reply-forklift-1</td>\n",
       "      <td>1499771516862</td>\n",
       "      <td>3.943</td>\n",
       "      <td>3.956</td>\n",
       "      <td>3.971</td>\n",
       "      <td>339.60001</td>\n",
       "      <td>352.73999</td>\n",
       "      <td>360.50000</td>\n",
       "      <td>19.535</td>\n",
       "      <td>0.038</td>\n",
       "      <td>0</td>\n",
       "      <td>NaN</td>\n",
       "      <td>44</td>\n",
       "      <td>0.05</td>\n",
       "      <td>-0.00063</td>\n",
       "      <td>0.84</td>\n",
       "    </tr>\n",
       "    <tr>\n",
       "      <th>8</th>\n",
       "      <td>reply-forklift-1</td>\n",
       "      <td>1499771306763</td>\n",
       "      <td>4.479</td>\n",
       "      <td>4.519</td>\n",
       "      <td>4.549</td>\n",
       "      <td>164.70000</td>\n",
       "      <td>236.92000</td>\n",
       "      <td>317.60001</td>\n",
       "      <td>19.271</td>\n",
       "      <td>0.008</td>\n",
       "      <td>0</td>\n",
       "      <td>NaN</td>\n",
       "      <td>44</td>\n",
       "      <td>-0.04</td>\n",
       "      <td>-0.33000</td>\n",
       "      <td>-0.98</td>\n",
       "    </tr>\n",
       "    <tr>\n",
       "      <th>9</th>\n",
       "      <td>reply-forklift-2</td>\n",
       "      <td>1499769870425</td>\n",
       "      <td>4.905</td>\n",
       "      <td>4.928</td>\n",
       "      <td>4.942</td>\n",
       "      <td>176.00000</td>\n",
       "      <td>178.50000</td>\n",
       "      <td>182.80000</td>\n",
       "      <td>18.411</td>\n",
       "      <td>-0.009</td>\n",
       "      <td>0</td>\n",
       "      <td>NaN</td>\n",
       "      <td>47</td>\n",
       "      <td>-0.45</td>\n",
       "      <td>-0.09000</td>\n",
       "      <td>15.30</td>\n",
       "    </tr>\n",
       "  </tbody>\n",
       "</table>\n",
       "</div>"
      ],
      "text/plain": [
       "              TRUCK      TIMESTAMP  VOLTAGE_MIN  VOLTAGE_AVG  VOLTAGE_MAX  \\\n",
       "0  reply-forklift-2  1511527785733        0.000        4.717        5.929   \n",
       "1  reply-forklift-2  1507294763453        4.902        4.912        4.941   \n",
       "2  reply-forklift-2  1499781959129        5.016        5.503        5.974   \n",
       "3  reply-forklift-2  1499777238129        6.387        6.415        6.456   \n",
       "4  reply-forklift-2  1499774705928        6.500        6.563        6.604   \n",
       "5  reply-forklift-1  1498129678168        4.430        4.537        4.613   \n",
       "6  reply-forklift-1  1498129593067        4.458        4.528        4.614   \n",
       "7  reply-forklift-1  1499771516862        3.943        3.956        3.971   \n",
       "8  reply-forklift-1  1499771306763        4.479        4.519        4.549   \n",
       "9  reply-forklift-2  1499769870425        4.905        4.928        4.942   \n",
       "\n",
       "   CURRENT_MIN  CURRENT_AVG  CURRENT_MAX  ECONSUMPTION  ACCELERATION  SHOCKS  \\\n",
       "0      0.00000    199.53999    265.89999         0.919         0.130       0   \n",
       "1    160.30000    203.16000    216.10001        10.093        -0.010       0   \n",
       "2    268.50000    944.71991   1479.80005        15.797        -0.011       0   \n",
       "3    165.30000    299.78000    563.00000        10.158        -0.012       0   \n",
       "4    140.10001    193.36000    243.10001         6.246        -0.009       0   \n",
       "5    141.70000    232.62000    381.50000        11.428        -0.043       0   \n",
       "6    132.39999    244.10001    500.00000        11.335        -0.048       0   \n",
       "7    339.60001    352.73999    360.50000        19.535         0.038       0   \n",
       "8    164.70000    236.92000    317.60001        19.271         0.008       0   \n",
       "9    176.00000    178.50000    182.80000        18.411        -0.009       0   \n",
       "\n",
       "   MOTORTEMP  CAPACITY  PITCH     ROLL     YAW  \n",
       "0        NaN        97 -30.21 -2.38000  -45.20  \n",
       "1        NaN        71   0.06 -0.75000    0.01  \n",
       "2        NaN        54   0.40 -0.07000  214.90  \n",
       "3       28.5        70  -0.16  0.23000   50.56  \n",
       "4        NaN        82   0.19 -0.20000  276.09  \n",
       "5        NaN        67  -3.31  1.02000  -42.56  \n",
       "6        NaN        67  -3.10  0.99000  -42.65  \n",
       "7        NaN        44   0.05 -0.00063    0.84  \n",
       "8        NaN        44  -0.04 -0.33000   -0.98  \n",
       "9        NaN        47  -0.45 -0.09000   15.30  "
      ]
     },
     "execution_count": 4,
     "metadata": {},
     "output_type": "execute_result"
    }
   ],
   "source": [
    "vehicles = bq.Query(letslookatthedata).to_dataframe()\n",
    "vehicles"
   ]
  },
  {
   "cell_type": "markdown",
   "metadata": {
    "deletable": true,
    "editable": true
   },
   "source": [
    "<h1> Let's understand the Data </h1>\n",
    "\n",
    "First we will read in a larger part of the data to make nicer graphs."
   ]
  },
  {
   "cell_type": "code",
   "execution_count": 5,
   "metadata": {
    "collapsed": true,
    "deletable": true,
    "editable": true
   },
   "outputs": [],
   "source": [
    "%sql --module letslookatthedata2\n",
    "SELECT\n",
    "  TRUCK,\n",
    "  TIMESTAMP,\n",
    "  VOLTAGE_AVG,\n",
    "  CURRENT_AVG,\n",
    "  ECONSUMPTION,\n",
    "  ACCELERATION,\n",
    "  SHOCKS,\n",
    "  MOTORTEMP,\n",
    "  CAPACITY,\n",
    "  PITCH,\n",
    "  ROLL,\n",
    "  YAW\n",
    "FROM\n",
    "  [go-de-internal:democases_go_reply_internal.vehicle_heath_status]\n",
    "WHERE\n",
    "  ECONSUMPTION > 0"
   ]
  },
  {
   "cell_type": "code",
   "execution_count": 6,
   "metadata": {
    "collapsed": false,
    "deletable": true,
    "editable": true
   },
   "outputs": [
    {
     "data": {
      "text/html": [
       "<div>\n",
       "<style scoped>\n",
       "    .dataframe tbody tr th:only-of-type {\n",
       "        vertical-align: middle;\n",
       "    }\n",
       "\n",
       "    .dataframe tbody tr th {\n",
       "        vertical-align: top;\n",
       "    }\n",
       "\n",
       "    .dataframe thead th {\n",
       "        text-align: right;\n",
       "    }\n",
       "</style>\n",
       "<table border=\"1\" class=\"dataframe\">\n",
       "  <thead>\n",
       "    <tr style=\"text-align: right;\">\n",
       "      <th></th>\n",
       "      <th>TRUCK</th>\n",
       "      <th>TIMESTAMP</th>\n",
       "      <th>VOLTAGE_AVG</th>\n",
       "      <th>CURRENT_AVG</th>\n",
       "      <th>ECONSUMPTION</th>\n",
       "      <th>ACCELERATION</th>\n",
       "      <th>SHOCKS</th>\n",
       "      <th>MOTORTEMP</th>\n",
       "      <th>CAPACITY</th>\n",
       "      <th>PITCH</th>\n",
       "      <th>ROLL</th>\n",
       "      <th>YAW</th>\n",
       "    </tr>\n",
       "  </thead>\n",
       "  <tbody>\n",
       "    <tr>\n",
       "      <th>0</th>\n",
       "      <td>reply-forklift-2</td>\n",
       "      <td>1511527785733</td>\n",
       "      <td>4.717</td>\n",
       "      <td>199.53999</td>\n",
       "      <td>0.919</td>\n",
       "      <td>0.130</td>\n",
       "      <td>0.0</td>\n",
       "      <td>NaN</td>\n",
       "      <td>97</td>\n",
       "      <td>-30.21</td>\n",
       "      <td>-2.38000</td>\n",
       "      <td>-45.20</td>\n",
       "    </tr>\n",
       "    <tr>\n",
       "      <th>1</th>\n",
       "      <td>reply-forklift-2</td>\n",
       "      <td>1507294763453</td>\n",
       "      <td>4.912</td>\n",
       "      <td>203.16000</td>\n",
       "      <td>10.093</td>\n",
       "      <td>-0.010</td>\n",
       "      <td>0.0</td>\n",
       "      <td>NaN</td>\n",
       "      <td>71</td>\n",
       "      <td>0.06</td>\n",
       "      <td>-0.75000</td>\n",
       "      <td>0.01</td>\n",
       "    </tr>\n",
       "    <tr>\n",
       "      <th>2</th>\n",
       "      <td>reply-forklift-2</td>\n",
       "      <td>1499781959129</td>\n",
       "      <td>5.503</td>\n",
       "      <td>944.71991</td>\n",
       "      <td>15.797</td>\n",
       "      <td>-0.011</td>\n",
       "      <td>0.0</td>\n",
       "      <td>NaN</td>\n",
       "      <td>54</td>\n",
       "      <td>0.40</td>\n",
       "      <td>-0.07000</td>\n",
       "      <td>214.90</td>\n",
       "    </tr>\n",
       "    <tr>\n",
       "      <th>3</th>\n",
       "      <td>reply-forklift-2</td>\n",
       "      <td>1499777238129</td>\n",
       "      <td>6.415</td>\n",
       "      <td>299.78000</td>\n",
       "      <td>10.158</td>\n",
       "      <td>-0.012</td>\n",
       "      <td>0.0</td>\n",
       "      <td>28.5</td>\n",
       "      <td>70</td>\n",
       "      <td>-0.16</td>\n",
       "      <td>0.23000</td>\n",
       "      <td>50.56</td>\n",
       "    </tr>\n",
       "    <tr>\n",
       "      <th>4</th>\n",
       "      <td>reply-forklift-2</td>\n",
       "      <td>1499774705928</td>\n",
       "      <td>6.563</td>\n",
       "      <td>193.36000</td>\n",
       "      <td>6.246</td>\n",
       "      <td>-0.009</td>\n",
       "      <td>0.0</td>\n",
       "      <td>NaN</td>\n",
       "      <td>82</td>\n",
       "      <td>0.19</td>\n",
       "      <td>-0.20000</td>\n",
       "      <td>276.09</td>\n",
       "    </tr>\n",
       "    <tr>\n",
       "      <th>5</th>\n",
       "      <td>reply-forklift-1</td>\n",
       "      <td>1498129678168</td>\n",
       "      <td>4.537</td>\n",
       "      <td>232.62000</td>\n",
       "      <td>11.428</td>\n",
       "      <td>-0.043</td>\n",
       "      <td>0.0</td>\n",
       "      <td>NaN</td>\n",
       "      <td>67</td>\n",
       "      <td>-3.31</td>\n",
       "      <td>1.02000</td>\n",
       "      <td>-42.56</td>\n",
       "    </tr>\n",
       "    <tr>\n",
       "      <th>6</th>\n",
       "      <td>reply-forklift-1</td>\n",
       "      <td>1498129593067</td>\n",
       "      <td>4.528</td>\n",
       "      <td>244.10001</td>\n",
       "      <td>11.335</td>\n",
       "      <td>-0.048</td>\n",
       "      <td>0.0</td>\n",
       "      <td>NaN</td>\n",
       "      <td>67</td>\n",
       "      <td>-3.10</td>\n",
       "      <td>0.99000</td>\n",
       "      <td>-42.65</td>\n",
       "    </tr>\n",
       "    <tr>\n",
       "      <th>7</th>\n",
       "      <td>reply-forklift-1</td>\n",
       "      <td>1499771516862</td>\n",
       "      <td>3.956</td>\n",
       "      <td>352.73999</td>\n",
       "      <td>19.535</td>\n",
       "      <td>0.038</td>\n",
       "      <td>0.0</td>\n",
       "      <td>NaN</td>\n",
       "      <td>44</td>\n",
       "      <td>0.05</td>\n",
       "      <td>-0.00063</td>\n",
       "      <td>0.84</td>\n",
       "    </tr>\n",
       "    <tr>\n",
       "      <th>8</th>\n",
       "      <td>reply-forklift-1</td>\n",
       "      <td>1499771306763</td>\n",
       "      <td>4.519</td>\n",
       "      <td>236.92000</td>\n",
       "      <td>19.271</td>\n",
       "      <td>0.008</td>\n",
       "      <td>0.0</td>\n",
       "      <td>NaN</td>\n",
       "      <td>44</td>\n",
       "      <td>-0.04</td>\n",
       "      <td>-0.33000</td>\n",
       "      <td>-0.98</td>\n",
       "    </tr>\n",
       "    <tr>\n",
       "      <th>9</th>\n",
       "      <td>reply-forklift-2</td>\n",
       "      <td>1499769870425</td>\n",
       "      <td>4.928</td>\n",
       "      <td>178.50000</td>\n",
       "      <td>18.411</td>\n",
       "      <td>-0.009</td>\n",
       "      <td>0.0</td>\n",
       "      <td>NaN</td>\n",
       "      <td>47</td>\n",
       "      <td>-0.45</td>\n",
       "      <td>-0.09000</td>\n",
       "      <td>15.30</td>\n",
       "    </tr>\n",
       "  </tbody>\n",
       "</table>\n",
       "</div>"
      ],
      "text/plain": [
       "              TRUCK      TIMESTAMP  VOLTAGE_AVG  CURRENT_AVG  ECONSUMPTION  \\\n",
       "0  reply-forklift-2  1511527785733        4.717    199.53999         0.919   \n",
       "1  reply-forklift-2  1507294763453        4.912    203.16000        10.093   \n",
       "2  reply-forklift-2  1499781959129        5.503    944.71991        15.797   \n",
       "3  reply-forklift-2  1499777238129        6.415    299.78000        10.158   \n",
       "4  reply-forklift-2  1499774705928        6.563    193.36000         6.246   \n",
       "5  reply-forklift-1  1498129678168        4.537    232.62000        11.428   \n",
       "6  reply-forklift-1  1498129593067        4.528    244.10001        11.335   \n",
       "7  reply-forklift-1  1499771516862        3.956    352.73999        19.535   \n",
       "8  reply-forklift-1  1499771306763        4.519    236.92000        19.271   \n",
       "9  reply-forklift-2  1499769870425        4.928    178.50000        18.411   \n",
       "\n",
       "   ACCELERATION  SHOCKS  MOTORTEMP  CAPACITY  PITCH     ROLL     YAW  \n",
       "0         0.130     0.0        NaN        97 -30.21 -2.38000  -45.20  \n",
       "1        -0.010     0.0        NaN        71   0.06 -0.75000    0.01  \n",
       "2        -0.011     0.0        NaN        54   0.40 -0.07000  214.90  \n",
       "3        -0.012     0.0       28.5        70  -0.16  0.23000   50.56  \n",
       "4        -0.009     0.0        NaN        82   0.19 -0.20000  276.09  \n",
       "5        -0.043     0.0        NaN        67  -3.31  1.02000  -42.56  \n",
       "6        -0.048     0.0        NaN        67  -3.10  0.99000  -42.65  \n",
       "7         0.038     0.0        NaN        44   0.05 -0.00063    0.84  \n",
       "8         0.008     0.0        NaN        44  -0.04 -0.33000   -0.98  \n",
       "9        -0.009     0.0        NaN        47  -0.45 -0.09000   15.30  "
      ]
     },
     "execution_count": 6,
     "metadata": {},
     "output_type": "execute_result"
    }
   ],
   "source": [
    "vehicles = bq.Query(letslookatthedata2, EVERY_N=5000).to_dataframe()\n",
    "vehicles[:10]"
   ]
  },
  {
   "cell_type": "code",
   "execution_count": 7,
   "metadata": {
    "collapsed": false,
    "deletable": true,
    "editable": true
   },
   "outputs": [
    {
     "name": "stderr",
     "output_type": "stream",
     "text": [
      "/usr/local/envs/py2env/lib/python2.7/site-packages/matplotlib/font_manager.py:1320: UserWarning: findfont: Font family [u'sans-serif'] not found. Falling back to DejaVu Sans\n",
      "  (prop.get_family(), self.defaultFamily[fontext]))\n"
     ]
    },
    {
     "data": {
      "image/png": "[encoded data removed]",
      "text/plain": [
       "<matplotlib.figure.Figure at 0x7f58f94b2f10>"
      ]
     },
     "metadata": {},
     "output_type": "display_data"
    }
   ],
   "source": [
    "ax = sns.regplot(x=\"PITCH\", y=\"ECONSUMPTION\", ci=None, truncate=True, data=vehicles)"
   ]
  },
  {
   "cell_type": "code",
   "execution_count": 8,
   "metadata": {
    "collapsed": false,
    "deletable": true,
    "editable": true
   },
   "outputs": [
    {
     "data": {
      "image/png": "[encoded data removed]",
      "text/plain": [
       "<matplotlib.figure.Figure at 0x7f58f829ca90>"
      ]
     },
     "metadata": {},
     "output_type": "display_data"
    }
   ],
   "source": [
    "ax = sns.regplot(x=\"ACCELERATION\", y=\"ECONSUMPTION\", ci=None, truncate=True, data=vehicles)"
   ]
  },
  {
   "cell_type": "code",
   "execution_count": 9,
   "metadata": {
    "collapsed": false,
    "deletable": true,
    "editable": true
   },
   "outputs": [
    {
     "data": {
      "text/html": [
       "<div>\n",
       "<style scoped>\n",
       "    .dataframe tbody tr th:only-of-type {\n",
       "        vertical-align: middle;\n",
       "    }\n",
       "\n",
       "    .dataframe tbody tr th {\n",
       "        vertical-align: top;\n",
       "    }\n",
       "\n",
       "    .dataframe thead th {\n",
       "        text-align: right;\n",
       "    }\n",
       "</style>\n",
       "<table border=\"1\" class=\"dataframe\">\n",
       "  <thead>\n",
       "    <tr style=\"text-align: right;\">\n",
       "      <th></th>\n",
       "      <th>TIMESTAMP</th>\n",
       "      <th>VOLTAGE_AVG</th>\n",
       "      <th>CURRENT_AVG</th>\n",
       "      <th>ECONSUMPTION</th>\n",
       "      <th>ACCELERATION</th>\n",
       "      <th>SHOCKS</th>\n",
       "      <th>MOTORTEMP</th>\n",
       "      <th>CAPACITY</th>\n",
       "      <th>PITCH</th>\n",
       "      <th>ROLL</th>\n",
       "      <th>YAW</th>\n",
       "    </tr>\n",
       "  </thead>\n",
       "  <tbody>\n",
       "    <tr>\n",
       "      <th>count</th>\n",
       "      <td>1.932460e+05</td>\n",
       "      <td>192555.000000</td>\n",
       "      <td>192555.000000</td>\n",
       "      <td>193246.000000</td>\n",
       "      <td>192408.000000</td>\n",
       "      <td>192599.000000</td>\n",
       "      <td>15175.00000</td>\n",
       "      <td>193246.000000</td>\n",
       "      <td>192409.000000</td>\n",
       "      <td>192408.000000</td>\n",
       "      <td>192408.000000</td>\n",
       "    </tr>\n",
       "    <tr>\n",
       "      <th>mean</th>\n",
       "      <td>1.499253e+12</td>\n",
       "      <td>6.126522</td>\n",
       "      <td>211.246046</td>\n",
       "      <td>10.247332</td>\n",
       "      <td>-0.022869</td>\n",
       "      <td>0.001381</td>\n",
       "      <td>28.20286</td>\n",
       "      <td>71.495105</td>\n",
       "      <td>-0.490679</td>\n",
       "      <td>0.021815</td>\n",
       "      <td>11.087114</td>\n",
       "    </tr>\n",
       "    <tr>\n",
       "      <th>std</th>\n",
       "      <td>4.621490e+09</td>\n",
       "      <td>0.627981</td>\n",
       "      <td>74.652350</td>\n",
       "      <td>7.998370</td>\n",
       "      <td>0.039918</td>\n",
       "      <td>0.037138</td>\n",
       "      <td>2.30947</td>\n",
       "      <td>22.641713</td>\n",
       "      <td>2.155818</td>\n",
       "      <td>5.138120</td>\n",
       "      <td>118.589509</td>\n",
       "    </tr>\n",
       "    <tr>\n",
       "      <th>min</th>\n",
       "      <td>1.493136e+12</td>\n",
       "      <td>0.000000</td>\n",
       "      <td>0.000000</td>\n",
       "      <td>0.004000</td>\n",
       "      <td>-1.847000</td>\n",
       "      <td>0.000000</td>\n",
       "      <td>-0.00000</td>\n",
       "      <td>0.000000</td>\n",
       "      <td>-79.180000</td>\n",
       "      <td>-172.520000</td>\n",
       "      <td>-346.160000</td>\n",
       "    </tr>\n",
       "    <tr>\n",
       "      <th>25%</th>\n",
       "      <td>1.495194e+12</td>\n",
       "      <td>5.794000</td>\n",
       "      <td>187.020000</td>\n",
       "      <td>3.715000</td>\n",
       "      <td>-0.033000</td>\n",
       "      <td>0.000000</td>\n",
       "      <td>26.90000</td>\n",
       "      <td>58.000000</td>\n",
       "      <td>-0.560000</td>\n",
       "      <td>-0.590000</td>\n",
       "      <td>-34.850000</td>\n",
       "    </tr>\n",
       "    <tr>\n",
       "      <th>50%</th>\n",
       "      <td>1.499096e+12</td>\n",
       "      <td>6.132000</td>\n",
       "      <td>196.179990</td>\n",
       "      <td>8.357000</td>\n",
       "      <td>-0.029000</td>\n",
       "      <td>0.000000</td>\n",
       "      <td>28.20000</td>\n",
       "      <td>77.000000</td>\n",
       "      <td>-0.080000</td>\n",
       "      <td>-0.050000</td>\n",
       "      <td>0.800000</td>\n",
       "    </tr>\n",
       "    <tr>\n",
       "      <th>75%</th>\n",
       "      <td>1.499858e+12</td>\n",
       "      <td>6.495000</td>\n",
       "      <td>206.960010</td>\n",
       "      <td>15.364000</td>\n",
       "      <td>-0.017000</td>\n",
       "      <td>0.000000</td>\n",
       "      <td>29.40000</td>\n",
       "      <td>90.000000</td>\n",
       "      <td>0.280000</td>\n",
       "      <td>0.360000</td>\n",
       "      <td>84.470000</td>\n",
       "    </tr>\n",
       "    <tr>\n",
       "      <th>max</th>\n",
       "      <td>1.511529e+12</td>\n",
       "      <td>11.977000</td>\n",
       "      <td>1628.699950</td>\n",
       "      <td>36.762000</td>\n",
       "      <td>0.975000</td>\n",
       "      <td>1.000000</td>\n",
       "      <td>34.40000</td>\n",
       "      <td>99.000000</td>\n",
       "      <td>72.990000</td>\n",
       "      <td>359.310000</td>\n",
       "      <td>342.390000</td>\n",
       "    </tr>\n",
       "  </tbody>\n",
       "</table>\n",
       "</div>"
      ],
      "text/plain": [
       "          TIMESTAMP    VOLTAGE_AVG    CURRENT_AVG   ECONSUMPTION  \\\n",
       "count  1.932460e+05  192555.000000  192555.000000  193246.000000   \n",
       "mean   1.499253e+12       6.126522     211.246046      10.247332   \n",
       "std    4.621490e+09       0.627981      74.652350       7.998370   \n",
       "min    1.493136e+12       0.000000       0.000000       0.004000   \n",
       "25%    1.495194e+12       5.794000     187.020000       3.715000   \n",
       "50%    1.499096e+12       6.132000     196.179990       8.357000   \n",
       "75%    1.499858e+12       6.495000     206.960010      15.364000   \n",
       "max    1.511529e+12      11.977000    1628.699950      36.762000   \n",
       "\n",
       "        ACCELERATION         SHOCKS    MOTORTEMP       CAPACITY  \\\n",
       "count  192408.000000  192599.000000  15175.00000  193246.000000   \n",
       "mean       -0.022869       0.001381     28.20286      71.495105   \n",
       "std         0.039918       0.037138      2.30947      22.641713   \n",
       "min        -1.847000       0.000000     -0.00000       0.000000   \n",
       "25%        -0.033000       0.000000     26.90000      58.000000   \n",
       "50%        -0.029000       0.000000     28.20000      77.000000   \n",
       "75%        -0.017000       0.000000     29.40000      90.000000   \n",
       "max         0.975000       1.000000     34.40000      99.000000   \n",
       "\n",
       "               PITCH           ROLL            YAW  \n",
       "count  192409.000000  192408.000000  192408.000000  \n",
       "mean       -0.490679       0.021815      11.087114  \n",
       "std         2.155818       5.138120     118.589509  \n",
       "min       -79.180000    -172.520000    -346.160000  \n",
       "25%        -0.560000      -0.590000     -34.850000  \n",
       "50%        -0.080000      -0.050000       0.800000  \n",
       "75%         0.280000       0.360000      84.470000  \n",
       "max        72.990000     359.310000     342.390000  "
      ]
     },
     "execution_count": 9,
     "metadata": {},
     "output_type": "execute_result"
    }
   ],
   "source": [
    "vehicles.describe()"
   ]
  },
  {
   "cell_type": "markdown",
   "metadata": {
    "deletable": true,
    "editable": true
   },
   "source": [
    "<h2> Preprocessing </h2>\n",
    "\n",
    "The goal is predict ECONSUMPTION with ACCELERATION, PITCH, ROLL and YAW.\n",
    "\n",
    "We need to some clean-up of the data:\n",
    "<ol>\n",
    "<li>Get ride of all lines without ECONSUMPTION</li>\n",
    "<li>Get ride of all lines without ACCELERATION</li>\n",
    "<li>Get ride of all lines without PITCH</li>\n",
    "<li>Get ride of all lines without ROLL</li>\n",
    "<li>Get ride of all lines without YAW</li>\n",
    "<li>Normalize ACCELERATION, PITCH, ROLL and YAW</li>\n",
    "</ol>"
   ]
  },
  {
   "cell_type": "code",
   "execution_count": 10,
   "metadata": {
    "collapsed": true,
    "deletable": true,
    "editable": true
   },
   "outputs": [],
   "source": [
    "# run a dataprep receipe\n",
    "# reload data to big Query"
   ]
  },
  {
   "cell_type": "code",
   "execution_count": 11,
   "metadata": {
    "collapsed": true,
    "deletable": true,
    "editable": true
   },
   "outputs": [],
   "source": [
    "%sql --module letslookatthedatapre\n",
    "SELECT\n",
    "  ACCELERATION,\n",
    "  ECONSUMPTION,\n",
    "  PITCH,\n",
    "  ROLL,\n",
    "  YAW\n",
    "FROM\n",
    "  [go-de-internal:democases_go_reply_internal.vehicle_heath_status_preprocessed]\n",
    "WHERE\n",
    "  ECONSUMPTION > 0 AND \n",
    "  ACCELERATION < 1 AND PITCH < 1 AND ROLL < 1 AND YAW < 1 AND\n",
    "  ACCELERATION > -1 AND PITCH > -1 AND ROLL > -1 AND YAW > -1"
   ]
  },
  {
   "cell_type": "code",
   "execution_count": 12,
   "metadata": {
    "collapsed": false,
    "deletable": true,
    "editable": true
   },
   "outputs": [
    {
     "data": {
      "text/html": [
       "<div>\n",
       "<style scoped>\n",
       "    .dataframe tbody tr th:only-of-type {\n",
       "        vertical-align: middle;\n",
       "    }\n",
       "\n",
       "    .dataframe tbody tr th {\n",
       "        vertical-align: top;\n",
       "    }\n",
       "\n",
       "    .dataframe thead th {\n",
       "        text-align: right;\n",
       "    }\n",
       "</style>\n",
       "<table border=\"1\" class=\"dataframe\">\n",
       "  <thead>\n",
       "    <tr style=\"text-align: right;\">\n",
       "      <th></th>\n",
       "      <th>ACCELERATION</th>\n",
       "      <th>ECONSUMPTION</th>\n",
       "      <th>PITCH</th>\n",
       "      <th>ROLL</th>\n",
       "      <th>YAW</th>\n",
       "    </tr>\n",
       "  </thead>\n",
       "  <tbody>\n",
       "    <tr>\n",
       "      <th>0</th>\n",
       "      <td>0.0210</td>\n",
       "      <td>10.167</td>\n",
       "      <td>-0.017111</td>\n",
       "      <td>-0.022333</td>\n",
       "      <td>0.653722</td>\n",
       "    </tr>\n",
       "    <tr>\n",
       "      <th>1</th>\n",
       "      <td>-0.0115</td>\n",
       "      <td>5.016</td>\n",
       "      <td>-0.001556</td>\n",
       "      <td>-0.001167</td>\n",
       "      <td>0.002278</td>\n",
       "    </tr>\n",
       "    <tr>\n",
       "      <th>2</th>\n",
       "      <td>0.0560</td>\n",
       "      <td>2.693</td>\n",
       "      <td>-0.005111</td>\n",
       "      <td>-0.005389</td>\n",
       "      <td>0.096722</td>\n",
       "    </tr>\n",
       "    <tr>\n",
       "      <th>3</th>\n",
       "      <td>-0.0215</td>\n",
       "      <td>5.513</td>\n",
       "      <td>-0.046167</td>\n",
       "      <td>0.001889</td>\n",
       "      <td>0.903500</td>\n",
       "    </tr>\n",
       "    <tr>\n",
       "      <th>4</th>\n",
       "      <td>0.0455</td>\n",
       "      <td>4.477</td>\n",
       "      <td>0.014333</td>\n",
       "      <td>0.011056</td>\n",
       "      <td>-0.224778</td>\n",
       "    </tr>\n",
       "    <tr>\n",
       "      <th>5</th>\n",
       "      <td>-0.0130</td>\n",
       "      <td>7.431</td>\n",
       "      <td>0.004500</td>\n",
       "      <td>-0.017833</td>\n",
       "      <td>0.850722</td>\n",
       "    </tr>\n",
       "    <tr>\n",
       "      <th>6</th>\n",
       "      <td>-0.0040</td>\n",
       "      <td>2.541</td>\n",
       "      <td>0.013056</td>\n",
       "      <td>-0.061444</td>\n",
       "      <td>-0.861444</td>\n",
       "    </tr>\n",
       "    <tr>\n",
       "      <th>7</th>\n",
       "      <td>0.0470</td>\n",
       "      <td>12.162</td>\n",
       "      <td>0.000444</td>\n",
       "      <td>-0.000778</td>\n",
       "      <td>0.023556</td>\n",
       "    </tr>\n",
       "    <tr>\n",
       "      <th>8</th>\n",
       "      <td>-0.0025</td>\n",
       "      <td>3.417</td>\n",
       "      <td>-0.004111</td>\n",
       "      <td>-0.005111</td>\n",
       "      <td>0.113333</td>\n",
       "    </tr>\n",
       "    <tr>\n",
       "      <th>9</th>\n",
       "      <td>-0.0215</td>\n",
       "      <td>13.768</td>\n",
       "      <td>0.001222</td>\n",
       "      <td>-0.001222</td>\n",
       "      <td>-0.503000</td>\n",
       "    </tr>\n",
       "  </tbody>\n",
       "</table>\n",
       "</div>"
      ],
      "text/plain": [
       "   ACCELERATION  ECONSUMPTION     PITCH      ROLL       YAW\n",
       "0        0.0210        10.167 -0.017111 -0.022333  0.653722\n",
       "1       -0.0115         5.016 -0.001556 -0.001167  0.002278\n",
       "2        0.0560         2.693 -0.005111 -0.005389  0.096722\n",
       "3       -0.0215         5.513 -0.046167  0.001889  0.903500\n",
       "4        0.0455         4.477  0.014333  0.011056 -0.224778\n",
       "5       -0.0130         7.431  0.004500 -0.017833  0.850722\n",
       "6       -0.0040         2.541  0.013056 -0.061444 -0.861444\n",
       "7        0.0470        12.162  0.000444 -0.000778  0.023556\n",
       "8       -0.0025         3.417 -0.004111 -0.005111  0.113333\n",
       "9       -0.0215        13.768  0.001222 -0.001222 -0.503000"
      ]
     },
     "execution_count": 12,
     "metadata": {},
     "output_type": "execute_result"
    }
   ],
   "source": [
    "vehicles = bq.Query(letslookatthedatapre, EVERY_N=1).to_dataframe()\n",
    "vehicles[:10]"
   ]
  },
  {
   "cell_type": "code",
   "execution_count": 13,
   "metadata": {
    "collapsed": false,
    "deletable": true,
    "editable": true
   },
   "outputs": [
    {
     "data": {
      "text/html": [
       "<div>\n",
       "<style scoped>\n",
       "    .dataframe tbody tr th:only-of-type {\n",
       "        vertical-align: middle;\n",
       "    }\n",
       "\n",
       "    .dataframe tbody tr th {\n",
       "        vertical-align: top;\n",
       "    }\n",
       "\n",
       "    .dataframe thead th {\n",
       "        text-align: right;\n",
       "    }\n",
       "</style>\n",
       "<table border=\"1\" class=\"dataframe\">\n",
       "  <thead>\n",
       "    <tr style=\"text-align: right;\">\n",
       "      <th></th>\n",
       "      <th>ACCELERATION</th>\n",
       "      <th>ECONSUMPTION</th>\n",
       "      <th>PITCH</th>\n",
       "      <th>ROLL</th>\n",
       "      <th>YAW</th>\n",
       "    </tr>\n",
       "  </thead>\n",
       "  <tbody>\n",
       "    <tr>\n",
       "      <th>count</th>\n",
       "      <td>167276.000000</td>\n",
       "      <td>167276.000000</td>\n",
       "      <td>167276.000000</td>\n",
       "      <td>167276.000000</td>\n",
       "      <td>167276.000000</td>\n",
       "    </tr>\n",
       "    <tr>\n",
       "      <th>mean</th>\n",
       "      <td>-0.011601</td>\n",
       "      <td>10.267128</td>\n",
       "      <td>-0.002614</td>\n",
       "      <td>-0.000226</td>\n",
       "      <td>0.087775</td>\n",
       "    </tr>\n",
       "    <tr>\n",
       "      <th>std</th>\n",
       "      <td>0.020561</td>\n",
       "      <td>8.022834</td>\n",
       "      <td>0.011900</td>\n",
       "      <td>0.010238</td>\n",
       "      <td>0.424636</td>\n",
       "    </tr>\n",
       "    <tr>\n",
       "      <th>min</th>\n",
       "      <td>-0.923500</td>\n",
       "      <td>0.004000</td>\n",
       "      <td>-0.437278</td>\n",
       "      <td>-0.958444</td>\n",
       "      <td>-0.999278</td>\n",
       "    </tr>\n",
       "    <tr>\n",
       "      <th>25%</th>\n",
       "      <td>-0.016500</td>\n",
       "      <td>3.637000</td>\n",
       "      <td>-0.002667</td>\n",
       "      <td>-0.002944</td>\n",
       "      <td>-0.083250</td>\n",
       "    </tr>\n",
       "    <tr>\n",
       "      <th>50%</th>\n",
       "      <td>-0.014500</td>\n",
       "      <td>8.362000</td>\n",
       "      <td>-0.000389</td>\n",
       "      <td>-0.000167</td>\n",
       "      <td>0.004833</td>\n",
       "    </tr>\n",
       "    <tr>\n",
       "      <th>75%</th>\n",
       "      <td>-0.008500</td>\n",
       "      <td>15.591000</td>\n",
       "      <td>0.001667</td>\n",
       "      <td>0.001889</td>\n",
       "      <td>0.376389</td>\n",
       "    </tr>\n",
       "    <tr>\n",
       "      <th>max</th>\n",
       "      <td>0.487500</td>\n",
       "      <td>36.762000</td>\n",
       "      <td>0.405500</td>\n",
       "      <td>0.857833</td>\n",
       "      <td>0.999944</td>\n",
       "    </tr>\n",
       "  </tbody>\n",
       "</table>\n",
       "</div>"
      ],
      "text/plain": [
       "        ACCELERATION   ECONSUMPTION          PITCH           ROLL  \\\n",
       "count  167276.000000  167276.000000  167276.000000  167276.000000   \n",
       "mean       -0.011601      10.267128      -0.002614      -0.000226   \n",
       "std         0.020561       8.022834       0.011900       0.010238   \n",
       "min        -0.923500       0.004000      -0.437278      -0.958444   \n",
       "25%        -0.016500       3.637000      -0.002667      -0.002944   \n",
       "50%        -0.014500       8.362000      -0.000389      -0.000167   \n",
       "75%        -0.008500      15.591000       0.001667       0.001889   \n",
       "max         0.487500      36.762000       0.405500       0.857833   \n",
       "\n",
       "                 YAW  \n",
       "count  167276.000000  \n",
       "mean        0.087775  \n",
       "std         0.424636  \n",
       "min        -0.999278  \n",
       "25%        -0.083250  \n",
       "50%         0.004833  \n",
       "75%         0.376389  \n",
       "max         0.999944  "
      ]
     },
     "execution_count": 13,
     "metadata": {},
     "output_type": "execute_result"
    }
   ],
   "source": [
    "vehicles.describe()"
   ]
  },
  {
   "cell_type": "markdown",
   "metadata": {
    "deletable": true,
    "editable": true
   },
   "source": [
    "<h1> Preparation for ML Regression </h1>\n",
    "\n",
    "Two things: we need to separate the data to test the model and we need to run the data with a basic regression to create a baseline."
   ]
  },
  {
   "cell_type": "code",
   "execution_count": 14,
   "metadata": {
    "collapsed": true,
    "deletable": true,
    "editable": true
   },
   "outputs": [],
   "source": [
    "shuffled = vehicles.sample(frac=1)\n",
    "trainsize = int(len(shuffled['ECONSUMPTION']) * 0.70)\n",
    "validsize = int(len(shuffled['ECONSUMPTION']) * 0.15)\n",
    "\n",
    "df_train = shuffled.iloc[:trainsize, :]\n",
    "df_valid = shuffled.iloc[trainsize:(trainsize+validsize), :]\n",
    "df_test = shuffled.iloc[(trainsize+validsize):, :]"
   ]
  },
  {
   "cell_type": "code",
   "execution_count": 15,
   "metadata": {
    "collapsed": false,
    "deletable": true,
    "editable": true
   },
   "outputs": [
    {
     "data": {
      "text/html": [
       "<div>\n",
       "<style scoped>\n",
       "    .dataframe tbody tr th:only-of-type {\n",
       "        vertical-align: middle;\n",
       "    }\n",
       "\n",
       "    .dataframe tbody tr th {\n",
       "        vertical-align: top;\n",
       "    }\n",
       "\n",
       "    .dataframe thead th {\n",
       "        text-align: right;\n",
       "    }\n",
       "</style>\n",
       "<table border=\"1\" class=\"dataframe\">\n",
       "  <thead>\n",
       "    <tr style=\"text-align: right;\">\n",
       "      <th></th>\n",
       "      <th>ACCELERATION</th>\n",
       "      <th>ECONSUMPTION</th>\n",
       "      <th>PITCH</th>\n",
       "      <th>ROLL</th>\n",
       "      <th>YAW</th>\n",
       "    </tr>\n",
       "  </thead>\n",
       "  <tbody>\n",
       "    <tr>\n",
       "      <th>count</th>\n",
       "      <td>117093.000000</td>\n",
       "      <td>117093.000000</td>\n",
       "      <td>117093.000000</td>\n",
       "      <td>117093.000000</td>\n",
       "      <td>117093.000000</td>\n",
       "    </tr>\n",
       "    <tr>\n",
       "      <th>mean</th>\n",
       "      <td>-0.011610</td>\n",
       "      <td>10.292586</td>\n",
       "      <td>-0.002635</td>\n",
       "      <td>-0.000244</td>\n",
       "      <td>0.088531</td>\n",
       "    </tr>\n",
       "    <tr>\n",
       "      <th>std</th>\n",
       "      <td>0.020397</td>\n",
       "      <td>8.045085</td>\n",
       "      <td>0.011838</td>\n",
       "      <td>0.010557</td>\n",
       "      <td>0.425267</td>\n",
       "    </tr>\n",
       "    <tr>\n",
       "      <th>min</th>\n",
       "      <td>-0.923500</td>\n",
       "      <td>0.005000</td>\n",
       "      <td>-0.437278</td>\n",
       "      <td>-0.958444</td>\n",
       "      <td>-0.998167</td>\n",
       "    </tr>\n",
       "    <tr>\n",
       "      <th>25%</th>\n",
       "      <td>-0.016500</td>\n",
       "      <td>3.648000</td>\n",
       "      <td>-0.002667</td>\n",
       "      <td>-0.003000</td>\n",
       "      <td>-0.083778</td>\n",
       "    </tr>\n",
       "    <tr>\n",
       "      <th>50%</th>\n",
       "      <td>-0.014500</td>\n",
       "      <td>8.366000</td>\n",
       "      <td>-0.000389</td>\n",
       "      <td>-0.000167</td>\n",
       "      <td>0.004944</td>\n",
       "    </tr>\n",
       "    <tr>\n",
       "      <th>75%</th>\n",
       "      <td>-0.008500</td>\n",
       "      <td>15.638000</td>\n",
       "      <td>0.001667</td>\n",
       "      <td>0.001889</td>\n",
       "      <td>0.377667</td>\n",
       "    </tr>\n",
       "    <tr>\n",
       "      <th>max</th>\n",
       "      <td>0.487500</td>\n",
       "      <td>36.755000</td>\n",
       "      <td>0.405500</td>\n",
       "      <td>0.778556</td>\n",
       "      <td>0.999944</td>\n",
       "    </tr>\n",
       "  </tbody>\n",
       "</table>\n",
       "</div>"
      ],
      "text/plain": [
       "        ACCELERATION   ECONSUMPTION          PITCH           ROLL  \\\n",
       "count  117093.000000  117093.000000  117093.000000  117093.000000   \n",
       "mean       -0.011610      10.292586      -0.002635      -0.000244   \n",
       "std         0.020397       8.045085       0.011838       0.010557   \n",
       "min        -0.923500       0.005000      -0.437278      -0.958444   \n",
       "25%        -0.016500       3.648000      -0.002667      -0.003000   \n",
       "50%        -0.014500       8.366000      -0.000389      -0.000167   \n",
       "75%        -0.008500      15.638000       0.001667       0.001889   \n",
       "max         0.487500      36.755000       0.405500       0.778556   \n",
       "\n",
       "                 YAW  \n",
       "count  117093.000000  \n",
       "mean        0.088531  \n",
       "std         0.425267  \n",
       "min        -0.998167  \n",
       "25%        -0.083778  \n",
       "50%         0.004944  \n",
       "75%         0.377667  \n",
       "max         0.999944  "
      ]
     },
     "execution_count": 15,
     "metadata": {},
     "output_type": "execute_result"
    }
   ],
   "source": [
    "df_train.describe()"
   ]
  },
  {
   "cell_type": "code",
   "execution_count": 16,
   "metadata": {
    "collapsed": false,
    "deletable": true,
    "editable": true
   },
   "outputs": [
    {
     "data": {
      "text/html": [
       "<div>\n",
       "<style scoped>\n",
       "    .dataframe tbody tr th:only-of-type {\n",
       "        vertical-align: middle;\n",
       "    }\n",
       "\n",
       "    .dataframe tbody tr th {\n",
       "        vertical-align: top;\n",
       "    }\n",
       "\n",
       "    .dataframe thead th {\n",
       "        text-align: right;\n",
       "    }\n",
       "</style>\n",
       "<table border=\"1\" class=\"dataframe\">\n",
       "  <thead>\n",
       "    <tr style=\"text-align: right;\">\n",
       "      <th></th>\n",
       "      <th>ACCELERATION</th>\n",
       "      <th>ECONSUMPTION</th>\n",
       "      <th>PITCH</th>\n",
       "      <th>ROLL</th>\n",
       "      <th>YAW</th>\n",
       "    </tr>\n",
       "  </thead>\n",
       "  <tbody>\n",
       "    <tr>\n",
       "      <th>count</th>\n",
       "      <td>25091.000000</td>\n",
       "      <td>25091.000000</td>\n",
       "      <td>25091.000000</td>\n",
       "      <td>25091.000000</td>\n",
       "      <td>25091.000000</td>\n",
       "    </tr>\n",
       "    <tr>\n",
       "      <th>mean</th>\n",
       "      <td>-0.011389</td>\n",
       "      <td>10.217105</td>\n",
       "      <td>-0.002542</td>\n",
       "      <td>-0.000266</td>\n",
       "      <td>0.086040</td>\n",
       "    </tr>\n",
       "    <tr>\n",
       "      <th>std</th>\n",
       "      <td>0.022549</td>\n",
       "      <td>7.985876</td>\n",
       "      <td>0.011229</td>\n",
       "      <td>0.008263</td>\n",
       "      <td>0.425012</td>\n",
       "    </tr>\n",
       "    <tr>\n",
       "      <th>min</th>\n",
       "      <td>-0.394500</td>\n",
       "      <td>0.005000</td>\n",
       "      <td>-0.389722</td>\n",
       "      <td>-0.126389</td>\n",
       "      <td>-0.969056</td>\n",
       "    </tr>\n",
       "    <tr>\n",
       "      <th>25%</th>\n",
       "      <td>-0.016500</td>\n",
       "      <td>3.603000</td>\n",
       "      <td>-0.002556</td>\n",
       "      <td>-0.002944</td>\n",
       "      <td>-0.082333</td>\n",
       "    </tr>\n",
       "    <tr>\n",
       "      <th>50%</th>\n",
       "      <td>-0.014000</td>\n",
       "      <td>8.363000</td>\n",
       "      <td>-0.000333</td>\n",
       "      <td>-0.000167</td>\n",
       "      <td>0.004611</td>\n",
       "    </tr>\n",
       "    <tr>\n",
       "      <th>75%</th>\n",
       "      <td>-0.008500</td>\n",
       "      <td>15.480000</td>\n",
       "      <td>0.001667</td>\n",
       "      <td>0.001889</td>\n",
       "      <td>0.373389</td>\n",
       "    </tr>\n",
       "    <tr>\n",
       "      <th>max</th>\n",
       "      <td>0.469000</td>\n",
       "      <td>36.762000</td>\n",
       "      <td>0.254833</td>\n",
       "      <td>0.284333</td>\n",
       "      <td>0.999778</td>\n",
       "    </tr>\n",
       "  </tbody>\n",
       "</table>\n",
       "</div>"
      ],
      "text/plain": [
       "       ACCELERATION  ECONSUMPTION         PITCH          ROLL           YAW\n",
       "count  25091.000000  25091.000000  25091.000000  25091.000000  25091.000000\n",
       "mean      -0.011389     10.217105     -0.002542     -0.000266      0.086040\n",
       "std        0.022549      7.985876      0.011229      0.008263      0.425012\n",
       "min       -0.394500      0.005000     -0.389722     -0.126389     -0.969056\n",
       "25%       -0.016500      3.603000     -0.002556     -0.002944     -0.082333\n",
       "50%       -0.014000      8.363000     -0.000333     -0.000167      0.004611\n",
       "75%       -0.008500     15.480000      0.001667      0.001889      0.373389\n",
       "max        0.469000     36.762000      0.254833      0.284333      0.999778"
      ]
     },
     "execution_count": 16,
     "metadata": {},
     "output_type": "execute_result"
    }
   ],
   "source": [
    "df_valid.describe()"
   ]
  },
  {
   "cell_type": "code",
   "execution_count": 17,
   "metadata": {
    "collapsed": false,
    "deletable": true,
    "editable": true
   },
   "outputs": [
    {
     "data": {
      "text/html": [
       "<div>\n",
       "<style scoped>\n",
       "    .dataframe tbody tr th:only-of-type {\n",
       "        vertical-align: middle;\n",
       "    }\n",
       "\n",
       "    .dataframe tbody tr th {\n",
       "        vertical-align: top;\n",
       "    }\n",
       "\n",
       "    .dataframe thead th {\n",
       "        text-align: right;\n",
       "    }\n",
       "</style>\n",
       "<table border=\"1\" class=\"dataframe\">\n",
       "  <thead>\n",
       "    <tr style=\"text-align: right;\">\n",
       "      <th></th>\n",
       "      <th>ACCELERATION</th>\n",
       "      <th>ECONSUMPTION</th>\n",
       "      <th>PITCH</th>\n",
       "      <th>ROLL</th>\n",
       "      <th>YAW</th>\n",
       "    </tr>\n",
       "  </thead>\n",
       "  <tbody>\n",
       "    <tr>\n",
       "      <th>count</th>\n",
       "      <td>25092.000000</td>\n",
       "      <td>25092.000000</td>\n",
       "      <td>25092.000000</td>\n",
       "      <td>25092.000000</td>\n",
       "      <td>25092.000000</td>\n",
       "    </tr>\n",
       "    <tr>\n",
       "      <th>mean</th>\n",
       "      <td>-0.011767</td>\n",
       "      <td>10.198349</td>\n",
       "      <td>-0.002591</td>\n",
       "      <td>-0.000104</td>\n",
       "      <td>0.085986</td>\n",
       "    </tr>\n",
       "    <tr>\n",
       "      <th>std</th>\n",
       "      <td>0.019191</td>\n",
       "      <td>7.955116</td>\n",
       "      <td>0.012806</td>\n",
       "      <td>0.010508</td>\n",
       "      <td>0.421304</td>\n",
       "    </tr>\n",
       "    <tr>\n",
       "      <th>min</th>\n",
       "      <td>-0.376000</td>\n",
       "      <td>0.004000</td>\n",
       "      <td>-0.382222</td>\n",
       "      <td>-0.134944</td>\n",
       "      <td>-0.999278</td>\n",
       "    </tr>\n",
       "    <tr>\n",
       "      <th>25%</th>\n",
       "      <td>-0.016500</td>\n",
       "      <td>3.632750</td>\n",
       "      <td>-0.002667</td>\n",
       "      <td>-0.002889</td>\n",
       "      <td>-0.082181</td>\n",
       "    </tr>\n",
       "    <tr>\n",
       "      <th>50%</th>\n",
       "      <td>-0.014500</td>\n",
       "      <td>8.341000</td>\n",
       "      <td>-0.000389</td>\n",
       "      <td>-0.000111</td>\n",
       "      <td>0.004833</td>\n",
       "    </tr>\n",
       "    <tr>\n",
       "      <th>75%</th>\n",
       "      <td>-0.008500</td>\n",
       "      <td>15.474750</td>\n",
       "      <td>0.001611</td>\n",
       "      <td>0.001944</td>\n",
       "      <td>0.365556</td>\n",
       "    </tr>\n",
       "    <tr>\n",
       "      <th>max</th>\n",
       "      <td>0.484000</td>\n",
       "      <td>36.702000</td>\n",
       "      <td>0.329722</td>\n",
       "      <td>0.857833</td>\n",
       "      <td>0.999944</td>\n",
       "    </tr>\n",
       "  </tbody>\n",
       "</table>\n",
       "</div>"
      ],
      "text/plain": [
       "       ACCELERATION  ECONSUMPTION         PITCH          ROLL           YAW\n",
       "count  25092.000000  25092.000000  25092.000000  25092.000000  25092.000000\n",
       "mean      -0.011767     10.198349     -0.002591     -0.000104      0.085986\n",
       "std        0.019191      7.955116      0.012806      0.010508      0.421304\n",
       "min       -0.376000      0.004000     -0.382222     -0.134944     -0.999278\n",
       "25%       -0.016500      3.632750     -0.002667     -0.002889     -0.082181\n",
       "50%       -0.014500      8.341000     -0.000389     -0.000111      0.004833\n",
       "75%       -0.008500     15.474750      0.001611      0.001944      0.365556\n",
       "max        0.484000     36.702000      0.329722      0.857833      0.999944"
      ]
     },
     "execution_count": 17,
     "metadata": {},
     "output_type": "execute_result"
    }
   ],
   "source": [
    "df_test.describe()"
   ]
  },
  {
   "cell_type": "markdown",
   "metadata": {
    "deletable": true,
    "editable": true
   },
   "source": [
    "Let's write out the three dataframes to appropriately named csv files. If we want to run this again, we can simply read those .csv files in and don't need to run the query again."
   ]
  },
  {
   "cell_type": "code",
   "execution_count": 18,
   "metadata": {
    "collapsed": false,
    "deletable": true,
    "editable": true
   },
   "outputs": [
    {
     "name": "stdout",
     "output_type": "stream",
     "text": [
      "['ECONSUMPTION', u'ACCELERATION', u'PITCH', u'ROLL', u'YAW', 'key']\n",
      "['ECONSUMPTION', u'ACCELERATION', u'PITCH', u'ROLL', u'YAW', 'key']\n",
      "['ECONSUMPTION', u'ACCELERATION', u'PITCH', u'ROLL', u'YAW', 'key']\n"
     ]
    }
   ],
   "source": [
    "def to_csv(df, filename):\n",
    "  outdf = df.copy(deep=False)\n",
    "  outdf.loc[:, 'key'] = np.arange(0, len(outdf)) # rownumber as key\n",
    "  # reorder columns so that target is first column\n",
    "  cols = outdf.columns.tolist()\n",
    "  cols.remove('ECONSUMPTION')\n",
    "  cols.insert(0, 'ECONSUMPTION')\n",
    "  print (cols)  # new order of columns\n",
    "  outdf = outdf[cols]\n",
    "  outdf.to_csv(filename, header=False, index_label=False, index=False)\n",
    "\n",
    "to_csv(df_train, 'vehicles-train.csv')\n",
    "to_csv(df_valid, 'vehicles-valid.csv')\n",
    "to_csv(df_test, 'vehicles-test.csv')"
   ]
  },
  {
   "cell_type": "code",
   "execution_count": 19,
   "metadata": {
    "collapsed": false,
    "deletable": true,
    "editable": true
   },
   "outputs": [
    {
     "name": "stdout",
     "output_type": "stream",
     "text": [
      "-rw-r--r-- 1 root root 2003173 Feb 26 15:34 vehicles-test.csv\r\n",
      "-rw-r--r-- 1 root root 9398073 Feb 26 15:34 vehicles-train.csv\r\n",
      "-rw-r--r-- 1 root root 2001876 Feb 26 15:34 vehicles-valid.csv\r\n"
     ]
    }
   ],
   "source": [
    "!ls -l *.csv"
   ]
  },
  {
   "cell_type": "code",
   "execution_count": 20,
   "metadata": {
    "collapsed": false,
    "deletable": true,
    "editable": true
   },
   "outputs": [
    {
     "name": "stdout",
     "output_type": "stream",
     "text": [
      "2.743,-0.014,-0.0027222222222222222,0.0008333333333333333,0.005333333333333333,0\r\n",
      "0.581,-0.0085,0.0003888888888888889,0.0005,0.001611111111111111,1\r\n",
      "20.649,-0.009,0.0012222222222222222,-0.0003333333333333333,0.8818888888888889,2\r\n",
      "4.445,-0.0065,0.0003888888888888889,-0.004111111111111111,-0.9246111111111112,3\r\n",
      "29.763,-0.0175,0.0029444444444444444,-0.00011111111111111112,0.37977777777777777,4\r\n",
      "8.086,-0.016,0.0009444444444444445,-0.004833333333333334,0.007277777777777778,5\r\n",
      "23.025,-0.0025,-0.0016666666666666666,0.0054444444444444445,0.5029444444444444,6\r\n",
      "0.991,-0.0145,-0.0012777777777777779,-0.010277777777777778,0.7038888888888889,7\r\n",
      "4.278,-0.0135,-0.0007777777777777778,-0.010555555555555556,0.0002777777777777778,8\r\n",
      "7.001,-0.0105,0.0002777777777777778,0.0011111111111111111,-0.026,9\r\n"
     ]
    }
   ],
   "source": [
    "!head -10 vehicles-train.csv"
   ]
  },
  {
   "cell_type": "code",
   "execution_count": 21,
   "metadata": {
    "collapsed": false,
    "deletable": true,
    "editable": true
   },
   "outputs": [
    {
     "name": "stdout",
     "output_type": "stream",
     "text": [
      "21.308,-0.0155,-0.0007777777777777778,-0.007222222222222223,0.4809444444444444,0\r\n",
      "3.961,-0.016,-0.009722222222222222,0.0061666666666666675,0.22594444444444445,1\r\n",
      "19.976,-0.016,0.0045000000000000005,-0.0024444444444444444,0.3095,2\r\n",
      "3.198,-0.016,0.007555555555555556,0.0027222222222222222,-0.09377777777777777,3\r\n",
      "12.472,-0.0235,0.0006111111111111111,0.0003333333333333333,-0.014666666666666668,4\r\n",
      "2.244,-0.0085,-0.0013333333333333333,-0.0008333333333333333,0.8643333333333334,5\r\n",
      "18.745,-0.022,-0.0010555555555555557,-0.006055555555555556,-0.06838888888888889,6\r\n",
      "1.727,-0.0105,0.001888888888888889,-0.0003888888888888889,-0.3111111111111111,7\r\n",
      "6.399,-0.0185,0.0031111111111111114,-0.0022777777777777774,0.07216666666666667,8\r\n",
      "3.04,-0.014,-0.00022222222222222223,5.555555555555556e-05,0.004277777777777778,9\r\n"
     ]
    }
   ],
   "source": [
    "!head -10 vehicles-valid.csv"
   ]
  },
  {
   "cell_type": "code",
   "execution_count": 22,
   "metadata": {
    "collapsed": false,
    "deletable": true,
    "editable": true
   },
   "outputs": [
    {
     "name": "stdout",
     "output_type": "stream",
     "text": [
      "23.226,-0.0165,-0.003333333333333333,-0.0011666666666666665,-0.5652222222222222,0\r\n",
      "12.774,-0.01,-0.0009444444444444445,0.0021666666666666666,0.34894444444444445,1\r\n",
      "15.473,-0.0175,-0.02266666666666667,0.005111111111111111,0.5559444444444444,2\r\n",
      "28.657,-0.0175,-0.049722222222222216,-0.001388888888888889,0.5563333333333333,3\r\n",
      "16.969,-0.014,0.0045000000000000005,-0.00044444444444444447,-0.09672222222222222,4\r\n",
      "1.769,-0.0085,0.0011111111111111111,0.0007222222222222223,-0.013777777777777778,5\r\n",
      "5.918,-0.0085,0.0020555555555555557,0.0011666666666666665,0.030555555555555555,6\r\n",
      "15.011,-0.0105,0.0036111111111111114,-0.0022222222222222222,-0.4166666666666667,7\r\n",
      "8.17,-0.0145,0.0022222222222222222,0.0013333333333333333,-0.19355555555555556,8\r\n",
      "24.053,-0.014,-0.0025,-0.0034444444444444444,0.1825,9\r\n"
     ]
    }
   ],
   "source": [
    "!head -10 vehicles-test.csv"
   ]
  },
  {
   "cell_type": "markdown",
   "metadata": {
    "deletable": true,
    "editable": true
   },
   "source": [
    "create the baseline model and compute its RSME"
   ]
  },
  {
   "cell_type": "code",
   "execution_count": 23,
   "metadata": {
    "collapsed": false,
    "deletable": true,
    "editable": true
   },
   "outputs": [
    {
     "name": "stdout",
     "output_type": "stream",
     "text": [
      "('averageEconsumption = ', 0.21819148726949508)\n",
      "Train RMSE = 13.0462297366\n",
      "Valid RMSE = 12.9503168446\n",
      "Test RMSE = 12.9168039067\n"
     ]
    }
   ],
   "source": [
    "import datalab.bigquery as bq\n",
    "import pandas as pd\n",
    "import numpy as np\n",
    "import shutil\n",
    "\n",
    "def estimate_stress(df):\n",
    "  columns = [abs(df['ACCELERATION']), abs(df['PITCH']), abs(df['ROLL']), abs(df['YAW'])]\n",
    "  stress_level = sum(columns)/4\n",
    "  return stress_level\n",
    "\n",
    "def compute_rmse(actual, predicted):\n",
    "  return np.sqrt(np.mean((actual-predicted)**2))\n",
    "\n",
    "def print_rmse(df, econsump, name):\n",
    "  print (\"{1} RMSE = {0}\".format(compute_rmse(df['ECONSUMPTION'], econsump*estimate_stress(df)), name))\n",
    "\n",
    "FEATURES = ['ACCELERATION', 'PITCH','ROLL','YAW']\n",
    "TARGET = 'ECONSUMPTION'\n",
    "columns = list([TARGET])\n",
    "columns.extend(FEATURES) # in CSV, target is the first column, after the features\n",
    "columns.append('key')\n",
    "df_train = pd.read_csv('vehicles-train.csv', header=None, names=columns)\n",
    "df_valid = pd.read_csv('vehicles-valid.csv', header=None, names=columns)\n",
    "df_test = pd.read_csv('vehicles-test.csv', header=None, names=columns)\n",
    "econsump = df_train['ECONSUMPTION'].mean() * estimate_stress(df_train).mean()/4\n",
    "print (\"averageEconsumption = \", econsump)\n",
    "print_rmse(df_train, econsump, 'Train')\n",
    "print_rmse(df_valid, econsump, 'Valid')\n",
    "print_rmse(df_test, econsump, 'Test')"
   ]
  },
  {
   "cell_type": "markdown",
   "metadata": {
    "deletable": true,
    "editable": true
   },
   "source": [
    "<h1> ML Regression with Neural Network </h1>\n",
    "\n",
    "Now lets try and run a smarter model."
   ]
  },
  {
   "cell_type": "code",
   "execution_count": 24,
   "metadata": {
    "collapsed": false,
    "deletable": true,
    "editable": true
   },
   "outputs": [
    {
     "name": "stderr",
     "output_type": "stream",
     "text": [
      "/usr/local/envs/py2env/lib/python2.7/site-packages/h5py/__init__.py:36: FutureWarning: Conversion of the second argument of issubdtype from `float` to `np.floating` is deprecated. In future, it will be treated as `np.float64 == np.dtype(float).type`.\n",
      "  from ._conv import register_converters as _register_converters\n"
     ]
    },
    {
     "name": "stdout",
     "output_type": "stream",
     "text": [
      "1.5.0\n"
     ]
    }
   ],
   "source": [
    "import tensorflow as tf\n",
    "print tf.__version__"
   ]
  },
  {
   "cell_type": "code",
   "execution_count": 25,
   "metadata": {
    "collapsed": false,
    "deletable": true,
    "editable": true
   },
   "outputs": [
    {
     "data": {
      "text/plain": [
       "['vehicles-train.csv',\n",
       " '.ipynb_checkpoints',\n",
       " 'vehicles-valid.csv',\n",
       " 'econsumption',\n",
       " 'test.json',\n",
       " 'hyperparam.yaml',\n",
       " 'vehicles-test.csv',\n",
       " ' regression-with-neural-networks.ipynb']"
      ]
     },
     "execution_count": 25,
     "metadata": {},
     "output_type": "execute_result"
    }
   ],
   "source": [
    "import os\n",
    "PROJECT = 'go-de-internal'\n",
    "BUCKET = 'storage-democases-go-reply-internal'\n",
    "REGION = 'us-central1'\n",
    "REPO = \"/content/datalab/democases-go-reply-internal/vehicle-health-status\"\n",
    "os.listdir(REPO)"
   ]
  },
  {
   "cell_type": "code",
   "execution_count": 26,
   "metadata": {
    "collapsed": true,
    "deletable": true,
    "editable": true
   },
   "outputs": [],
   "source": [
    "# for bash\n",
    "os.environ['PROJECT'] = PROJECT\n",
    "os.environ['BUCKET'] = BUCKET\n",
    "os.environ['REGION'] = REGION\n",
    "os.environ['REPO'] = REPO"
   ]
  },
  {
   "cell_type": "code",
   "execution_count": 27,
   "metadata": {
    "collapsed": false,
    "deletable": true,
    "editable": true
   },
   "outputs": [
    {
     "name": "stderr",
     "output_type": "stream",
     "text": [
      "Updated property [core/project].\n",
      "Updated property [compute/region].\n"
     ]
    }
   ],
   "source": [
    "%bash\n",
    "gcloud config set project $PROJECT\n",
    "gcloud config set compute/region $REGION"
   ]
  },
  {
   "cell_type": "code",
   "execution_count": 28,
   "metadata": {
    "collapsed": false,
    "deletable": true,
    "editable": true
   },
   "outputs": [
    {
     "name": "stdout",
     "output_type": "stream",
     "text": [
      "Authorizing the Cloud ML Service account service-462605511119@cloud-ml.google.com.iam.gserviceaccount.com to access files in storage-democases-go-reply-internal\n"
     ]
    },
    {
     "name": "stderr",
     "output_type": "stream",
     "text": [
      "  % Total    % Received % Xferd  Average Speed   Time    Time     Time  Current\n",
      "                                 Dload  Upload   Total   Spent    Left  Speed\n",
      "\r",
      "  0     0    0     0    0     0      0      0 --:--:-- --:--:-- --:--:--     0\r",
      "100   133    0   133    0     0    532      0 --:--:-- --:--:-- --:--:--   534\n",
      "No changes to gs://storage-democases-go-reply-internal/\n",
      "No changes to gs://storage-democases-go-reply-internal/churn_cloud/churn-test.csv\n",
      "No changes to gs://storage-democases-go-reply-internal/churn_cloud/churn-train.csv\n",
      "No changes to gs://storage-democases-go-reply-internal/churn_cloud/churn-valid.csv\n",
      "No changes to gs://storage-democases-go-reply-internal/churn_cloud/churn_time_dependent_sorted.csv\n",
      "No changes to gs://storage-democases-go-reply-internal/churn_cloud/churn_time_dependent_unsorted.csv\n",
      "No changes to gs://storage-democases-go-reply-internal/churn_with_neural_net/churn-test.csv\n",
      "No changes to gs://storage-democases-go-reply-internal/churn_with_neural_net/churn-train.csv\n",
      "No changes to gs://storage-democases-go-reply-internal/churn_with_neural_net/churn-valid.csv\n",
      "No changes to gs://storage-democases-go-reply-internal/churn_with_neural_net/churn_time_dependent_sorted.csv\n",
      "No changes to gs://storage-democases-go-reply-internal/churn_with_neural_net/churn_time_dependent_unsorted.csv\n",
      "No changes to gs://storage-democases-go-reply-internal/churn_with_neural_net_output/\n",
      "No changes to gs://storage-democases-go-reply-internal/churn_with_neural_net_output/churn_trained/\n",
      "No changes to gs://storage-democases-go-reply-internal/econsumption/hyper_param/vehicles-test.csv\n",
      "No changes to gs://storage-democases-go-reply-internal/econsumption/hyper_param/vehicles-train.csv\n",
      "No changes to gs://storage-democases-go-reply-internal/econsumption/hyper_param/vehicles-valid.csv\n",
      "No changes to gs://storage-democases-go-reply-internal/econsumption/smallinput/vehicles-test.csv\n",
      "No changes to gs://storage-democases-go-reply-internal/econsumption/smallinput/vehicles-train.csv\n",
      "No changes to gs://storage-democases-go-reply-internal/econsumption/smallinput/vehicles-valid.csv\n",
      "No changes to gs://storage-democases-go-reply-internal/\n"
     ]
    }
   ],
   "source": [
    "%bash\n",
    "PROJECT_ID=$PROJECT\n",
    "AUTH_TOKEN=$(gcloud auth print-access-token)\n",
    "SVC_ACCOUNT=$(curl -X GET -H \"Content-Type: application/json\" \\\n",
    "    -H \"Authorization: Bearer $AUTH_TOKEN\" \\\n",
    "    https://ml.googleapis.com/v1/projects/${PROJECT_ID}:getConfig \\\n",
    "    | python -c \"import json; import sys; response = json.load(sys.stdin); \\\n",
    "    print response['serviceAccount']\")\n",
    "\n",
    "echo \"Authorizing the Cloud ML Service account $SVC_ACCOUNT to access files in $BUCKET\"\n",
    "gsutil -m defacl ch -u $SVC_ACCOUNT:R gs://$BUCKET\n",
    "gsutil -m acl ch -u $SVC_ACCOUNT:R -r gs://$BUCKET  # error message (if bucket is empty) can be ignored\n",
    "gsutil -m acl ch -u $SVC_ACCOUNT:W gs://$BUCKET"
   ]
  },
  {
   "cell_type": "code",
   "execution_count": 29,
   "metadata": {
    "collapsed": false,
    "deletable": true,
    "editable": true
   },
   "outputs": [
    {
     "name": "stdout",
     "output_type": "stream",
     "text": [
      "#!/usr/bin/env python\r",
      "\r\n",
      "\r",
      "\r\n",
      "# Copyright 2017 Google Inc. All Rights Reserved.\r",
      "\r\n",
      "#\r",
      "\r\n",
      "# Licensed under the Apache License, Version 2.0 (the \"License\");\r",
      "\r\n",
      "# you may not use this file except in compliance with the License.\r",
      "\r\n",
      "# You may obtain a copy of the License at\r",
      "\r\n",
      "#\r",
      "\r\n",
      "#      http://www.apache.org/licenses/LICENSE-2.0\r",
      "\r\n",
      "#\r",
      "\r\n",
      "# Unless required by applicable law or agreed to in writing, software\r",
      "\r\n",
      "# distributed under the License is distributed on an \"AS IS\" BASIS,\r",
      "\r\n",
      "# WITHOUT WARRANTIES OR CONDITIONS OF ANY KIND, either express or implied.\r",
      "\r\n",
      "# See the License for the specific language governing permissions and\r",
      "\r\n",
      "# limitations under the License.\r",
      "\r\n",
      "\r",
      "\r\n",
      "from __future__ import absolute_import\r",
      "\r\n",
      "from __future__ import division\r",
      "\r\n",
      "from __future__ import print_function\r",
      "\r\n",
      "\r",
      "\r\n",
      "import tensorflow as tf\r",
      "\r\n",
      "from tensorflow.contrib import layers\r",
      "\r\n",
      "import tensorflow.contrib.learn as tflearn\r",
      "\r\n",
      "from tensorflow.contrib import metrics\r",
      "\r\n",
      "\r",
      "\r\n",
      "\r",
      "\r\n",
      "tf.logging.set_verbosity(tf.logging.INFO)\r",
      "\r\n",
      "\r",
      "\r\n",
      "CSV_COLUMNS = ['ECONSUMPTION', 'ACCELERATION','PITCH','ROLL','YAW', 'key']\r",
      "\r\n",
      "\r",
      "\r\n",
      "LABEL_COLUMN = 'ECONSUMPTION'\r",
      "\r\n",
      "\r",
      "\r\n",
      "DEFAULTS = [[5.0], [0.0], [0.0], [0.0], [0.0], ['nokey']]\r",
      "\r\n",
      "\r",
      "\r\n",
      "# These are the raw input columns, and will be provided for prediction also\r",
      "\r\n",
      "INPUT_COLUMNS = [\r",
      "\r\n",
      "    layers.real_valued_column('ACCELERATION'),\r",
      "\r\n",
      "    layers.real_valued_column('PITCH'),\r",
      "\r\n",
      "    layers.real_valued_column('ROLL'),\r",
      "\r\n",
      "    layers.real_valued_column('YAW'),\r",
      "\r\n",
      "]\r",
      "\r\n",
      "\r",
      "\r\n",
      "def build_estimator(model_dir, hidden_units):\r",
      "\r\n",
      "  (accel, pitch, roll, yaw) = INPUT_COLUMNS \r",
      "\r\n",
      "  return tf.contrib.learn.DNNRegressor(\r",
      "\r\n",
      "      model_dir=model_dir,\r",
      "\r\n",
      "      feature_columns=[accel, pitch, roll, yaw],  # as-is\r",
      "\r\n",
      "      hidden_units=hidden_units or [128, 32, 4])\r",
      "\r\n",
      "\r",
      "\r\n",
      "\r",
      "\r\n",
      "def serving_input_fn():\r",
      "\r\n",
      "    feature_placeholders = {\r",
      "\r\n",
      "        column.name: tf.placeholder(tf.float32, [None]) for column in INPUT_COLUMNS\r",
      "\r\n",
      "    }\r",
      "\r\n",
      "    features = {\r",
      "\r\n",
      "      key: tf.expand_dims(tensor, -1)\r",
      "\r\n",
      "      for key, tensor in feature_placeholders.items()\r",
      "\r\n",
      "    }\r",
      "\r\n",
      "    return tflearn.utils.input_fn_utils.InputFnOps(\r",
      "\r\n",
      "      features,\r",
      "\r\n",
      "      None,\r",
      "\r\n",
      "      feature_placeholders\r",
      "\r\n",
      "    )\r",
      "\r\n",
      "\r",
      "\r\n",
      "def generate_csv_input_fn(filename, num_epochs=None, batch_size=512, mode=tf.contrib.learn.ModeKeys.TRAIN):\r",
      "\r\n",
      "  def _input_fn():\r",
      "\r\n",
      "    # could be a path to one file or a file pattern.\r",
      "\r\n",
      "    input_file_names = tf.train.match_filenames_once(filename)\r",
      "\r\n",
      "    #input_file_names = [filename]\r",
      "\r\n",
      "\r",
      "\r\n",
      "    filename_queue = tf.train.string_input_producer(\r",
      "\r\n",
      "        input_file_names, num_epochs=num_epochs, shuffle=True)\r",
      "\r\n",
      "    reader = tf.TextLineReader()\r",
      "\r\n",
      "    _, value = reader.read_up_to(filename_queue, num_records=batch_size)\r",
      "\r\n",
      "\r",
      "\r\n",
      "    value_column = tf.expand_dims(value, -1)\r",
      "\r\n",
      "\r",
      "\r\n",
      "    columns = tf.decode_csv(value_column, record_defaults=DEFAULTS)\r",
      "\r\n",
      "\r",
      "\r\n",
      "    features = dict(zip(CSV_COLUMNS, columns))\r",
      "\r\n",
      "\r",
      "\r\n",
      "    label = features.pop(LABEL_COLUMN)\r",
      "\r\n",
      "\r",
      "\r\n",
      "    return features, label\r",
      "\r\n",
      "\r",
      "\r\n",
      "  return _input_fn\r",
      "\r\n",
      "\r",
      "\r\n",
      "\r",
      "\r\n",
      "def get_eval_metrics():\r",
      "\r\n",
      "  return {\r",
      "\r\n",
      "     'rmse': tflearn.MetricSpec(metric_fn=metrics.streaming_root_mean_squared_error),\r",
      "\r\n",
      "  }\r",
      "\r\n"
     ]
    }
   ],
   "source": [
    "!cat econsumption/trainer/model.py"
   ]
  },
  {
   "cell_type": "code",
   "execution_count": 30,
   "metadata": {
    "collapsed": false,
    "deletable": true,
    "editable": true
   },
   "outputs": [
    {
     "name": "stdout",
     "output_type": "stream",
     "text": [
      "2.743,-0.014,-0.0027222222222222222,0.0008333333333333333,0.005333333333333333,0\n",
      "21.308,-0.0155,-0.0007777777777777778,-0.007222222222222223,0.4809444444444444,0\n"
     ]
    }
   ],
   "source": [
    "%bash\n",
    "head -1 $REPO/vehicles-train.csv\n",
    "head -1 $REPO/vehicles-valid.csv"
   ]
  },
  {
   "cell_type": "markdown",
   "metadata": {
    "deletable": true,
    "editable": true
   },
   "source": [
    "<h2> Running the Python module from the command-line </h2>"
   ]
  },
  {
   "cell_type": "code",
   "execution_count": 31,
   "metadata": {
    "collapsed": false,
    "deletable": true,
    "editable": true
   },
   "outputs": [
    {
     "name": "stderr",
     "output_type": "stream",
     "text": [
      "/usr/local/envs/py2env/lib/python2.7/site-packages/h5py/__init__.py:36: FutureWarning: Conversion of the second argument of issubdtype from `float` to `np.floating` is deprecated. In future, it will be treated as `np.float64 == np.dtype(float).type`.\n",
      "  from ._conv import register_converters as _register_converters\n",
      "INFO:tensorflow:Using default config.\n",
      "INFO:tensorflow:Using config: {'_save_checkpoints_secs': 600, '_num_ps_replicas': 0, '_keep_checkpoint_max': 5, '_task_type': None, '_is_chief': True, '_cluster_spec': <tensorflow.python.training.server_lib.ClusterSpec object at 0x7fca2dd10250>, '_model_dir': '/content/datalab/democases-go-reply-internal/vehicle-health-status/vehicles_trained/', '_save_checkpoints_steps': None, '_keep_checkpoint_every_n_hours': 10000, '_session_config': None, '_tf_random_seed': None, '_save_summary_steps': 100, '_environment': 'local', '_num_worker_replicas': 0, '_task_id': 0, '_log_step_count_steps': 100, '_tf_config': gpu_options {\n",
      "  per_process_gpu_memory_fraction: 1.0\n",
      "}\n",
      ", '_evaluation_master': '', '_master': ''}\n",
      "WARNING:tensorflow:From /usr/local/envs/py2env/lib/python2.7/site-packages/tensorflow/contrib/learn/python/learn/monitors.py:267: __init__ (from tensorflow.contrib.learn.python.learn.monitors) is deprecated and will be removed after 2016-12-05.\n",
      "Instructions for updating:\n",
      "Monitors are deprecated. Please use tf.train.SessionRunHook.\n",
      "INFO:tensorflow:Create CheckpointSaverHook.\n",
      "2018-02-26 15:34:58.902328: I tensorflow/core/platform/cpu_feature_guard.cc:137] Your CPU supports instructions that this TensorFlow binary was not compiled to use: SSE4.1 SSE4.2 AVX\n",
      "INFO:tensorflow:Saving checkpoints for 1 into /content/datalab/democases-go-reply-internal/vehicle-health-status/vehicles_trained/model.ckpt.\n",
      "INFO:tensorflow:Starting evaluation at 2018-02-26-15:34:59\n",
      "INFO:tensorflow:Restoring parameters from /content/datalab/democases-go-reply-internal/vehicle-health-status/vehicles_trained/model.ckpt-1\n",
      "INFO:tensorflow:Evaluation [1/10]\n",
      "INFO:tensorflow:Evaluation [2/10]\n",
      "INFO:tensorflow:Evaluation [3/10]\n",
      "INFO:tensorflow:Evaluation [4/10]\n",
      "INFO:tensorflow:Evaluation [5/10]\n",
      "INFO:tensorflow:Evaluation [6/10]\n",
      "INFO:tensorflow:Evaluation [7/10]\n",
      "INFO:tensorflow:Evaluation [8/10]\n",
      "INFO:tensorflow:Evaluation [9/10]\n",
      "INFO:tensorflow:Evaluation [10/10]\n",
      "INFO:tensorflow:Finished evaluation at 2018-02-26-15:35:00\n",
      "INFO:tensorflow:Saving dict for global step 1: global_step = 1, loss = 168.12996, rmse = 12.966494\n",
      "INFO:tensorflow:Validation (step 1): loss = 168.12996, global_step = 1, rmse = 12.966494\n",
      "INFO:tensorflow:loss = 170.99307, step = 1\n",
      "INFO:tensorflow:global_step/sec: 44.5161\n",
      "INFO:tensorflow:loss = 64.1038, step = 101 (1.724 sec)\n",
      "INFO:tensorflow:global_step/sec: 77.7343\n",
      "INFO:tensorflow:loss = 58.04497, step = 201 (1.287 sec)\n",
      "INFO:tensorflow:global_step/sec: 70.0476\n",
      "INFO:tensorflow:loss = 59.464996, step = 301 (1.428 sec)\n",
      "INFO:tensorflow:global_step/sec: 68.2768\n",
      "INFO:tensorflow:loss = 54.743034, step = 401 (1.464 sec)\n",
      "INFO:tensorflow:global_step/sec: 72.3402\n",
      "INFO:tensorflow:loss = 56.482124, step = 501 (1.384 sec)\n",
      "INFO:tensorflow:global_step/sec: 71.1465\n",
      "INFO:tensorflow:loss = 47.737297, step = 601 (1.404 sec)\n",
      "INFO:tensorflow:global_step/sec: 77.2842\n",
      "INFO:tensorflow:loss = 55.586243, step = 701 (1.296 sec)\n",
      "INFO:tensorflow:global_step/sec: 72.1747\n",
      "INFO:tensorflow:loss = 51.584034, step = 801 (1.384 sec)\n",
      "INFO:tensorflow:global_step/sec: 79.4546\n",
      "INFO:tensorflow:loss = 51.93599, step = 901 (1.258 sec)\n",
      "INFO:tensorflow:global_step/sec: 75.1584\n",
      "INFO:tensorflow:loss = 55.812584, step = 1001 (1.330 sec)\n",
      "INFO:tensorflow:global_step/sec: 73.8377\n",
      "INFO:tensorflow:loss = 53.31876, step = 1101 (1.354 sec)\n",
      "INFO:tensorflow:global_step/sec: 73.6841\n",
      "INFO:tensorflow:loss = 62.864704, step = 1201 (1.358 sec)\n",
      "INFO:tensorflow:global_step/sec: 69.9484\n",
      "INFO:tensorflow:loss = 54.79197, step = 1301 (1.429 sec)\n",
      "INFO:tensorflow:global_step/sec: 67.2376\n",
      "INFO:tensorflow:loss = 54.3397, step = 1401 (1.487 sec)\n",
      "INFO:tensorflow:global_step/sec: 71.2228\n",
      "INFO:tensorflow:loss = 56.82038, step = 1501 (1.405 sec)\n",
      "INFO:tensorflow:global_step/sec: 71.599\n",
      "INFO:tensorflow:loss = 51.837433, step = 1601 (1.395 sec)\n",
      "INFO:tensorflow:global_step/sec: 72.9398\n",
      "INFO:tensorflow:loss = 53.999413, step = 1701 (1.371 sec)\n",
      "INFO:tensorflow:global_step/sec: 71.6519\n",
      "INFO:tensorflow:loss = 56.856792, step = 1801 (1.396 sec)\n",
      "INFO:tensorflow:global_step/sec: 61.0543\n",
      "INFO:tensorflow:loss = 47.905754, step = 1901 (1.638 sec)\n",
      "INFO:tensorflow:global_step/sec: 63.0381\n",
      "INFO:tensorflow:loss = 49.724525, step = 2001 (1.586 sec)\n",
      "INFO:tensorflow:global_step/sec: 72.3769\n",
      "INFO:tensorflow:loss = 55.72008, step = 2101 (1.381 sec)\n",
      "INFO:tensorflow:global_step/sec: 78.7634\n",
      "INFO:tensorflow:loss = 48.287964, step = 2201 (1.270 sec)\n",
      "INFO:tensorflow:Saving checkpoints for 2290 into /content/datalab/democases-go-reply-internal/vehicle-health-status/vehicles_trained/model.ckpt.\n",
      "INFO:tensorflow:Loss for final step: 51.605053.\n",
      "INFO:tensorflow:Starting evaluation at 2018-02-26-15:35:32\n",
      "INFO:tensorflow:Restoring parameters from /content/datalab/democases-go-reply-internal/vehicle-health-status/vehicles_trained/model.ckpt-2290\n",
      "INFO:tensorflow:Evaluation [1/10]\n",
      "INFO:tensorflow:Evaluation [2/10]\n",
      "INFO:tensorflow:Evaluation [3/10]\n",
      "INFO:tensorflow:Evaluation [4/10]\n",
      "INFO:tensorflow:Evaluation [5/10]\n",
      "INFO:tensorflow:Evaluation [6/10]\n",
      "INFO:tensorflow:Evaluation [7/10]\n",
      "INFO:tensorflow:Evaluation [8/10]\n",
      "INFO:tensorflow:Evaluation [9/10]\n",
      "INFO:tensorflow:Evaluation [10/10]\n",
      "INFO:tensorflow:Finished evaluation at 2018-02-26-15:35:32\n",
      "INFO:tensorflow:Saving dict for global step 2290: global_step = 2290, loss = 51.02703, rmse = 7.1433206\n",
      "INFO:tensorflow:Restoring parameters from /content/datalab/democases-go-reply-internal/vehicle-health-status/vehicles_trained/model.ckpt-2290\n",
      "INFO:tensorflow:Assets added to graph.\n",
      "INFO:tensorflow:No assets to write.\n",
      "INFO:tensorflow:SavedModel written to: /content/datalab/democases-go-reply-internal/vehicle-health-status/vehicles_trained/export/Servo/temp-1519659332/saved_model.pb\n"
     ]
    }
   ],
   "source": [
    "%bash\n",
    "rm -rf vehicles.tar.gz vehicles_trained\n",
    "export PYTHONPATH=${PYTHONPATH}:${REPO}/econsumption\n",
    "python -m trainer.task \\\n",
    "   --train_data_paths=\"${REPO}/vehicles-train*\" \\\n",
    "   --eval_data_paths=${REPO}/vehicles-valid.csv  \\\n",
    "   --output_dir=${REPO}/vehicles_trained \\\n",
    "   --num_epochs=10 --job-dir=./tmp"
   ]
  },
  {
   "cell_type": "code",
   "execution_count": 32,
   "metadata": {
    "collapsed": false,
    "deletable": true,
    "editable": true
   },
   "outputs": [
    {
     "name": "stdout",
     "output_type": "stream",
     "text": [
      "1519659332\r\n"
     ]
    }
   ],
   "source": [
    "!ls $REPO/vehicles_trained/export/Servo"
   ]
  },
  {
   "cell_type": "code",
   "execution_count": 33,
   "metadata": {
    "collapsed": false,
    "deletable": true,
    "editable": true
   },
   "outputs": [
    {
     "name": "stdout",
     "output_type": "stream",
     "text": [
      "Overwriting ./test.json\n"
     ]
    }
   ],
   "source": [
    "%writefile ./test.json\n",
    "{\"ACCELERATION\": 0.3424933,\"PITCH\": 0.4929889823,\"ROLL\": 0.999398298932,\"YAW\": 0.103000023}"
   ]
  },
  {
   "cell_type": "code",
   "execution_count": 34,
   "metadata": {
    "collapsed": false,
    "deletable": true,
    "editable": true
   },
   "outputs": [
    {
     "name": "stderr",
     "output_type": "stream",
     "text": [
      "ERROR: (gcloud.ml-engine.local.predict) /usr/local/envs/py2env/lib/python2.7/site-packages/h5py/__init__.py:36: FutureWarning: Conversion of the second argument of issubdtype from `float` to `np.floating` is deprecated. In future, it will be treated as `np.float64 == np.dtype(float).type`.\n",
      "  from ._conv import register_converters as _register_converters\n",
      "Traceback (most recent call last):\n",
      "  File \"lib/googlecloudsdk/command_lib/ml_engine/local_predict.py\", line 111, in <module>\n",
      "    main()\n",
      "  File \"lib/googlecloudsdk/command_lib/ml_engine/local_predict.py\", line 106, in main\n",
      "    instances=instances)\n",
      "  File \"/tools/google-cloud-sdk/lib/third_party/cloud_ml_engine_sdk/prediction/prediction_lib.py\", line 1304, in local_predict\n",
      "    client = create_client(framework, model_dir, tags)\n",
      "  File \"/tools/google-cloud-sdk/lib/third_party/cloud_ml_engine_sdk/prediction/prediction_lib.py\", line 1242, in create_client\n",
      "    return create_client_fn(model_path, tags)\n",
      "  File \"/tools/google-cloud-sdk/lib/third_party/cloud_ml_engine_sdk/prediction/prediction_lib.py\", line 1102, in create_tf_session_client\n",
      "    return SessionClient(*load_model(model_dir, tags))\n",
      "  File \"/tools/google-cloud-sdk/lib/third_party/cloud_ml_engine_sdk/prediction/prediction_lib.py\", line 448, in load_model\n",
      "    \"Cloud ML only supports TF 1.0 or above and models \"\n",
      "prediction_lib.PredictionError: Failed to load model: Cloud ML only supports TF 1.0 or above and models saved in SavedModel format. (Error code: 0)\n",
      "\n"
     ]
    }
   ],
   "source": [
    "%bash\n",
    "model_dir=$(ls ${REPO}/vehicles_trained/export/Servo)\n",
    "gcloud ml-engine local predict \\\n",
    "    --model-dir=${REPO}/vehilces_trained/export/Servo/${model_dir} \\\n",
    "    --json-instances=./test.json"
   ]
  },
  {
   "cell_type": "markdown",
   "metadata": {
    "deletable": true,
    "editable": true
   },
   "source": [
    "<h2> Running locally using gcloud </h2>"
   ]
  },
  {
   "cell_type": "code",
   "execution_count": 35,
   "metadata": {
    "collapsed": false,
    "deletable": true,
    "editable": true
   },
   "outputs": [
    {
     "name": "stderr",
     "output_type": "stream",
     "text": [
      "ERROR: (gcloud.ml-engine.local.train) /usr/local/envs/py2env/bin/python: command not found\n"
     ]
    }
   ],
   "source": [
    "%bash\n",
    "rm -rf vehicles.tar.gz vehicles_trained\n",
    "gcloud ml-engine local train \\\n",
    "   --module-name=trainer.task \\\n",
    "   --package-path=${REPO}/churn-with-neural-net/trainer \\\n",
    "   -- \\\n",
    "   --train_data_paths=${REPO}/vehicles-train.csv \\\n",
    "   --eval_data_paths=${REPO}/vehicles-valid.csv  \\\n",
    "   --num_epochs=10 \\\n",
    "   --output_dir=${REPO}/vehicles_trained "
   ]
  },
  {
   "cell_type": "code",
   "execution_count": 36,
   "metadata": {
    "collapsed": false,
    "deletable": true,
    "editable": true
   },
   "outputs": [
    {
     "data": {
      "text/html": [
       "<p>TensorBoard was started successfully with pid 20213. Click <a href=\"/_proxy/48249/\" target=\"_blank\">here</a> to access it.</p>"
      ]
     },
     "metadata": {},
     "output_type": "display_data"
    },
    {
     "data": {
      "text/plain": [
       "20213"
      ]
     },
     "execution_count": 36,
     "metadata": {},
     "output_type": "execute_result"
    }
   ],
   "source": [
    "from google.datalab.ml import TensorBoard\n",
    "TensorBoard().start('{}/vehicles_trained'.format(REPO))"
   ]
  },
  {
   "cell_type": "code",
   "execution_count": 37,
   "metadata": {
    "collapsed": false,
    "deletable": true,
    "editable": true
   },
   "outputs": [
    {
     "name": "stdout",
     "output_type": "stream",
     "text": [
      "Stopped TensorBoard with pid 20213\n"
     ]
    }
   ],
   "source": [
    "for pid in TensorBoard.list()['pid']:\n",
    "  TensorBoard().stop(pid)\n",
    "  print 'Stopped TensorBoard with pid {}'.format(pid)"
   ]
  },
  {
   "cell_type": "code",
   "execution_count": 38,
   "metadata": {
    "collapsed": false,
    "deletable": true,
    "editable": true
   },
   "outputs": [
    {
     "name": "stdout",
     "output_type": "stream",
     "text": [
      "ls: cannot access '/content/datalab/democases-go-reply-internal/vehicle-health-status/vehicles_trained': No such file or directory\r\n"
     ]
    }
   ],
   "source": [
    "!ls $REPO/vehicles_trained"
   ]
  },
  {
   "cell_type": "markdown",
   "metadata": {
    "deletable": true,
    "editable": true
   },
   "source": [
    "<h2> Submit training job using gcloud </h2>\n",
    "\n",
    "First copy the training data to the cloud.  Then, launch a training job."
   ]
  },
  {
   "cell_type": "code",
   "execution_count": 39,
   "metadata": {
    "collapsed": false,
    "deletable": true,
    "editable": true
   },
   "outputs": [
    {
     "name": "stdout",
     "output_type": "stream",
     "text": [
      "storage-democases-go-reply-internal\n"
     ]
    },
    {
     "name": "stderr",
     "output_type": "stream",
     "text": [
      "Removing gs://storage-democases-go-reply-internal/econsumption/smallinput/vehicles-test.csv#1518550242684819...\n",
      "Removing gs://storage-democases-go-reply-internal/econsumption/smallinput/vehicles-train.csv#1518550242751180...\n",
      "Removing gs://storage-democases-go-reply-internal/econsumption/smallinput/vehicles-valid.csv#1518550242649775...\n",
      "/ [1/3 objects]  33% Done                                                       \r",
      "/ [2/3 objects]  66% Done                                                       \r",
      "/ [3/3 objects] 100% Done                                                       \r\n",
      "Operation completed over 3 objects.                                              \n",
      "Copying file:///content/datalab/democases-go-reply-internal/vehicle-health-status/vehicles-test.csv [Content-Type=text/csv]...\n",
      "Copying file:///content/datalab/democases-go-reply-internal/vehicle-health-status/vehicles-train.csv [Content-Type=text/csv]...\n",
      "/ [0 files][    0.0 B/  1.9 MiB]                                                \r",
      "/ [0/3 files][    0.0 B/ 12.8 MiB]   0% Done                                    \r",
      "Copying file:///content/datalab/democases-go-reply-internal/vehicle-health-status/vehicles-valid.csv [Content-Type=text/csv]...\n",
      "/ [0/3 files][    0.0 B/ 12.8 MiB]   0% Done                                    \r",
      "/ [1/3 files][  4.6 MiB/ 12.8 MiB]  35% Done                                    \r",
      "/ [2/3 files][  7.2 MiB/ 12.8 MiB]  56% Done                                    \r",
      "/ [3/3 files][ 12.8 MiB/ 12.8 MiB] 100% Done                                    \r\n",
      "Operation completed over 3 objects/12.8 MiB.                                     \n"
     ]
    }
   ],
   "source": [
    "%bash\n",
    "echo $BUCKET\n",
    "gsutil -m rm -rf gs://${BUCKET}/econsumption/smallinput/\n",
    "gsutil -m cp ${REPO}/*.csv gs://${BUCKET}/econsumption/smallinput/"
   ]
  },
  {
   "cell_type": "code",
   "execution_count": 40,
   "metadata": {
    "collapsed": false,
    "deletable": true,
    "editable": true
   },
   "outputs": [
    {
     "name": "stdout",
     "output_type": "stream",
     "text": [
      "gs://storage-democases-go-reply-internal/econsumption/smallinput/vehicles_trained us-central1 vehicles_health_demo_180226_153547\n",
      "jobId: vehicles_health_demo_180226_153547\n",
      "state: QUEUED\n"
     ]
    },
    {
     "name": "stderr",
     "output_type": "stream",
     "text": [
      "CommandException: 1 files/objects could not be removed.\n",
      "/tools/google-cloud-sdk/lib/googlecloudsdk/core/util/files.py:622: UnicodeWarning: Unicode equal comparison failed to convert both arguments to Unicode - interpreting them as being unequal\n",
      "  for chunk in iter(lambda: fp.read(4096), ''):\n",
      "Job [vehicles_health_demo_180226_153547] submitted successfully.\n",
      "Your job is still active. You may view the status of your job with the command\n",
      "\n",
      "  $ gcloud ml-engine jobs describe vehicles_health_demo_180226_153547\n",
      "\n",
      "or continue streaming the logs with the command\n",
      "\n",
      "  $ gcloud ml-engine jobs stream-logs vehicles_health_demo_180226_153547\n"
     ]
    }
   ],
   "source": [
    "%%bash\n",
    "OUTDIR=gs://${BUCKET}/econsumption/smallinput/vehicles_trained\n",
    "JOBNAME=vehicles_health_demo_$(date -u +%y%m%d_%H%M%S)\n",
    "echo $OUTDIR $REGION $JOBNAME\n",
    "gsutil -m rm -rf $OUTDIR\n",
    "gcloud ml-engine jobs submit training $JOBNAME \\\n",
    "   --region=$REGION \\\n",
    "   --module-name=trainer.task \\\n",
    "   --package-path=${REPO}/econsumption/trainer \\\n",
    "   --job-dir=$OUTDIR \\\n",
    "   --staging-bucket=gs://$BUCKET \\\n",
    "   --scale-tier=BASIC \\\n",
    "   --runtime-version=1.0 \\\n",
    "   -- \\\n",
    "   --train_data_paths=\"gs://${BUCKET}/econsumption/smallinput/vehicles-train*\" \\\n",
    "   --eval_data_paths=\"gs://${BUCKET}/econsumption/smallinput/vehicles-valid*\"  \\\n",
    "   --output_dir=$OUTDIR \\\n",
    "   --num_epochs=100"
   ]
  },
  {
   "cell_type": "markdown",
   "metadata": {
    "deletable": true,
    "editable": true
   },
   "source": [
    "<h1> Deploy model </h1>\n",
    "\n",
    "Find out the actual name of the subdirectory where the model is stored and use it to deploy the model."
   ]
  },
  {
   "cell_type": "code",
   "execution_count": 41,
   "metadata": {
    "collapsed": false,
    "deletable": true,
    "editable": true
   },
   "outputs": [
    {
     "name": "stderr",
     "output_type": "stream",
     "text": [
      "CommandException: One or more URLs matched no objects.\n"
     ]
    }
   ],
   "source": [
    "%bash\n",
    "gsutil ls gs://${BUCKET}/econsumption/smallinput/vehicles_trained/export/Servo"
   ]
  },
  {
   "cell_type": "code",
   "execution_count": 42,
   "metadata": {
    "collapsed": false,
    "deletable": true,
    "editable": true
   },
   "outputs": [
    {
     "name": "stdout",
     "output_type": "stream",
     "text": [
      "Deleting and deploying econsumption v1 from  ... this will take a few minutes\n"
     ]
    },
    {
     "name": "stderr",
     "output_type": "stream",
     "text": [
      "CommandException: One or more URLs matched no objects.\n",
      "Created ml engine model [projects/go-de-internal/models/econsumption].\n",
      "ERROR: (gcloud.ml-engine.versions.create) argument --origin: expected one argument\n",
      "Usage: gcloud ml-engine versions create VERSION --model=MODEL [optional flags]\n",
      "  optional flags may be  --async | --config | --description | --help |\n",
      "                         --labels | --origin | --runtime-version |\n",
      "                         --staging-bucket\n",
      "\n",
      "For detailed information on this command and its flags, run:\n",
      "  gcloud ml-engine versions create --help\n"
     ]
    }
   ],
   "source": [
    "%bash\n",
    "MODEL_NAME=\"econsumption\"\n",
    "MODEL_VERSION=\"v1\"\n",
    "MODEL_LOCATION=$(gsutil ls gs://${BUCKET}/econsumption/smallinput/vehicles_trained/export/Servo | tail -1)\n",
    "echo \"Deleting and deploying $MODEL_NAME $MODEL_VERSION from $MODEL_LOCATION ... this will take a few minutes\"\n",
    "#gcloud ml-engine versions delete ${MODEL_VERSION} --model ${MODEL_NAME}\n",
    "#gcloud ml-engine models delete ${MODEL_NAME}\n",
    "gcloud ml-engine models create ${MODEL_NAME} --regions $REGION\n",
    "gcloud ml-engine versions create ${MODEL_VERSION} --model ${MODEL_NAME} --origin ${MODEL_LOCATION}"
   ]
  },
  {
   "cell_type": "markdown",
   "metadata": {
    "deletable": true,
    "editable": true
   },
   "source": [
    "<h1> Prediction </h1>"
   ]
  },
  {
   "cell_type": "code",
   "execution_count": 43,
   "metadata": {
    "collapsed": false,
    "deletable": true,
    "editable": true
   },
   "outputs": [
    {
     "name": "stderr",
     "output_type": "stream",
     "text": [
      "ERROR: (gcloud.ml-engine.predict) HTTP request failed. Response: {\n",
      "  \"error\": {\n",
      "    \"code\": 404,\n",
      "    \"message\": \"Field: name Error: The specified model version was not found.\",\n",
      "    \"status\": \"NOT_FOUND\",\n",
      "    \"details\": [\n",
      "      {\n",
      "        \"@type\": \"type.googleapis.com/google.rpc.BadRequest\",\n",
      "        \"fieldViolations\": [\n",
      "          {\n",
      "            \"field\": \"name\",\n",
      "            \"description\": \"The specified model version was not found.\"\n",
      "          }\n",
      "        ]\n",
      "      }\n",
      "    ]\n",
      "  }\n",
      "}\n",
      "\n"
     ]
    }
   ],
   "source": [
    "%bash\n",
    "gcloud ml-engine predict --model=econsumption --version=v1 --json-instances=./test.json"
   ]
  },
  {
   "cell_type": "code",
   "execution_count": 44,
   "metadata": {
    "collapsed": false,
    "deletable": true,
    "editable": true
   },
   "outputs": [
    {
     "ename": "HttpError",
     "evalue": "<HttpError 404 when requesting https://ml.googleapis.com/v1/projects/go-de-internal/models/econsumption/versions/v1:predict?alt=json returned \"Field: name Error: The specified model version was not found.\">",
     "output_type": "error",
     "traceback": [
      "\u001b[0;31m\u001b[0m",
      "\u001b[0;31mHttpError\u001b[0mTraceback (most recent call last)",
      "\u001b[0;32m<ipython-input-44-55b3d118de59>\u001b[0m in \u001b[0;36m<module>\u001b[0;34m()\u001b[0m\n\u001b[1;32m     19\u001b[0m \u001b[0;34m\u001b[0m\u001b[0m\n\u001b[1;32m     20\u001b[0m \u001b[0mparent\u001b[0m \u001b[0;34m=\u001b[0m \u001b[0;34m'projects/%s/models/%s/versions/%s'\u001b[0m \u001b[0;34m%\u001b[0m \u001b[0;34m(\u001b[0m\u001b[0mPROJECT\u001b[0m\u001b[0;34m,\u001b[0m \u001b[0;34m'econsumption'\u001b[0m\u001b[0;34m,\u001b[0m \u001b[0;34m'v1'\u001b[0m\u001b[0;34m)\u001b[0m\u001b[0;34m\u001b[0m\u001b[0m\n\u001b[0;32m---> 21\u001b[0;31m \u001b[0mresponse\u001b[0m \u001b[0;34m=\u001b[0m \u001b[0mapi\u001b[0m\u001b[0;34m.\u001b[0m\u001b[0mprojects\u001b[0m\u001b[0;34m(\u001b[0m\u001b[0;34m)\u001b[0m\u001b[0;34m.\u001b[0m\u001b[0mpredict\u001b[0m\u001b[0;34m(\u001b[0m\u001b[0mbody\u001b[0m\u001b[0;34m=\u001b[0m\u001b[0mrequest_data\u001b[0m\u001b[0;34m,\u001b[0m \u001b[0mname\u001b[0m\u001b[0;34m=\u001b[0m\u001b[0mparent\u001b[0m\u001b[0;34m)\u001b[0m\u001b[0;34m.\u001b[0m\u001b[0mexecute\u001b[0m\u001b[0;34m(\u001b[0m\u001b[0;34m)\u001b[0m\u001b[0;34m\u001b[0m\u001b[0m\n\u001b[0m\u001b[1;32m     22\u001b[0m \u001b[0;32mprint\u001b[0m \u001b[0;34m\"response={0}\"\u001b[0m\u001b[0;34m.\u001b[0m\u001b[0mformat\u001b[0m\u001b[0;34m(\u001b[0m\u001b[0mresponse\u001b[0m\u001b[0;34m)\u001b[0m\u001b[0;34m\u001b[0m\u001b[0m\n",
      "\u001b[0;32m/usr/local/envs/py2env/lib/python2.7/site-packages/oauth2client/util.pyc\u001b[0m in \u001b[0;36mpositional_wrapper\u001b[0;34m(*args, **kwargs)\u001b[0m\n\u001b[1;32m    133\u001b[0m                 \u001b[0;32melif\u001b[0m \u001b[0mpositional_parameters_enforcement\u001b[0m \u001b[0;34m==\u001b[0m \u001b[0mPOSITIONAL_WARNING\u001b[0m\u001b[0;34m:\u001b[0m\u001b[0;34m\u001b[0m\u001b[0m\n\u001b[1;32m    134\u001b[0m                     \u001b[0mlogger\u001b[0m\u001b[0;34m.\u001b[0m\u001b[0mwarning\u001b[0m\u001b[0;34m(\u001b[0m\u001b[0mmessage\u001b[0m\u001b[0;34m)\u001b[0m\u001b[0;34m\u001b[0m\u001b[0m\n\u001b[0;32m--> 135\u001b[0;31m             \u001b[0;32mreturn\u001b[0m \u001b[0mwrapped\u001b[0m\u001b[0;34m(\u001b[0m\u001b[0;34m*\u001b[0m\u001b[0margs\u001b[0m\u001b[0;34m,\u001b[0m \u001b[0;34m**\u001b[0m\u001b[0mkwargs\u001b[0m\u001b[0;34m)\u001b[0m\u001b[0;34m\u001b[0m\u001b[0m\n\u001b[0m\u001b[1;32m    136\u001b[0m         \u001b[0;32mreturn\u001b[0m \u001b[0mpositional_wrapper\u001b[0m\u001b[0;34m\u001b[0m\u001b[0m\n\u001b[1;32m    137\u001b[0m \u001b[0;34m\u001b[0m\u001b[0m\n",
      "\u001b[0;32m/usr/local/envs/py2env/lib/python2.7/site-packages/googleapiclient/http.pyc\u001b[0m in \u001b[0;36mexecute\u001b[0;34m(self, http, num_retries)\u001b[0m\n\u001b[1;32m    838\u001b[0m       \u001b[0mcallback\u001b[0m\u001b[0;34m(\u001b[0m\u001b[0mresp\u001b[0m\u001b[0;34m)\u001b[0m\u001b[0;34m\u001b[0m\u001b[0m\n\u001b[1;32m    839\u001b[0m     \u001b[0;32mif\u001b[0m \u001b[0mresp\u001b[0m\u001b[0;34m.\u001b[0m\u001b[0mstatus\u001b[0m \u001b[0;34m>=\u001b[0m \u001b[0;36m300\u001b[0m\u001b[0;34m:\u001b[0m\u001b[0;34m\u001b[0m\u001b[0m\n\u001b[0;32m--> 840\u001b[0;31m       \u001b[0;32mraise\u001b[0m \u001b[0mHttpError\u001b[0m\u001b[0;34m(\u001b[0m\u001b[0mresp\u001b[0m\u001b[0;34m,\u001b[0m \u001b[0mcontent\u001b[0m\u001b[0;34m,\u001b[0m \u001b[0muri\u001b[0m\u001b[0;34m=\u001b[0m\u001b[0mself\u001b[0m\u001b[0;34m.\u001b[0m\u001b[0muri\u001b[0m\u001b[0;34m)\u001b[0m\u001b[0;34m\u001b[0m\u001b[0m\n\u001b[0m\u001b[1;32m    841\u001b[0m     \u001b[0;32mreturn\u001b[0m \u001b[0mself\u001b[0m\u001b[0;34m.\u001b[0m\u001b[0mpostproc\u001b[0m\u001b[0;34m(\u001b[0m\u001b[0mresp\u001b[0m\u001b[0;34m,\u001b[0m \u001b[0mcontent\u001b[0m\u001b[0;34m)\u001b[0m\u001b[0;34m\u001b[0m\u001b[0m\n\u001b[1;32m    842\u001b[0m \u001b[0;34m\u001b[0m\u001b[0m\n",
      "\u001b[0;31mHttpError\u001b[0m: <HttpError 404 when requesting https://ml.googleapis.com/v1/projects/go-de-internal/models/econsumption/versions/v1:predict?alt=json returned \"Field: name Error: The specified model version was not found.\">"
     ]
    }
   ],
   "source": [
    "from googleapiclient import discovery\n",
    "from oauth2client.client import GoogleCredentials\n",
    "import json\n",
    "\n",
    "credentials = GoogleCredentials.get_application_default()\n",
    "api = discovery.build('ml', 'v1', credentials=credentials,\n",
    "            discoveryServiceUrl='https://storage.googleapis.com/cloud-ml/discovery/ml_v1_discovery.json')\n",
    "\n",
    "request_data = {'instances':\n",
    "  [\n",
    "      {\n",
    "        'ACCELERATION': 0.3424933,\n",
    "        'PITCH': 0.49298898232,\n",
    "        'ROLL': 0.999398298932,\n",
    "        'YAW': 0.103000023,\n",
    "      }\n",
    "  ]\n",
    "}\n",
    "\n",
    "parent = 'projects/%s/models/%s/versions/%s' % (PROJECT, 'econsumption', 'v1')\n",
    "response = api.projects().predict(body=request_data, name=parent).execute()\n",
    "print \"response={0}\".format(response)"
   ]
  },
  {
   "cell_type": "markdown",
   "metadata": {
    "deletable": true,
    "editable": true
   },
   "source": [
    "<h1> Create hyper-parameter tuning </h1>\n",
    "\n",
    "The file specifies the search region in parameter space.  Cloud MLE carries out a smart search algorithm within these constraints (i.e. it does not try out every single value)."
   ]
  },
  {
   "cell_type": "code",
   "execution_count": 45,
   "metadata": {
    "collapsed": false,
    "deletable": true,
    "editable": true
   },
   "outputs": [
    {
     "name": "stdout",
     "output_type": "stream",
     "text": [
      "  parser.add_argument(\r",
      "\r\n",
      "      '--train_data_paths',\r",
      "\r\n",
      "      help='GCS or local path to training data',\r",
      "\r\n",
      "--\r\n",
      "  parser.add_argument(\r",
      "\r\n",
      "      '--num_epochs',\r",
      "\r\n",
      "      help=\"\"\"\\\r",
      "\r\n",
      "--\r\n",
      "  parser.add_argument(\r",
      "\r\n",
      "      '--train_batch_size',\r",
      "\r\n",
      "      help='Batch size for training steps',\r",
      "\r\n",
      "--\r\n",
      "  parser.add_argument(\r",
      "\r\n",
      "      '--eval_batch_size',\r",
      "\r\n",
      "      help='Batch size for evaluation steps',\r",
      "\r\n",
      "--\r\n",
      "  parser.add_argument(\r",
      "\r\n",
      "      '--train_steps',\r",
      "\r\n",
      "      help=\"\"\"\\\r",
      "\r\n",
      "--\r\n",
      "  parser.add_argument(\r",
      "\r\n",
      "      '--eval_steps',\r",
      "\r\n",
      "      help='Number of steps to run evalution for at each checkpoint',\r",
      "\r\n",
      "--\r\n",
      "  parser.add_argument(\r",
      "\r\n",
      "      '--eval_data_paths',\r",
      "\r\n",
      "      help='GCS or local path to evaluation data',\r",
      "\r\n",
      "--\r\n",
      "  parser.add_argument(\r",
      "\r\n",
      "      '--hidden_units',\r",
      "\r\n",
      "      help='List of hidden layer sizes to use for DNN feature columns',\r",
      "\r\n",
      "--\r\n",
      "  parser.add_argument(\r",
      "\r\n",
      "      '--output_dir',\r",
      "\r\n",
      "      help='GCS location to write checkpoints and export models',\r",
      "\r\n",
      "--\r\n",
      "  parser.add_argument(\r",
      "\r\n",
      "      '--job-dir',\r",
      "\r\n",
      "      help='this model ignores this field, but it is required by gcloud',\r",
      "\r\n",
      "--\r\n",
      "  parser.add_argument(\r",
      "\r\n",
      "      '--eval_delay_secs',\r",
      "\r\n",
      "      help='How long to wait before running first evaluation',\r",
      "\r\n",
      "--\r\n",
      "  parser.add_argument(\r",
      "\r\n",
      "      '--min_eval_frequency',\r",
      "\r\n",
      "      help='Minimum number of training steps between evaluations',\r",
      "\r\n",
      "--\r\n",
      "  parser.add_argument(\r",
      "\r\n",
      "      '--format',\r",
      "\r\n",
      "      help='Is the input data format csv or tfrecord?',\r",
      "\r\n"
     ]
    }
   ],
   "source": [
    "!grep -A 2 add_argument econsumption/trainer/task.py"
   ]
  },
  {
   "cell_type": "code",
   "execution_count": 46,
   "metadata": {
    "collapsed": false,
    "deletable": true,
    "editable": true
   },
   "outputs": [
    {
     "name": "stdout",
     "output_type": "stream",
     "text": [
      "def get_eval_metrics():\r",
      "\r\n",
      "  return {\r",
      "\r\n",
      "     'rmse': tflearn.MetricSpec(metric_fn=metrics.streaming_root_mean_squared_error),\r",
      "\r\n",
      "  }\r",
      "\r\n"
     ]
    }
   ],
   "source": [
    "!grep -A 5 eval_metric econsumption/trainer/model.py"
   ]
  },
  {
   "cell_type": "code",
   "execution_count": 47,
   "metadata": {
    "collapsed": false,
    "deletable": true,
    "editable": true
   },
   "outputs": [
    {
     "name": "stdout",
     "output_type": "stream",
     "text": [
      "Overwriting hyperparam.yaml\n"
     ]
    }
   ],
   "source": [
    "%writefile hyperparam.yaml\n",
    "trainingInput:\n",
    "  scaleTier: STANDARD_1\n",
    "  hyperparameters:\n",
    "    goal: MINIMIZE\n",
    "    maxTrials: 30\n",
    "    maxParallelTrials: 1\n",
    "    params:\n",
    "    - parameterName: train_batch_size\n",
    "      type: INTEGER\n",
    "      minValue: 64\n",
    "      maxValue: 512\n",
    "      scaleType: UNIT_LOG_SCALE\n",
    "    - parameterName: nbuckets\n",
    "      type: INTEGER\n",
    "      minValue: 10\n",
    "      maxValue: 20\n",
    "      scaleType: UNIT_LINEAR_SCALE\n",
    "    - parameterName: hidden_units\n",
    "      type: CATEGORICAL\n",
    "      categoricalValues: [\"128 32\", \"256 128 16\", \"64 64 64 8\"]       "
   ]
  },
  {
   "cell_type": "code",
   "execution_count": 48,
   "metadata": {
    "collapsed": false,
    "deletable": true,
    "editable": true
   },
   "outputs": [
    {
     "name": "stdout",
     "output_type": "stream",
     "text": [
      "storage-democases-go-reply-internal\n"
     ]
    },
    {
     "name": "stderr",
     "output_type": "stream",
     "text": [
      "Removing gs://storage-democases-go-reply-internal/econsumption/hyper_param/vehicles-test.csv#1518609980764351...\n",
      "Removing gs://storage-democases-go-reply-internal/econsumption/hyper_param/vehicles-train.csv#1518609981046012...\n",
      "Removing gs://storage-democases-go-reply-internal/econsumption/hyper_param/vehicles-valid.csv#1518609980758452...\n",
      "/ [1/3 objects]  33% Done                                                       \r",
      "/ [2/3 objects]  66% Done                                                       \r",
      "/ [3/3 objects] 100% Done                                                       \r\n",
      "Operation completed over 3 objects.                                              \n",
      "Copying file:///content/datalab/democases-go-reply-internal/vehicle-health-status/vehicles-test.csv [Content-Type=text/csv]...\n",
      "Copying file:///content/datalab/democases-go-reply-internal/vehicle-health-status/vehicles-train.csv [Content-Type=text/csv]...\n",
      "/ [0 files][    0.0 B/  1.9 MiB]                                                \r",
      "/ [0/3 files][    0.0 B/ 12.8 MiB]   0% Done                                    \r",
      "Copying file:///content/datalab/democases-go-reply-internal/vehicle-health-status/vehicles-valid.csv [Content-Type=text/csv]...\n",
      "/ [0/3 files][    0.0 B/ 12.8 MiB]   0% Done                                    \r",
      "/ [1/3 files][  9.0 MiB/ 12.8 MiB]  70% Done                                    \r",
      "/ [2/3 files][  9.5 MiB/ 12.8 MiB]  74% Done                                    \r",
      "/ [3/3 files][ 12.8 MiB/ 12.8 MiB] 100% Done                                    \r\n",
      "Operation completed over 3 objects/12.8 MiB.                                     \n"
     ]
    }
   ],
   "source": [
    "%bash\n",
    "echo $BUCKET\n",
    "gsutil -m rm -rf gs://${BUCKET}/econsumption/hyper_param/\n",
    "gsutil -m cp ${REPO}/*.csv gs://${BUCKET}/econsumption/hyper_param/"
   ]
  },
  {
   "cell_type": "code",
   "execution_count": 49,
   "metadata": {
    "collapsed": false,
    "deletable": true,
    "editable": true
   },
   "outputs": [
    {
     "name": "stdout",
     "output_type": "stream",
     "text": [
      "gs://storage-democases-go-reply-internal/econsumption/hyper_param/vehicles_trained us-central1 vehicles_health_demo_hyper_param_180226_153810\n",
      "jobId: vehicles_health_demo_hyper_param_180226_153810\n",
      "state: QUEUED\n"
     ]
    },
    {
     "name": "stderr",
     "output_type": "stream",
     "text": [
      "CommandException: 1 files/objects could not be removed.\n",
      "/tools/google-cloud-sdk/lib/googlecloudsdk/core/util/files.py:622: UnicodeWarning: Unicode equal comparison failed to convert both arguments to Unicode - interpreting them as being unequal\n",
      "  for chunk in iter(lambda: fp.read(4096), ''):\n",
      "Job [vehicles_health_demo_hyper_param_180226_153810] submitted successfully.\n",
      "Your job is still active. You may view the status of your job with the command\n",
      "\n",
      "  $ gcloud ml-engine jobs describe vehicles_health_demo_hyper_param_180226_153810\n",
      "\n",
      "or continue streaming the logs with the command\n",
      "\n",
      "  $ gcloud ml-engine jobs stream-logs vehicles_health_demo_hyper_param_180226_153810\n"
     ]
    }
   ],
   "source": [
    "%%bash\n",
    "OUTDIR=gs://${BUCKET}/econsumption/hyper_param/vehicles_trained\n",
    "JOBNAME=vehicles_health_demo_hyper_param_$(date -u +%y%m%d_%H%M%S)\n",
    "echo $OUTDIR $REGION $JOBNAME\n",
    "gsutil -m rm -rf $OUTDIR\n",
    "gcloud ml-engine jobs submit training $JOBNAME \\\n",
    "   --region=$REGION \\\n",
    "   --module-name=trainer.task \\\n",
    "   --package-path=${REPO}/econsumption/trainer \\\n",
    "   --job-dir=$OUTDIR \\\n",
    "   --staging-bucket=gs://$BUCKET \\\n",
    "   --scale-tier=STANDARD_1 \\\n",
    "   --runtime-version=1.2 \\\n",
    "   --config=hyperparam.yaml \\\n",
    "   -- \\\n",
    "   --train_data_paths=\"gs://$BUCKET/econsumption/hyper_param/vehicles-train*\" \\\n",
    "   --eval_data_paths=\"gs://${BUCKET}/econsumption/hyper_param/vehicles-valid*\"  \\\n",
    "   --output_dir=$OUTDIR \\\n",
    "   --num_epochs=100"
   ]
  },
  {
   "cell_type": "code",
   "execution_count": null,
   "metadata": {
    "collapsed": true,
    "deletable": true,
    "editable": true
   },
   "outputs": [],
   "source": []
  }
 ],
 "metadata": {
  "kernelspec": {
   "display_name": "Python 2",
   "language": "python",
   "name": "python2"
  },
  "language_info": {
   "codemirror_mode": {
    "name": "ipython",
    "version": 2
   },
   "file_extension": ".py",
   "mimetype": "text/x-python",
   "name": "python",
   "nbconvert_exporter": "python",
   "pygments_lexer": "ipython2",
   "version": "2.7.14"
  }
 },
 "nbformat": 4,
 "nbformat_minor": 2
}
