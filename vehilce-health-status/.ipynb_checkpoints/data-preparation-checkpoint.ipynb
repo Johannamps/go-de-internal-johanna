{
 "cells": [
  {
   "cell_type": "markdown",
   "metadata": {},
   "source": [
    "<h1> Read in the dataset </h1>\n",
    "\n",
    "The dataset is located in BigQuery."
   ]
  },
  {
   "cell_type": "code",
   "execution_count": 12,
   "metadata": {
    "collapsed": true
   },
   "outputs": [],
   "source": [
    "import datalab.bigquery as bq\n",
    "import seaborn as sns\n",
    "import pandas as pd\n",
    "import numpy as np\n",
    "import shutil\n",
    "from sklearn import preprocessing"
   ]
  },
  {
   "cell_type": "code",
   "execution_count": 4,
   "metadata": {
    "collapsed": false
   },
   "outputs": [
    {
     "data": {
      "application/javascript": [
       "$.getScript('https://kmahelona.github.io/ipython_notebook_goodies/ipython_notebook_toc.js')"
      ],
      "text/plain": [
       "<IPython.core.display.Javascript object>"
      ]
     },
     "metadata": {},
     "output_type": "display_data"
    }
   ],
   "source": [
    "%%javascript\n",
    "$.getScript('https://kmahelona.github.io/ipython_notebook_goodies/ipython_notebook_toc.js')"
   ]
  },
  {
   "cell_type": "code",
   "execution_count": 5,
   "metadata": {
    "collapsed": true
   },
   "outputs": [],
   "source": [
    "%sql --module letslookatthedata\n",
    "SELECT * FROM [go-de-internal:democases_go_reply_internal.vehicle_heath_status]\n",
    "WHERE ECONSUMPTION > 0\n",
    "LIMIT 10"
   ]
  },
  {
   "cell_type": "code",
   "execution_count": 7,
   "metadata": {
    "collapsed": false
   },
   "outputs": [
    {
     "data": {
      "text/html": [
       "<div>\n",
       "<style scoped>\n",
       "    .dataframe tbody tr th:only-of-type {\n",
       "        vertical-align: middle;\n",
       "    }\n",
       "\n",
       "    .dataframe tbody tr th {\n",
       "        vertical-align: top;\n",
       "    }\n",
       "\n",
       "    .dataframe thead th {\n",
       "        text-align: right;\n",
       "    }\n",
       "</style>\n",
       "<table border=\"1\" class=\"dataframe\">\n",
       "  <thead>\n",
       "    <tr style=\"text-align: right;\">\n",
       "      <th></th>\n",
       "      <th>TRUCK</th>\n",
       "      <th>TIMESTAMP</th>\n",
       "      <th>VOLTAGE_MIN</th>\n",
       "      <th>VOLTAGE_AVG</th>\n",
       "      <th>VOLTAGE_MAX</th>\n",
       "      <th>CURRENT_MIN</th>\n",
       "      <th>CURRENT_AVG</th>\n",
       "      <th>CURRENT_MAX</th>\n",
       "      <th>ECONSUMPTION</th>\n",
       "      <th>ACCELERATION</th>\n",
       "      <th>SHOCKS</th>\n",
       "      <th>MOTORTEMP</th>\n",
       "      <th>CAPACITY</th>\n",
       "      <th>PITCH</th>\n",
       "      <th>ROLL</th>\n",
       "      <th>YAW</th>\n",
       "    </tr>\n",
       "  </thead>\n",
       "  <tbody>\n",
       "    <tr>\n",
       "      <th>0</th>\n",
       "      <td>reply-forklift-2</td>\n",
       "      <td>1511527785733</td>\n",
       "      <td>0.000</td>\n",
       "      <td>4.717</td>\n",
       "      <td>5.929</td>\n",
       "      <td>0.00000</td>\n",
       "      <td>199.53999</td>\n",
       "      <td>265.89999</td>\n",
       "      <td>0.919</td>\n",
       "      <td>0.130</td>\n",
       "      <td>0</td>\n",
       "      <td>NaN</td>\n",
       "      <td>97</td>\n",
       "      <td>-30.21</td>\n",
       "      <td>-2.38000</td>\n",
       "      <td>-45.20</td>\n",
       "    </tr>\n",
       "    <tr>\n",
       "      <th>1</th>\n",
       "      <td>reply-forklift-2</td>\n",
       "      <td>1507294763453</td>\n",
       "      <td>4.902</td>\n",
       "      <td>4.912</td>\n",
       "      <td>4.941</td>\n",
       "      <td>160.30000</td>\n",
       "      <td>203.16000</td>\n",
       "      <td>216.10001</td>\n",
       "      <td>10.093</td>\n",
       "      <td>-0.010</td>\n",
       "      <td>0</td>\n",
       "      <td>NaN</td>\n",
       "      <td>71</td>\n",
       "      <td>0.06</td>\n",
       "      <td>-0.75000</td>\n",
       "      <td>0.01</td>\n",
       "    </tr>\n",
       "    <tr>\n",
       "      <th>2</th>\n",
       "      <td>reply-forklift-2</td>\n",
       "      <td>1499781959129</td>\n",
       "      <td>5.016</td>\n",
       "      <td>5.503</td>\n",
       "      <td>5.974</td>\n",
       "      <td>268.50000</td>\n",
       "      <td>944.71991</td>\n",
       "      <td>1479.80005</td>\n",
       "      <td>15.797</td>\n",
       "      <td>-0.011</td>\n",
       "      <td>0</td>\n",
       "      <td>NaN</td>\n",
       "      <td>54</td>\n",
       "      <td>0.40</td>\n",
       "      <td>-0.07000</td>\n",
       "      <td>214.90</td>\n",
       "    </tr>\n",
       "    <tr>\n",
       "      <th>3</th>\n",
       "      <td>reply-forklift-2</td>\n",
       "      <td>1499777238129</td>\n",
       "      <td>6.387</td>\n",
       "      <td>6.415</td>\n",
       "      <td>6.456</td>\n",
       "      <td>165.30000</td>\n",
       "      <td>299.78000</td>\n",
       "      <td>563.00000</td>\n",
       "      <td>10.158</td>\n",
       "      <td>-0.012</td>\n",
       "      <td>0</td>\n",
       "      <td>28.5</td>\n",
       "      <td>70</td>\n",
       "      <td>-0.16</td>\n",
       "      <td>0.23000</td>\n",
       "      <td>50.56</td>\n",
       "    </tr>\n",
       "    <tr>\n",
       "      <th>4</th>\n",
       "      <td>reply-forklift-2</td>\n",
       "      <td>1499774705928</td>\n",
       "      <td>6.500</td>\n",
       "      <td>6.563</td>\n",
       "      <td>6.604</td>\n",
       "      <td>140.10001</td>\n",
       "      <td>193.36000</td>\n",
       "      <td>243.10001</td>\n",
       "      <td>6.246</td>\n",
       "      <td>-0.009</td>\n",
       "      <td>0</td>\n",
       "      <td>NaN</td>\n",
       "      <td>82</td>\n",
       "      <td>0.19</td>\n",
       "      <td>-0.20000</td>\n",
       "      <td>276.09</td>\n",
       "    </tr>\n",
       "    <tr>\n",
       "      <th>5</th>\n",
       "      <td>reply-forklift-1</td>\n",
       "      <td>1498129678168</td>\n",
       "      <td>4.430</td>\n",
       "      <td>4.537</td>\n",
       "      <td>4.613</td>\n",
       "      <td>141.70000</td>\n",
       "      <td>232.62000</td>\n",
       "      <td>381.50000</td>\n",
       "      <td>11.428</td>\n",
       "      <td>-0.043</td>\n",
       "      <td>0</td>\n",
       "      <td>NaN</td>\n",
       "      <td>67</td>\n",
       "      <td>-3.31</td>\n",
       "      <td>1.02000</td>\n",
       "      <td>-42.56</td>\n",
       "    </tr>\n",
       "    <tr>\n",
       "      <th>6</th>\n",
       "      <td>reply-forklift-1</td>\n",
       "      <td>1498129593067</td>\n",
       "      <td>4.458</td>\n",
       "      <td>4.528</td>\n",
       "      <td>4.614</td>\n",
       "      <td>132.39999</td>\n",
       "      <td>244.10001</td>\n",
       "      <td>500.00000</td>\n",
       "      <td>11.335</td>\n",
       "      <td>-0.048</td>\n",
       "      <td>0</td>\n",
       "      <td>NaN</td>\n",
       "      <td>67</td>\n",
       "      <td>-3.10</td>\n",
       "      <td>0.99000</td>\n",
       "      <td>-42.65</td>\n",
       "    </tr>\n",
       "    <tr>\n",
       "      <th>7</th>\n",
       "      <td>reply-forklift-1</td>\n",
       "      <td>1499771516862</td>\n",
       "      <td>3.943</td>\n",
       "      <td>3.956</td>\n",
       "      <td>3.971</td>\n",
       "      <td>339.60001</td>\n",
       "      <td>352.73999</td>\n",
       "      <td>360.50000</td>\n",
       "      <td>19.535</td>\n",
       "      <td>0.038</td>\n",
       "      <td>0</td>\n",
       "      <td>NaN</td>\n",
       "      <td>44</td>\n",
       "      <td>0.05</td>\n",
       "      <td>-0.00063</td>\n",
       "      <td>0.84</td>\n",
       "    </tr>\n",
       "    <tr>\n",
       "      <th>8</th>\n",
       "      <td>reply-forklift-1</td>\n",
       "      <td>1499771306763</td>\n",
       "      <td>4.479</td>\n",
       "      <td>4.519</td>\n",
       "      <td>4.549</td>\n",
       "      <td>164.70000</td>\n",
       "      <td>236.92000</td>\n",
       "      <td>317.60001</td>\n",
       "      <td>19.271</td>\n",
       "      <td>0.008</td>\n",
       "      <td>0</td>\n",
       "      <td>NaN</td>\n",
       "      <td>44</td>\n",
       "      <td>-0.04</td>\n",
       "      <td>-0.33000</td>\n",
       "      <td>-0.98</td>\n",
       "    </tr>\n",
       "    <tr>\n",
       "      <th>9</th>\n",
       "      <td>reply-forklift-2</td>\n",
       "      <td>1499769870425</td>\n",
       "      <td>4.905</td>\n",
       "      <td>4.928</td>\n",
       "      <td>4.942</td>\n",
       "      <td>176.00000</td>\n",
       "      <td>178.50000</td>\n",
       "      <td>182.80000</td>\n",
       "      <td>18.411</td>\n",
       "      <td>-0.009</td>\n",
       "      <td>0</td>\n",
       "      <td>NaN</td>\n",
       "      <td>47</td>\n",
       "      <td>-0.45</td>\n",
       "      <td>-0.09000</td>\n",
       "      <td>15.30</td>\n",
       "    </tr>\n",
       "  </tbody>\n",
       "</table>\n",
       "</div>"
      ],
      "text/plain": [
       "              TRUCK      TIMESTAMP  VOLTAGE_MIN  VOLTAGE_AVG  VOLTAGE_MAX  \\\n",
       "0  reply-forklift-2  1511527785733        0.000        4.717        5.929   \n",
       "1  reply-forklift-2  1507294763453        4.902        4.912        4.941   \n",
       "2  reply-forklift-2  1499781959129        5.016        5.503        5.974   \n",
       "3  reply-forklift-2  1499777238129        6.387        6.415        6.456   \n",
       "4  reply-forklift-2  1499774705928        6.500        6.563        6.604   \n",
       "5  reply-forklift-1  1498129678168        4.430        4.537        4.613   \n",
       "6  reply-forklift-1  1498129593067        4.458        4.528        4.614   \n",
       "7  reply-forklift-1  1499771516862        3.943        3.956        3.971   \n",
       "8  reply-forklift-1  1499771306763        4.479        4.519        4.549   \n",
       "9  reply-forklift-2  1499769870425        4.905        4.928        4.942   \n",
       "\n",
       "   CURRENT_MIN  CURRENT_AVG  CURRENT_MAX  ECONSUMPTION  ACCELERATION  SHOCKS  \\\n",
       "0      0.00000    199.53999    265.89999         0.919         0.130       0   \n",
       "1    160.30000    203.16000    216.10001        10.093        -0.010       0   \n",
       "2    268.50000    944.71991   1479.80005        15.797        -0.011       0   \n",
       "3    165.30000    299.78000    563.00000        10.158        -0.012       0   \n",
       "4    140.10001    193.36000    243.10001         6.246        -0.009       0   \n",
       "5    141.70000    232.62000    381.50000        11.428        -0.043       0   \n",
       "6    132.39999    244.10001    500.00000        11.335        -0.048       0   \n",
       "7    339.60001    352.73999    360.50000        19.535         0.038       0   \n",
       "8    164.70000    236.92000    317.60001        19.271         0.008       0   \n",
       "9    176.00000    178.50000    182.80000        18.411        -0.009       0   \n",
       "\n",
       "   MOTORTEMP  CAPACITY  PITCH     ROLL     YAW  \n",
       "0        NaN        97 -30.21 -2.38000  -45.20  \n",
       "1        NaN        71   0.06 -0.75000    0.01  \n",
       "2        NaN        54   0.40 -0.07000  214.90  \n",
       "3       28.5        70  -0.16  0.23000   50.56  \n",
       "4        NaN        82   0.19 -0.20000  276.09  \n",
       "5        NaN        67  -3.31  1.02000  -42.56  \n",
       "6        NaN        67  -3.10  0.99000  -42.65  \n",
       "7        NaN        44   0.05 -0.00063    0.84  \n",
       "8        NaN        44  -0.04 -0.33000   -0.98  \n",
       "9        NaN        47  -0.45 -0.09000   15.30  "
      ]
     },
     "execution_count": 7,
     "metadata": {},
     "output_type": "execute_result"
    }
   ],
   "source": [
    "vehicles = bq.Query(letslookatthedata).to_dataframe()\n",
    "vehicles"
   ]
  },
  {
   "cell_type": "markdown",
   "metadata": {},
   "source": [
    "<h1> Let's understand the Data </h1>\n",
    "\n",
    "First we will read in a larger part of the data to make nicer graphs."
   ]
  },
  {
   "cell_type": "code",
   "execution_count": 8,
   "metadata": {
    "collapsed": true
   },
   "outputs": [],
   "source": [
    "%sql --module letslookatthedata2\n",
    "SELECT\n",
    "  TRUCK,\n",
    "  TIMESTAMP,\n",
    "  VOLTAGE_AVG,\n",
    "  CURRENT_AVG,\n",
    "  ECONSUMPTION,\n",
    "  ACCELERATION,\n",
    "  SHOCKS,\n",
    "  MOTORTEMP,\n",
    "  CAPACITY,\n",
    "  PITCH,\n",
    "  ROLL,\n",
    "  YAW\n",
    "FROM\n",
    "  [go-de-internal:democases_go_reply_internal.vehicle_heath_status]\n",
    "WHERE\n",
    "  ECONSUMPTION > 0"
   ]
  },
  {
   "cell_type": "code",
   "execution_count": 11,
   "metadata": {
    "collapsed": false
   },
   "outputs": [
    {
     "data": {
      "text/html": [
       "<div>\n",
       "<style scoped>\n",
       "    .dataframe tbody tr th:only-of-type {\n",
       "        vertical-align: middle;\n",
       "    }\n",
       "\n",
       "    .dataframe tbody tr th {\n",
       "        vertical-align: top;\n",
       "    }\n",
       "\n",
       "    .dataframe thead th {\n",
       "        text-align: right;\n",
       "    }\n",
       "</style>\n",
       "<table border=\"1\" class=\"dataframe\">\n",
       "  <thead>\n",
       "    <tr style=\"text-align: right;\">\n",
       "      <th></th>\n",
       "      <th>TIMESTAMP</th>\n",
       "      <th>VOLTAGE_AVG</th>\n",
       "      <th>CURRENT_AVG</th>\n",
       "      <th>ECONSUMPTION</th>\n",
       "      <th>ACCELERATION</th>\n",
       "      <th>SHOCKS</th>\n",
       "      <th>MOTORTEMP</th>\n",
       "      <th>CAPACITY</th>\n",
       "      <th>PITCH</th>\n",
       "      <th>ROLL</th>\n",
       "      <th>YAW</th>\n",
       "    </tr>\n",
       "  </thead>\n",
       "  <tbody>\n",
       "    <tr>\n",
       "      <th>count</th>\n",
       "      <td>1.932460e+05</td>\n",
       "      <td>192555.000000</td>\n",
       "      <td>192555.000000</td>\n",
       "      <td>193246.000000</td>\n",
       "      <td>192408.000000</td>\n",
       "      <td>192599.000000</td>\n",
       "      <td>15175.00000</td>\n",
       "      <td>193246.000000</td>\n",
       "      <td>192409.000000</td>\n",
       "      <td>192408.000000</td>\n",
       "      <td>192408.000000</td>\n",
       "    </tr>\n",
       "    <tr>\n",
       "      <th>mean</th>\n",
       "      <td>1.499253e+12</td>\n",
       "      <td>6.126522</td>\n",
       "      <td>211.246046</td>\n",
       "      <td>10.247332</td>\n",
       "      <td>-0.022869</td>\n",
       "      <td>0.001381</td>\n",
       "      <td>28.20286</td>\n",
       "      <td>71.495105</td>\n",
       "      <td>-0.490679</td>\n",
       "      <td>0.021815</td>\n",
       "      <td>11.087114</td>\n",
       "    </tr>\n",
       "    <tr>\n",
       "      <th>std</th>\n",
       "      <td>4.621490e+09</td>\n",
       "      <td>0.627981</td>\n",
       "      <td>74.652350</td>\n",
       "      <td>7.998370</td>\n",
       "      <td>0.039918</td>\n",
       "      <td>0.037138</td>\n",
       "      <td>2.30947</td>\n",
       "      <td>22.641713</td>\n",
       "      <td>2.155818</td>\n",
       "      <td>5.138120</td>\n",
       "      <td>118.589509</td>\n",
       "    </tr>\n",
       "    <tr>\n",
       "      <th>min</th>\n",
       "      <td>1.493136e+12</td>\n",
       "      <td>0.000000</td>\n",
       "      <td>0.000000</td>\n",
       "      <td>0.004000</td>\n",
       "      <td>-1.847000</td>\n",
       "      <td>0.000000</td>\n",
       "      <td>-0.00000</td>\n",
       "      <td>0.000000</td>\n",
       "      <td>-79.180000</td>\n",
       "      <td>-172.520000</td>\n",
       "      <td>-346.160000</td>\n",
       "    </tr>\n",
       "    <tr>\n",
       "      <th>25%</th>\n",
       "      <td>1.495194e+12</td>\n",
       "      <td>5.794000</td>\n",
       "      <td>187.020000</td>\n",
       "      <td>3.715000</td>\n",
       "      <td>-0.033000</td>\n",
       "      <td>0.000000</td>\n",
       "      <td>26.90000</td>\n",
       "      <td>58.000000</td>\n",
       "      <td>-0.560000</td>\n",
       "      <td>-0.590000</td>\n",
       "      <td>-34.850000</td>\n",
       "    </tr>\n",
       "    <tr>\n",
       "      <th>50%</th>\n",
       "      <td>1.499096e+12</td>\n",
       "      <td>6.132000</td>\n",
       "      <td>196.179990</td>\n",
       "      <td>8.357000</td>\n",
       "      <td>-0.029000</td>\n",
       "      <td>0.000000</td>\n",
       "      <td>28.20000</td>\n",
       "      <td>77.000000</td>\n",
       "      <td>-0.080000</td>\n",
       "      <td>-0.050000</td>\n",
       "      <td>0.800000</td>\n",
       "    </tr>\n",
       "    <tr>\n",
       "      <th>75%</th>\n",
       "      <td>1.499858e+12</td>\n",
       "      <td>6.495000</td>\n",
       "      <td>206.960010</td>\n",
       "      <td>15.364000</td>\n",
       "      <td>-0.017000</td>\n",
       "      <td>0.000000</td>\n",
       "      <td>29.40000</td>\n",
       "      <td>90.000000</td>\n",
       "      <td>0.280000</td>\n",
       "      <td>0.360000</td>\n",
       "      <td>84.470000</td>\n",
       "    </tr>\n",
       "    <tr>\n",
       "      <th>max</th>\n",
       "      <td>1.511529e+12</td>\n",
       "      <td>11.977000</td>\n",
       "      <td>1628.699950</td>\n",
       "      <td>36.762000</td>\n",
       "      <td>0.975000</td>\n",
       "      <td>1.000000</td>\n",
       "      <td>34.40000</td>\n",
       "      <td>99.000000</td>\n",
       "      <td>72.990000</td>\n",
       "      <td>359.310000</td>\n",
       "      <td>342.390000</td>\n",
       "    </tr>\n",
       "  </tbody>\n",
       "</table>\n",
       "</div>"
      ],
      "text/plain": [
       "          TIMESTAMP    VOLTAGE_AVG    CURRENT_AVG   ECONSUMPTION  \\\n",
       "count  1.932460e+05  192555.000000  192555.000000  193246.000000   \n",
       "mean   1.499253e+12       6.126522     211.246046      10.247332   \n",
       "std    4.621490e+09       0.627981      74.652350       7.998370   \n",
       "min    1.493136e+12       0.000000       0.000000       0.004000   \n",
       "25%    1.495194e+12       5.794000     187.020000       3.715000   \n",
       "50%    1.499096e+12       6.132000     196.179990       8.357000   \n",
       "75%    1.499858e+12       6.495000     206.960010      15.364000   \n",
       "max    1.511529e+12      11.977000    1628.699950      36.762000   \n",
       "\n",
       "        ACCELERATION         SHOCKS    MOTORTEMP       CAPACITY  \\\n",
       "count  192408.000000  192599.000000  15175.00000  193246.000000   \n",
       "mean       -0.022869       0.001381     28.20286      71.495105   \n",
       "std         0.039918       0.037138      2.30947      22.641713   \n",
       "min        -1.847000       0.000000     -0.00000       0.000000   \n",
       "25%        -0.033000       0.000000     26.90000      58.000000   \n",
       "50%        -0.029000       0.000000     28.20000      77.000000   \n",
       "75%        -0.017000       0.000000     29.40000      90.000000   \n",
       "max         0.975000       1.000000     34.40000      99.000000   \n",
       "\n",
       "               PITCH           ROLL            YAW  \n",
       "count  192409.000000  192408.000000  192408.000000  \n",
       "mean       -0.490679       0.021815      11.087114  \n",
       "std         2.155818       5.138120     118.589509  \n",
       "min       -79.180000    -172.520000    -346.160000  \n",
       "25%        -0.560000      -0.590000     -34.850000  \n",
       "50%        -0.080000      -0.050000       0.800000  \n",
       "75%         0.280000       0.360000      84.470000  \n",
       "max        72.990000     359.310000     342.390000  "
      ]
     },
     "execution_count": 11,
     "metadata": {},
     "output_type": "execute_result"
    }
   ],
   "source": [
    "vehicles = bq.Query(letslookatthedata2, EVERY_N=5000).to_dataframe()\n",
    "vehicles[:10]\n",
    "vehicles.describe()"
   ]
  },
  {
   "cell_type": "code",
   "execution_count": 13,
   "metadata": {
    "collapsed": false
   },
   "outputs": [
    {
     "name": "stderr",
     "output_type": "stream",
     "text": [
      "/usr/local/envs/py2env/lib/python2.7/site-packages/matplotlib/font_manager.py:1320: UserWarning: findfont: Font family [u'sans-serif'] not found. Falling back to DejaVu Sans\n",
      "  (prop.get_family(), self.defaultFamily[fontext]))\n"
     ]
    },
    {
     "data": {
      "image/png": "[encoded data removed]",
      "text/plain": [
       "<matplotlib.figure.Figure at 0x7f566dfa0e90>"
      ]
     },
     "metadata": {},
     "output_type": "display_data"
    }
   ],
   "source": [
    "ax = sns.regplot(x=\"PITCH\", y=\"ECONSUMPTION\", ci=None, truncate=True, data=vehicles)"
   ]
  },
  {
   "cell_type": "code",
   "execution_count": 14,
   "metadata": {
    "collapsed": false
   },
   "outputs": [
    {
     "data": {
      "image/png": "[encoded data removed]",
      "text/plain": [
       "<matplotlib.figure.Figure at 0x7f566dfa0a50>"
      ]
     },
     "metadata": {},
     "output_type": "display_data"
    }
   ],
   "source": [
    "ax = sns.regplot(x=\"ACCELERATION\", y=\"ECONSUMPTION\", ci=None, truncate=True, data=vehicles)"
   ]
  },
  {
   "cell_type": "markdown",
   "metadata": {},
   "source": [
    "<h2> Preprocessing </h2>\n",
    "\n",
    "The goal is predict ECONSUMPTION with ACCELERATION, PITCH, ROLL and YAW.\n",
    "\n",
    "We need to some clean-up of the data:\n",
    "<ol>\n",
    "<li>Get ride of all lines without ECONSUMPTION</li>\n",
    "<li>Get ride of all lines without ACCELERATION</li>\n",
    "<li>Get ride of all lines without PITCH</li>\n",
    "<li>Get ride of all lines without ROLL</li>\n",
    "<li>Get ride of all lines without YAW</li>\n",
    "<li>Normalize ACCELERATION, PITCH, ROLL and YAW</li>\n",
    "</ol>"
   ]
  },
  {
   "cell_type": "code",
   "execution_count": 17,
   "metadata": {
    "collapsed": true
   },
   "outputs": [],
   "source": [
    "%sql --module letslookatthedatapre\n",
    "SELECT\n",
    "  ACCELERATION,\n",
    "  ECONSUMPTION,\n",
    "  PITCH,\n",
    "  ROLL,\n",
    "  YAW\n",
    "FROM\n",
    "  [go-de-internal:democases_go_reply_internal.vehicle_heath_status]\n",
    "WHERE\n",
    "  ECONSUMPTION > 0 AND \n",
    "  ACCELERATION < 1 AND PITCH < 1 AND ROLL < 1 AND YAW < 1 AND\n",
    "  ACCELERATION > -1 AND PITCH > -1 AND ROLL > -1 AND YAW > -1"
   ]
  },
  {
   "cell_type": "code",
   "execution_count": 18,
   "metadata": {
    "collapsed": false
   },
   "outputs": [
    {
     "name": "stdout",
     "output_type": "stream",
     "text": [
      "   ACCELERATION  ECONSUMPTION  PITCH  ROLL   YAW\n",
      "0        -0.043         0.877  -0.10 -0.22  0.36\n",
      "1        -0.023        16.061  -0.15 -0.11  0.73\n",
      "2        -0.005        15.976  -0.09  0.01  0.57\n",
      "3         0.027         0.087   0.81  0.36  0.45\n",
      "4        -0.000        11.493   0.00  0.00  0.00\n",
      "       ACCELERATION  ECONSUMPTION         PITCH          ROLL           YAW\n",
      "count  14962.000000   14962.00000  14962.000000  14962.000000  14962.000000\n",
      "mean      -0.024636       3.82999     -0.046707     -0.054932      0.125493\n",
      "std        0.021396       3.91343      0.297517      0.336448      0.499334\n",
      "min       -0.047000       0.00400     -0.990000     -0.990000     -0.990000\n",
      "25%       -0.035000       1.03200     -0.180000     -0.200000     -0.230000\n",
      "50%       -0.028000       2.47750     -0.090000     -0.020000      0.130000\n",
      "75%       -0.017000       5.48975      0.120000      0.100000      0.530000\n",
      "max        0.914000      36.10500      0.970000      0.980000      0.990000\n"
     ]
    }
   ],
   "source": [
    "vehicles = bq.Query(letslookatthedatapre, EVERY_N=1).to_dataframe()\n",
    "print(vehicles.head())\n",
    "print(vehicles.describe())"
   ]
  },
  {
   "cell_type": "code",
   "execution_count": 25,
   "metadata": {
    "collapsed": false
   },
   "outputs": [
    {
     "name": "stdout",
     "output_type": "stream",
     "text": [
      "   ACCELERATION  ECONSUMPTION     PITCH      ROLL       YAW\n",
      "0      0.004162      0.024182  0.454082  0.390863  0.681818\n",
      "1      0.024974      0.444780  0.428571  0.446701  0.868687\n",
      "2      0.043704      0.442425  0.459184  0.507614  0.787879\n",
      "3      0.077003      0.002299  0.918367  0.685279  0.727273\n",
      "4      0.048907      0.318246  0.505102  0.502538  0.500000\n",
      "       ACCELERATION  ECONSUMPTION         PITCH          ROLL           YAW\n",
      "count  14962.000000  14962.000000  14962.000000  14962.000000  14962.000000\n",
      "mean       0.023272      0.105980      0.481272      0.474654      0.563380\n",
      "std        0.022265      0.108402      0.151794      0.170786      0.252189\n",
      "min        0.000000      0.000000      0.000000      0.000000      0.000000\n",
      "25%        0.012487      0.028476      0.413265      0.401015      0.383838\n",
      "50%        0.019771      0.068516      0.459184      0.492386      0.565657\n",
      "75%        0.031217      0.151956      0.566327      0.553299      0.767677\n",
      "max        1.000000      1.000000      1.000000      1.000000      1.000000\n"
     ]
    }
   ],
   "source": [
    "x = vehicles.values #returns a numpy array\n",
    "min_max_scaler = preprocessing.MinMaxScaler()\n",
    "x_scaled = min_max_scaler.fit_transform(x)\n",
    "vehicles = pd.DataFrame(x_scaled, columns=['ACCELERATION', 'ECONSUMPTION', 'PITCH', 'ROLL', 'YAW'])\n",
    "print(vehicles.head())\n",
    "print(vehicles.describe())"
   ]
  },
  {
   "cell_type": "markdown",
   "metadata": {},
   "source": [
    "<h1> Preparation for ML Regression </h1>\n",
    "\n",
    "Two things: we need to separate the data to test the model and we need to run the data with a basic regression to create a baseline."
   ]
  },
  {
   "cell_type": "code",
   "execution_count": 26,
   "metadata": {
    "collapsed": false
   },
   "outputs": [],
   "source": [
    "shuffled = vehicles.sample(frac=1)\n",
    "trainsize = int(len(shuffled['ECONSUMPTION']) * 0.70)\n",
    "validsize = int(len(shuffled['ECONSUMPTION']) * 0.15)\n",
    "\n",
    "df_train = shuffled.iloc[:trainsize, :]\n",
    "df_valid = shuffled.iloc[trainsize:(trainsize+validsize), :]\n",
    "df_test = shuffled.iloc[(trainsize+validsize):, :]"
   ]
  },
  {
   "cell_type": "markdown",
   "metadata": {},
   "source": [
    "Let's write out the three dataframes to appropriately named csv files. If we want to run this again, we can simply read those .csv files in and don't need to run the query again."
   ]
  },
  {
   "cell_type": "code",
   "execution_count": 27,
   "metadata": {
    "collapsed": false
   },
   "outputs": [
    {
     "name": "stdout",
     "output_type": "stream",
     "text": [
      "['ECONSUMPTION', 'ACCELERATION', 'PITCH', 'ROLL', 'YAW', 'key']\n",
      "['ECONSUMPTION', 'ACCELERATION', 'PITCH', 'ROLL', 'YAW', 'key']\n",
      "['ECONSUMPTION', 'ACCELERATION', 'PITCH', 'ROLL', 'YAW', 'key']\n"
     ]
    }
   ],
   "source": [
    "def to_csv(df, filename):\n",
    "  outdf = df.copy(deep=False)\n",
    "  outdf.loc[:, 'key'] = np.arange(0, len(outdf)) # rownumber as key\n",
    "  # reorder columns so that target is first column\n",
    "  cols = outdf.columns.tolist()\n",
    "  cols.remove('ECONSUMPTION')\n",
    "  cols.insert(0, 'ECONSUMPTION')\n",
    "  print (cols)  # new order of columns\n",
    "  outdf = outdf[cols]\n",
    "  outdf.to_csv(filename, header=False, index_label=False, index=False)\n",
    "\n",
    "to_csv(df_train, 'vehicles-train.csv')\n",
    "to_csv(df_valid, 'vehicles-valid.csv')\n",
    "to_csv(df_test, 'vehicles-test.csv')"
   ]
  },
  {
   "cell_type": "code",
   "execution_count": 28,
   "metadata": {
    "collapsed": false
   },
   "outputs": [
    {
     "name": "stdout",
     "output_type": "stream",
     "text": [
      "-rw-r--r-- 1 root root  230306 Mar  5 13:33 vehicles-test.csv\r\n",
      "-rw-r--r-- 1 root root 1078007 Mar  5 13:33 vehicles-train.csv\r\n",
      "-rw-r--r-- 1 root root  230196 Mar  5 13:33 vehicles-valid.csv\r\n"
     ]
    }
   ],
   "source": [
    "!ls -l *.csv"
   ]
  },
  {
   "cell_type": "code",
   "execution_count": 29,
   "metadata": {
    "collapsed": false
   },
   "outputs": [
    {
     "name": "stdout",
     "output_type": "stream",
     "text": [
      "0.0011634026758261544,0.020811654526534856,0.43367346938775514,0.3654822335025381,0.8838383838383839,0\r\n",
      "0.027007562117392876,0.03537981269510926,0.4693877551020409,0.5329949238578681,0.7121212121212122,1\r\n",
      "0.04686850779756794,0.031217481789802284,0.6071428571428572,0.2284263959390863,0.3787878787878788,2\r\n",
      "0.0636270463422066,0.02705515088449531,0.47959183673469397,0.5380710659898478,0.045454545454545414,3\r\n",
      "0.18415002354505416,0.02705515088449531,0.4438775510204082,0.517766497461929,0.0,4\r\n",
      "0.26827511703276924,0.016649323621227882,0.4438775510204082,0.5380710659898478,0.5353535353535354,5\r\n",
      "0.07423617074319272,0.012486992715920908,0.38775510204081637,0.5025380710659899,0.29292929292929293,6\r\n",
      "0.05728373175258304,0.019771071800208113,0.48469387755102045,0.4162436548223351,0.8383838383838385,7\r\n",
      "0.08473449488933826,0.015608740894901142,0.0204081632653062,0.6243654822335026,0.8535353535353536,8\r\n",
      "0.09188111132655606,0.031217481789802284,0.7244897959183674,0.8324873096446702,0.5303030303030303,9\r\n"
     ]
    }
   ],
   "source": [
    "!head -10 vehicles-train.csv"
   ]
  },
  {
   "cell_type": "code",
   "execution_count": null,
   "metadata": {
    "collapsed": true
   },
   "outputs": [],
   "source": []
  }
 ],
 "metadata": {
  "kernelspec": {
   "display_name": "Python 2",
   "language": "python",
   "name": "python2"
  },
  "language_info": {
   "codemirror_mode": {
    "name": "ipython",
    "version": 2
   },
   "file_extension": ".py",
   "mimetype": "text/x-python",
   "name": "python",
   "nbconvert_exporter": "python",
   "pygments_lexer": "ipython2",
   "version": "2.7.14"
  }
 },
 "nbformat": 4,
 "nbformat_minor": 2
}
